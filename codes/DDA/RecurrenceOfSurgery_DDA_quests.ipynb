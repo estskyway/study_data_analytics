{
 "cells": [
  {
   "cell_type": "code",
   "execution_count": 1,
   "id": "8d96be45-0c74-413a-86a6-311ee3163f42",
   "metadata": {
    "tags": []
   },
   "outputs": [],
   "source": [
    "import pandas as pd\n",
    "import matplotlib.pyplot as plt\n",
    "import matplotlib as mpl\n",
    "mpl.rc('font',family='Malgun Gothic')\n",
    "mpl.rcParams['axes.unicode_minus'] = False\n",
    "import seaborn as sns"
   ]
  },
  {
   "cell_type": "markdown",
   "id": "58a2e66d-42cd-4425-9834-c846c6638d9b",
   "metadata": {
    "tags": []
   },
   "source": [
    "### quest1 (RecurrenceOfSurgery_DDA_quests.ipynb)\n",
    "- DDA 분석 대상 : 성별, 신장, 심혈관질환, 체중, 흡연여부, 연령, 직업, 혈액형, 재발여부\n",
    "- 단일 변수 chart 각각 작성\n",
    "- 이상치와 결측치가 없는 데이터셋"
   ]
  },
  {
   "cell_type": "code",
   "execution_count": 2,
   "id": "239862e6-e956-480b-961b-0263f7538696",
   "metadata": {
    "tags": []
   },
   "outputs": [
    {
     "data": {
      "text/html": [
       "<div>\n",
       "<style scoped>\n",
       "    .dataframe tbody tr th:only-of-type {\n",
       "        vertical-align: middle;\n",
       "    }\n",
       "\n",
       "    .dataframe tbody tr th {\n",
       "        vertical-align: top;\n",
       "    }\n",
       "\n",
       "    .dataframe thead th {\n",
       "        text-align: right;\n",
       "    }\n",
       "</style>\n",
       "<table border=\"1\" class=\"dataframe\">\n",
       "  <thead>\n",
       "    <tr style=\"text-align: right;\">\n",
       "      <th></th>\n",
       "      <th>Unnamed: 0</th>\n",
       "      <th>환자ID</th>\n",
       "      <th>Large Lymphocyte</th>\n",
       "      <th>Location of herniation</th>\n",
       "      <th>ODI</th>\n",
       "      <th>가족력</th>\n",
       "      <th>간질성폐질환</th>\n",
       "      <th>고혈압여부</th>\n",
       "      <th>과거수술횟수</th>\n",
       "      <th>당뇨여부</th>\n",
       "      <th>...</th>\n",
       "      <th>Modic change</th>\n",
       "      <th>PI</th>\n",
       "      <th>PT</th>\n",
       "      <th>Seg Angle(raw)</th>\n",
       "      <th>Vaccum disc</th>\n",
       "      <th>골밀도</th>\n",
       "      <th>디스크단면적</th>\n",
       "      <th>디스크위치</th>\n",
       "      <th>척추이동척도</th>\n",
       "      <th>척추전방위증</th>\n",
       "    </tr>\n",
       "  </thead>\n",
       "  <tbody>\n",
       "    <tr>\n",
       "      <th>0</th>\n",
       "      <td>0</td>\n",
       "      <td>1PT</td>\n",
       "      <td>22.8</td>\n",
       "      <td>3</td>\n",
       "      <td>51.0</td>\n",
       "      <td>0.0</td>\n",
       "      <td>0</td>\n",
       "      <td>0</td>\n",
       "      <td>0</td>\n",
       "      <td>0</td>\n",
       "      <td>...</td>\n",
       "      <td>3</td>\n",
       "      <td>51.6</td>\n",
       "      <td>36.6</td>\n",
       "      <td>14.4</td>\n",
       "      <td>0</td>\n",
       "      <td>-1.01</td>\n",
       "      <td>2048.5</td>\n",
       "      <td>4</td>\n",
       "      <td>Down</td>\n",
       "      <td>0</td>\n",
       "    </tr>\n",
       "    <tr>\n",
       "      <th>1</th>\n",
       "      <td>1</td>\n",
       "      <td>2PT</td>\n",
       "      <td>44.9</td>\n",
       "      <td>4</td>\n",
       "      <td>26.0</td>\n",
       "      <td>0.0</td>\n",
       "      <td>0</td>\n",
       "      <td>0</td>\n",
       "      <td>0</td>\n",
       "      <td>0</td>\n",
       "      <td>...</td>\n",
       "      <td>0</td>\n",
       "      <td>40.8</td>\n",
       "      <td>7.2</td>\n",
       "      <td>17.8</td>\n",
       "      <td>0</td>\n",
       "      <td>-1.14</td>\n",
       "      <td>1753.1</td>\n",
       "      <td>4</td>\n",
       "      <td>Up</td>\n",
       "      <td>0</td>\n",
       "    </tr>\n",
       "    <tr>\n",
       "      <th>2</th>\n",
       "      <td>2</td>\n",
       "      <td>3PT</td>\n",
       "      <td>53.0</td>\n",
       "      <td>3</td>\n",
       "      <td>NaN</td>\n",
       "      <td>0.0</td>\n",
       "      <td>0</td>\n",
       "      <td>0</td>\n",
       "      <td>1</td>\n",
       "      <td>0</td>\n",
       "      <td>...</td>\n",
       "      <td>0</td>\n",
       "      <td>67.5</td>\n",
       "      <td>27.3</td>\n",
       "      <td>10.2</td>\n",
       "      <td>0</td>\n",
       "      <td>-1.77</td>\n",
       "      <td>1749.0</td>\n",
       "      <td>4</td>\n",
       "      <td>Down</td>\n",
       "      <td>0</td>\n",
       "    </tr>\n",
       "    <tr>\n",
       "      <th>3</th>\n",
       "      <td>3</td>\n",
       "      <td>4PT</td>\n",
       "      <td>54.7</td>\n",
       "      <td>4</td>\n",
       "      <td>18.0</td>\n",
       "      <td>0.0</td>\n",
       "      <td>0</td>\n",
       "      <td>1</td>\n",
       "      <td>0</td>\n",
       "      <td>0</td>\n",
       "      <td>...</td>\n",
       "      <td>0</td>\n",
       "      <td>49.2</td>\n",
       "      <td>18.7</td>\n",
       "      <td>19.9</td>\n",
       "      <td>0</td>\n",
       "      <td>-1.58</td>\n",
       "      <td>1796.2</td>\n",
       "      <td>4</td>\n",
       "      <td>Down</td>\n",
       "      <td>0</td>\n",
       "    </tr>\n",
       "  </tbody>\n",
       "</table>\n",
       "<p>4 rows × 52 columns</p>\n",
       "</div>"
      ],
      "text/plain": [
       "   Unnamed: 0 환자ID  Large Lymphocyte  Location of herniation   ODI  가족력  \\\n",
       "0           0  1PT              22.8                       3  51.0  0.0   \n",
       "1           1  2PT              44.9                       4  26.0  0.0   \n",
       "2           2  3PT              53.0                       3   NaN  0.0   \n",
       "3           3  4PT              54.7                       4  18.0  0.0   \n",
       "\n",
       "   간질성폐질환  고혈압여부  과거수술횟수  당뇨여부  ...  Modic change    PI    PT  Seg Angle(raw)  \\\n",
       "0       0      0       0     0  ...             3  51.6  36.6            14.4   \n",
       "1       0      0       0     0  ...             0  40.8   7.2            17.8   \n",
       "2       0      0       1     0  ...             0  67.5  27.3            10.2   \n",
       "3       0      1       0     0  ...             0  49.2  18.7            19.9   \n",
       "\n",
       "   Vaccum disc   골밀도  디스크단면적  디스크위치  척추이동척도  척추전방위증  \n",
       "0            0 -1.01  2048.5      4    Down       0  \n",
       "1            0 -1.14  1753.1      4      Up       0  \n",
       "2            0 -1.77  1749.0      4    Down       0  \n",
       "3            0 -1.58  1796.2      4    Down       0  \n",
       "\n",
       "[4 rows x 52 columns]"
      ]
     },
     "execution_count": 2,
     "metadata": {},
     "output_type": "execute_result"
    }
   ],
   "source": [
    "df_ROS = pd.read_csv('../../datasets/RecurrenceOfSurgery.csv')\n",
    "df_ROS.head(4)"
   ]
  },
  {
   "cell_type": "code",
   "execution_count": 3,
   "id": "c79449a7-4d63-4cba-a736-f17b949172ce",
   "metadata": {
    "tags": []
   },
   "outputs": [
    {
     "data": {
      "text/html": [
       "<div>\n",
       "<style scoped>\n",
       "    .dataframe tbody tr th:only-of-type {\n",
       "        vertical-align: middle;\n",
       "    }\n",
       "\n",
       "    .dataframe tbody tr th {\n",
       "        vertical-align: top;\n",
       "    }\n",
       "\n",
       "    .dataframe thead th {\n",
       "        text-align: right;\n",
       "    }\n",
       "</style>\n",
       "<table border=\"1\" class=\"dataframe\">\n",
       "  <thead>\n",
       "    <tr style=\"text-align: right;\">\n",
       "      <th></th>\n",
       "      <th>성별</th>\n",
       "      <th>신장</th>\n",
       "      <th>심혈관질환</th>\n",
       "      <th>체중</th>\n",
       "      <th>흡연여부</th>\n",
       "      <th>연령</th>\n",
       "      <th>직업</th>\n",
       "      <th>혈액형</th>\n",
       "      <th>재발여부</th>\n",
       "    </tr>\n",
       "  </thead>\n",
       "  <tbody>\n",
       "    <tr>\n",
       "      <th>0</th>\n",
       "      <td>2</td>\n",
       "      <td>163</td>\n",
       "      <td>0</td>\n",
       "      <td>60.3</td>\n",
       "      <td>0</td>\n",
       "      <td>66</td>\n",
       "      <td>자영업</td>\n",
       "      <td>RH+A</td>\n",
       "      <td>0</td>\n",
       "    </tr>\n",
       "    <tr>\n",
       "      <th>1</th>\n",
       "      <td>1</td>\n",
       "      <td>171</td>\n",
       "      <td>0</td>\n",
       "      <td>71.7</td>\n",
       "      <td>0</td>\n",
       "      <td>47</td>\n",
       "      <td>운동선수</td>\n",
       "      <td>RH+A</td>\n",
       "      <td>0</td>\n",
       "    </tr>\n",
       "    <tr>\n",
       "      <th>2</th>\n",
       "      <td>1</td>\n",
       "      <td>178</td>\n",
       "      <td>0</td>\n",
       "      <td>77.1</td>\n",
       "      <td>0</td>\n",
       "      <td>39</td>\n",
       "      <td>특수전문직</td>\n",
       "      <td>RH+B</td>\n",
       "      <td>0</td>\n",
       "    </tr>\n",
       "  </tbody>\n",
       "</table>\n",
       "</div>"
      ],
      "text/plain": [
       "   성별   신장  심혈관질환    체중  흡연여부  연령     직업   혈액형  재발여부\n",
       "0   2  163      0  60.3     0  66    자영업  RH+A     0\n",
       "1   1  171      0  71.7     0  47   운동선수  RH+A     0\n",
       "2   1  178      0  77.1     0  39  특수전문직  RH+B     0"
      ]
     },
     "execution_count": 3,
     "metadata": {},
     "output_type": "execute_result"
    }
   ],
   "source": [
    "df_ROS_forpatient = df_ROS[['성별', '신장', '심혈관질환', '체중', '흡연여부', '연령', '직업', '혈액형', '재발여부']]\n",
    "df_ROS_forpatient.head(3)"
   ]
  },
  {
   "cell_type": "markdown",
   "id": "7fcbc677-98c2-4a6c-a659-09b9b33d6447",
   "metadata": {},
   "source": [
    "### 단일 변수 chart 각각 작성"
   ]
  },
  {
   "cell_type": "code",
   "execution_count": 4,
   "id": "5e5ad62e-f0d1-48cf-8c3d-89c88d11deb1",
   "metadata": {
    "tags": []
   },
   "outputs": [
    {
     "data": {
      "image/png": "[encoded data removed]",
      "text/plain": [
       "<Figure size 640x480 with 1 Axes>"
      ]
     },
     "metadata": {},
     "output_type": "display_data"
    }
   ],
   "source": [
    "sns.countplot(data=df_ROS_forpatient, x='성별')\n",
    "plt.title(\"성별\")\n",
    "plt.show()"
   ]
  },
  {
   "cell_type": "code",
   "execution_count": 5,
   "id": "ec748dcf-43be-422a-81ec-7b24562c16a4",
   "metadata": {
    "tags": []
   },
   "outputs": [
    {
     "data": {
      "image/png": "[encoded data removed]",
      "text/plain": [
       "<Figure size 640x480 with 1 Axes>"
      ]
     },
     "metadata": {},
     "output_type": "display_data"
    }
   ],
   "source": [
    "sns.countplot(data=df_ROS_forpatient, x='신장')\n",
    "plt.title(\"신장\")\n",
    "plt.show()"
   ]
  },
  {
   "cell_type": "code",
   "execution_count": 6,
   "id": "454edcf4-0492-4108-9c4c-bfe15530adae",
   "metadata": {
    "tags": []
   },
   "outputs": [
    {
     "data": {
      "text/html": [
       "<div>\n",
       "<style scoped>\n",
       "    .dataframe tbody tr th:only-of-type {\n",
       "        vertical-align: middle;\n",
       "    }\n",
       "\n",
       "    .dataframe tbody tr th {\n",
       "        vertical-align: top;\n",
       "    }\n",
       "\n",
       "    .dataframe thead th {\n",
       "        text-align: right;\n",
       "    }\n",
       "</style>\n",
       "<table border=\"1\" class=\"dataframe\">\n",
       "  <thead>\n",
       "    <tr style=\"text-align: right;\">\n",
       "      <th></th>\n",
       "      <th>성별</th>\n",
       "      <th>신장</th>\n",
       "      <th>심혈관질환</th>\n",
       "      <th>체중</th>\n",
       "      <th>흡연여부</th>\n",
       "      <th>연령</th>\n",
       "      <th>직업</th>\n",
       "      <th>혈액형</th>\n",
       "      <th>재발여부</th>\n",
       "    </tr>\n",
       "  </thead>\n",
       "  <tbody>\n",
       "    <tr>\n",
       "      <th>60</th>\n",
       "      <td>1</td>\n",
       "      <td>171</td>\n",
       "      <td>0</td>\n",
       "      <td>71.5</td>\n",
       "      <td>0</td>\n",
       "      <td>22</td>\n",
       "      <td>학생</td>\n",
       "      <td>RH+A</td>\n",
       "      <td>0</td>\n",
       "    </tr>\n",
       "    <tr>\n",
       "      <th>176</th>\n",
       "      <td>1</td>\n",
       "      <td>170</td>\n",
       "      <td>0</td>\n",
       "      <td>71.1</td>\n",
       "      <td>0</td>\n",
       "      <td>18</td>\n",
       "      <td>학생</td>\n",
       "      <td>RH+A</td>\n",
       "      <td>0</td>\n",
       "    </tr>\n",
       "    <tr>\n",
       "      <th>184</th>\n",
       "      <td>2</td>\n",
       "      <td>159</td>\n",
       "      <td>0</td>\n",
       "      <td>58.9</td>\n",
       "      <td>0</td>\n",
       "      <td>17</td>\n",
       "      <td>학생</td>\n",
       "      <td>RH+A</td>\n",
       "      <td>0</td>\n",
       "    </tr>\n",
       "    <tr>\n",
       "      <th>224</th>\n",
       "      <td>2</td>\n",
       "      <td>171</td>\n",
       "      <td>0</td>\n",
       "      <td>63.1</td>\n",
       "      <td>0</td>\n",
       "      <td>19</td>\n",
       "      <td>학생</td>\n",
       "      <td>RH+A</td>\n",
       "      <td>0</td>\n",
       "    </tr>\n",
       "    <tr>\n",
       "      <th>272</th>\n",
       "      <td>1</td>\n",
       "      <td>169</td>\n",
       "      <td>0</td>\n",
       "      <td>70.3</td>\n",
       "      <td>1</td>\n",
       "      <td>24</td>\n",
       "      <td>학생</td>\n",
       "      <td>RH+A</td>\n",
       "      <td>0</td>\n",
       "    </tr>\n",
       "    <tr>\n",
       "      <th>...</th>\n",
       "      <td>...</td>\n",
       "      <td>...</td>\n",
       "      <td>...</td>\n",
       "      <td>...</td>\n",
       "      <td>...</td>\n",
       "      <td>...</td>\n",
       "      <td>...</td>\n",
       "      <td>...</td>\n",
       "      <td>...</td>\n",
       "    </tr>\n",
       "    <tr>\n",
       "      <th>1710</th>\n",
       "      <td>1</td>\n",
       "      <td>183</td>\n",
       "      <td>0</td>\n",
       "      <td>99.7</td>\n",
       "      <td>0</td>\n",
       "      <td>40</td>\n",
       "      <td>NaN</td>\n",
       "      <td>RH+O</td>\n",
       "      <td>0</td>\n",
       "    </tr>\n",
       "    <tr>\n",
       "      <th>1715</th>\n",
       "      <td>1</td>\n",
       "      <td>178</td>\n",
       "      <td>0</td>\n",
       "      <td>83.0</td>\n",
       "      <td>1</td>\n",
       "      <td>29</td>\n",
       "      <td>NaN</td>\n",
       "      <td>RH+O</td>\n",
       "      <td>0</td>\n",
       "    </tr>\n",
       "    <tr>\n",
       "      <th>1718</th>\n",
       "      <td>2</td>\n",
       "      <td>163</td>\n",
       "      <td>0</td>\n",
       "      <td>54.0</td>\n",
       "      <td>0</td>\n",
       "      <td>35</td>\n",
       "      <td>NaN</td>\n",
       "      <td>RH+O</td>\n",
       "      <td>0</td>\n",
       "    </tr>\n",
       "    <tr>\n",
       "      <th>1726</th>\n",
       "      <td>1</td>\n",
       "      <td>169</td>\n",
       "      <td>0</td>\n",
       "      <td>75.0</td>\n",
       "      <td>0</td>\n",
       "      <td>49</td>\n",
       "      <td>NaN</td>\n",
       "      <td>RH+O</td>\n",
       "      <td>0</td>\n",
       "    </tr>\n",
       "    <tr>\n",
       "      <th>1739</th>\n",
       "      <td>1</td>\n",
       "      <td>170</td>\n",
       "      <td>0</td>\n",
       "      <td>81.2</td>\n",
       "      <td>0</td>\n",
       "      <td>59</td>\n",
       "      <td>NaN</td>\n",
       "      <td>RH+O</td>\n",
       "      <td>0</td>\n",
       "    </tr>\n",
       "  </tbody>\n",
       "</table>\n",
       "<p>1894 rows × 9 columns</p>\n",
       "</div>"
      ],
      "text/plain": [
       "      성별   신장  심혈관질환    체중  흡연여부  연령   직업   혈액형  재발여부\n",
       "60     1  171      0  71.5     0  22   학생  RH+A     0\n",
       "176    1  170      0  71.1     0  18   학생  RH+A     0\n",
       "184    2  159      0  58.9     0  17   학생  RH+A     0\n",
       "224    2  171      0  63.1     0  19   학생  RH+A     0\n",
       "272    1  169      0  70.3     1  24   학생  RH+A     0\n",
       "...   ..  ...    ...   ...   ...  ..  ...   ...   ...\n",
       "1710   1  183      0  99.7     0  40  NaN  RH+O     0\n",
       "1715   1  178      0  83.0     1  29  NaN  RH+O     0\n",
       "1718   2  163      0  54.0     0  35  NaN  RH+O     0\n",
       "1726   1  169      0  75.0     0  49  NaN  RH+O     0\n",
       "1739   1  170      0  81.2     0  59  NaN  RH+O     0\n",
       "\n",
       "[1894 rows x 9 columns]"
      ]
     },
     "execution_count": 6,
     "metadata": {},
     "output_type": "execute_result"
    }
   ],
   "source": [
    "## 정렬 : 혈액형(ascending), 직업(descending)\n",
    "df_ROS_forpatient_asc = df_ROS_forpatient.sort_values(by=['혈액형', '직업'], ascending=[True, False])\n",
    "df_ROS_forpatient_asc.iloc[:]"
   ]
  },
  {
   "cell_type": "code",
   "execution_count": 7,
   "id": "2085979b-812f-48b7-ad59-a8173c6de8c2",
   "metadata": {
    "tags": []
   },
   "outputs": [
    {
     "data": {
      "text/html": [
       "<div>\n",
       "<style scoped>\n",
       "    .dataframe tbody tr th:only-of-type {\n",
       "        vertical-align: middle;\n",
       "    }\n",
       "\n",
       "    .dataframe tbody tr th {\n",
       "        vertical-align: top;\n",
       "    }\n",
       "\n",
       "    .dataframe thead th {\n",
       "        text-align: right;\n",
       "    }\n",
       "</style>\n",
       "<table border=\"1\" class=\"dataframe\">\n",
       "  <thead>\n",
       "    <tr style=\"text-align: right;\">\n",
       "      <th></th>\n",
       "      <th>성별</th>\n",
       "      <th>직업</th>\n",
       "      <th>혈액형</th>\n",
       "    </tr>\n",
       "  </thead>\n",
       "  <tbody>\n",
       "    <tr>\n",
       "      <th>60</th>\n",
       "      <td>1</td>\n",
       "      <td>학생</td>\n",
       "      <td>RH+A</td>\n",
       "    </tr>\n",
       "    <tr>\n",
       "      <th>176</th>\n",
       "      <td>1</td>\n",
       "      <td>학생</td>\n",
       "      <td>RH+A</td>\n",
       "    </tr>\n",
       "    <tr>\n",
       "      <th>184</th>\n",
       "      <td>2</td>\n",
       "      <td>학생</td>\n",
       "      <td>RH+A</td>\n",
       "    </tr>\n",
       "    <tr>\n",
       "      <th>224</th>\n",
       "      <td>2</td>\n",
       "      <td>학생</td>\n",
       "      <td>RH+A</td>\n",
       "    </tr>\n",
       "    <tr>\n",
       "      <th>272</th>\n",
       "      <td>1</td>\n",
       "      <td>학생</td>\n",
       "      <td>RH+A</td>\n",
       "    </tr>\n",
       "  </tbody>\n",
       "</table>\n",
       "</div>"
      ],
      "text/plain": [
       "     성별  직업   혈액형\n",
       "60    1  학생  RH+A\n",
       "176   1  학생  RH+A\n",
       "184   2  학생  RH+A\n",
       "224   2  학생  RH+A\n",
       "272   1  학생  RH+A"
      ]
     },
     "execution_count": 7,
     "metadata": {},
     "output_type": "execute_result"
    }
   ],
   "source": [
    "## 추출 : 혈액형, 직업, 성별 --> 표시\n",
    "df_ROS_forpatient_asc[['성별', '직업', '혈액형' ]].iloc[:5]"
   ]
  },
  {
   "cell_type": "code",
   "execution_count": 8,
   "id": "e12ed9c6-04b6-4a8b-972f-34d50e111bd2",
   "metadata": {
    "tags": []
   },
   "outputs": [
    {
     "data": {
      "image/png": "[encoded data removed]",
      "text/plain": [
       "<Figure size 640x480 with 1 Axes>"
      ]
     },
     "metadata": {},
     "output_type": "display_data"
    }
   ],
   "source": [
    "sns.countplot(data=df_ROS_forpatient, x='심혈관질환')\n",
    "plt.title(\"심혈관질환\")\n",
    "plt.show()"
   ]
  },
  {
   "cell_type": "code",
   "execution_count": 9,
   "id": "17c78c8e-ec6a-4c25-ac9b-ced6bbb8898f",
   "metadata": {
    "tags": []
   },
   "outputs": [
    {
     "data": {
      "image/png": "[encoded data removed]",
      "text/plain": [
       "<Figure size 640x480 with 1 Axes>"
      ]
     },
     "metadata": {},
     "output_type": "display_data"
    }
   ],
   "source": [
    "sns.countplot(data=df_ROS_forpatient, x='체중')\n",
    "plt.title(\"체중\")\n",
    "plt.show()"
   ]
  },
  {
   "cell_type": "code",
   "execution_count": 10,
   "id": "6cdab4c4-4995-4a42-ac07-36ccc164afb7",
   "metadata": {
    "tags": []
   },
   "outputs": [
    {
     "data": {
      "image/png": "[encoded data removed]",
      "text/plain": [
       "<Figure size 640x480 with 1 Axes>"
      ]
     },
     "metadata": {},
     "output_type": "display_data"
    }
   ],
   "source": [
    "sns.countplot(data=df_ROS_forpatient, x='흡연여부')\n",
    "plt.title(\"흡연여부\")\n",
    "plt.show()"
   ]
  },
  {
   "cell_type": "code",
   "execution_count": 11,
   "id": "d4681ee0-41b6-4833-956f-7025a81782f7",
   "metadata": {
    "tags": []
   },
   "outputs": [
    {
     "data": {
      "image/png": "[encoded data removed]",
      "text/plain": [
       "<Figure size 640x480 with 1 Axes>"
      ]
     },
     "metadata": {},
     "output_type": "display_data"
    }
   ],
   "source": [
    "sns.countplot(data=df_ROS_forpatient, x='연령')\n",
    "plt.title(\"연령\")\n",
    "plt.show()"
   ]
  },
  {
   "cell_type": "code",
   "execution_count": 12,
   "id": "ecb28f31-ddd2-4e83-8c42-c23d05c6ee7b",
   "metadata": {
    "tags": []
   },
   "outputs": [
    {
     "data": {
      "image/png": "[encoded data removed]",
      "text/plain": [
       "<Figure size 640x480 with 1 Axes>"
      ]
     },
     "metadata": {},
     "output_type": "display_data"
    }
   ],
   "source": [
    "sns.countplot(data=df_ROS_forpatient, x='혈액형')\n",
    "plt.title(\"혈액형\")\n",
    "plt.show()"
   ]
  },
  {
   "cell_type": "code",
   "execution_count": 13,
   "id": "08a3425b-5b3a-41b7-ac76-c4050ff100d4",
   "metadata": {
    "tags": []
   },
   "outputs": [
    {
     "data": {
      "image/png": "[encoded data removed]",
      "text/plain": [
       "<Figure size 640x480 with 1 Axes>"
      ]
     },
     "metadata": {},
     "output_type": "display_data"
    }
   ],
   "source": [
    "sns.countplot(data=df_ROS_forpatient, x='재발여부')\n",
    "plt.title(\"재발여부\")\n",
    "plt.show()"
   ]
  },
  {
   "cell_type": "markdown",
   "id": "79865819-13bd-4274-9756-3a01f7df9cba",
   "metadata": {},
   "source": [
    "###  이상치와 결측치가 없는 데이터셋"
   ]
  },
  {
   "cell_type": "code",
   "execution_count": 14,
   "id": "bce4907e-1a87-419f-9afe-7ee62374fc14",
   "metadata": {
    "tags": []
   },
   "outputs": [
    {
     "data": {
      "text/plain": [
       "성별         0\n",
       "신장         0\n",
       "심혈관질환      0\n",
       "체중         0\n",
       "흡연여부       0\n",
       "연령         0\n",
       "직업       415\n",
       "혈액형        0\n",
       "재발여부       0\n",
       "dtype: int64"
      ]
     },
     "execution_count": 14,
     "metadata": {},
     "output_type": "execute_result"
    }
   ],
   "source": [
    "# 결측치\n",
    "df_ROS_forpatient.isnull().sum()"
   ]
  },
  {
   "cell_type": "code",
   "execution_count": 15,
   "id": "4822087c-4079-40c7-be45-ba0bb4d9c893",
   "metadata": {
    "tags": []
   },
   "outputs": [
    {
     "data": {
      "text/plain": [
       "성별       0\n",
       "신장       0\n",
       "심혈관질환    0\n",
       "체중       0\n",
       "흡연여부     0\n",
       "연령       0\n",
       "직업       0\n",
       "혈액형      0\n",
       "재발여부     0\n",
       "dtype: int64"
      ]
     },
     "execution_count": 15,
     "metadata": {},
     "output_type": "execute_result"
    }
   ],
   "source": [
    "df_ROS_forpatient_dropna = df_ROS_forpatient.dropna()\n",
    "df_ROS_forpatient_dropna.isnull().sum()"
   ]
  },
  {
   "cell_type": "markdown",
   "id": "828c5357-0351-4373-858e-8a68063808f0",
   "metadata": {
    "tags": []
   },
   "source": [
    "#### 신장 이상치"
   ]
  },
  {
   "cell_type": "code",
   "execution_count": 61,
   "id": "5f6df1ce-ab10-497f-8b8b-731ee8d1c194",
   "metadata": {
    "tags": []
   },
   "outputs": [
    {
     "data": {
      "text/plain": [
       "<Axes: xlabel='신장'>"
      ]
     },
     "execution_count": 61,
     "metadata": {},
     "output_type": "execute_result"
    },
    {
     "data": {
      "image/png": "[encoded data removed]",
      "text/plain": [
       "<Figure size 640x480 with 1 Axes>"
      ]
     },
     "metadata": {},
     "output_type": "display_data"
    }
   ],
   "source": [
    "sns.boxplot(data=df_ROS_forpatient_dropna, x='신장')"
   ]
  },
  {
   "cell_type": "code",
   "execution_count": 55,
   "id": "6327982d-2051-4bca-bf38-87907d4aeaf1",
   "metadata": {
    "tags": []
   },
   "outputs": [
    {
     "data": {
      "text/plain": [
       "count    1479.000000\n",
       "mean      168.158891\n",
       "std         9.250669\n",
       "min       140.000000\n",
       "25%       161.000000\n",
       "50%       169.000000\n",
       "75%       175.000000\n",
       "max       204.000000\n",
       "Name: 신장, dtype: float64"
      ]
     },
     "execution_count": 55,
     "metadata": {},
     "output_type": "execute_result"
    }
   ],
   "source": [
    "# sns.boxplot(data=df_ROS_forpatient, x='신장')\n",
    "df_ROS_forpatient_dropna['신장'].describe()"
   ]
  },
  {
   "cell_type": "code",
   "execution_count": 56,
   "id": "e290caa7-c0d2-4429-be6f-c1c25a5b34d0",
   "metadata": {
    "tags": []
   },
   "outputs": [
    {
     "data": {
      "text/plain": [
       "(161.0, 175.0, 14.0)"
      ]
     },
     "execution_count": 56,
     "metadata": {},
     "output_type": "execute_result"
    }
   ],
   "source": [
    "Q1 = df_ROS_forpatient_dropna['신장'].describe()['25%']\n",
    "Q3 = df_ROS_forpatient_dropna['신장'].describe()['75%']\n",
    "IQR = Q3 - Q1\n",
    "Q1, Q3, IQR "
   ]
  },
  {
   "cell_type": "code",
   "execution_count": 57,
   "id": "a29986f9-845d-4f4d-8455-fa70e05daee3",
   "metadata": {
    "tags": []
   },
   "outputs": [
    {
     "data": {
      "text/plain": [
       "(140.0, 196.0)"
      ]
     },
     "execution_count": 57,
     "metadata": {},
     "output_type": "execute_result"
    }
   ],
   "source": [
    "bound_up = Q3 + 1.5 * IQR\n",
    "bound_low = Q1 - 1.5 * IQR\n",
    "bound_low, bound_up "
   ]
  },
  {
   "cell_type": "code",
   "execution_count": 58,
   "id": "6bd43e80-cb62-45d6-a8ff-030afd49a83e",
   "metadata": {
    "tags": []
   },
   "outputs": [
    {
     "data": {
      "text/plain": [
       "0       True\n",
       "1       True\n",
       "2       True\n",
       "3       True\n",
       "4       True\n",
       "        ... \n",
       "1889    True\n",
       "1890    True\n",
       "1891    True\n",
       "1892    True\n",
       "1893    True\n",
       "Name: 신장, Length: 1894, dtype: bool"
      ]
     },
     "execution_count": 58,
     "metadata": {},
     "output_type": "execute_result"
    }
   ],
   "source": [
    "condition = (df_ROS_forpatient['신장'] <= bound_up) \n",
    "condition"
   ]
  },
  {
   "cell_type": "code",
   "execution_count": 59,
   "id": "2efdc3f0-31ce-4a99-832b-54edd9610f05",
   "metadata": {
    "tags": []
   },
   "outputs": [],
   "source": [
    "df_ROS_forpatient_condittion = df_ROS_forpatient.loc[condition]"
   ]
  },
  {
   "cell_type": "code",
   "execution_count": 60,
   "id": "13f6d703-cfc7-4556-8dcf-4beef003dee5",
   "metadata": {
    "tags": []
   },
   "outputs": [
    {
     "data": {
      "text/plain": [
       "<Axes: xlabel='신장'>"
      ]
     },
     "execution_count": 60,
     "metadata": {},
     "output_type": "execute_result"
    },
    {
     "data": {
      "image/png": "[encoded data removed]",
      "text/plain": [
       "<Figure size 640x480 with 1 Axes>"
      ]
     },
     "metadata": {},
     "output_type": "display_data"
    }
   ],
   "source": [
    "sns.boxplot(df_ROS_forpatient_condittion, x='신장')"
   ]
  },
  {
   "cell_type": "markdown",
   "id": "31e83013-647e-410a-ad42-43a21386ea45",
   "metadata": {
    "tags": []
   },
   "source": [
    "#### 체중 이상치"
   ]
  },
  {
   "cell_type": "code",
   "execution_count": 62,
   "id": "2bb48b7a-55f5-4fd8-b81c-9d617677c974",
   "metadata": {
    "tags": []
   },
   "outputs": [
    {
     "data": {
      "text/plain": [
       "<Axes: xlabel='체중'>"
      ]
     },
     "execution_count": 62,
     "metadata": {},
     "output_type": "execute_result"
    },
    {
     "data": {
      "image/png": "[encoded data removed]",
      "text/plain": [
       "<Figure size 640x480 with 1 Axes>"
      ]
     },
     "metadata": {},
     "output_type": "display_data"
    }
   ],
   "source": [
    "sns.boxplot(data=df_ROS_forpatient_dropna, x='체중')"
   ]
  },
  {
   "cell_type": "code",
   "execution_count": 48,
   "id": "add7764f-a4f5-454e-8c51-16d306f322f5",
   "metadata": {
    "tags": []
   },
   "outputs": [
    {
     "data": {
      "text/plain": [
       "count    1479.000000\n",
       "mean       68.243070\n",
       "std        11.426661\n",
       "min        35.000000\n",
       "25%        60.000000\n",
       "50%        67.800000\n",
       "75%        75.150000\n",
       "max       136.100000\n",
       "Name: 체중, dtype: float64"
      ]
     },
     "execution_count": 48,
     "metadata": {},
     "output_type": "execute_result"
    }
   ],
   "source": [
    "df_ROS_forpatient_dropna['체중'].describe()"
   ]
  },
  {
   "cell_type": "code",
   "execution_count": 49,
   "id": "82a190b9-2c5d-4b2c-964c-de43b4c87e60",
   "metadata": {
    "tags": []
   },
   "outputs": [
    {
     "data": {
      "text/plain": [
       "(60.0, 75.15, 15.150000000000006)"
      ]
     },
     "execution_count": 49,
     "metadata": {},
     "output_type": "execute_result"
    }
   ],
   "source": [
    "import numpy as np\n",
    "# Q1 = df_ROS_forpatient['체중'].describe()['25%']\n",
    "# Q3 = df_ROS_forpatient['체중'].describe()['75%']\n",
    "Q1 = np.percentile(df_ROS_forpatient_dropna['체중'], 25)\n",
    "Q3 = np.percentile(df_ROS_forpatient_dropna['체중'], 75)\n",
    "IQR = Q3 - Q1\n",
    "Q1, Q3, IQR "
   ]
  },
  {
   "cell_type": "code",
   "execution_count": 50,
   "id": "0bf2595c-e1b9-4b16-83cb-deb05184c6bb",
   "metadata": {
    "tags": []
   },
   "outputs": [
    {
     "data": {
      "text/plain": [
       "(37.27499999999999, 97.87500000000001)"
      ]
     },
     "execution_count": 50,
     "metadata": {},
     "output_type": "execute_result"
    }
   ],
   "source": [
    "bound_up = Q3 + 1.5 * IQR\n",
    "bound_low = Q1 - 1.5 * IQR\n",
    "bound_low, bound_up "
   ]
  },
  {
   "cell_type": "code",
   "execution_count": 51,
   "id": "85507bdf-f0af-4e24-8696-e23cea314b80",
   "metadata": {
    "tags": []
   },
   "outputs": [],
   "source": [
    "condition = (df_ROS_forpatient['체중'] <= bound_up) & (df_ROS_forpatient['체중'] > bound_low) "
   ]
  },
  {
   "cell_type": "code",
   "execution_count": 52,
   "id": "56e093a9-2620-4198-8e25-9d17ae08bf59",
   "metadata": {
    "tags": []
   },
   "outputs": [],
   "source": [
    "df_ROS_forpatient_condittion = df_ROS_forpatient.loc[condition] "
   ]
  },
  {
   "cell_type": "code",
   "execution_count": 53,
   "id": "cd387a99-a738-4c5b-b514-9d0da96aab4a",
   "metadata": {
    "tags": []
   },
   "outputs": [
    {
     "data": {
      "text/plain": [
       "<Axes: xlabel='체중'>"
      ]
     },
     "execution_count": 53,
     "metadata": {},
     "output_type": "execute_result"
    },
    {
     "data": {
      "image/png": "[encoded data removed]",
      "text/plain": [
       "<Figure size 640x480 with 1 Axes>"
      ]
     },
     "metadata": {},
     "output_type": "display_data"
    }
   ],
   "source": [
    "sns.boxplot(df_ROS_forpatient_condittion, x='체중')"
   ]
  },
  {
   "cell_type": "markdown",
   "id": "f9c6a261-780b-4fbb-8591-12ccc99527c5",
   "metadata": {
    "tags": []
   },
   "source": [
    "#### 연령 이상치"
   ]
  },
  {
   "cell_type": "code",
   "execution_count": 63,
   "id": "dfae1c83-8c70-4dac-9fb0-6dfee87066eb",
   "metadata": {
    "tags": []
   },
   "outputs": [
    {
     "data": {
      "text/plain": [
       "<Axes: xlabel='연령'>"
      ]
     },
     "execution_count": 63,
     "metadata": {},
     "output_type": "execute_result"
    },
    {
     "data": {
      "image/png": "[encoded data removed]",
      "text/plain": [
       "<Figure size 640x480 with 1 Axes>"
      ]
     },
     "metadata": {},
     "output_type": "display_data"
    }
   ],
   "source": [
    " sns.boxplot(data=df_ROS_forpatient_dropna, x='연령')"
   ]
  },
  {
   "cell_type": "code",
   "execution_count": 40,
   "id": "5daf3876-010d-41ad-9ae4-426893280eb7",
   "metadata": {
    "tags": []
   },
   "outputs": [
    {
     "data": {
      "text/plain": [
       "count    1479.000000\n",
       "mean       39.980392\n",
       "std        13.314364\n",
       "min        15.000000\n",
       "25%        30.000000\n",
       "50%        39.000000\n",
       "75%        47.000000\n",
       "max        86.000000\n",
       "Name: 연령, dtype: float64"
      ]
     },
     "execution_count": 40,
     "metadata": {},
     "output_type": "execute_result"
    }
   ],
   "source": [
    "df_ROS_forpatient_dropna['연령'].describe()"
   ]
  },
  {
   "cell_type": "code",
   "execution_count": 43,
   "id": "c443d585-47f4-4cfc-b475-20645d5fc8f6",
   "metadata": {
    "tags": []
   },
   "outputs": [
    {
     "data": {
      "text/plain": [
       "(30.0, 47.0, 17.0)"
      ]
     },
     "execution_count": 43,
     "metadata": {},
     "output_type": "execute_result"
    }
   ],
   "source": [
    "# Q1 = df_ROS_forpatient['연령'].describe()['25%']\n",
    "# Q3 = df_ROS_forpatient['연령'].describe()['75%']\n",
    "Q1 = np.percentile(df_ROS_forpatient_dropna['연령'], 25)\n",
    "Q3 = np.percentile(df_ROS_forpatient_dropna['연령'], 75)\n",
    "IQR = Q3 - Q1\n",
    "Q1, Q3, IQR "
   ]
  },
  {
   "cell_type": "code",
   "execution_count": 44,
   "id": "c4afb531-4552-4979-95dc-63e6d6a575f6",
   "metadata": {
    "tags": []
   },
   "outputs": [
    {
     "data": {
      "text/plain": [
       "(4.5, 72.5)"
      ]
     },
     "execution_count": 44,
     "metadata": {},
     "output_type": "execute_result"
    }
   ],
   "source": [
    "bound_up = Q3 + 1.5 * IQR\n",
    "bound_low = Q1 - 1.5 * IQR\n",
    "bound_low, bound_up "
   ]
  },
  {
   "cell_type": "code",
   "execution_count": 45,
   "id": "1a78ac74-ca46-4b2f-90cc-835202ceae05",
   "metadata": {
    "tags": []
   },
   "outputs": [
    {
     "data": {
      "text/plain": [
       "0       True\n",
       "1       True\n",
       "2       True\n",
       "3       True\n",
       "4       True\n",
       "        ... \n",
       "1889    True\n",
       "1890    True\n",
       "1891    True\n",
       "1892    True\n",
       "1893    True\n",
       "Name: 연령, Length: 1894, dtype: bool"
      ]
     },
     "execution_count": 45,
     "metadata": {},
     "output_type": "execute_result"
    }
   ],
   "source": [
    "condition = (df_ROS_forpatient['연령'] <= bound_up) \n",
    "condition "
   ]
  },
  {
   "cell_type": "code",
   "execution_count": 46,
   "id": "d425b611-717d-492a-9da3-4c873ce0c292",
   "metadata": {
    "tags": []
   },
   "outputs": [],
   "source": [
    "df_ROS_forpatient_condition = df_ROS_forpatient.loc[condition]"
   ]
  },
  {
   "cell_type": "code",
   "execution_count": 47,
   "id": "be85e253-dd85-41c3-a664-705f324b6990",
   "metadata": {
    "tags": []
   },
   "outputs": [
    {
     "data": {
      "text/plain": [
       "<Axes: xlabel='연령'>"
      ]
     },
     "execution_count": 47,
     "metadata": {},
     "output_type": "execute_result"
    },
    {
     "data": {
      "image/png": "[encoded data removed]",
      "text/plain": [
       "<Figure size 640x480 with 1 Axes>"
      ]
     },
     "metadata": {},
     "output_type": "display_data"
    }
   ],
   "source": [
    "sns.boxplot(df_ROS_forpatient_condition, x='연령')"
   ]
  },
  {
   "cell_type": "code",
   "execution_count": 75,
   "id": "06fc0f7a-2f29-41c5-a6e2-bd014c5ff0f9",
   "metadata": {
    "tags": []
   },
   "outputs": [
    {
     "data": {
      "text/plain": [
       "(39.0, 47.0)"
      ]
     },
     "execution_count": 75,
     "metadata": {},
     "output_type": "execute_result"
    }
   ],
   "source": [
    "Q2 = df_ROS_forpatient_condition['연령'].median()\n",
    "Q3 = np.percentile(df_ROS_forpatient_condition['연령'], 75)\n",
    "Q2, Q3"
   ]
  },
  {
   "cell_type": "code",
   "execution_count": 83,
   "id": "2da19f58-9a51-490d-bd31-fe97ef1911c5",
   "metadata": {
    "tags": []
   },
   "outputs": [
    {
     "data": {
      "text/plain": [
       "False    1058\n",
       "True      421\n",
       "Name: 연령, dtype: int64"
      ]
     },
     "execution_count": 83,
     "metadata": {},
     "output_type": "execute_result"
    }
   ],
   "source": [
    "condition = (df_ROS_forpatient_dropna['연령'] >= Q2) & (df_ROS_forpatient_dropna['연령'] <= Q3)\n",
    "condition.value_counts()"
   ]
  },
  {
   "cell_type": "code",
   "execution_count": 84,
   "id": "6085f80e-7035-460f-982c-765129c62954",
   "metadata": {
    "tags": []
   },
   "outputs": [
    {
     "data": {
      "text/plain": [
       "421"
      ]
     },
     "execution_count": 84,
     "metadata": {},
     "output_type": "execute_result"
    }
   ],
   "source": [
    "condition.sum()"
   ]
  },
  {
   "cell_type": "markdown",
   "id": "a43b68f6-9589-435e-9c2d-6381b3757c2f",
   "metadata": {},
   "source": [
    "#### quest2\n",
    "- apply() 이용\n",
    "- 대상 컬럼 : 연령 --> 연령(중앙값) 차이\n",
    "- 중앙값 - 개인 연령 = cell 작성"
   ]
  },
  {
   "cell_type": "code",
   "execution_count": 89,
   "id": "52dac13a-0706-4905-b65f-6e66038ac267",
   "metadata": {
    "tags": []
   },
   "outputs": [
    {
     "data": {
      "text/plain": [
       "0       66\n",
       "1       47\n",
       "2       39\n",
       "3       40\n",
       "4       42\n",
       "        ..\n",
       "1889    59\n",
       "1890    42\n",
       "1891    61\n",
       "1892    29\n",
       "1893    30\n",
       "Name: 연령, Length: 1479, dtype: int64"
      ]
     },
     "execution_count": 89,
     "metadata": {},
     "output_type": "execute_result"
    }
   ],
   "source": [
    "df_ROS_forpatient_dropna['연령']"
   ]
  },
  {
   "cell_type": "code",
   "execution_count": 100,
   "id": "a62d8f0a-4217-46a8-8410-16d70f6e2f28",
   "metadata": {
    "tags": []
   },
   "outputs": [
    {
     "data": {
      "text/plain": [
       "39.0"
      ]
     },
     "execution_count": 100,
     "metadata": {},
     "output_type": "execute_result"
    }
   ],
   "source": [
    "mid_age_value = df_ROS_forpatient_dropna['연령'].median()\n",
    "mid_age_value"
   ]
  },
  {
   "cell_type": "code",
   "execution_count": 101,
   "id": "d24b1255-d329-4b5c-8359-57a53dc2abc3",
   "metadata": {
    "tags": []
   },
   "outputs": [],
   "source": [
    "def dif(cell_value) :\n",
    "    result = cell_value - df_ROS_forpatient_dropna['연령'] \n",
    "    return result"
   ]
  },
  {
   "cell_type": "code",
   "execution_count": 102,
   "id": "d7e39510-881e-42b7-9a09-8ec4e2c2bf15",
   "metadata": {
    "tags": []
   },
   "outputs": [
    {
     "data": {
      "text/plain": [
       "0      -56\n",
       "1      -37\n",
       "2      -29\n",
       "3      -30\n",
       "4      -32\n",
       "        ..\n",
       "1889   -49\n",
       "1890   -32\n",
       "1891   -51\n",
       "1892   -19\n",
       "1893   -20\n",
       "Name: 연령, Length: 1479, dtype: int64"
      ]
     },
     "execution_count": 102,
     "metadata": {},
     "output_type": "execute_result"
    }
   ],
   "source": [
    "dif(10)"
   ]
  },
  {
   "cell_type": "code",
   "execution_count": 104,
   "id": "e809e409-3631-48cc-87fb-65b032bc4c00",
   "metadata": {
    "tags": []
   },
   "outputs": [
    {
     "data": {
      "text/html": [
       "<div>\n",
       "<style scoped>\n",
       "    .dataframe tbody tr th:only-of-type {\n",
       "        vertical-align: middle;\n",
       "    }\n",
       "\n",
       "    .dataframe tbody tr th {\n",
       "        vertical-align: top;\n",
       "    }\n",
       "\n",
       "    .dataframe thead th {\n",
       "        text-align: right;\n",
       "    }\n",
       "</style>\n",
       "<table border=\"1\" class=\"dataframe\">\n",
       "  <thead>\n",
       "    <tr style=\"text-align: right;\">\n",
       "      <th></th>\n",
       "      <th>0</th>\n",
       "      <th>1</th>\n",
       "      <th>2</th>\n",
       "      <th>3</th>\n",
       "      <th>4</th>\n",
       "      <th>5</th>\n",
       "      <th>6</th>\n",
       "      <th>11</th>\n",
       "      <th>13</th>\n",
       "      <th>15</th>\n",
       "      <th>...</th>\n",
       "      <th>1884</th>\n",
       "      <th>1885</th>\n",
       "      <th>1886</th>\n",
       "      <th>1887</th>\n",
       "      <th>1888</th>\n",
       "      <th>1889</th>\n",
       "      <th>1890</th>\n",
       "      <th>1891</th>\n",
       "      <th>1892</th>\n",
       "      <th>1893</th>\n",
       "    </tr>\n",
       "  </thead>\n",
       "  <tbody>\n",
       "    <tr>\n",
       "      <th>0</th>\n",
       "      <td>0</td>\n",
       "      <td>19</td>\n",
       "      <td>27</td>\n",
       "      <td>26</td>\n",
       "      <td>24</td>\n",
       "      <td>6</td>\n",
       "      <td>19</td>\n",
       "      <td>1</td>\n",
       "      <td>36</td>\n",
       "      <td>-18</td>\n",
       "      <td>...</td>\n",
       "      <td>10</td>\n",
       "      <td>24</td>\n",
       "      <td>32</td>\n",
       "      <td>32</td>\n",
       "      <td>7</td>\n",
       "      <td>7</td>\n",
       "      <td>24</td>\n",
       "      <td>5</td>\n",
       "      <td>37</td>\n",
       "      <td>36</td>\n",
       "    </tr>\n",
       "    <tr>\n",
       "      <th>1</th>\n",
       "      <td>-19</td>\n",
       "      <td>0</td>\n",
       "      <td>8</td>\n",
       "      <td>7</td>\n",
       "      <td>5</td>\n",
       "      <td>-13</td>\n",
       "      <td>0</td>\n",
       "      <td>-18</td>\n",
       "      <td>17</td>\n",
       "      <td>-37</td>\n",
       "      <td>...</td>\n",
       "      <td>-9</td>\n",
       "      <td>5</td>\n",
       "      <td>13</td>\n",
       "      <td>13</td>\n",
       "      <td>-12</td>\n",
       "      <td>-12</td>\n",
       "      <td>5</td>\n",
       "      <td>-14</td>\n",
       "      <td>18</td>\n",
       "      <td>17</td>\n",
       "    </tr>\n",
       "    <tr>\n",
       "      <th>2</th>\n",
       "      <td>-27</td>\n",
       "      <td>-8</td>\n",
       "      <td>0</td>\n",
       "      <td>-1</td>\n",
       "      <td>-3</td>\n",
       "      <td>-21</td>\n",
       "      <td>-8</td>\n",
       "      <td>-26</td>\n",
       "      <td>9</td>\n",
       "      <td>-45</td>\n",
       "      <td>...</td>\n",
       "      <td>-17</td>\n",
       "      <td>-3</td>\n",
       "      <td>5</td>\n",
       "      <td>5</td>\n",
       "      <td>-20</td>\n",
       "      <td>-20</td>\n",
       "      <td>-3</td>\n",
       "      <td>-22</td>\n",
       "      <td>10</td>\n",
       "      <td>9</td>\n",
       "    </tr>\n",
       "    <tr>\n",
       "      <th>3</th>\n",
       "      <td>-26</td>\n",
       "      <td>-7</td>\n",
       "      <td>1</td>\n",
       "      <td>0</td>\n",
       "      <td>-2</td>\n",
       "      <td>-20</td>\n",
       "      <td>-7</td>\n",
       "      <td>-25</td>\n",
       "      <td>10</td>\n",
       "      <td>-44</td>\n",
       "      <td>...</td>\n",
       "      <td>-16</td>\n",
       "      <td>-2</td>\n",
       "      <td>6</td>\n",
       "      <td>6</td>\n",
       "      <td>-19</td>\n",
       "      <td>-19</td>\n",
       "      <td>-2</td>\n",
       "      <td>-21</td>\n",
       "      <td>11</td>\n",
       "      <td>10</td>\n",
       "    </tr>\n",
       "    <tr>\n",
       "      <th>4</th>\n",
       "      <td>-24</td>\n",
       "      <td>-5</td>\n",
       "      <td>3</td>\n",
       "      <td>2</td>\n",
       "      <td>0</td>\n",
       "      <td>-18</td>\n",
       "      <td>-5</td>\n",
       "      <td>-23</td>\n",
       "      <td>12</td>\n",
       "      <td>-42</td>\n",
       "      <td>...</td>\n",
       "      <td>-14</td>\n",
       "      <td>0</td>\n",
       "      <td>8</td>\n",
       "      <td>8</td>\n",
       "      <td>-17</td>\n",
       "      <td>-17</td>\n",
       "      <td>0</td>\n",
       "      <td>-19</td>\n",
       "      <td>13</td>\n",
       "      <td>12</td>\n",
       "    </tr>\n",
       "    <tr>\n",
       "      <th>...</th>\n",
       "      <td>...</td>\n",
       "      <td>...</td>\n",
       "      <td>...</td>\n",
       "      <td>...</td>\n",
       "      <td>...</td>\n",
       "      <td>...</td>\n",
       "      <td>...</td>\n",
       "      <td>...</td>\n",
       "      <td>...</td>\n",
       "      <td>...</td>\n",
       "      <td>...</td>\n",
       "      <td>...</td>\n",
       "      <td>...</td>\n",
       "      <td>...</td>\n",
       "      <td>...</td>\n",
       "      <td>...</td>\n",
       "      <td>...</td>\n",
       "      <td>...</td>\n",
       "      <td>...</td>\n",
       "      <td>...</td>\n",
       "      <td>...</td>\n",
       "    </tr>\n",
       "    <tr>\n",
       "      <th>1889</th>\n",
       "      <td>-7</td>\n",
       "      <td>12</td>\n",
       "      <td>20</td>\n",
       "      <td>19</td>\n",
       "      <td>17</td>\n",
       "      <td>-1</td>\n",
       "      <td>12</td>\n",
       "      <td>-6</td>\n",
       "      <td>29</td>\n",
       "      <td>-25</td>\n",
       "      <td>...</td>\n",
       "      <td>3</td>\n",
       "      <td>17</td>\n",
       "      <td>25</td>\n",
       "      <td>25</td>\n",
       "      <td>0</td>\n",
       "      <td>0</td>\n",
       "      <td>17</td>\n",
       "      <td>-2</td>\n",
       "      <td>30</td>\n",
       "      <td>29</td>\n",
       "    </tr>\n",
       "    <tr>\n",
       "      <th>1890</th>\n",
       "      <td>-24</td>\n",
       "      <td>-5</td>\n",
       "      <td>3</td>\n",
       "      <td>2</td>\n",
       "      <td>0</td>\n",
       "      <td>-18</td>\n",
       "      <td>-5</td>\n",
       "      <td>-23</td>\n",
       "      <td>12</td>\n",
       "      <td>-42</td>\n",
       "      <td>...</td>\n",
       "      <td>-14</td>\n",
       "      <td>0</td>\n",
       "      <td>8</td>\n",
       "      <td>8</td>\n",
       "      <td>-17</td>\n",
       "      <td>-17</td>\n",
       "      <td>0</td>\n",
       "      <td>-19</td>\n",
       "      <td>13</td>\n",
       "      <td>12</td>\n",
       "    </tr>\n",
       "    <tr>\n",
       "      <th>1891</th>\n",
       "      <td>-5</td>\n",
       "      <td>14</td>\n",
       "      <td>22</td>\n",
       "      <td>21</td>\n",
       "      <td>19</td>\n",
       "      <td>1</td>\n",
       "      <td>14</td>\n",
       "      <td>-4</td>\n",
       "      <td>31</td>\n",
       "      <td>-23</td>\n",
       "      <td>...</td>\n",
       "      <td>5</td>\n",
       "      <td>19</td>\n",
       "      <td>27</td>\n",
       "      <td>27</td>\n",
       "      <td>2</td>\n",
       "      <td>2</td>\n",
       "      <td>19</td>\n",
       "      <td>0</td>\n",
       "      <td>32</td>\n",
       "      <td>31</td>\n",
       "    </tr>\n",
       "    <tr>\n",
       "      <th>1892</th>\n",
       "      <td>-37</td>\n",
       "      <td>-18</td>\n",
       "      <td>-10</td>\n",
       "      <td>-11</td>\n",
       "      <td>-13</td>\n",
       "      <td>-31</td>\n",
       "      <td>-18</td>\n",
       "      <td>-36</td>\n",
       "      <td>-1</td>\n",
       "      <td>-55</td>\n",
       "      <td>...</td>\n",
       "      <td>-27</td>\n",
       "      <td>-13</td>\n",
       "      <td>-5</td>\n",
       "      <td>-5</td>\n",
       "      <td>-30</td>\n",
       "      <td>-30</td>\n",
       "      <td>-13</td>\n",
       "      <td>-32</td>\n",
       "      <td>0</td>\n",
       "      <td>-1</td>\n",
       "    </tr>\n",
       "    <tr>\n",
       "      <th>1893</th>\n",
       "      <td>-36</td>\n",
       "      <td>-17</td>\n",
       "      <td>-9</td>\n",
       "      <td>-10</td>\n",
       "      <td>-12</td>\n",
       "      <td>-30</td>\n",
       "      <td>-17</td>\n",
       "      <td>-35</td>\n",
       "      <td>0</td>\n",
       "      <td>-54</td>\n",
       "      <td>...</td>\n",
       "      <td>-26</td>\n",
       "      <td>-12</td>\n",
       "      <td>-4</td>\n",
       "      <td>-4</td>\n",
       "      <td>-29</td>\n",
       "      <td>-29</td>\n",
       "      <td>-12</td>\n",
       "      <td>-31</td>\n",
       "      <td>1</td>\n",
       "      <td>0</td>\n",
       "    </tr>\n",
       "  </tbody>\n",
       "</table>\n",
       "<p>1479 rows × 1479 columns</p>\n",
       "</div>"
      ],
      "text/plain": [
       "      0     1     2     3     4     5     6     11    13    15    ...  1884  \\\n",
       "0        0    19    27    26    24     6    19     1    36   -18  ...    10   \n",
       "1      -19     0     8     7     5   -13     0   -18    17   -37  ...    -9   \n",
       "2      -27    -8     0    -1    -3   -21    -8   -26     9   -45  ...   -17   \n",
       "3      -26    -7     1     0    -2   -20    -7   -25    10   -44  ...   -16   \n",
       "4      -24    -5     3     2     0   -18    -5   -23    12   -42  ...   -14   \n",
       "...    ...   ...   ...   ...   ...   ...   ...   ...   ...   ...  ...   ...   \n",
       "1889    -7    12    20    19    17    -1    12    -6    29   -25  ...     3   \n",
       "1890   -24    -5     3     2     0   -18    -5   -23    12   -42  ...   -14   \n",
       "1891    -5    14    22    21    19     1    14    -4    31   -23  ...     5   \n",
       "1892   -37   -18   -10   -11   -13   -31   -18   -36    -1   -55  ...   -27   \n",
       "1893   -36   -17    -9   -10   -12   -30   -17   -35     0   -54  ...   -26   \n",
       "\n",
       "      1885  1886  1887  1888  1889  1890  1891  1892  1893  \n",
       "0       24    32    32     7     7    24     5    37    36  \n",
       "1        5    13    13   -12   -12     5   -14    18    17  \n",
       "2       -3     5     5   -20   -20    -3   -22    10     9  \n",
       "3       -2     6     6   -19   -19    -2   -21    11    10  \n",
       "4        0     8     8   -17   -17     0   -19    13    12  \n",
       "...    ...   ...   ...   ...   ...   ...   ...   ...   ...  \n",
       "1889    17    25    25     0     0    17    -2    30    29  \n",
       "1890     0     8     8   -17   -17     0   -19    13    12  \n",
       "1891    19    27    27     2     2    19     0    32    31  \n",
       "1892   -13    -5    -5   -30   -30   -13   -32     0    -1  \n",
       "1893   -12    -4    -4   -29   -29   -12   -31     1     0  \n",
       "\n",
       "[1479 rows x 1479 columns]"
      ]
     },
     "execution_count": 104,
     "metadata": {},
     "output_type": "execute_result"
    }
   ],
   "source": [
    "df_ROS_forpatient_dropna['연령'].apply(dif)"
   ]
  },
  {
   "cell_type": "code",
   "execution_count": 106,
   "id": "be97a28f-9ead-42dc-83bc-619f398f9682",
   "metadata": {
    "tags": []
   },
   "outputs": [
    {
     "ename": "ValueError",
     "evalue": "Cannot set a DataFrame with multiple columns to the single column age_dif",
     "output_type": "error",
     "traceback": [
      "\u001b[1;31m---------------------------------------------------------------------------\u001b[0m",
      "\u001b[1;31mValueError\u001b[0m                                Traceback (most recent call last)",
      "Cell \u001b[1;32mIn[106], line 1\u001b[0m\n\u001b[1;32m----> 1\u001b[0m df_ROS_forpatient_dropna[\u001b[38;5;124m'\u001b[39m\u001b[38;5;124mage_dif\u001b[39m\u001b[38;5;124m'\u001b[39m] \u001b[38;5;241m=\u001b[39m df_ROS_forpatient_dropna[\u001b[38;5;124m'\u001b[39m\u001b[38;5;124m연령\u001b[39m\u001b[38;5;124m'\u001b[39m]\u001b[38;5;241m.\u001b[39mapply(dif)\n",
      "File \u001b[1;32m~\\anaconda3\\Lib\\site-packages\\pandas\\core\\frame.py:3970\u001b[0m, in \u001b[0;36mDataFrame.__setitem__\u001b[1;34m(self, key, value)\u001b[0m\n\u001b[0;32m   3968\u001b[0m     \u001b[38;5;28mself\u001b[39m\u001b[38;5;241m.\u001b[39m_setitem_array(key, value)\n\u001b[0;32m   3969\u001b[0m \u001b[38;5;28;01melif\u001b[39;00m \u001b[38;5;28misinstance\u001b[39m(value, DataFrame):\n\u001b[1;32m-> 3970\u001b[0m     \u001b[38;5;28mself\u001b[39m\u001b[38;5;241m.\u001b[39m_set_item_frame_value(key, value)\n\u001b[0;32m   3971\u001b[0m \u001b[38;5;28;01melif\u001b[39;00m (\n\u001b[0;32m   3972\u001b[0m     is_list_like(value)\n\u001b[0;32m   3973\u001b[0m     \u001b[38;5;129;01mand\u001b[39;00m \u001b[38;5;129;01mnot\u001b[39;00m \u001b[38;5;28mself\u001b[39m\u001b[38;5;241m.\u001b[39mcolumns\u001b[38;5;241m.\u001b[39mis_unique\n\u001b[0;32m   3974\u001b[0m     \u001b[38;5;129;01mand\u001b[39;00m \u001b[38;5;241m1\u001b[39m \u001b[38;5;241m<\u001b[39m \u001b[38;5;28mlen\u001b[39m(\u001b[38;5;28mself\u001b[39m\u001b[38;5;241m.\u001b[39mcolumns\u001b[38;5;241m.\u001b[39mget_indexer_for([key])) \u001b[38;5;241m==\u001b[39m \u001b[38;5;28mlen\u001b[39m(value)\n\u001b[0;32m   3975\u001b[0m ):\n\u001b[0;32m   3976\u001b[0m     \u001b[38;5;66;03m# Column to set is duplicated\u001b[39;00m\n\u001b[0;32m   3977\u001b[0m     \u001b[38;5;28mself\u001b[39m\u001b[38;5;241m.\u001b[39m_setitem_array([key], value)\n",
      "File \u001b[1;32m~\\anaconda3\\Lib\\site-packages\\pandas\\core\\frame.py:4125\u001b[0m, in \u001b[0;36mDataFrame._set_item_frame_value\u001b[1;34m(self, key, value)\u001b[0m\n\u001b[0;32m   4122\u001b[0m     \u001b[38;5;28;01mreturn\u001b[39;00m\n\u001b[0;32m   4124\u001b[0m \u001b[38;5;28;01mif\u001b[39;00m \u001b[38;5;28mlen\u001b[39m(value\u001b[38;5;241m.\u001b[39mcolumns) \u001b[38;5;241m!=\u001b[39m \u001b[38;5;241m1\u001b[39m:\n\u001b[1;32m-> 4125\u001b[0m     \u001b[38;5;28;01mraise\u001b[39;00m \u001b[38;5;167;01mValueError\u001b[39;00m(\n\u001b[0;32m   4126\u001b[0m         \u001b[38;5;124m\"\u001b[39m\u001b[38;5;124mCannot set a DataFrame with multiple columns to the single \u001b[39m\u001b[38;5;124m\"\u001b[39m\n\u001b[0;32m   4127\u001b[0m         \u001b[38;5;124mf\u001b[39m\u001b[38;5;124m\"\u001b[39m\u001b[38;5;124mcolumn \u001b[39m\u001b[38;5;132;01m{\u001b[39;00mkey\u001b[38;5;132;01m}\u001b[39;00m\u001b[38;5;124m\"\u001b[39m\n\u001b[0;32m   4128\u001b[0m     )\n\u001b[0;32m   4130\u001b[0m \u001b[38;5;28mself\u001b[39m[key] \u001b[38;5;241m=\u001b[39m value[value\u001b[38;5;241m.\u001b[39mcolumns[\u001b[38;5;241m0\u001b[39m]]\n",
      "\u001b[1;31mValueError\u001b[0m: Cannot set a DataFrame with multiple columns to the single column age_dif"
     ]
    }
   ],
   "source": [
    "df_ROS_forpatient_dropna['age_dif'] = df_ROS_forpatient_dropna['연령'].apply(dif)"
   ]
  },
  {
   "cell_type": "code",
   "execution_count": 107,
   "id": "a08b0c3c-6fbb-417c-b510-cfa243f7da73",
   "metadata": {
    "tags": []
   },
   "outputs": [
    {
     "data": {
      "text/html": [
       "<div>\n",
       "<style scoped>\n",
       "    .dataframe tbody tr th:only-of-type {\n",
       "        vertical-align: middle;\n",
       "    }\n",
       "\n",
       "    .dataframe tbody tr th {\n",
       "        vertical-align: top;\n",
       "    }\n",
       "\n",
       "    .dataframe thead th {\n",
       "        text-align: right;\n",
       "    }\n",
       "</style>\n",
       "<table border=\"1\" class=\"dataframe\">\n",
       "  <thead>\n",
       "    <tr style=\"text-align: right;\">\n",
       "      <th></th>\n",
       "      <th>성별</th>\n",
       "      <th>신장</th>\n",
       "      <th>심혈관질환</th>\n",
       "      <th>체중</th>\n",
       "      <th>흡연여부</th>\n",
       "      <th>연령</th>\n",
       "      <th>직업</th>\n",
       "      <th>혈액형</th>\n",
       "      <th>재발여부</th>\n",
       "    </tr>\n",
       "  </thead>\n",
       "  <tbody>\n",
       "    <tr>\n",
       "      <th>0</th>\n",
       "      <td>2</td>\n",
       "      <td>163</td>\n",
       "      <td>0</td>\n",
       "      <td>60.3</td>\n",
       "      <td>0</td>\n",
       "      <td>66</td>\n",
       "      <td>자영업</td>\n",
       "      <td>RH+A</td>\n",
       "      <td>0</td>\n",
       "    </tr>\n",
       "    <tr>\n",
       "      <th>1</th>\n",
       "      <td>1</td>\n",
       "      <td>171</td>\n",
       "      <td>0</td>\n",
       "      <td>71.7</td>\n",
       "      <td>0</td>\n",
       "      <td>47</td>\n",
       "      <td>운동선수</td>\n",
       "      <td>RH+A</td>\n",
       "      <td>0</td>\n",
       "    </tr>\n",
       "    <tr>\n",
       "      <th>2</th>\n",
       "      <td>1</td>\n",
       "      <td>178</td>\n",
       "      <td>0</td>\n",
       "      <td>77.1</td>\n",
       "      <td>0</td>\n",
       "      <td>39</td>\n",
       "      <td>특수전문직</td>\n",
       "      <td>RH+B</td>\n",
       "      <td>0</td>\n",
       "    </tr>\n",
       "    <tr>\n",
       "      <th>3</th>\n",
       "      <td>1</td>\n",
       "      <td>174</td>\n",
       "      <td>0</td>\n",
       "      <td>74.2</td>\n",
       "      <td>0</td>\n",
       "      <td>40</td>\n",
       "      <td>주부</td>\n",
       "      <td>RH+O</td>\n",
       "      <td>0</td>\n",
       "    </tr>\n",
       "    <tr>\n",
       "      <th>4</th>\n",
       "      <td>1</td>\n",
       "      <td>183</td>\n",
       "      <td>0</td>\n",
       "      <td>80.7</td>\n",
       "      <td>0</td>\n",
       "      <td>42</td>\n",
       "      <td>특수전문직</td>\n",
       "      <td>RH+A</td>\n",
       "      <td>0</td>\n",
       "    </tr>\n",
       "    <tr>\n",
       "      <th>...</th>\n",
       "      <td>...</td>\n",
       "      <td>...</td>\n",
       "      <td>...</td>\n",
       "      <td>...</td>\n",
       "      <td>...</td>\n",
       "      <td>...</td>\n",
       "      <td>...</td>\n",
       "      <td>...</td>\n",
       "      <td>...</td>\n",
       "    </tr>\n",
       "    <tr>\n",
       "      <th>1889</th>\n",
       "      <td>2</td>\n",
       "      <td>157</td>\n",
       "      <td>0</td>\n",
       "      <td>64.0</td>\n",
       "      <td>0</td>\n",
       "      <td>59</td>\n",
       "      <td>무직</td>\n",
       "      <td>RH+A</td>\n",
       "      <td>0</td>\n",
       "    </tr>\n",
       "    <tr>\n",
       "      <th>1890</th>\n",
       "      <td>2</td>\n",
       "      <td>157</td>\n",
       "      <td>0</td>\n",
       "      <td>59.0</td>\n",
       "      <td>0</td>\n",
       "      <td>42</td>\n",
       "      <td>사무직</td>\n",
       "      <td>RH+B</td>\n",
       "      <td>0</td>\n",
       "    </tr>\n",
       "    <tr>\n",
       "      <th>1891</th>\n",
       "      <td>1</td>\n",
       "      <td>167</td>\n",
       "      <td>0</td>\n",
       "      <td>70.0</td>\n",
       "      <td>0</td>\n",
       "      <td>61</td>\n",
       "      <td>무직</td>\n",
       "      <td>RH+O</td>\n",
       "      <td>0</td>\n",
       "    </tr>\n",
       "    <tr>\n",
       "      <th>1892</th>\n",
       "      <td>1</td>\n",
       "      <td>177</td>\n",
       "      <td>0</td>\n",
       "      <td>77.0</td>\n",
       "      <td>0</td>\n",
       "      <td>29</td>\n",
       "      <td>사무직</td>\n",
       "      <td>RH+A</td>\n",
       "      <td>0</td>\n",
       "    </tr>\n",
       "    <tr>\n",
       "      <th>1893</th>\n",
       "      <td>2</td>\n",
       "      <td>168</td>\n",
       "      <td>0</td>\n",
       "      <td>49.0</td>\n",
       "      <td>0</td>\n",
       "      <td>30</td>\n",
       "      <td>사무직</td>\n",
       "      <td>RH+AB</td>\n",
       "      <td>0</td>\n",
       "    </tr>\n",
       "  </tbody>\n",
       "</table>\n",
       "<p>1479 rows × 9 columns</p>\n",
       "</div>"
      ],
      "text/plain": [
       "      성별   신장  심혈관질환    체중  흡연여부  연령     직업    혈액형  재발여부\n",
       "0      2  163      0  60.3     0  66    자영업   RH+A     0\n",
       "1      1  171      0  71.7     0  47   운동선수   RH+A     0\n",
       "2      1  178      0  77.1     0  39  특수전문직   RH+B     0\n",
       "3      1  174      0  74.2     0  40     주부   RH+O     0\n",
       "4      1  183      0  80.7     0  42  특수전문직   RH+A     0\n",
       "...   ..  ...    ...   ...   ...  ..    ...    ...   ...\n",
       "1889   2  157      0  64.0     0  59     무직   RH+A     0\n",
       "1890   2  157      0  59.0     0  42    사무직   RH+B     0\n",
       "1891   1  167      0  70.0     0  61     무직   RH+O     0\n",
       "1892   1  177      0  77.0     0  29    사무직   RH+A     0\n",
       "1893   2  168      0  49.0     0  30    사무직  RH+AB     0\n",
       "\n",
       "[1479 rows x 9 columns]"
      ]
     },
     "execution_count": 107,
     "metadata": {},
     "output_type": "execute_result"
    }
   ],
   "source": [
    "df_ROS_forpatient_dropna"
   ]
  },
  {
   "cell_type": "code",
   "execution_count": null,
   "id": "cf8241d7-3303-4f9c-b769-fc53ccd710d3",
   "metadata": {},
   "outputs": [],
   "source": []
  }
 ],
 "metadata": {
  "kernelspec": {
   "display_name": "Python 3 (ipykernel)",
   "language": "python",
   "name": "python3"
  },
  "language_info": {
   "codemirror_mode": {
    "name": "ipython",
    "version": 3
   },
   "file_extension": ".py",
   "mimetype": "text/x-python",
   "name": "python",
   "nbconvert_exporter": "python",
   "pygments_lexer": "ipython3",
   "version": "3.11.3"
  }
 },
 "nbformat": 4,
 "nbformat_minor": 5
}
