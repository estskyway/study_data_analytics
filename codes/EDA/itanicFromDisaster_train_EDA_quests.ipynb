{
 "cells": [
  {
   "cell_type": "code",
   "execution_count": 1,
   "id": "81e4f28f-b4ba-4701-b145-2e712e1d6e96",
   "metadata": {
    "tags": []
   },
   "outputs": [],
   "source": [
    "import numpy as np\n",
    "import pandas as pd\n",
    "import matplotlib.pyplot as plt\n",
    "import matplotlib as mpl\n",
    "mpl.rc('font',family='Malgun Gothic')\n",
    "mpl.rcParams['axes.unicode_minus'] = False\n",
    "import seaborn as sns"
   ]
  },
  {
   "cell_type": "code",
   "execution_count": 2,
   "id": "fd12d2ab-7aa2-444e-b9b1-e8f7da6d8d3f",
   "metadata": {
    "tags": []
   },
   "outputs": [
    {
     "data": {
      "text/html": [
       "<div>\n",
       "<style scoped>\n",
       "    .dataframe tbody tr th:only-of-type {\n",
       "        vertical-align: middle;\n",
       "    }\n",
       "\n",
       "    .dataframe tbody tr th {\n",
       "        vertical-align: top;\n",
       "    }\n",
       "\n",
       "    .dataframe thead th {\n",
       "        text-align: right;\n",
       "    }\n",
       "</style>\n",
       "<table border=\"1\" class=\"dataframe\">\n",
       "  <thead>\n",
       "    <tr style=\"text-align: right;\">\n",
       "      <th></th>\n",
       "      <th>PassengerId</th>\n",
       "      <th>Survived</th>\n",
       "      <th>Pclass</th>\n",
       "      <th>Name</th>\n",
       "      <th>Sex</th>\n",
       "      <th>Age</th>\n",
       "      <th>SibSp</th>\n",
       "      <th>Parch</th>\n",
       "      <th>Ticket</th>\n",
       "      <th>Fare</th>\n",
       "      <th>Cabin</th>\n",
       "      <th>Embarked</th>\n",
       "    </tr>\n",
       "  </thead>\n",
       "  <tbody>\n",
       "    <tr>\n",
       "      <th>0</th>\n",
       "      <td>1</td>\n",
       "      <td>0</td>\n",
       "      <td>3</td>\n",
       "      <td>Braund, Mr. Owen Harris</td>\n",
       "      <td>male</td>\n",
       "      <td>22.0</td>\n",
       "      <td>1</td>\n",
       "      <td>0</td>\n",
       "      <td>A/5 21171</td>\n",
       "      <td>7.2500</td>\n",
       "      <td>NaN</td>\n",
       "      <td>S</td>\n",
       "    </tr>\n",
       "    <tr>\n",
       "      <th>1</th>\n",
       "      <td>2</td>\n",
       "      <td>1</td>\n",
       "      <td>1</td>\n",
       "      <td>Cumings, Mrs. John Bradley (Florence Briggs Th...</td>\n",
       "      <td>female</td>\n",
       "      <td>38.0</td>\n",
       "      <td>1</td>\n",
       "      <td>0</td>\n",
       "      <td>PC 17599</td>\n",
       "      <td>71.2833</td>\n",
       "      <td>C85</td>\n",
       "      <td>C</td>\n",
       "    </tr>\n",
       "    <tr>\n",
       "      <th>2</th>\n",
       "      <td>3</td>\n",
       "      <td>1</td>\n",
       "      <td>3</td>\n",
       "      <td>Heikkinen, Miss. Laina</td>\n",
       "      <td>female</td>\n",
       "      <td>26.0</td>\n",
       "      <td>0</td>\n",
       "      <td>0</td>\n",
       "      <td>STON/O2. 3101282</td>\n",
       "      <td>7.9250</td>\n",
       "      <td>NaN</td>\n",
       "      <td>S</td>\n",
       "    </tr>\n",
       "    <tr>\n",
       "      <th>3</th>\n",
       "      <td>4</td>\n",
       "      <td>1</td>\n",
       "      <td>1</td>\n",
       "      <td>Futrelle, Mrs. Jacques Heath (Lily May Peel)</td>\n",
       "      <td>female</td>\n",
       "      <td>35.0</td>\n",
       "      <td>1</td>\n",
       "      <td>0</td>\n",
       "      <td>113803</td>\n",
       "      <td>53.1000</td>\n",
       "      <td>C123</td>\n",
       "      <td>S</td>\n",
       "    </tr>\n",
       "    <tr>\n",
       "      <th>4</th>\n",
       "      <td>5</td>\n",
       "      <td>0</td>\n",
       "      <td>3</td>\n",
       "      <td>Allen, Mr. William Henry</td>\n",
       "      <td>male</td>\n",
       "      <td>35.0</td>\n",
       "      <td>0</td>\n",
       "      <td>0</td>\n",
       "      <td>373450</td>\n",
       "      <td>8.0500</td>\n",
       "      <td>NaN</td>\n",
       "      <td>S</td>\n",
       "    </tr>\n",
       "  </tbody>\n",
       "</table>\n",
       "</div>"
      ],
      "text/plain": [
       "   PassengerId  Survived  Pclass  \\\n",
       "0            1         0       3   \n",
       "1            2         1       1   \n",
       "2            3         1       3   \n",
       "3            4         1       1   \n",
       "4            5         0       3   \n",
       "\n",
       "                                                Name     Sex   Age  SibSp  \\\n",
       "0                            Braund, Mr. Owen Harris    male  22.0      1   \n",
       "1  Cumings, Mrs. John Bradley (Florence Briggs Th...  female  38.0      1   \n",
       "2                             Heikkinen, Miss. Laina  female  26.0      0   \n",
       "3       Futrelle, Mrs. Jacques Heath (Lily May Peel)  female  35.0      1   \n",
       "4                           Allen, Mr. William Henry    male  35.0      0   \n",
       "\n",
       "   Parch            Ticket     Fare Cabin Embarked  \n",
       "0      0         A/5 21171   7.2500   NaN        S  \n",
       "1      0          PC 17599  71.2833   C85        C  \n",
       "2      0  STON/O2. 3101282   7.9250   NaN        S  \n",
       "3      0            113803  53.1000  C123        S  \n",
       "4      0            373450   8.0500   NaN        S  "
      ]
     },
     "execution_count": 2,
     "metadata": {},
     "output_type": "execute_result"
    }
   ],
   "source": [
    "df_TFD = pd.read_csv('../../datasets/TitanicFromDIsaster_train.csv')\n",
    "df_TFD.head(5)"
   ]
  },
  {
   "cell_type": "code",
   "execution_count": 3,
   "id": "80fd6b6d-9d6b-4276-9ba0-909cf9f2f9c2",
   "metadata": {
    "tags": []
   },
   "outputs": [
    {
     "name": "stdout",
     "output_type": "stream",
     "text": [
      "<class 'pandas.core.frame.DataFrame'>\n",
      "RangeIndex: 891 entries, 0 to 890\n",
      "Data columns (total 12 columns):\n",
      " #   Column       Non-Null Count  Dtype  \n",
      "---  ------       --------------  -----  \n",
      " 0   PassengerId  891 non-null    int64  \n",
      " 1   Survived     891 non-null    int64  \n",
      " 2   Pclass       891 non-null    int64  \n",
      " 3   Name         891 non-null    object \n",
      " 4   Sex          891 non-null    object \n",
      " 5   Age          714 non-null    float64\n",
      " 6   SibSp        891 non-null    int64  \n",
      " 7   Parch        891 non-null    int64  \n",
      " 8   Ticket       891 non-null    object \n",
      " 9   Fare         891 non-null    float64\n",
      " 10  Cabin        204 non-null    object \n",
      " 11  Embarked     889 non-null    object \n",
      "dtypes: float64(2), int64(5), object(5)\n",
      "memory usage: 83.7+ KB\n"
     ]
    }
   ],
   "source": [
    "df_TFD.info()"
   ]
  },
  {
   "cell_type": "code",
   "execution_count": 4,
   "id": "442c8d2a-8f9a-4922-a55a-cf63ace59b53",
   "metadata": {
    "tags": []
   },
   "outputs": [
    {
     "data": {
      "text/html": [
       "<div>\n",
       "<style scoped>\n",
       "    .dataframe tbody tr th:only-of-type {\n",
       "        vertical-align: middle;\n",
       "    }\n",
       "\n",
       "    .dataframe tbody tr th {\n",
       "        vertical-align: top;\n",
       "    }\n",
       "\n",
       "    .dataframe thead th {\n",
       "        text-align: right;\n",
       "    }\n",
       "</style>\n",
       "<table border=\"1\" class=\"dataframe\">\n",
       "  <thead>\n",
       "    <tr style=\"text-align: right;\">\n",
       "      <th></th>\n",
       "      <th>Survived</th>\n",
       "      <th>Pclass</th>\n",
       "      <th>Sex</th>\n",
       "      <th>Age</th>\n",
       "      <th>SibSp</th>\n",
       "      <th>Parch</th>\n",
       "      <th>Fare</th>\n",
       "      <th>Embarked</th>\n",
       "    </tr>\n",
       "  </thead>\n",
       "  <tbody>\n",
       "    <tr>\n",
       "      <th>0</th>\n",
       "      <td>0</td>\n",
       "      <td>3</td>\n",
       "      <td>male</td>\n",
       "      <td>22.0</td>\n",
       "      <td>1</td>\n",
       "      <td>0</td>\n",
       "      <td>7.2500</td>\n",
       "      <td>S</td>\n",
       "    </tr>\n",
       "    <tr>\n",
       "      <th>1</th>\n",
       "      <td>1</td>\n",
       "      <td>1</td>\n",
       "      <td>female</td>\n",
       "      <td>38.0</td>\n",
       "      <td>1</td>\n",
       "      <td>0</td>\n",
       "      <td>71.2833</td>\n",
       "      <td>C</td>\n",
       "    </tr>\n",
       "    <tr>\n",
       "      <th>2</th>\n",
       "      <td>1</td>\n",
       "      <td>3</td>\n",
       "      <td>female</td>\n",
       "      <td>26.0</td>\n",
       "      <td>0</td>\n",
       "      <td>0</td>\n",
       "      <td>7.9250</td>\n",
       "      <td>S</td>\n",
       "    </tr>\n",
       "    <tr>\n",
       "      <th>3</th>\n",
       "      <td>1</td>\n",
       "      <td>1</td>\n",
       "      <td>female</td>\n",
       "      <td>35.0</td>\n",
       "      <td>1</td>\n",
       "      <td>0</td>\n",
       "      <td>53.1000</td>\n",
       "      <td>S</td>\n",
       "    </tr>\n",
       "    <tr>\n",
       "      <th>4</th>\n",
       "      <td>0</td>\n",
       "      <td>3</td>\n",
       "      <td>male</td>\n",
       "      <td>35.0</td>\n",
       "      <td>0</td>\n",
       "      <td>0</td>\n",
       "      <td>8.0500</td>\n",
       "      <td>S</td>\n",
       "    </tr>\n",
       "    <tr>\n",
       "      <th>...</th>\n",
       "      <td>...</td>\n",
       "      <td>...</td>\n",
       "      <td>...</td>\n",
       "      <td>...</td>\n",
       "      <td>...</td>\n",
       "      <td>...</td>\n",
       "      <td>...</td>\n",
       "      <td>...</td>\n",
       "    </tr>\n",
       "    <tr>\n",
       "      <th>886</th>\n",
       "      <td>0</td>\n",
       "      <td>2</td>\n",
       "      <td>male</td>\n",
       "      <td>27.0</td>\n",
       "      <td>0</td>\n",
       "      <td>0</td>\n",
       "      <td>13.0000</td>\n",
       "      <td>S</td>\n",
       "    </tr>\n",
       "    <tr>\n",
       "      <th>887</th>\n",
       "      <td>1</td>\n",
       "      <td>1</td>\n",
       "      <td>female</td>\n",
       "      <td>19.0</td>\n",
       "      <td>0</td>\n",
       "      <td>0</td>\n",
       "      <td>30.0000</td>\n",
       "      <td>S</td>\n",
       "    </tr>\n",
       "    <tr>\n",
       "      <th>888</th>\n",
       "      <td>0</td>\n",
       "      <td>3</td>\n",
       "      <td>female</td>\n",
       "      <td>NaN</td>\n",
       "      <td>1</td>\n",
       "      <td>2</td>\n",
       "      <td>23.4500</td>\n",
       "      <td>S</td>\n",
       "    </tr>\n",
       "    <tr>\n",
       "      <th>889</th>\n",
       "      <td>1</td>\n",
       "      <td>1</td>\n",
       "      <td>male</td>\n",
       "      <td>26.0</td>\n",
       "      <td>0</td>\n",
       "      <td>0</td>\n",
       "      <td>30.0000</td>\n",
       "      <td>C</td>\n",
       "    </tr>\n",
       "    <tr>\n",
       "      <th>890</th>\n",
       "      <td>0</td>\n",
       "      <td>3</td>\n",
       "      <td>male</td>\n",
       "      <td>32.0</td>\n",
       "      <td>0</td>\n",
       "      <td>0</td>\n",
       "      <td>7.7500</td>\n",
       "      <td>Q</td>\n",
       "    </tr>\n",
       "  </tbody>\n",
       "</table>\n",
       "<p>891 rows × 8 columns</p>\n",
       "</div>"
      ],
      "text/plain": [
       "     Survived  Pclass     Sex   Age  SibSp  Parch     Fare Embarked\n",
       "0           0       3    male  22.0      1      0   7.2500        S\n",
       "1           1       1  female  38.0      1      0  71.2833        C\n",
       "2           1       3  female  26.0      0      0   7.9250        S\n",
       "3           1       1  female  35.0      1      0  53.1000        S\n",
       "4           0       3    male  35.0      0      0   8.0500        S\n",
       "..        ...     ...     ...   ...    ...    ...      ...      ...\n",
       "886         0       2    male  27.0      0      0  13.0000        S\n",
       "887         1       1  female  19.0      0      0  30.0000        S\n",
       "888         0       3  female   NaN      1      2  23.4500        S\n",
       "889         1       1    male  26.0      0      0  30.0000        C\n",
       "890         0       3    male  32.0      0      0   7.7500        Q\n",
       "\n",
       "[891 rows x 8 columns]"
      ]
     },
     "execution_count": 4,
     "metadata": {},
     "output_type": "execute_result"
    }
   ],
   "source": [
    "df_TFD_rel = df_TFD[['Survived', 'Pclass', 'Sex', 'Age', 'SibSp', 'Parch', 'Fare', 'Embarked']]\n",
    "df_TFD_rel"
   ]
  },
  {
   "cell_type": "code",
   "execution_count": 5,
   "id": "67be700a-fa45-4758-a822-a87aad029412",
   "metadata": {
    "tags": []
   },
   "outputs": [
    {
     "name": "stdout",
     "output_type": "stream",
     "text": [
      "<class 'pandas.core.frame.DataFrame'>\n",
      "RangeIndex: 891 entries, 0 to 890\n",
      "Data columns (total 8 columns):\n",
      " #   Column    Non-Null Count  Dtype  \n",
      "---  ------    --------------  -----  \n",
      " 0   Survived  891 non-null    int64  \n",
      " 1   Pclass    891 non-null    int64  \n",
      " 2   Sex       891 non-null    object \n",
      " 3   Age       714 non-null    float64\n",
      " 4   SibSp     891 non-null    int64  \n",
      " 5   Parch     891 non-null    int64  \n",
      " 6   Fare      891 non-null    float64\n",
      " 7   Embarked  889 non-null    object \n",
      "dtypes: float64(2), int64(4), object(2)\n",
      "memory usage: 55.8+ KB\n"
     ]
    }
   ],
   "source": [
    "df_TFD_rel.info()"
   ]
  },
  {
   "cell_type": "code",
   "execution_count": 6,
   "id": "bcb639b7-dd55-4f0b-9933-8231d3550978",
   "metadata": {
    "tags": []
   },
   "outputs": [
    {
     "data": {
      "text/plain": [
       "Survived    0\n",
       "Pclass      0\n",
       "Sex         0\n",
       "Age         0\n",
       "SibSp       0\n",
       "Parch       0\n",
       "Fare        0\n",
       "Embarked    0\n",
       "dtype: int64"
      ]
     },
     "execution_count": 6,
     "metadata": {},
     "output_type": "execute_result"
    }
   ],
   "source": [
    "# df_TFD_rel.isnull().sum()\n",
    "df_TFD_rel = df_TFD_rel.dropna()\n",
    "df_TFD_rel.isnull().sum()"
   ]
  },
  {
   "cell_type": "markdown",
   "id": "67bca6a0-c877-4f6e-88f0-7687e725abfd",
   "metadata": {},
   "source": [
    "# quest (EDA/itanicFromDisaster_train_EDA.ipynb)\n",
    "- 분석 스토리 작성\n",
    "- dataset : TitanicFromDIsaster_train.csv\n",
    "- DDA, EDA 진행\n",
    "- 설명변수는 연속형, 범주형 섞어서 7개 이상"
   ]
  },
  {
   "cell_type": "markdown",
   "id": "b5c98920-9536-4c16-af93-90a7b1668c6d",
   "metadata": {},
   "source": [
    "## 상관관계 확인\n",
    "- 목표변수 : 'Survived'\n",
    "- 설명변수 : \n",
    "    - 'Pclass'(객실등급) : 1등급객실이 다른 등급 객실에 비해 생존률이 높음.\n",
    "    - 'Sex'(성별) : 남성보다 여성의 생존률이 비교적 높음.\n",
    "    - 'Age'(나이) : 젊은 연령이 나이 많은 연령에 비해 생존률이 높음.\n",
    "    - 'SibSp'(형제와배우자) : 한명이하의 형제와배우자가 다수의 형재와배우자보다 생존률과 사망률이 높음. \n",
    "    - 'Parch'(자식과부모) : 애매한 차이지만 자식과 부모가 적을수록 생존률이 비교적 높은것 같음.\n",
    "    - 'Fare'(요금) : 요금20 을 기준으로 이상 지불한 사람의 생존률이 높음.\n",
    "    - 'Embarked'(탑승위치) : C라는 곳의 탑승객이 생존률이 비교적 가장 높았음.\n",
    "- 분석 스토리 : \n",
    "    - 'SibSp'(형제와배우자)와 'Parch'(자식과부모)는 사람수별로 전체적인 숫자가 고르지 않기 때문에 사람이 적을수록 생존에 유리하다고 분석하기 어려움.\n",
    "    - 'Fare'(요금)에서는 요금 30 이상의 자료가 부족하므로 지불을 많이 할수록 유리하다고 판단하기 어려움. 하지만 가격과 'Pclass'(객실등급)과 관계가 있을 것 같으므로 두 변수간에 상관관계를 파악후 추가 분석이 필요함.\n",
    "    - 탑승위치와 객실등급은 배의 객실위치라는 공통점이 있기 때문에 배의 구조를 먼저 봐야하겠지만 1등급과 탑승위치 C 라는 곳이 생존확률이 가장높았음. 이 자료를 토대로 배의 가장 안전한 지역을 판단할수 있을 것으로 판단됨.\n",
    "    - 여성이 생존률이 높았고 젊은 연령이 생존률이 높았기 때문에 이것에 대한 이유를 파악할수 있으면 좋은 아이디어를 만들수 있을것으로 판단됨."
   ]
  },
  {
   "cell_type": "code",
   "execution_count": 7,
   "id": "8e616812-30d8-49cd-a93e-6e35d7c64e58",
   "metadata": {
    "tags": []
   },
   "outputs": [
    {
     "data": {
      "text/plain": [
       "<Axes: xlabel='Survived', ylabel='count'>"
      ]
     },
     "execution_count": 7,
     "metadata": {},
     "output_type": "execute_result"
    },
    {
     "data": {
      "image/png": "[encoded data removed]",
      "text/plain": [
       "<Figure size 640x480 with 1 Axes>"
      ]
     },
     "metadata": {},
     "output_type": "display_data"
    }
   ],
   "source": [
    "sns.countplot(data=df_TFD_rel, x='Survived')"
   ]
  },
  {
   "cell_type": "code",
   "execution_count": 8,
   "id": "fb16b72c-68cc-4340-b76e-4fd561009f41",
   "metadata": {
    "tags": []
   },
   "outputs": [
    {
     "name": "stdout",
     "output_type": "stream",
     "text": [
      "<class 'pandas.core.frame.DataFrame'>\n",
      "Int64Index: 712 entries, 0 to 890\n",
      "Data columns (total 8 columns):\n",
      " #   Column    Non-Null Count  Dtype  \n",
      "---  ------    --------------  -----  \n",
      " 0   Survived  712 non-null    object \n",
      " 1   Pclass    712 non-null    int64  \n",
      " 2   Sex       712 non-null    object \n",
      " 3   Age       712 non-null    float64\n",
      " 4   SibSp     712 non-null    int64  \n",
      " 5   Parch     712 non-null    int64  \n",
      " 6   Fare      712 non-null    float64\n",
      " 7   Embarked  712 non-null    object \n",
      "dtypes: float64(2), int64(3), object(3)\n",
      "memory usage: 50.1+ KB\n"
     ]
    },
    {
     "name": "stderr",
     "output_type": "stream",
     "text": [
      "C:\\Users\\01-02\\AppData\\Local\\Temp\\ipykernel_10800\\1633233792.py:2: SettingWithCopyWarning: \n",
      "A value is trying to be set on a copy of a slice from a DataFrame.\n",
      "Try using .loc[row_indexer,col_indexer] = value instead\n",
      "\n",
      "See the caveats in the documentation: https://pandas.pydata.org/pandas-docs/stable/user_guide/indexing.html#returning-a-view-versus-a-copy\n",
      "  df_TFD_rel[['Survived']] = df_TFD_rel[['Survived']].astype(object)\n"
     ]
    }
   ],
   "source": [
    "# df_TFD_rel.describe()\n",
    "df_TFD_rel[['Survived']] = df_TFD_rel[['Survived']].astype(object)\n",
    "df_TFD_rel.info()"
   ]
  },
  {
   "cell_type": "markdown",
   "id": "61c4911c-efea-4b20-8505-274836ef91b1",
   "metadata": {},
   "source": [
    "### x:연속형/ y:범주형"
   ]
  },
  {
   "cell_type": "code",
   "execution_count": 9,
   "id": "0f379e08-d930-446f-a490-716dbb5a9f9f",
   "metadata": {
    "tags": []
   },
   "outputs": [
    {
     "data": {
      "text/plain": [
       "['Pclass', 'Age', 'SibSp', 'Parch', 'Fare']"
      ]
     },
     "execution_count": 9,
     "metadata": {},
     "output_type": "execute_result"
    }
   ],
   "source": [
    "forrel_list = df_TFD_rel.describe().columns.to_list()\n",
    "forrel_list"
   ]
  },
  {
   "cell_type": "code",
   "execution_count": 10,
   "id": "d4ad7eae-cba1-4aa8-8f72-4d85a3551513",
   "metadata": {
    "tags": []
   },
   "outputs": [
    {
     "data": {
      "image/png": "[encoded data removed]",
      "text/plain": [
       "<Figure size 640x480 with 1 Axes>"
      ]
     },
     "metadata": {},
     "output_type": "display_data"
    },
    {
     "data": {
      "image/png": "[encoded data removed]",
      "text/plain": [
       "<Figure size 640x480 with 1 Axes>"
      ]
     },
     "metadata": {},
     "output_type": "display_data"
    },
    {
     "data": {
      "image/png": "[encoded data removed]",
      "text/plain": [
       "<Figure size 640x480 with 1 Axes>"
      ]
     },
     "metadata": {},
     "output_type": "display_data"
    },
    {
     "data": {
      "image/png": "[encoded data removed]",
      "text/plain": [
       "<Figure size 640x480 with 1 Axes>"
      ]
     },
     "metadata": {},
     "output_type": "display_data"
    },
    {
     "data": {
      "image/png": "[encoded data removed]",
      "text/plain": [
       "<Figure size 640x480 with 1 Axes>"
      ]
     },
     "metadata": {},
     "output_type": "display_data"
    }
   ],
   "source": [
    "for item in forrel_list :\n",
    "    sns.boxplot(data=df_TFD_rel, x=item, y='Survived', orient='h')\n",
    "    plt.show()"
   ]
  },
  {
   "cell_type": "markdown",
   "id": "4f716556-e8b4-4282-ab35-595e1ffada21",
   "metadata": {
    "jp-MarkdownHeadingCollapsed": true,
    "tags": []
   },
   "source": [
    "#### Age 이상치"
   ]
  },
  {
   "cell_type": "code",
   "execution_count": 11,
   "id": "34148c0e-7b60-4d01-aa5c-845b0a4cb4c1",
   "metadata": {
    "tags": []
   },
   "outputs": [
    {
     "data": {
      "text/plain": [
       "(20.0, 38.0, 18.0)"
      ]
     },
     "execution_count": 11,
     "metadata": {},
     "output_type": "execute_result"
    }
   ],
   "source": [
    "Q1 = df_TFD_rel['Age'].describe()['25%']\n",
    "Q3 = df_TFD_rel['Age'].describe()['75%']\n",
    "IQR = Q3 - Q1\n",
    "Q1, Q3, IQR "
   ]
  },
  {
   "cell_type": "code",
   "execution_count": 12,
   "id": "7905bfce-1bb8-494e-ae6b-cf2d412ba758",
   "metadata": {
    "tags": []
   },
   "outputs": [
    {
     "data": {
      "text/plain": [
       "(-7.0, 65.0)"
      ]
     },
     "execution_count": 12,
     "metadata": {},
     "output_type": "execute_result"
    }
   ],
   "source": [
    "bound_up = Q3 + 1.5 * IQR\n",
    "bound_low = Q1 - 1.5 * IQR\n",
    "bound_low, bound_up "
   ]
  },
  {
   "cell_type": "code",
   "execution_count": 13,
   "id": "46ee5126-b0b3-4687-9c85-c493087b1f67",
   "metadata": {
    "tags": []
   },
   "outputs": [
    {
     "data": {
      "text/plain": [
       "0      True\n",
       "1      True\n",
       "2      True\n",
       "3      True\n",
       "4      True\n",
       "       ... \n",
       "885    True\n",
       "886    True\n",
       "887    True\n",
       "889    True\n",
       "890    True\n",
       "Name: Age, Length: 712, dtype: bool"
      ]
     },
     "execution_count": 13,
     "metadata": {},
     "output_type": "execute_result"
    }
   ],
   "source": [
    "condition = (df_TFD_rel['Age'] <= bound_up) \n",
    "condition"
   ]
  },
  {
   "cell_type": "code",
   "execution_count": 14,
   "id": "65cfa163-56cb-4dbf-854a-8ffacc7448d7",
   "metadata": {
    "tags": []
   },
   "outputs": [],
   "source": [
    "df_TFD_rel_condittion = df_TFD_rel.loc[condition]"
   ]
  },
  {
   "cell_type": "code",
   "execution_count": 15,
   "id": "966f648e-cd11-4b4e-b972-69da7acff991",
   "metadata": {
    "tags": []
   },
   "outputs": [
    {
     "data": {
      "text/plain": [
       "<Axes: xlabel='Age', ylabel='Survived'>"
      ]
     },
     "execution_count": 15,
     "metadata": {},
     "output_type": "execute_result"
    },
    {
     "data": {
      "image/png": "[encoded data removed]",
      "text/plain": [
       "<Figure size 640x480 with 1 Axes>"
      ]
     },
     "metadata": {},
     "output_type": "display_data"
    }
   ],
   "source": [
    "sns.boxplot(data=df_TFD_rel_condittion, x='Age', y='Survived', orient='h')"
   ]
  },
  {
   "cell_type": "markdown",
   "id": "f9dafd2e-7d3a-4686-9c06-7b79a9cc0a3d",
   "metadata": {
    "tags": []
   },
   "source": [
    "#### SibSp 이상치"
   ]
  },
  {
   "cell_type": "code",
   "execution_count": 16,
   "id": "ccfbf710-1949-46c1-af1b-a444ea5aabfa",
   "metadata": {
    "tags": []
   },
   "outputs": [
    {
     "data": {
      "text/plain": [
       "(0.0, 1.0, 1.0)"
      ]
     },
     "execution_count": 16,
     "metadata": {},
     "output_type": "execute_result"
    }
   ],
   "source": [
    "Q1 = df_TFD_rel['SibSp'].describe()['25%']\n",
    "Q3 = df_TFD_rel['SibSp'].describe()['75%']\n",
    "IQR = Q3 - Q1\n",
    "Q1, Q3, IQR "
   ]
  },
  {
   "cell_type": "code",
   "execution_count": 17,
   "id": "ab1d4364-ad9f-44e1-a158-9973fb7da134",
   "metadata": {
    "tags": []
   },
   "outputs": [
    {
     "data": {
      "text/plain": [
       "(-1.5, 2.5)"
      ]
     },
     "execution_count": 17,
     "metadata": {},
     "output_type": "execute_result"
    }
   ],
   "source": [
    "bound_up = Q3 + 1.5 * IQR\n",
    "bound_low = Q1 - 1.5 * IQR\n",
    "bound_low, bound_up "
   ]
  },
  {
   "cell_type": "code",
   "execution_count": 18,
   "id": "5c2438ae-41a0-425b-8c38-dd9ee0976477",
   "metadata": {
    "tags": []
   },
   "outputs": [
    {
     "data": {
      "text/plain": [
       "0      True\n",
       "1      True\n",
       "2      True\n",
       "3      True\n",
       "4      True\n",
       "       ... \n",
       "885    True\n",
       "886    True\n",
       "887    True\n",
       "889    True\n",
       "890    True\n",
       "Name: SibSp, Length: 712, dtype: bool"
      ]
     },
     "execution_count": 18,
     "metadata": {},
     "output_type": "execute_result"
    }
   ],
   "source": [
    "condition = (df_TFD_rel['SibSp'] <= bound_up) \n",
    "condition"
   ]
  },
  {
   "cell_type": "code",
   "execution_count": 19,
   "id": "a0eb37a7-a901-424e-ae22-f21a12db8ad2",
   "metadata": {
    "tags": []
   },
   "outputs": [],
   "source": [
    "df_TFD_rel_condittion = df_TFD_rel.loc[condition]"
   ]
  },
  {
   "cell_type": "code",
   "execution_count": 20,
   "id": "b3eaba51-5ef0-491c-9903-3ab09bdf2870",
   "metadata": {
    "tags": []
   },
   "outputs": [
    {
     "data": {
      "text/plain": [
       "<Axes: xlabel='SibSp', ylabel='Survived'>"
      ]
     },
     "execution_count": 20,
     "metadata": {},
     "output_type": "execute_result"
    },
    {
     "data": {
      "image/png": "[encoded data removed]",
      "text/plain": [
       "<Figure size 640x480 with 1 Axes>"
      ]
     },
     "metadata": {},
     "output_type": "display_data"
    }
   ],
   "source": [
    "sns.boxplot(data=df_TFD_rel_condittion, x='SibSp', y='Survived', orient='h')"
   ]
  },
  {
   "cell_type": "code",
   "execution_count": 21,
   "id": "de73b08b-4b7d-4fc5-804f-d5d6588f202a",
   "metadata": {
    "tags": []
   },
   "outputs": [
    {
     "data": {
      "text/plain": [
       "0    469\n",
       "1    183\n",
       "2     25\n",
       "4     18\n",
       "3     12\n",
       "5      5\n",
       "Name: SibSp, dtype: int64"
      ]
     },
     "execution_count": 21,
     "metadata": {},
     "output_type": "execute_result"
    }
   ],
   "source": [
    "df_TFD_rel['SibSp'].value_counts()"
   ]
  },
  {
   "cell_type": "markdown",
   "id": "96620327-e6ce-4538-bbf5-be31258212da",
   "metadata": {
    "jp-MarkdownHeadingCollapsed": true,
    "tags": []
   },
   "source": [
    "#### Parch 다른 차트 \n",
    "    - 참고 : https://jfun.tistory.com/136"
   ]
  },
  {
   "cell_type": "code",
   "execution_count": 22,
   "id": "772c5e20-6bd1-43ba-9c7e-a4eaac0a5e37",
   "metadata": {
    "tags": []
   },
   "outputs": [],
   "source": [
    "def bar_chart(feature):\n",
    "    survived = df_TFD_rel[df_TFD_rel['Survived']==1][feature].value_counts()\n",
    "    dead = df_TFD_rel[df_TFD_rel['Survived']==0][feature].value_counts()\n",
    "    df = pd.DataFrame([survived,dead])\n",
    "    df.index = ['1','0']\n",
    "    df.plot(kind='bar',stacked=True, figsize=(10,5))"
   ]
  },
  {
   "cell_type": "code",
   "execution_count": 23,
   "id": "0e6723f9-9b07-4f38-b09b-396e520981df",
   "metadata": {
    "tags": []
   },
   "outputs": [
    {
     "data": {
      "image/png": "[encoded data removed]",
      "text/plain": [
       "<Figure size 1000x500 with 1 Axes>"
      ]
     },
     "metadata": {},
     "output_type": "display_data"
    }
   ],
   "source": [
    "bar_chart('Parch')"
   ]
  },
  {
   "cell_type": "code",
   "execution_count": 24,
   "id": "331ec60e-d807-48d6-92ba-4859f335e620",
   "metadata": {
    "tags": []
   },
   "outputs": [
    {
     "data": {
      "text/plain": [
       "(0    184\n",
       " 1     61\n",
       " 2     39\n",
       " 3      3\n",
       " 5      1\n",
       " Name: Parch, dtype: int64,\n",
       " 0    335\n",
       " 1     49\n",
       " 2     29\n",
       " 5      4\n",
       " 4      4\n",
       " 3      2\n",
       " 6      1\n",
       " Name: Parch, dtype: int64)"
      ]
     },
     "execution_count": 24,
     "metadata": {},
     "output_type": "execute_result"
    }
   ],
   "source": [
    "# 산 사람 수, 죽은 사람 수\n",
    "df_TFD_rel[df_TFD_rel['Survived']==1]['Parch'].value_counts(), df_TFD_rel[df_TFD_rel['Survived']==0]['Parch'].value_counts()"
   ]
  },
  {
   "cell_type": "markdown",
   "id": "6bb42b24-e1b1-4bdf-8a49-2de9d3aa3fca",
   "metadata": {
    "tags": []
   },
   "source": [
    "#### Fare 이상치"
   ]
  },
  {
   "cell_type": "code",
   "execution_count": 25,
   "id": "d1fe397a-8da8-4a16-81ef-35c4aca9cfa1",
   "metadata": {
    "tags": []
   },
   "outputs": [
    {
     "data": {
      "text/plain": [
       "(8.05, 33.0, 24.95)"
      ]
     },
     "execution_count": 25,
     "metadata": {},
     "output_type": "execute_result"
    }
   ],
   "source": [
    "Q1 = df_TFD_rel['Fare'].describe()['25%']\n",
    "Q3 = df_TFD_rel['Fare'].describe()['75%']\n",
    "IQR = Q3 - Q1\n",
    "Q1, Q3, IQR "
   ]
  },
  {
   "cell_type": "code",
   "execution_count": 26,
   "id": "b5f7c87d-b773-4f15-a86f-175a59b8342f",
   "metadata": {
    "tags": []
   },
   "outputs": [
    {
     "data": {
      "text/plain": [
       "(-29.374999999999996, 70.425)"
      ]
     },
     "execution_count": 26,
     "metadata": {},
     "output_type": "execute_result"
    }
   ],
   "source": [
    "bound_up = Q3 + 1.5 * IQR\n",
    "bound_low = Q1 - 1.5 * IQR\n",
    "bound_low, bound_up "
   ]
  },
  {
   "cell_type": "code",
   "execution_count": 27,
   "id": "d464b097-3f02-4224-8206-be252c75ce86",
   "metadata": {
    "tags": []
   },
   "outputs": [
    {
     "data": {
      "text/plain": [
       "0       True\n",
       "1      False\n",
       "2       True\n",
       "3       True\n",
       "4       True\n",
       "       ...  \n",
       "885     True\n",
       "886     True\n",
       "887     True\n",
       "889     True\n",
       "890     True\n",
       "Name: Fare, Length: 712, dtype: bool"
      ]
     },
     "execution_count": 27,
     "metadata": {},
     "output_type": "execute_result"
    }
   ],
   "source": [
    "condition = (df_TFD_rel['Fare'] <= bound_up) \n",
    "condition"
   ]
  },
  {
   "cell_type": "code",
   "execution_count": 28,
   "id": "dc10152f-6a70-4c6f-b6ce-8057677c9371",
   "metadata": {
    "tags": []
   },
   "outputs": [],
   "source": [
    "df_TFD_rel_condittion = df_TFD_rel.loc[condition]"
   ]
  },
  {
   "cell_type": "code",
   "execution_count": 29,
   "id": "1cb4a83a-5fb1-48be-9b2a-8c13c41f6570",
   "metadata": {
    "tags": []
   },
   "outputs": [
    {
     "data": {
      "text/plain": [
       "<Axes: xlabel='Fare', ylabel='Survived'>"
      ]
     },
     "execution_count": 29,
     "metadata": {},
     "output_type": "execute_result"
    },
    {
     "data": {
      "image/png": "[encoded data removed]",
      "text/plain": [
       "<Figure size 640x480 with 1 Axes>"
      ]
     },
     "metadata": {},
     "output_type": "display_data"
    }
   ],
   "source": [
    "sns.boxplot(data=df_TFD_rel_condittion, x='Fare', y='Survived', orient='h')"
   ]
  },
  {
   "cell_type": "markdown",
   "id": "b49f8eca-f00f-4b61-b480-22e16edf9b2a",
   "metadata": {
    "tags": []
   },
   "source": [
    "### x:범주형/ y:범주형"
   ]
  },
  {
   "cell_type": "code",
   "execution_count": 30,
   "id": "866c0ef6-66aa-4a6f-85a6-320013bb4a3a",
   "metadata": {
    "tags": []
   },
   "outputs": [
    {
     "data": {
      "text/plain": [
       "['Sex', 'Embarked']"
      ]
     },
     "execution_count": 30,
     "metadata": {},
     "output_type": "execute_result"
    }
   ],
   "source": [
    "# df_TFD_rel.drop(columns=['Survived'])\n",
    "rel_obj_list = df_TFD_rel.describe(include=object).drop(columns=['Survived']).columns.to_list()\n",
    "rel_obj_list"
   ]
  },
  {
   "cell_type": "code",
   "execution_count": 31,
   "id": "70b9a427-cd14-4db5-8296-43c484ca4ae2",
   "metadata": {
    "tags": []
   },
   "outputs": [
    {
     "data": {
      "image/png": "[encoded data removed]",
      "text/plain": [
       "<Figure size 640x480 with 1 Axes>"
      ]
     },
     "metadata": {},
     "output_type": "display_data"
    },
    {
     "data": {
      "image/png": "[encoded data removed]",
      "text/plain": [
       "<Figure size 640x480 with 1 Axes>"
      ]
     },
     "metadata": {},
     "output_type": "display_data"
    }
   ],
   "source": [
    "for item in rel_obj_list :\n",
    "    sns.barplot(data=df_TFD_rel, x=item ,y='Survived' )\n",
    "    plt.show()"
   ]
  },
  {
   "cell_type": "code",
   "execution_count": 32,
   "id": "ca1d0028-feb9-42d3-9b1d-5f446e32aff4",
   "metadata": {
    "tags": []
   },
   "outputs": [
    {
     "name": "stdout",
     "output_type": "stream",
     "text": [
      "<class 'pandas.core.series.Series'>\n",
      "Int64Index: 712 entries, 0 to 890\n",
      "Series name: Embarked\n",
      "Non-Null Count  Dtype \n",
      "--------------  ----- \n",
      "712 non-null    object\n",
      "dtypes: object(1)\n",
      "memory usage: 11.1+ KB\n"
     ]
    }
   ],
   "source": [
    "df_TFD_rel['Embarked'].info()"
   ]
  },
  {
   "cell_type": "code",
   "execution_count": null,
   "id": "d11a0a18-fe7a-4227-9b8d-be210da8012b",
   "metadata": {},
   "outputs": [],
   "source": []
  }
 ],
 "metadata": {
  "kernelspec": {
   "display_name": "Python 3 (ipykernel)",
   "language": "python",
   "name": "python3"
  },
  "language_info": {
   "codemirror_mode": {
    "name": "ipython",
    "version": 3
   },
   "file_extension": ".py",
   "mimetype": "text/x-python",
   "name": "python",
   "nbconvert_exporter": "python",
   "pygments_lexer": "ipython3",
   "version": "3.11.3"
  }
 },
 "nbformat": 4,
 "nbformat_minor": 5
}
