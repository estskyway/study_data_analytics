{
 "cells": [
  {
   "cell_type": "code",
   "execution_count": 8,
   "id": "f448f798-bf68-4ff5-a1a7-929970dfe475",
   "metadata": {
    "tags": []
   },
   "outputs": [],
   "source": [
    "import matplotlib.pyplot as plt\n",
    "import matplotlib as mpl\n",
    "mpl.rc('font',family='Malgun Gothic')\n",
    "import seaborn as sns\n",
    "import pandas as pd\n",
    "import scipy.stats as stats"
   ]
  },
  {
   "cell_type": "code",
   "execution_count": 2,
   "id": "3ce2043e-f6b4-4577-a849-233f09b0a773",
   "metadata": {
    "tags": []
   },
   "outputs": [
    {
     "data": {
      "text/html": [
       "<div>\n",
       "<style scoped>\n",
       "    .dataframe tbody tr th:only-of-type {\n",
       "        vertical-align: middle;\n",
       "    }\n",
       "\n",
       "    .dataframe tbody tr th {\n",
       "        vertical-align: top;\n",
       "    }\n",
       "\n",
       "    .dataframe thead th {\n",
       "        text-align: right;\n",
       "    }\n",
       "</style>\n",
       "<table border=\"1\" class=\"dataframe\">\n",
       "  <thead>\n",
       "    <tr style=\"text-align: right;\">\n",
       "      <th></th>\n",
       "      <th>Unnamed: 0</th>\n",
       "      <th>환자ID</th>\n",
       "      <th>Large Lymphocyte</th>\n",
       "      <th>Location of herniation</th>\n",
       "      <th>ODI</th>\n",
       "      <th>가족력</th>\n",
       "      <th>간질성폐질환</th>\n",
       "      <th>고혈압여부</th>\n",
       "      <th>과거수술횟수</th>\n",
       "      <th>당뇨여부</th>\n",
       "      <th>...</th>\n",
       "      <th>Modic change</th>\n",
       "      <th>PI</th>\n",
       "      <th>PT</th>\n",
       "      <th>Seg Angle(raw)</th>\n",
       "      <th>Vaccum disc</th>\n",
       "      <th>골밀도</th>\n",
       "      <th>디스크단면적</th>\n",
       "      <th>디스크위치</th>\n",
       "      <th>척추이동척도</th>\n",
       "      <th>척추전방위증</th>\n",
       "    </tr>\n",
       "  </thead>\n",
       "  <tbody>\n",
       "    <tr>\n",
       "      <th>0</th>\n",
       "      <td>0</td>\n",
       "      <td>1PT</td>\n",
       "      <td>22.8</td>\n",
       "      <td>3</td>\n",
       "      <td>51.0</td>\n",
       "      <td>0.0</td>\n",
       "      <td>0</td>\n",
       "      <td>0</td>\n",
       "      <td>0</td>\n",
       "      <td>0</td>\n",
       "      <td>...</td>\n",
       "      <td>3</td>\n",
       "      <td>51.6</td>\n",
       "      <td>36.6</td>\n",
       "      <td>14.4</td>\n",
       "      <td>0</td>\n",
       "      <td>-1.01</td>\n",
       "      <td>2048.5</td>\n",
       "      <td>4</td>\n",
       "      <td>Down</td>\n",
       "      <td>0</td>\n",
       "    </tr>\n",
       "    <tr>\n",
       "      <th>1</th>\n",
       "      <td>1</td>\n",
       "      <td>2PT</td>\n",
       "      <td>44.9</td>\n",
       "      <td>4</td>\n",
       "      <td>26.0</td>\n",
       "      <td>0.0</td>\n",
       "      <td>0</td>\n",
       "      <td>0</td>\n",
       "      <td>0</td>\n",
       "      <td>0</td>\n",
       "      <td>...</td>\n",
       "      <td>0</td>\n",
       "      <td>40.8</td>\n",
       "      <td>7.2</td>\n",
       "      <td>17.8</td>\n",
       "      <td>0</td>\n",
       "      <td>-1.14</td>\n",
       "      <td>1753.1</td>\n",
       "      <td>4</td>\n",
       "      <td>Up</td>\n",
       "      <td>0</td>\n",
       "    </tr>\n",
       "  </tbody>\n",
       "</table>\n",
       "<p>2 rows × 52 columns</p>\n",
       "</div>"
      ],
      "text/plain": [
       "   Unnamed: 0 환자ID  Large Lymphocyte  Location of herniation   ODI  가족력  \\\n",
       "0           0  1PT              22.8                       3  51.0  0.0   \n",
       "1           1  2PT              44.9                       4  26.0  0.0   \n",
       "\n",
       "   간질성폐질환  고혈압여부  과거수술횟수  당뇨여부  ...  Modic change    PI    PT  Seg Angle(raw)  \\\n",
       "0       0      0       0     0  ...             3  51.6  36.6            14.4   \n",
       "1       0      0       0     0  ...             0  40.8   7.2            17.8   \n",
       "\n",
       "   Vaccum disc   골밀도  디스크단면적  디스크위치  척추이동척도  척추전방위증  \n",
       "0            0 -1.01  2048.5      4    Down       0  \n",
       "1            0 -1.14  1753.1      4      Up       0  \n",
       "\n",
       "[2 rows x 52 columns]"
      ]
     },
     "execution_count": 2,
     "metadata": {},
     "output_type": "execute_result"
    }
   ],
   "source": [
    "df_ROS = pd.read_csv('../../datasets/RecurrenceOfSurgery.csv')\n",
    "df_ROS.head(2)"
   ]
  },
  {
   "cell_type": "code",
   "execution_count": 4,
   "id": "7b2308e9-c41c-4663-873c-5c92e8b4e959",
   "metadata": {
    "tags": []
   },
   "outputs": [
    {
     "data": {
      "text/plain": [
       "Index(['Unnamed: 0', '환자ID', 'Large Lymphocyte', 'Location of herniation',\n",
       "       'ODI', '가족력', '간질성폐질환', '고혈압여부', '과거수술횟수', '당뇨여부', '말초동맥질환여부', '빈혈여부',\n",
       "       '성별', '스테로이드치료', '신부전여부', '신장', '심혈관질환', '암발병여부', '연령', '우울증여부', '입원기간',\n",
       "       '입원일자', '종양진행여부', '직업', '체중', '퇴원일자', '헤모글로빈수치', '혈전합병증여부', '환자통증정도',\n",
       "       '흡연여부', '통증기간(월)', '수술기법', '수술시간', '수술실패여부', '수술일자', '재발여부', '혈액형',\n",
       "       '전방디스크높이(mm)', '후방디스크높이(mm)', '지방축적도', 'Instability', 'MF + ES',\n",
       "       'Modic change', 'PI', 'PT', 'Seg Angle(raw)', 'Vaccum disc', '골밀도',\n",
       "       '디스크단면적', '디스크위치', '척추이동척도', '척추전방위증'],\n",
       "      dtype='object')"
      ]
     },
     "execution_count": 4,
     "metadata": {},
     "output_type": "execute_result"
    }
   ],
   "source": [
    "df_ROS.columns"
   ]
  },
  {
   "cell_type": "markdown",
   "id": "419c15f7-b1d3-4d5d-892c-89727ef38bef",
   "metadata": {},
   "source": [
    "### 분석 접근 방식\n",
    "- 표현하는 데이터 타입 \n",
    "- 시각화 종류 \n",
    "    - 단일변수 / 연속형 : histplot(분포를 볼때 사용)\n",
    "    - 단일변수 / 범주형 : barplot\n",
    "    - 단일변수 / 순서형 : lineplot\n",
    "- 현 데이터로 시각화 가능 여부 \n",
    "    - 한 chart에 동시 표현 여부 : 레코드 분리 되어 있어야 함.\n",
    "    - 단일 변수 표현 시 주의점 : count 대치하는 변수 여부"
   ]
  },
  {
   "cell_type": "code",
   "execution_count": 6,
   "id": "2318927c-78d3-49a2-8ff5-3eeed0c84c59",
   "metadata": {
    "tags": []
   },
   "outputs": [
    {
     "data": {
      "text/html": [
       "<div>\n",
       "<style scoped>\n",
       "    .dataframe tbody tr th:only-of-type {\n",
       "        vertical-align: middle;\n",
       "    }\n",
       "\n",
       "    .dataframe tbody tr th {\n",
       "        vertical-align: top;\n",
       "    }\n",
       "\n",
       "    .dataframe thead th {\n",
       "        text-align: right;\n",
       "    }\n",
       "</style>\n",
       "<table border=\"1\" class=\"dataframe\">\n",
       "  <thead>\n",
       "    <tr style=\"text-align: right;\">\n",
       "      <th></th>\n",
       "      <th>환자ID</th>\n",
       "      <th>입원일자</th>\n",
       "      <th>퇴원일자</th>\n",
       "    </tr>\n",
       "  </thead>\n",
       "  <tbody>\n",
       "    <tr>\n",
       "      <th>0</th>\n",
       "      <td>1PT</td>\n",
       "      <td>20190713</td>\n",
       "      <td>20190716</td>\n",
       "    </tr>\n",
       "    <tr>\n",
       "      <th>1</th>\n",
       "      <td>2PT</td>\n",
       "      <td>20190715</td>\n",
       "      <td>20190716</td>\n",
       "    </tr>\n",
       "  </tbody>\n",
       "</table>\n",
       "</div>"
      ],
      "text/plain": [
       "  환자ID      입원일자      퇴원일자\n",
       "0  1PT  20190713  20190716\n",
       "1  2PT  20190715  20190716"
      ]
     },
     "execution_count": 6,
     "metadata": {},
     "output_type": "execute_result"
    }
   ],
   "source": [
    "# 필요한 변수만 추출\n",
    "df_ROS_extract = df_ROS[['환자ID', '입원일자', '퇴원일자']]\n",
    "df_ROS_extract[:2]"
   ]
  },
  {
   "cell_type": "code",
   "execution_count": 10,
   "id": "461292e5-be2b-4561-abae-68e44c28fc55",
   "metadata": {
    "tags": []
   },
   "outputs": [
    {
     "name": "stderr",
     "output_type": "stream",
     "text": [
      "C:\\Users\\01-02\\AppData\\Local\\Temp\\ipykernel_8992\\1488843031.py:1: SettingWithCopyWarning: \n",
      "A value is trying to be set on a copy of a slice from a DataFrame.\n",
      "Try using .loc[row_indexer,col_indexer] = value instead\n",
      "\n",
      "See the caveats in the documentation: https://pandas.pydata.org/pandas-docs/stable/user_guide/indexing.html#returning-a-view-versus-a-copy\n",
      "  df_ROS_extract['입원일자_datetime'] = pd.to_datetime(df_ROS_extract['입원일자'].astype(str))\n",
      "C:\\Users\\01-02\\AppData\\Local\\Temp\\ipykernel_8992\\1488843031.py:2: SettingWithCopyWarning: \n",
      "A value is trying to be set on a copy of a slice from a DataFrame.\n",
      "Try using .loc[row_indexer,col_indexer] = value instead\n",
      "\n",
      "See the caveats in the documentation: https://pandas.pydata.org/pandas-docs/stable/user_guide/indexing.html#returning-a-view-versus-a-copy\n",
      "  df_ROS_extract['퇴원일자_datetime'] = pd.to_datetime(df_ROS_extract['퇴원일자'].astype(str))\n"
     ]
    }
   ],
   "source": [
    "df_ROS_extract['입원일자_datetime'] = pd.to_datetime(df_ROS_extract['입원일자'].astype(str))\n",
    "df_ROS_extract['퇴원일자_datetime'] = pd.to_datetime(df_ROS_extract['퇴원일자'].astype(str))"
   ]
  },
  {
   "cell_type": "code",
   "execution_count": 12,
   "id": "8c0ae501-5802-46b5-96c3-387c7dfb7a85",
   "metadata": {
    "tags": []
   },
   "outputs": [
    {
     "data": {
      "text/html": [
       "<div>\n",
       "<style scoped>\n",
       "    .dataframe tbody tr th:only-of-type {\n",
       "        vertical-align: middle;\n",
       "    }\n",
       "\n",
       "    .dataframe tbody tr th {\n",
       "        vertical-align: top;\n",
       "    }\n",
       "\n",
       "    .dataframe thead th {\n",
       "        text-align: right;\n",
       "    }\n",
       "</style>\n",
       "<table border=\"1\" class=\"dataframe\">\n",
       "  <thead>\n",
       "    <tr style=\"text-align: right;\">\n",
       "      <th></th>\n",
       "      <th>환자ID</th>\n",
       "      <th>입원일자</th>\n",
       "      <th>퇴원일자</th>\n",
       "      <th>입원일자_datetime</th>\n",
       "      <th>퇴원일자_datetime</th>\n",
       "    </tr>\n",
       "  </thead>\n",
       "  <tbody>\n",
       "    <tr>\n",
       "      <th>0</th>\n",
       "      <td>1PT</td>\n",
       "      <td>20190713</td>\n",
       "      <td>20190716</td>\n",
       "      <td>2019-07-13</td>\n",
       "      <td>2019-07-16</td>\n",
       "    </tr>\n",
       "    <tr>\n",
       "      <th>1</th>\n",
       "      <td>2PT</td>\n",
       "      <td>20190715</td>\n",
       "      <td>20190716</td>\n",
       "      <td>2019-07-15</td>\n",
       "      <td>2019-07-16</td>\n",
       "    </tr>\n",
       "    <tr>\n",
       "      <th>2</th>\n",
       "      <td>3PT</td>\n",
       "      <td>20190729</td>\n",
       "      <td>20190801</td>\n",
       "      <td>2019-07-29</td>\n",
       "      <td>2019-08-01</td>\n",
       "    </tr>\n",
       "    <tr>\n",
       "      <th>3</th>\n",
       "      <td>4PT</td>\n",
       "      <td>20190731</td>\n",
       "      <td>20190803</td>\n",
       "      <td>2019-07-31</td>\n",
       "      <td>2019-08-03</td>\n",
       "    </tr>\n",
       "    <tr>\n",
       "      <th>4</th>\n",
       "      <td>5PT</td>\n",
       "      <td>20190903</td>\n",
       "      <td>20190907</td>\n",
       "      <td>2019-09-03</td>\n",
       "      <td>2019-09-07</td>\n",
       "    </tr>\n",
       "    <tr>\n",
       "      <th>5</th>\n",
       "      <td>6PT</td>\n",
       "      <td>20190905</td>\n",
       "      <td>20190907</td>\n",
       "      <td>2019-09-05</td>\n",
       "      <td>2019-09-07</td>\n",
       "    </tr>\n",
       "    <tr>\n",
       "      <th>6</th>\n",
       "      <td>7PT</td>\n",
       "      <td>20190622</td>\n",
       "      <td>20190626</td>\n",
       "      <td>2019-06-22</td>\n",
       "      <td>2019-06-26</td>\n",
       "    </tr>\n",
       "    <tr>\n",
       "      <th>7</th>\n",
       "      <td>8PT</td>\n",
       "      <td>20190330</td>\n",
       "      <td>20190402</td>\n",
       "      <td>2019-03-30</td>\n",
       "      <td>2019-04-02</td>\n",
       "    </tr>\n",
       "    <tr>\n",
       "      <th>8</th>\n",
       "      <td>9PT</td>\n",
       "      <td>20191203</td>\n",
       "      <td>20191206</td>\n",
       "      <td>2019-12-03</td>\n",
       "      <td>2019-12-06</td>\n",
       "    </tr>\n",
       "    <tr>\n",
       "      <th>9</th>\n",
       "      <td>10PT</td>\n",
       "      <td>20191210</td>\n",
       "      <td>20191213</td>\n",
       "      <td>2019-12-10</td>\n",
       "      <td>2019-12-13</td>\n",
       "    </tr>\n",
       "  </tbody>\n",
       "</table>\n",
       "</div>"
      ],
      "text/plain": [
       "   환자ID      입원일자      퇴원일자 입원일자_datetime 퇴원일자_datetime\n",
       "0   1PT  20190713  20190716    2019-07-13    2019-07-16\n",
       "1   2PT  20190715  20190716    2019-07-15    2019-07-16\n",
       "2   3PT  20190729  20190801    2019-07-29    2019-08-01\n",
       "3   4PT  20190731  20190803    2019-07-31    2019-08-03\n",
       "4   5PT  20190903  20190907    2019-09-03    2019-09-07\n",
       "5   6PT  20190905  20190907    2019-09-05    2019-09-07\n",
       "6   7PT  20190622  20190626    2019-06-22    2019-06-26\n",
       "7   8PT  20190330  20190402    2019-03-30    2019-04-02\n",
       "8   9PT  20191203  20191206    2019-12-03    2019-12-06\n",
       "9  10PT  20191210  20191213    2019-12-10    2019-12-13"
      ]
     },
     "execution_count": 12,
     "metadata": {},
     "output_type": "execute_result"
    }
   ],
   "source": [
    "df_ROS_extract[:10]\n",
    "# df_ROS_extract.info()"
   ]
  },
  {
   "cell_type": "markdown",
   "id": "6b749a62-2819-49e9-8649-ab093ee3396f",
   "metadata": {
    "tags": []
   },
   "source": [
    "### 주차별 환자 입원/퇴원 추이 시각화 및 인사이트\n",
    "- 표현하는 데이터 타입 : 연속형, 단일변수 \n",
    "- 시각화 종류 : lineplot"
   ]
  },
  {
   "cell_type": "markdown",
   "id": "b8de9fd0-b086-47d4-a5a4-dbd5dcf6c27d",
   "metadata": {
    "tags": []
   },
   "source": [
    "### 요일별 환자 입원/퇴원 시각화 및 인사이트\n",
    "- 표현하는 데이터 타입 : 범주형, 단일변수 \n",
    "- 시각화 종류 : barplot\n",
    "- 레코드 갯수로 count"
   ]
  },
  {
   "cell_type": "code",
   "execution_count": 16,
   "id": "1cd45068-68ca-4156-8b03-fb7692b9faf7",
   "metadata": {
    "tags": []
   },
   "outputs": [
    {
     "name": "stderr",
     "output_type": "stream",
     "text": [
      "C:\\Users\\01-02\\AppData\\Local\\Temp\\ipykernel_8992\\1296604899.py:1: SettingWithCopyWarning: \n",
      "A value is trying to be set on a copy of a slice from a DataFrame.\n",
      "Try using .loc[row_indexer,col_indexer] = value instead\n",
      "\n",
      "See the caveats in the documentation: https://pandas.pydata.org/pandas-docs/stable/user_guide/indexing.html#returning-a-view-versus-a-copy\n",
      "  df_ROS_extract['입원일자_datetime_day'] = df_ROS_extract['입원일자_datetime'].dt.day_name()\n",
      "C:\\Users\\01-02\\AppData\\Local\\Temp\\ipykernel_8992\\1296604899.py:2: SettingWithCopyWarning: \n",
      "A value is trying to be set on a copy of a slice from a DataFrame.\n",
      "Try using .loc[row_indexer,col_indexer] = value instead\n",
      "\n",
      "See the caveats in the documentation: https://pandas.pydata.org/pandas-docs/stable/user_guide/indexing.html#returning-a-view-versus-a-copy\n",
      "  df_ROS_extract['퇴원일자_datetime_day'] = df_ROS_extract['퇴원일자_datetime'].dt.day_name()\n"
     ]
    }
   ],
   "source": [
    "df_ROS_extract['입원일자_datetime_day'] = df_ROS_extract['입원일자_datetime'].dt.day_name()\n",
    "df_ROS_extract['퇴원일자_datetime_day'] = df_ROS_extract['퇴원일자_datetime'].dt.day_name()"
   ]
  },
  {
   "cell_type": "code",
   "execution_count": 17,
   "id": "26ae5778-a75b-4ff9-a57f-8066f7115f08",
   "metadata": {
    "tags": []
   },
   "outputs": [
    {
     "data": {
      "text/html": [
       "<div>\n",
       "<style scoped>\n",
       "    .dataframe tbody tr th:only-of-type {\n",
       "        vertical-align: middle;\n",
       "    }\n",
       "\n",
       "    .dataframe tbody tr th {\n",
       "        vertical-align: top;\n",
       "    }\n",
       "\n",
       "    .dataframe thead th {\n",
       "        text-align: right;\n",
       "    }\n",
       "</style>\n",
       "<table border=\"1\" class=\"dataframe\">\n",
       "  <thead>\n",
       "    <tr style=\"text-align: right;\">\n",
       "      <th></th>\n",
       "      <th>환자ID</th>\n",
       "      <th>입원일자</th>\n",
       "      <th>퇴원일자</th>\n",
       "      <th>입원일자_datetime</th>\n",
       "      <th>퇴원일자_datetime</th>\n",
       "      <th>입원일자_datetime_day</th>\n",
       "      <th>퇴원일자_datetime_day</th>\n",
       "    </tr>\n",
       "  </thead>\n",
       "  <tbody>\n",
       "    <tr>\n",
       "      <th>0</th>\n",
       "      <td>1PT</td>\n",
       "      <td>20190713.0</td>\n",
       "      <td>20190716.0</td>\n",
       "      <td>2019-07-13</td>\n",
       "      <td>2019-07-16</td>\n",
       "      <td>Saturday</td>\n",
       "      <td>Tuesday</td>\n",
       "    </tr>\n",
       "    <tr>\n",
       "      <th>1</th>\n",
       "      <td>2PT</td>\n",
       "      <td>20190715.0</td>\n",
       "      <td>20190716.0</td>\n",
       "      <td>2019-07-15</td>\n",
       "      <td>2019-07-16</td>\n",
       "      <td>Monday</td>\n",
       "      <td>Tuesday</td>\n",
       "    </tr>\n",
       "    <tr>\n",
       "      <th>2</th>\n",
       "      <td>3PT</td>\n",
       "      <td>20190729.0</td>\n",
       "      <td>20190801.0</td>\n",
       "      <td>2019-07-29</td>\n",
       "      <td>2019-08-01</td>\n",
       "      <td>Monday</td>\n",
       "      <td>Thursday</td>\n",
       "    </tr>\n",
       "  </tbody>\n",
       "</table>\n",
       "</div>"
      ],
      "text/plain": [
       "  환자ID        입원일자        퇴원일자 입원일자_datetime 퇴원일자_datetime 입원일자_datetime_day  \\\n",
       "0  1PT  20190713.0  20190716.0    2019-07-13    2019-07-16          Saturday   \n",
       "1  2PT  20190715.0  20190716.0    2019-07-15    2019-07-16            Monday   \n",
       "2  3PT  20190729.0  20190801.0    2019-07-29    2019-08-01            Monday   \n",
       "\n",
       "  퇴원일자_datetime_day  \n",
       "0           Tuesday  \n",
       "1           Tuesday  \n",
       "2          Thursday  "
      ]
     },
     "execution_count": 17,
     "metadata": {},
     "output_type": "execute_result"
    }
   ],
   "source": [
    "df_ROS_extract[:3]"
   ]
  },
  {
   "cell_type": "code",
   "execution_count": 21,
   "id": "2d9851b6-32b6-4404-883e-616a5e18a863",
   "metadata": {
    "tags": []
   },
   "outputs": [
    {
     "data": {
      "text/plain": [
       "Tuesday      376\n",
       "Monday       329\n",
       "Thursday     329\n",
       "Wednesday    304\n",
       "Sunday       204\n",
       "Friday       204\n",
       "Saturday     148\n",
       "Name: 입원일자_datetime_day, dtype: int64"
      ]
     },
     "execution_count": 21,
     "metadata": {},
     "output_type": "execute_result"
    }
   ],
   "source": [
    "df_ROS_extract['입원일자_datetime_day'].value_counts()"
   ]
  },
  {
   "cell_type": "code",
   "execution_count": 23,
   "id": "b914dd53-fb33-4363-a180-a0857946411d",
   "metadata": {
    "tags": []
   },
   "outputs": [
    {
     "data": {
      "text/html": [
       "<div>\n",
       "<style scoped>\n",
       "    .dataframe tbody tr th:only-of-type {\n",
       "        vertical-align: middle;\n",
       "    }\n",
       "\n",
       "    .dataframe tbody tr th {\n",
       "        vertical-align: top;\n",
       "    }\n",
       "\n",
       "    .dataframe thead th {\n",
       "        text-align: right;\n",
       "    }\n",
       "</style>\n",
       "<table border=\"1\" class=\"dataframe\">\n",
       "  <thead>\n",
       "    <tr style=\"text-align: right;\">\n",
       "      <th></th>\n",
       "      <th>환자ID</th>\n",
       "    </tr>\n",
       "    <tr>\n",
       "      <th>입원일자_datetime_day</th>\n",
       "      <th></th>\n",
       "    </tr>\n",
       "  </thead>\n",
       "  <tbody>\n",
       "    <tr>\n",
       "      <th>Friday</th>\n",
       "      <td>204</td>\n",
       "    </tr>\n",
       "    <tr>\n",
       "      <th>Monday</th>\n",
       "      <td>329</td>\n",
       "    </tr>\n",
       "    <tr>\n",
       "      <th>Saturday</th>\n",
       "      <td>148</td>\n",
       "    </tr>\n",
       "    <tr>\n",
       "      <th>Sunday</th>\n",
       "      <td>204</td>\n",
       "    </tr>\n",
       "    <tr>\n",
       "      <th>Thursday</th>\n",
       "      <td>329</td>\n",
       "    </tr>\n",
       "    <tr>\n",
       "      <th>Tuesday</th>\n",
       "      <td>376</td>\n",
       "    </tr>\n",
       "    <tr>\n",
       "      <th>Wednesday</th>\n",
       "      <td>304</td>\n",
       "    </tr>\n",
       "  </tbody>\n",
       "</table>\n",
       "</div>"
      ],
      "text/plain": [
       "                   환자ID\n",
       "입원일자_datetime_day      \n",
       "Friday              204\n",
       "Monday              329\n",
       "Saturday            148\n",
       "Sunday              204\n",
       "Thursday            329\n",
       "Tuesday             376\n",
       "Wednesday           304"
      ]
     },
     "execution_count": 23,
     "metadata": {},
     "output_type": "execute_result"
    }
   ],
   "source": [
    "# pd.pivot_table(data=df_ROS_extract[['입원일자_datetime_day', '환자ID']], index='입원일자_datetime_day', aggfunc=len).plot(kind='bar')\n",
    "df_ROS_extract_pivot = pd.pivot_table(data=df_ROS_extract[['입원일자_datetime_day', '환자ID']], index='입원일자_datetime_day', aggfunc=len)\n",
    "df_ROS_extract_pivot"
   ]
  },
  {
   "cell_type": "code",
   "execution_count": 28,
   "id": "0567cbd0-f6e6-420b-b485-2f4421aa3732",
   "metadata": {
    "tags": []
   },
   "outputs": [],
   "source": [
    "df_ROS_extract_pivot['입원일자_dayname'] = df_ROS_extract_pivot.index"
   ]
  },
  {
   "cell_type": "code",
   "execution_count": 29,
   "id": "2a5adfd8-6863-4a4d-8d4e-b5d02d125544",
   "metadata": {
    "tags": []
   },
   "outputs": [
    {
     "data": {
      "text/html": [
       "<div>\n",
       "<style scoped>\n",
       "    .dataframe tbody tr th:only-of-type {\n",
       "        vertical-align: middle;\n",
       "    }\n",
       "\n",
       "    .dataframe tbody tr th {\n",
       "        vertical-align: top;\n",
       "    }\n",
       "\n",
       "    .dataframe thead th {\n",
       "        text-align: right;\n",
       "    }\n",
       "</style>\n",
       "<table border=\"1\" class=\"dataframe\">\n",
       "  <thead>\n",
       "    <tr style=\"text-align: right;\">\n",
       "      <th></th>\n",
       "      <th>환자ID</th>\n",
       "      <th>입원일자_dayname</th>\n",
       "    </tr>\n",
       "    <tr>\n",
       "      <th>입원일자_datetime_day</th>\n",
       "      <th></th>\n",
       "      <th></th>\n",
       "    </tr>\n",
       "  </thead>\n",
       "  <tbody>\n",
       "    <tr>\n",
       "      <th>Friday</th>\n",
       "      <td>204</td>\n",
       "      <td>Friday</td>\n",
       "    </tr>\n",
       "    <tr>\n",
       "      <th>Monday</th>\n",
       "      <td>329</td>\n",
       "      <td>Monday</td>\n",
       "    </tr>\n",
       "    <tr>\n",
       "      <th>Saturday</th>\n",
       "      <td>148</td>\n",
       "      <td>Saturday</td>\n",
       "    </tr>\n",
       "    <tr>\n",
       "      <th>Sunday</th>\n",
       "      <td>204</td>\n",
       "      <td>Sunday</td>\n",
       "    </tr>\n",
       "    <tr>\n",
       "      <th>Thursday</th>\n",
       "      <td>329</td>\n",
       "      <td>Thursday</td>\n",
       "    </tr>\n",
       "    <tr>\n",
       "      <th>Tuesday</th>\n",
       "      <td>376</td>\n",
       "      <td>Tuesday</td>\n",
       "    </tr>\n",
       "    <tr>\n",
       "      <th>Wednesday</th>\n",
       "      <td>304</td>\n",
       "      <td>Wednesday</td>\n",
       "    </tr>\n",
       "  </tbody>\n",
       "</table>\n",
       "</div>"
      ],
      "text/plain": [
       "                   환자ID 입원일자_dayname\n",
       "입원일자_datetime_day                   \n",
       "Friday              204       Friday\n",
       "Monday              329       Monday\n",
       "Saturday            148     Saturday\n",
       "Sunday              204       Sunday\n",
       "Thursday            329     Thursday\n",
       "Tuesday             376      Tuesday\n",
       "Wednesday           304    Wednesday"
      ]
     },
     "execution_count": 29,
     "metadata": {},
     "output_type": "execute_result"
    }
   ],
   "source": [
    "df_ROS_extract_pivot"
   ]
  },
  {
   "cell_type": "code",
   "execution_count": null,
   "id": "b2031510-8bdd-4bb8-bc73-e719e6891c0c",
   "metadata": {},
   "outputs": [],
   "source": []
  }
 ],
 "metadata": {
  "kernelspec": {
   "display_name": "Python 3 (ipykernel)",
   "language": "python",
   "name": "python3"
  },
  "language_info": {
   "codemirror_mode": {
    "name": "ipython",
    "version": 3
   },
   "file_extension": ".py",
   "mimetype": "text/x-python",
   "name": "python",
   "nbconvert_exporter": "python",
   "pygments_lexer": "ipython3",
   "version": "3.11.3"
  }
 },
 "nbformat": 4,
 "nbformat_minor": 5
}
