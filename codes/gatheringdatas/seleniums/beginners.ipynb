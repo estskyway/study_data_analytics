{
 "cells": [
  {
   "cell_type": "code",
   "execution_count": 11,
   "id": "06068f5a-b3c0-4ac7-8138-0fafee5febc5",
   "metadata": {
    "tags": []
   },
   "outputs": [],
   "source": [
    "from selenium import webdriver"
   ]
  },
  {
   "cell_type": "code",
   "execution_count": 12,
   "id": "30a5a498-850d-45b3-aab4-d7b51a56fbe5",
   "metadata": {
    "tags": []
   },
   "outputs": [],
   "source": [
    "# open chrome browser\n",
    "browser = webdriver.Chrome(executable_path='../../../../chromedriver.exe')"
   ]
  },
  {
   "cell_type": "code",
   "execution_count": 13,
   "id": "011d0180-5038-4d32-b2c5-de39dea290df",
   "metadata": {
    "tags": []
   },
   "outputs": [],
   "source": [
    "# url in address window\n",
    "browser.get('https://www.w3schools.com/')"
   ]
  },
  {
   "cell_type": "code",
   "execution_count": null,
   "id": "3a9019e3-039b-4645-853a-f11d5bd105b3",
   "metadata": {},
   "outputs": [],
   "source": [
    "# div > div > div > a.HeaderMenu-link.HeaderMenu-link--sign-in"
   ]
  },
  {
   "cell_type": "code",
   "execution_count": 7,
   "id": "14b7f82b-ed8e-4fec-a937-bf1fa4dcfe5a",
   "metadata": {
    "tags": []
   },
   "outputs": [
    {
     "data": {
      "text/plain": [
       "True"
      ]
     },
     "execution_count": 7,
     "metadata": {},
     "output_type": "execute_result"
    }
   ],
   "source": [
    "browser.save_screenshot('./beginners.png')"
   ]
  },
  {
   "cell_type": "markdown",
   "id": "904c39fa-bd21-41ae-a9cf-7d385be32fde",
   "metadata": {},
   "source": [
    "## 마우스 스크롤 기능 구현"
   ]
  },
  {
   "cell_type": "code",
   "execution_count": 46,
   "id": "4a88cc8f-1a34-49aa-9d5c-e03351291f8d",
   "metadata": {
    "tags": []
   },
   "outputs": [],
   "source": [
    "from selenium.webdriver.common.keys import Keys\n",
    "# page down\n",
    "browser.find_element_by_css_selector('body').send_keys(Keys.PAGE_DOWN)"
   ]
  },
  {
   "cell_type": "code",
   "execution_count": 47,
   "id": "db1fbcc5-77ce-4622-8e55-23f99325e0e4",
   "metadata": {},
   "outputs": [],
   "source": [
    "# page up\n",
    "browser.find_element_by_css_selector('body').send_keys(Keys.PAGE_UP)"
   ]
  },
  {
   "cell_type": "code",
   "execution_count": 48,
   "id": "8446a645-d37e-4e33-81f4-b3a89deca7d8",
   "metadata": {},
   "outputs": [
    {
     "data": {
      "text/plain": [
       "(19669, 622)"
      ]
     },
     "execution_count": 48,
     "metadata": {},
     "output_type": "execute_result"
    }
   ],
   "source": [
    "## 화면 끝까지 이동\n",
    "screen_height = browser.execute_script('return window.innerHeight')\n",
    "document_height = browser.execute_script('return document.body.scrollHeight')\n",
    "document_height, screen_height"
   ]
  },
  {
   "cell_type": "code",
   "execution_count": 51,
   "id": "7944b7fa-7983-4d5d-b7da-3c3f3f8de150",
   "metadata": {
    "tags": []
   },
   "outputs": [
    {
     "name": "stdout",
     "output_type": "stream",
     "text": [
      "3013 19669\n",
      "3557 19669\n",
      "4101 19669\n",
      "4645 19669\n",
      "5189 19669\n",
      "5733 19669\n",
      "6277 19669\n",
      "6821 19669\n",
      "7365 19669\n",
      "7909 19669\n",
      "8453 19669\n",
      "8997 19669\n",
      "9541 19669\n",
      "10085 19669\n",
      "10629 19669\n",
      "11173 19669\n",
      "11717 19669\n",
      "12261 19669\n",
      "12805 19669\n",
      "13349 19669\n",
      "13893 19669\n",
      "14437 19669\n",
      "14981 19669\n",
      "15525 19669\n",
      "16069 19669\n",
      "16613 19669\n",
      "17157 19669\n",
      "17701 19669\n",
      "18245 19669\n",
      "18789 19669\n",
      "19333 19669\n",
      "19669 19669\n"
     ]
    }
   ],
   "source": [
    "import time\n",
    "while True:\n",
    "    browser.find_element_by_css_selector('body').send_keys(Keys.PAGE_DOWN)\n",
    "    time.sleep(1)\n",
    "    # window.pageYOffset 이용\n",
    "    current_scroll_position = browser.execute_script('return window.pageYOffset + {0}'.format(screen_height))\n",
    "    \n",
    "    print(current_scroll_position, document_height)\n",
    "    if current_scroll_position >= document_height :\n",
    "        break"
   ]
  },
  {
   "cell_type": "code",
   "execution_count": null,
   "id": "71387613-1d60-478d-bc2b-fa0a0443d3d7",
   "metadata": {},
   "outputs": [],
   "source": []
  },
  {
   "cell_type": "code",
   "execution_count": null,
   "id": "4b5d26ff-85a8-4430-8d5b-c442db2b58fe",
   "metadata": {},
   "outputs": [],
   "source": []
  },
  {
   "cell_type": "code",
   "execution_count": null,
   "id": "8c1cb1cf-2b2d-489d-a6ce-1df3502e1263",
   "metadata": {},
   "outputs": [],
   "source": []
  },
  {
   "cell_type": "code",
   "execution_count": 10,
   "id": "7b70a210-f2b9-44e5-a127-36e0b20d64dd",
   "metadata": {
    "tags": []
   },
   "outputs": [],
   "source": [
    "browser.quit()"
   ]
  }
 ],
 "metadata": {
  "kernelspec": {
   "display_name": "Python 3 (ipykernel)",
   "language": "python",
   "name": "python3"
  },
  "language_info": {
   "codemirror_mode": {
    "name": "ipython",
    "version": 3
   },
   "file_extension": ".py",
   "mimetype": "text/x-python",
   "name": "python",
   "nbconvert_exporter": "python",
   "pygments_lexer": "ipython3",
   "version": "3.11.3"
  }
 },
 "nbformat": 4,
 "nbformat_minor": 5
}
