{
 "cells": [
  {
   "cell_type": "code",
   "execution_count": 1,
   "id": "06068f5a-b3c0-4ac7-8138-0fafee5febc5",
   "metadata": {
    "tags": []
   },
   "outputs": [],
   "source": [
    "from selenium import webdriver"
   ]
  },
  {
   "cell_type": "code",
   "execution_count": 8,
   "id": "30a5a498-850d-45b3-aab4-d7b51a56fbe5",
   "metadata": {
    "tags": []
   },
   "outputs": [],
   "source": [
    "# open chrome browser\n",
    "browser = webdriver.Chrome(executable_path='../../../../chromedriver.exe')"
   ]
  },
  {
   "cell_type": "code",
   "execution_count": 9,
   "id": "011d0180-5038-4d32-b2c5-de39dea290df",
   "metadata": {
    "tags": []
   },
   "outputs": [],
   "source": [
    "# url in address window\n",
    "browser.get('https://www.w3schools.com/')"
   ]
  },
  {
   "cell_type": "code",
   "execution_count": 10,
   "id": "7b70a210-f2b9-44e5-a127-36e0b20d64dd",
   "metadata": {
    "tags": []
   },
   "outputs": [],
   "source": [
    "browser.quit()"
   ]
  },
  {
   "cell_type": "code",
   "execution_count": null,
   "id": "db1fbcc5-77ce-4622-8e55-23f99325e0e4",
   "metadata": {},
   "outputs": [],
   "source": []
  }
 ],
 "metadata": {
  "kernelspec": {
   "display_name": "Python 3 (ipykernel)",
   "language": "python",
   "name": "python3"
  },
  "language_info": {
   "codemirror_mode": {
    "name": "ipython",
    "version": 3
   },
   "file_extension": ".py",
   "mimetype": "text/x-python",
   "name": "python",
   "nbconvert_exporter": "python",
   "pygments_lexer": "ipython3",
   "version": "3.11.3"
  }
 },
 "nbformat": 4,
 "nbformat_minor": 5
}
