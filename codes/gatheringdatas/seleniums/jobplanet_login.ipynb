{
 "cells": [
  {
   "cell_type": "code",
   "execution_count": 6,
   "id": "06068f5a-b3c0-4ac7-8138-0fafee5febc5",
   "metadata": {
    "tags": []
   },
   "outputs": [],
   "source": [
    "from selenium import webdriver\n",
    "import time"
   ]
  },
  {
   "cell_type": "code",
   "execution_count": 2,
   "id": "30a5a498-850d-45b3-aab4-d7b51a56fbe5",
   "metadata": {
    "tags": []
   },
   "outputs": [],
   "source": [
    "# open chrome browser\n",
    "browser = webdriver.Chrome(executable_path='../../../../chromedriver.exe')"
   ]
  },
  {
   "cell_type": "markdown",
   "id": "146c1d9a-e892-4734-9a59-9f92a47a47e9",
   "metadata": {},
   "source": [
    "### login\n",
    "- email tag : #user_email\n",
    "- password tag : #user_password\n",
    "- submit button tag : fieldset > button"
   ]
  },
  {
   "cell_type": "code",
   "execution_count": 3,
   "id": "011d0180-5038-4d32-b2c5-de39dea290df",
   "metadata": {
    "tags": []
   },
   "outputs": [],
   "source": [
    "browser.implicitly_wait(10)\n",
    "browser.get('https://www.jobplanet.co.kr/users/sign_in?_nav=gb')\n",
    "browser.find_element_by_css_selector('#user_email').send_keys('')\n",
    "browser.find_element_by_css_selector('#user_password').send_keys('')\n",
    "browser.find_element_by_css_selector('fieldset > button').click()"
   ]
  },
  {
   "cell_type": "markdown",
   "id": "e0a1c23a-e031-4c8e-9227-f80c1f96f3bc",
   "metadata": {},
   "source": [
    "### 검색어로 검색 (분석가)"
   ]
  },
  {
   "cell_type": "code",
   "execution_count": 7,
   "id": "8446a645-d37e-4e33-81f4-b3a89deca7d8",
   "metadata": {},
   "outputs": [],
   "source": [
    "browser.implicitly_wait(10)\n",
    "search_word = 'https://www.jobplanet.co.kr/job/search?_rs_act=index&_rs_con=search&_rs_element=see_more_job_postings_bottom&q=%EB%B6%84%EC%84%9D%EA%B0%80'\n",
    "browser.get(search_word)"
   ]
  },
  {
   "cell_type": "code",
   "execution_count": null,
   "id": "7b70a210-f2b9-44e5-a127-36e0b20d64dd",
   "metadata": {
    "tags": []
   },
   "outputs": [],
   "source": [
    "browser.quit()"
   ]
  }
 ],
 "metadata": {
  "kernelspec": {
   "display_name": "Python 3 (ipykernel)",
   "language": "python",
   "name": "python3"
  },
  "language_info": {
   "codemirror_mode": {
    "name": "ipython",
    "version": 3
   },
   "file_extension": ".py",
   "mimetype": "text/x-python",
   "name": "python",
   "nbconvert_exporter": "python",
   "pygments_lexer": "ipython3",
   "version": "3.11.3"
  }
 },
 "nbformat": 4,
 "nbformat_minor": 5
}
