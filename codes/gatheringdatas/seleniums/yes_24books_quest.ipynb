{
 "cells": [
  {
   "cell_type": "code",
   "execution_count": 13,
   "id": "0bcee7b9-6602-44de-8c84-b38040798d4c",
   "metadata": {
    "tags": []
   },
   "outputs": [],
   "source": [
    "from selenium import webdriver"
   ]
  },
  {
   "cell_type": "code",
   "execution_count": 14,
   "id": "11444608-3777-4c82-9e30-d45fd90274f7",
   "metadata": {
    "tags": []
   },
   "outputs": [],
   "source": [
    "# open chrome browser\n",
    "browser = webdriver.Chrome(executable_path='../../../../chromedriver.exe')"
   ]
  },
  {
   "cell_type": "code",
   "execution_count": 15,
   "id": "b8d7a71b-f835-42e5-b9fe-2c9553549e59",
   "metadata": {
    "tags": []
   },
   "outputs": [],
   "source": [
    "# url in address window\n",
    "browser.get('https://brunch.co.kr/keyword/%EC%B1%85%EB%A6%AC%EB%B7%B0')"
   ]
  },
  {
   "cell_type": "code",
   "execution_count": 21,
   "id": "47332beb-3ed4-433c-9184-cf4c857c87aa",
   "metadata": {
    "tags": []
   },
   "outputs": [
    {
     "data": {
      "text/plain": [
       "(list, selenium.webdriver.remote.webelement.WebElement)"
      ]
     },
     "execution_count": 21,
     "metadata": {},
     "output_type": "execute_result"
    }
   ],
   "source": [
    "element_path = '.tit_sub'\n",
    "elements = browser.find_elements_by_css_selector(element_path)\n",
    "type(elements), type(elements[0])"
   ]
  },
  {
   "cell_type": "code",
   "execution_count": 22,
   "id": "4e8da116-78a4-43df-95ad-b4c17de15d63",
   "metadata": {
    "tags": []
   },
   "outputs": [
    {
     "name": "stdout",
     "output_type": "stream",
     "text": [
      "러일전쟁 - 와다 하루키(한길사)  ●●●●●●●●◐○\n",
      "『우리 대화는 밤새도록 끝이 없지』- 허휘수, 서솔, 상상 출판\n",
      "『불안할 땐 뇌과학』- 캐서린 피트먼, 엘리자베스 칼. 현대지성\n",
      "그림책 리뷰\n",
      "동해선에서 읽은 책 61\n",
      "Jane Kallir\n",
      "\n",
      "\n",
      "'디자이너 생각위를 걷다'에서 느끼는 사업가의 삶의 지혜\n",
      "Feat. 부부가 둘 다 놀고 있습니다\n",
      "도파민네이션과 최선의 고통을 읽고\n",
      "집이라는 모험, 신순화\n",
      "1차원이 되고 싶어, 박상영\n",
      "나는 단순하게 살기로 했다, 사사키 후미오\n",
      "by 스콧 피츠제럴드\n",
      "'더티 워크'를 읽고 (소원책담 독서모임 - 담쟁이 독서회)\n",
      "숏 컷 - 레이먼드 카버(집사재) ●●●●●●●◐○○\n",
      "최초의 직업 프로그래머는 여자라는 사실\n",
      "가난해지지 않는 마음, 양다솔\n",
      "고슴도치 엑스, 노인경\n"
     ]
    }
   ],
   "source": [
    "for webelement in elements : \n",
    "    print(webelement.text)"
   ]
  },
  {
   "cell_type": "code",
   "execution_count": 24,
   "id": "92662e31-c5fe-475f-9342-786c2b6cd051",
   "metadata": {
    "tags": []
   },
   "outputs": [
    {
     "data": {
      "text/plain": [
       "['러일전쟁 - 와다 하루키(한길사)  ●●●●●●●●◐○',\n",
       " '『우리 대화는 밤새도록 끝이 없지』- 허휘수, 서솔, 상상 출판',\n",
       " '『불안할 땐 뇌과학』- 캐서린 피트먼, 엘리자베스 칼. 현대지성',\n",
       " '그림책 리뷰',\n",
       " '동해선에서 읽은 책 61',\n",
       " 'Jane Kallir',\n",
       " '',\n",
       " '',\n",
       " \"'디자이너 생각위를 걷다'에서 느끼는 사업가의 삶의 지혜\",\n",
       " 'Feat. 부부가 둘 다 놀고 있습니다',\n",
       " '도파민네이션과 최선의 고통을 읽고',\n",
       " '집이라는 모험, 신순화',\n",
       " '1차원이 되고 싶어, 박상영',\n",
       " '나는 단순하게 살기로 했다, 사사키 후미오',\n",
       " 'by 스콧 피츠제럴드',\n",
       " \"'더티 워크'를 읽고 (소원책담 독서모임 - 담쟁이 독서회)\",\n",
       " '숏 컷 - 레이먼드 카버(집사재) ●●●●●●●◐○○',\n",
       " '최초의 직업 프로그래머는 여자라는 사실',\n",
       " '가난해지지 않는 마음, 양다솔',\n",
       " '고슴도치 엑스, 노인경']"
      ]
     },
     "execution_count": 24,
     "metadata": {},
     "output_type": "execute_result"
    }
   ],
   "source": [
    "book_titles = [webelement.text for webelement in elements]\n",
    "book_titles"
   ]
  },
  {
   "cell_type": "code",
   "execution_count": 26,
   "id": "ac22a970-7876-461d-a958-1f910309c5e7",
   "metadata": {
    "tags": []
   },
   "outputs": [],
   "source": [
    "import pandas as pd\n",
    "df = pd.DataFrame(book_titles)\n",
    "df.to_csv(\"yes_24books_quest.csv\")"
   ]
  },
  {
   "cell_type": "code",
   "execution_count": null,
   "id": "d48141ab-b2f9-4011-94b0-f873f63940f3",
   "metadata": {},
   "outputs": [],
   "source": []
  }
 ],
 "metadata": {
  "kernelspec": {
   "display_name": "Python 3 (ipykernel)",
   "language": "python",
   "name": "python3"
  },
  "language_info": {
   "codemirror_mode": {
    "name": "ipython",
    "version": 3
   },
   "file_extension": ".py",
   "mimetype": "text/x-python",
   "name": "python",
   "nbconvert_exporter": "python",
   "pygments_lexer": "ipython3",
   "version": "3.11.3"
  }
 },
 "nbformat": 4,
 "nbformat_minor": 5
}
