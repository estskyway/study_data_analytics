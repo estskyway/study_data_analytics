{
 "cells": [
  {
   "cell_type": "markdown",
   "id": "bdac7771-0c76-4c33-a16d-4233ef2ba5fb",
   "metadata": {},
   "source": [
    "## Github signin"
   ]
  },
  {
   "cell_type": "code",
   "execution_count": 1,
   "id": "96a4e7d8-4328-4928-93e7-45b8d87fef3b",
   "metadata": {
    "tags": []
   },
   "outputs": [],
   "source": [
    "from selenium import webdriver"
   ]
  },
  {
   "cell_type": "code",
   "execution_count": 2,
   "id": "21a02fba-0135-4380-bfee-b3e312ef0969",
   "metadata": {
    "tags": []
   },
   "outputs": [],
   "source": [
    "# open chrome browser\n",
    "browser = webdriver.Chrome(executable_path='../../../../chromedriver.exe')"
   ]
  },
  {
   "cell_type": "code",
   "execution_count": 3,
   "id": "6cc8ab7a-872e-48e6-9afb-c311da53e317",
   "metadata": {
    "tags": []
   },
   "outputs": [],
   "source": [
    "# url in address window(주소창에 url 입력)\n",
    "browser.get('https://github.com/')"
   ]
  },
  {
   "cell_type": "code",
   "execution_count": 4,
   "id": "320d036d-640f-449d-a40c-5239025b7bc6",
   "metadata": {
    "tags": []
   },
   "outputs": [
    {
     "data": {
      "text/plain": [
       "selenium.webdriver.chrome.webdriver.WebDriver"
      ]
     },
     "execution_count": 4,
     "metadata": {},
     "output_type": "execute_result"
    }
   ],
   "source": [
    "type(browser) # type: WebDriver(class)"
   ]
  },
  {
   "cell_type": "markdown",
   "id": "41b8332d-696e-4f4d-b35a-024ddcb56a92",
   "metadata": {},
   "source": [
    "### Login 화면 링크 tag\n",
    "- 접힘 메뉴 : body > div.logged-out.env-production.page-responsive.header-overlay.home-campaign > div.position-relative.js-header-wrapper > header > div > div.d-flex.flex-justify-between.flex-items-center.width-full.width-lg-auto > div.flex-1.flex-order-2.text-right > button > span > span\n",
    "- click tag :  div > div > div > a.HeaderMenu-link.HeaderMenu-link--sign-in"
   ]
  },
  {
   "cell_type": "code",
   "execution_count": 5,
   "id": "96eb2d4d-9747-4d0c-b7f4-702676165356",
   "metadata": {
    "tags": []
   },
   "outputs": [],
   "source": [
    "element_path = 'body > div.logged-out.env-production.page-responsive.header-overlay.home-campaign > div.position-relative.js-header-wrapper > header > div > div.d-flex.flex-justify-between.flex-items-center.width-full.width-lg-auto > div.flex-1.flex-order-2.text-right > button > span > span'\n",
    "collapsed_manu = browser.find_element_by_css_selector(element_path)\n",
    "collapsed_manu.click()"
   ]
  },
  {
   "cell_type": "code",
   "execution_count": 6,
   "id": "7edd7546-b936-4951-b9de-2797536b0e91",
   "metadata": {
    "tags": []
   },
   "outputs": [
    {
     "data": {
      "text/plain": [
       "selenium.webdriver.remote.webelement.WebElement"
      ]
     },
     "execution_count": 6,
     "metadata": {},
     "output_type": "execute_result"
    }
   ],
   "source": [
    "element_path = 'div > div > div > a.HeaderMenu-link.HeaderMenu-link--sign-in'\n",
    "signin_button = browser.find_element_by_css_selector(element_path)\n",
    "# 변수에 담을 필요가 없음 -> element_path 화면이 아니라 로그인 화면으로 바뀔 것이기 때문에\n",
    "# element를 find해서 action을 취하고 화면 전환을 하려고 하기 때문에 return받을 필요가 없음\n",
    "type(signin_button)"
   ]
  },
  {
   "cell_type": "code",
   "execution_count": 7,
   "id": "980df54a-988f-4486-af97-70cbf73e4714",
   "metadata": {
    "tags": []
   },
   "outputs": [
    {
     "data": {
      "text/plain": [
       "selenium.webdriver.remote.webelement.WebElement"
      ]
     },
     "execution_count": 7,
     "metadata": {},
     "output_type": "execute_result"
    }
   ],
   "source": [
    "type(signin_button) # type: WebElement(class)"
   ]
  },
  {
   "cell_type": "code",
   "execution_count": 8,
   "id": "ecc73b7a-bb96-4b6e-a945-160d7f656727",
   "metadata": {
    "tags": []
   },
   "outputs": [],
   "source": [
    "signin_button.click()"
   ]
  },
  {
   "cell_type": "markdown",
   "id": "278278a3-8aac-41d3-ba3d-4a3bcbeaea08",
   "metadata": {},
   "source": [
    "### Login 화면\n",
    "- user id input tag : #login_field\n",
    "- password input tag : # password\n",
    "- click tag : input.btn.btn-primary.btn-block.js-sign-in-button"
   ]
  },
  {
   "cell_type": "code",
   "execution_count": 12,
   "id": "4d00d870-8b31-4e98-8923-b411e0424065",
   "metadata": {
    "tags": []
   },
   "outputs": [],
   "source": [
    "element_path = '#login_field'\n",
    "login_field = browser.find_element_by_css_selector(element_path)\n",
    "login_field.send_keys('estskyway@gmail.com')"
   ]
  },
  {
   "cell_type": "code",
   "execution_count": 13,
   "id": "e84d3de0-725d-4967-9a0d-18b701f7753d",
   "metadata": {
    "tags": []
   },
   "outputs": [],
   "source": [
    "element_path = '#password'\n",
    "password_field = browser.find_element_by_css_selector(element_path)\n",
    "password_field.send_keys('')"
   ]
  },
  {
   "cell_type": "code",
   "execution_count": 14,
   "id": "321795ea-4109-4ccb-a9a3-b8ab83e03e37",
   "metadata": {
    "tags": []
   },
   "outputs": [],
   "source": [
    "element_path = 'input.btn.btn-primary.btn-block.js-sign-in-button'\n",
    "signin_field = browser.find_element_by_css_selector(element_path)\n",
    "signin_field.click()"
   ]
  },
  {
   "cell_type": "code",
   "execution_count": null,
   "id": "0e5fe28d-7635-419c-93d4-58cd3a23e078",
   "metadata": {},
   "outputs": [],
   "source": []
  },
  {
   "cell_type": "code",
   "execution_count": null,
   "id": "75fa2959-6ae8-4c8a-ba58-3a7391b50d14",
   "metadata": {
    "tags": []
   },
   "outputs": [],
   "source": [
    "# browser.quit()"
   ]
  },
  {
   "cell_type": "code",
   "execution_count": null,
   "id": "81a85125-51c2-42a6-9d1e-0ce06af3d278",
   "metadata": {},
   "outputs": [],
   "source": []
  }
 ],
 "metadata": {
  "kernelspec": {
   "display_name": "Python 3 (ipykernel)",
   "language": "python",
   "name": "python3"
  },
  "language_info": {
   "codemirror_mode": {
    "name": "ipython",
    "version": 3
   },
   "file_extension": ".py",
   "mimetype": "text/x-python",
   "name": "python",
   "nbconvert_exporter": "python",
   "pygments_lexer": "ipython3",
   "version": "3.11.3"
  }
 },
 "nbformat": 4,
 "nbformat_minor": 5
}
