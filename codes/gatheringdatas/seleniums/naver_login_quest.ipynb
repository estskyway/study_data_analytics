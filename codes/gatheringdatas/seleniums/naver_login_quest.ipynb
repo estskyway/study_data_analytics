{
 "cells": [
  {
   "cell_type": "markdown",
   "id": "c09c1329-9fa8-453b-91d5-eb15a1bb3fbb",
   "metadata": {},
   "source": [
    "- naver.com login\n",
    "- login 후에 메일로 이동"
   ]
  },
  {
   "cell_type": "markdown",
   "id": "d0330dfb-4cad-4169-b62e-b011c80027a5",
   "metadata": {},
   "source": [
    "## naver signin"
   ]
  },
  {
   "cell_type": "code",
   "execution_count": 32,
   "id": "62c9c06e-9bb7-457d-a7e6-4ef185cebe85",
   "metadata": {
    "tags": []
   },
   "outputs": [],
   "source": [
    "from selenium import webdriver\n",
    "browser = webdriver.Chrome(executable_path='../../../../chromedriver.exe')"
   ]
  },
  {
   "cell_type": "code",
   "execution_count": 33,
   "id": "0ca3b16e-927a-4d53-ba06-831e4fb6ab41",
   "metadata": {
    "tags": []
   },
   "outputs": [
    {
     "data": {
      "text/plain": [
       "selenium.webdriver.chrome.webdriver.WebDriver"
      ]
     },
     "execution_count": 33,
     "metadata": {},
     "output_type": "execute_result"
    }
   ],
   "source": [
    "browser.get('https://www.naver.com/')\n",
    "type(browser)"
   ]
  },
  {
   "cell_type": "markdown",
   "id": "007d1ac0-6da1-4150-947e-6f15c3045e5b",
   "metadata": {},
   "source": [
    "### Login 화면 링크 tag\n",
    "- 버튼 : #account > div > a"
   ]
  },
  {
   "cell_type": "code",
   "execution_count": 34,
   "id": "a554f00d-63f8-490b-bb0a-9d3b8472e487",
   "metadata": {
    "tags": []
   },
   "outputs": [],
   "source": [
    "element_path = '#account > div > a'\n",
    "collapsed_manu = browser.find_element_by_css_selector(element_path)\n",
    "collapsed_manu.click()"
   ]
  },
  {
   "cell_type": "code",
   "execution_count": 35,
   "id": "6796cf6b-c1bc-4389-a16f-bfc26d3bd087",
   "metadata": {
    "tags": []
   },
   "outputs": [],
   "source": [
    "# id\n",
    "element_path = '#id'\n",
    "login_field = browser.find_element_by_css_selector(element_path)\n",
    "login_field.send_keys('')"
   ]
  },
  {
   "cell_type": "code",
   "execution_count": 36,
   "id": "c9c04d7a-22fb-46df-85f1-0c9cd3d423e9",
   "metadata": {
    "tags": []
   },
   "outputs": [],
   "source": [
    "# password\n",
    "element_path = '#pw'\n",
    "password_field = browser.find_element_by_css_selector(element_path)\n",
    "password_field.send_keys('')"
   ]
  },
  {
   "cell_type": "code",
   "execution_count": 38,
   "id": "f62afef1-1de3-42f4-aa00-3026db7214ee",
   "metadata": {
    "tags": []
   },
   "outputs": [],
   "source": [
    "# 도용방지 문제 답\n",
    "element_path = '#captcha'\n",
    "password_field = browser.find_element_by_css_selector(element_path)\n",
    "password_field.send_keys('5')"
   ]
  },
  {
   "cell_type": "code",
   "execution_count": 37,
   "id": "e23a32e4-0bb2-4094-84dd-4eb395e95208",
   "metadata": {
    "tags": []
   },
   "outputs": [],
   "source": [
    "# 로그인 버튼 클릭\n",
    "element_path = '#log\\.login > span'\n",
    "signin_field = browser.find_element_by_css_selector(element_path)\n",
    "signin_field.click()"
   ]
  },
  {
   "cell_type": "code",
   "execution_count": 41,
   "id": "675e4040-7381-484b-92c6-1e46cb39a945",
   "metadata": {
    "tags": []
   },
   "outputs": [],
   "source": [
    "# 이메일 클릭\n",
    "element_path = '#shortcutArea > ul > li:nth-child(1) > a > span.service_icon.type_mail'\n",
    "collapsed_manu = browser.find_element_by_css_selector(element_path)\n",
    "collapsed_manu.click()"
   ]
  },
  {
   "cell_type": "code",
   "execution_count": null,
   "id": "17f354a0-1121-4cd1-922b-44d498a23266",
   "metadata": {},
   "outputs": [],
   "source": []
  }
 ],
 "metadata": {
  "kernelspec": {
   "display_name": "Python 3 (ipykernel)",
   "language": "python",
   "name": "python3"
  },
  "language_info": {
   "codemirror_mode": {
    "name": "ipython",
    "version": 3
   },
   "file_extension": ".py",
   "mimetype": "text/x-python",
   "name": "python",
   "nbconvert_exporter": "python",
   "pygments_lexer": "ipython3",
   "version": "3.11.3"
  }
 },
 "nbformat": 4,
 "nbformat_minor": 5
}
