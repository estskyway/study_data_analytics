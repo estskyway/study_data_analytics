{
 "cells": [
  {
   "cell_type": "code",
   "execution_count": 1,
   "id": "9ce12873-e593-46ac-87ba-fe432abd7fef",
   "metadata": {
    "tags": []
   },
   "outputs": [],
   "source": [
    "from selenium import webdriver"
   ]
  },
  {
   "cell_type": "code",
   "execution_count": 2,
   "id": "247a7a43-49c6-4bc8-b9fc-8ada6e0a941d",
   "metadata": {
    "tags": []
   },
   "outputs": [],
   "source": [
    "# open chrome browser\n",
    "browser = webdriver.Chrome(executable_path='../../../../chromedriver.exe')"
   ]
  },
  {
   "cell_type": "code",
   "execution_count": 3,
   "id": "34c48bf9-5a6b-4007-b20e-79e70162453e",
   "metadata": {
    "tags": []
   },
   "outputs": [],
   "source": [
    "browser.get('https://play.google.com/store/search?q=%ED%97%AC%EC%8A%A4%EC%BC%80%EC%96%B4%EC%95%B1&c=apps&hl=ko-KR')"
   ]
  },
  {
   "cell_type": "code",
   "execution_count": 4,
   "id": "4d6b6b33-bd71-45a8-a64d-f8ba669ad6f6",
   "metadata": {
    "tags": []
   },
   "outputs": [],
   "source": [
    "browser.implicitly_wait(10)"
   ]
  },
  {
   "cell_type": "code",
   "execution_count": 5,
   "id": "2fec86d7-a169-4c23-95e5-83b0ed27da5f",
   "metadata": {
    "tags": []
   },
   "outputs": [],
   "source": [
    "import pandas as pd\n",
    "import pymongo as mg\n",
    "import time"
   ]
  },
  {
   "cell_type": "code",
   "execution_count": 6,
   "id": "26664002-342b-4826-862b-4d57a1e9dd7c",
   "metadata": {
    "tags": []
   },
   "outputs": [
    {
     "name": "stdout",
     "output_type": "stream",
     "text": [
      "145 145\n",
      "current reviews_bundle count : 40\n",
      "current reviews_bundle count : 80\n",
      "current reviews_bundle count : 120\n",
      "Done 120\n",
      "service_name : Samsung Health(삼성 헬스), review count : 120\n",
      "473 473\n",
      "service_name : NH헬스케어, review count : 0\n",
      "30 30\n",
      "service_name : 케어헬스, review count : 0\n",
      "9 9\n",
      "Done 7\n",
      "service_name : 기업용 디지털 헬스케어 삼성화재 애니핏 프로(PRO), review count : 7\n",
      "3 3\n",
      "Done 40\n",
      "service_name : 애니핏 플러스 나에게 핏한 건강관리, review count : 40\n",
      "7 7\n",
      "service_name : SK VIEW 헬스케어, review count : 0\n",
      "33 33\n",
      "Done 14\n",
      "service_name : 헬스케치-건강검진 기반 건강지표/위험도 분석,맞춤 헬스, review count : 14\n",
      "6 6\n",
      "Done 1\n",
      "service_name : 헬스케어 건강관리서비스, review count : 1\n",
      "30 30\n",
      "service_name : PT쌤 - 운동 헬스 체중관리 체력테스트 홈트 기록, review count : 0\n",
      "3 3\n",
      "service_name : 플릭 - 운동일지, 운동기록, 운동일기, 운동루틴, review count : 0\n",
      "145 145\n",
      "current reviews_bundle count : 40\n",
      "current reviews_bundle count : 71\n",
      "current reviews_bundle count : 71\n",
      "Done 71\n",
      "service_name : Health4U, review count : 71\n",
      "1 1\n",
      "Done 40\n",
      "service_name : 플랜핏 - 헬스 홈트 운동 루틴 추천과 피트니스 기록, review count : 40\n",
      "274 274\n",
      "current reviews_bundle count : 40\n",
      "current reviews_bundle count : 80\n",
      "current reviews_bundle count : 94\n",
      "current reviews_bundle count : 94\n",
      "current reviews_bundle count : 94\n",
      "current reviews_bundle count : 94\n",
      "Done 94\n",
      "service_name : 현대해상 메디케어, review count : 94\n",
      "97 97\n",
      "current reviews_bundle count : 25\n",
      "current reviews_bundle count : 25\n",
      "Done 25\n",
      "service_name : 삼성생명 S-헬스케어, review count : 25\n",
      "973 973\n",
      "current reviews_bundle count : 40\n",
      "current reviews_bundle count : 40\n",
      "current reviews_bundle count : 40\n",
      "current reviews_bundle count : 40\n",
      "current reviews_bundle count : 40\n",
      "current reviews_bundle count : 40\n",
      "current reviews_bundle count : 40\n",
      "current reviews_bundle count : 80\n",
      "current reviews_bundle count : 120\n",
      "current reviews_bundle count : 160\n",
      "current reviews_bundle count : 189\n",
      "current reviews_bundle count : 189\n",
      "current reviews_bundle count : 189\n",
      "current reviews_bundle count : 189\n",
      "current reviews_bundle count : 189\n",
      "current reviews_bundle count : 189\n",
      "current reviews_bundle count : 189\n",
      "current reviews_bundle count : 189\n",
      "current reviews_bundle count : 189\n",
      "current reviews_bundle count : 189\n",
      "current reviews_bundle count : 189\n",
      "current reviews_bundle count : 189\n",
      "current reviews_bundle count : 189\n",
      "current reviews_bundle count : 189\n",
      "Done 189\n",
      "service_name : 운동닥터 - 헬스장 PT, 필라테스 찾기 필수 앱, review count : 189\n",
      "46 46\n",
      "current reviews_bundle count : 28\n",
      "Done 28\n",
      "service_name : 케어포미, review count : 28\n",
      "2 2\n",
      "Done 40\n",
      "service_name : 헬스 플랫폼, review count : 40\n",
      "135 135\n",
      "service_name : 온닥터, review count : 0\n",
      "60 60\n",
      "current reviews_bundle count : 35\n",
      "Done 35\n",
      "service_name : 빅케어, review count : 35\n",
      "2 2\n",
      "Done 40\n",
      "service_name : 채움건강, review count : 40\n",
      "230 230\n",
      "current reviews_bundle count : 40\n",
      "current reviews_bundle count : 80\n",
      "current reviews_bundle count : 120\n",
      "current reviews_bundle count : 141\n",
      "current reviews_bundle count : 141\n",
      "Done 141\n",
      "service_name : 오케어, review count : 141\n",
      "1 1\n",
      "Done 40\n",
      "service_name : 케어네이션 - 일감 찾기, 간병인, 동행인, 요양보호사, review count : 40\n"
     ]
    },
    {
     "ename": "IndexError",
     "evalue": "list index out of range",
     "output_type": "error",
     "traceback": [
      "\u001b[1;31m---------------------------------------------------------------------------\u001b[0m",
      "\u001b[1;31mIndexError\u001b[0m                                Traceback (most recent call last)",
      "Cell \u001b[1;32mIn[6], line 35\u001b[0m\n\u001b[0;32m     33\u001b[0m \u001b[38;5;28;01mimport\u001b[39;00m \u001b[38;5;21;01mre\u001b[39;00m  \u001b[38;5;66;03m# regexp function\u001b[39;00m\n\u001b[0;32m     34\u001b[0m result_list \u001b[38;5;241m=\u001b[39m re\u001b[38;5;241m.\u001b[39mfindall(\u001b[38;5;124mr\u001b[39m\u001b[38;5;124m'\u001b[39m\u001b[38;5;124m\\\u001b[39m\u001b[38;5;124md+\u001b[39m\u001b[38;5;124m'\u001b[39m, review_total_count_text)\n\u001b[1;32m---> 35\u001b[0m \u001b[38;5;28mprint\u001b[39m(result_list[\u001b[38;5;241m0\u001b[39m], \u001b[38;5;28mint\u001b[39m(result_list[\u001b[38;5;241m0\u001b[39m]))\n\u001b[0;32m     37\u001b[0m review_total_count \u001b[38;5;241m=\u001b[39m \u001b[38;5;28mint\u001b[39m(result_list[\u001b[38;5;241m0\u001b[39m])  \u001b[38;5;66;03m# 리뷰 총 갯수    \u001b[39;00m\n\u001b[0;32m     39\u001b[0m \u001b[38;5;66;03m# [service_name, company_name, app_information]\u001b[39;00m\n\u001b[0;32m     40\u001b[0m \n\u001b[0;32m     41\u001b[0m \u001b[38;5;66;03m# 댓글 팝업 띄우기(해당 리뷰 없을 시 대비한 방어 코드 작성 필요)\u001b[39;00m\n",
      "\u001b[1;31mIndexError\u001b[0m: list index out of range"
     ]
    }
   ],
   "source": [
    "client = mg.MongoClient(host='mongodb://localhost:27017')\n",
    "database = client['study_data_analytics']\n",
    "collection = database['googlestore_healthcare']\n",
    "\n",
    "\n",
    "# 서비스 앱에 대한 리스트\n",
    "click_path = 'section > div > div > div > div'\n",
    "company_list = browser.find_elements_by_css_selector(click_path)\n",
    "\n",
    "len(company_list)\n",
    "\n",
    "for company in company_list:\n",
    "    company.click()\n",
    "    time.sleep(2)\n",
    "\n",
    "    # 서비스 앱에 대한 정보 가져오기\n",
    "    try:\n",
    "        service_name = browser.find_element_by_css_selector('div > h1 > span').text\n",
    "    except :\n",
    "        service_name = str()\n",
    "    try :    \n",
    "        company_name = browser.find_element_by_css_selector('div.Il7kR > div > div > div > a > span').text\n",
    "    except : \n",
    "        company_name = str()\n",
    "    try :    \n",
    "        app_information = browser.find_element_by_css_selector('div:nth-child(1) > c-wiz:nth-child(2) > div > section > div').text\n",
    "    except :\n",
    "        app_information = str()\n",
    "    #### 리뷰 총 갯수 가져오기\n",
    "    ## 리뷰 총 갯수 tag : div:nth-child(1) > div.g1rdde\n",
    "    review_total_count_text = browser.find_element_by_css_selector('div:nth-child(1) > div.g1rdde').text\n",
    "    \n",
    "    import re  # regexp function\n",
    "    result_list = re.findall(r'\\d+', review_total_count_text)\n",
    "    print(result_list[0], int(result_list[0]))\n",
    "\n",
    "    review_total_count = int(result_list[0])  # 리뷰 총 갯수    \n",
    "\n",
    "    # [service_name, company_name, app_information]\n",
    "\n",
    "    # 댓글 팝업 띄우기(해당 리뷰 없을 시 대비한 방어 코드 작성 필요)\n",
    "    review_flag = True\n",
    "    try :\n",
    "        browser.find_element_by_xpath('//*/div/div/button/*[contains(text(), \"리뷰\")]').click()    \n",
    "    except :\n",
    "        review_flag = False\n",
    "    \n",
    "    # 회사 서비스에 대한 전체 리뷰 가져오기\n",
    "    serviceapp_columns_name = ['service_name', 'content', 'date', 'stars']\n",
    "    reviews_list = list()\n",
    "    if review_flag :\n",
    "        # 팝업 띄우기\n",
    "        reviews_bundle = browser.find_elements_by_css_selector('div.fysCi > div > div:nth-child(2) > div')\n",
    "        len(reviews_bundle)    \n",
    "\n",
    "        # 팝업 속 댓글 전체표시\n",
    "        review_standard_count_per = 40\n",
    "\n",
    "        loop_count_int = int(review_total_count / review_standard_count_per)\n",
    "        for count in range(1, loop_count_int+1) :\n",
    "            try :\n",
    "                reviews_bundle = browser.find_elements_by_css_selector('div.fysCi > div > div:nth-child(2) > div')\n",
    "                print('current reviews_bundle count : {}'.format(len(reviews_bundle)))\n",
    "                reviews_bundle[len(reviews_bundle)-1].click()\n",
    "                # print('current reviews_bundle count : {}'.format(len(reviews_bundle)))\n",
    "                time.sleep(3)\n",
    "            except :\n",
    "                print('pass')\n",
    "                pass\n",
    "        print('Done', len(reviews_bundle))\n",
    "        \n",
    "        # 팝업 댓글 수집\n",
    "        for review_bundle in reviews_bundle:\n",
    "            content = review_bundle.find_element_by_css_selector('div.h3YV2d').text\n",
    "            date = review_bundle.find_element_by_css_selector('header > div.Jx4nYe > span').text\n",
    "            stars = review_bundle.find_element_by_css_selector('header > div.Jx4nYe > div').get_attribute('aria-label')\n",
    "            review_list = [service_name, content, date, stars]\n",
    "            reviews_list.append(review_list)  # 리뷰에 대한 모든 것(특정 회사 서비스에 대한)\n",
    "\n",
    "        browser.back() # 팝업 닫기\n",
    "        # 저장 위한 작업\n",
    "        df_reviews = pd.DataFrame(data=reviews_list, columns=serviceapp_columns_name)\n",
    "        data_dict = df_reviews.to_dict(orient='records')\n",
    "        collection.insert_many(data_dict)\n",
    "        \n",
    "    print('service_name : {}, review count : {}'.format(service_name, len(reviews_list)))\n",
    "    browser.back() # 리스트로 돌아가기\n",
    "    time.sleep(3)\n",
    "print('Done')"
   ]
  },
  {
   "cell_type": "code",
   "execution_count": null,
   "id": "47841ccc-2baf-4c66-8def-70dd4a4f2d68",
   "metadata": {
    "tags": []
   },
   "outputs": [],
   "source": [
    "reviews_list"
   ]
  },
  {
   "cell_type": "code",
   "execution_count": null,
   "id": "422500ea-b89e-4f0c-a2d6-3fc68d016bec",
   "metadata": {
    "tags": []
   },
   "outputs": [],
   "source": []
  },
  {
   "cell_type": "code",
   "execution_count": null,
   "id": "4d67fade-edc7-4c88-a310-bc5f34c0dc2b",
   "metadata": {
    "tags": []
   },
   "outputs": [],
   "source": []
  },
  {
   "cell_type": "code",
   "execution_count": null,
   "id": "2cb1510e-1ec0-4a9e-9b9b-dcadb65f7a3b",
   "metadata": {},
   "outputs": [],
   "source": []
  }
 ],
 "metadata": {
  "kernelspec": {
   "display_name": "Python 3 (ipykernel)",
   "language": "python",
   "name": "python3"
  },
  "language_info": {
   "codemirror_mode": {
    "name": "ipython",
    "version": 3
   },
   "file_extension": ".py",
   "mimetype": "text/x-python",
   "name": "python",
   "nbconvert_exporter": "python",
   "pygments_lexer": "ipython3",
   "version": "3.11.3"
  }
 },
 "nbformat": 4,
 "nbformat_minor": 5
}
