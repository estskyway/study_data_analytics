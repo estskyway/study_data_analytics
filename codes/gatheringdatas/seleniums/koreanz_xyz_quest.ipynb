{
 "cells": [
  {
   "cell_type": "code",
   "execution_count": 51,
   "id": "6a8a6912-0141-4e78-9079-1930f81d3fcd",
   "metadata": {
    "tags": []
   },
   "outputs": [],
   "source": [
    "from selenium import webdriver\n",
    "import time\n",
    "import pandas as pd\n",
    "import pymongo as mg"
   ]
  },
  {
   "cell_type": "code",
   "execution_count": 52,
   "id": "a40c2d36-1bd0-4010-870f-908b6e11e11e",
   "metadata": {
    "tags": []
   },
   "outputs": [],
   "source": [
    "browser = webdriver.Chrome(executable_path='../../../../chromedriver.exe')"
   ]
  },
  {
   "cell_type": "code",
   "execution_count": 53,
   "id": "0532836c-0fe6-4a63-9122-e554b300ae39",
   "metadata": {
    "tags": []
   },
   "outputs": [],
   "source": [
    "browser.get('https://a73.koreanz.xyz/bbs/board.php?bo_table=tvdrama')"
   ]
  },
  {
   "cell_type": "code",
   "execution_count": 54,
   "id": "e6e882f5-d974-404a-a0d2-76370f6fcfdc",
   "metadata": {
    "tags": []
   },
   "outputs": [
    {
     "data": {
      "text/plain": [
       "selenium.webdriver.remote.webelement.WebElement"
      ]
     },
     "execution_count": 54,
     "metadata": {},
     "output_type": "execute_result"
    }
   ],
   "source": [
    "element_path = 'div.list-board > ul > li:nth-child(1)'\n",
    "element = browser.find_element_by_css_selector(element_path)   # 단수 찾기\n",
    "type(element)"
   ]
  },
  {
   "cell_type": "code",
   "execution_count": 55,
   "id": "6bc3d02e-153e-4a97-82e6-61d76aa09760",
   "metadata": {
    "tags": []
   },
   "outputs": [
    {
     "data": {
      "text/plain": [
       "'15474\\n오랫동안 당신을 기다렸습니다.13회.230906\\nM 최고관리자\\n01:00 3246'"
      ]
     },
     "execution_count": 55,
     "metadata": {},
     "output_type": "execute_result"
    }
   ],
   "source": [
    "element.text"
   ]
  },
  {
   "cell_type": "code",
   "execution_count": 56,
   "id": "7686216d-e9bd-4bbf-a99b-ac99f879ed3b",
   "metadata": {
    "tags": []
   },
   "outputs": [
    {
     "data": {
      "text/plain": [
       "'list-item'"
      ]
     },
     "execution_count": 56,
     "metadata": {},
     "output_type": "execute_result"
    }
   ],
   "source": [
    "element.get_attribute('class')"
   ]
  },
  {
   "cell_type": "code",
   "execution_count": 60,
   "id": "ed402f54-b211-4c3f-94d4-f512f08bde28",
   "metadata": {
    "tags": []
   },
   "outputs": [],
   "source": [
    "client = mg.MongoClient(host='mongodb://localhost:27017')\n",
    "database = client['study_data_analytics']\n",
    "collection = database['koreanz_xyz_quest']"
   ]
  },
  {
   "cell_type": "code",
   "execution_count": 59,
   "id": "2f8185a6-779d-49e8-bf8b-38fa05cb778f",
   "metadata": {
    "tags": []
   },
   "outputs": [
    {
     "name": "stdout",
     "output_type": "stream",
     "text": [
      "15474\n",
      "오랫동안 당신을 기다렸습니다.13회.230906\n",
      "M 최고관리자\n",
      "01:00 3246\n",
      "['AllViewer 720p', 'https://www.broviewer.net/?id=5230907_003623']\n",
      "['Watchvid 720p', 'https://www.watchvid.net/?fid=5230907_003605']\n",
      "['Watchvid 450p', 'https://www.watchvid.net/?fid=c5230907_003605']\n",
      "['Everyvid 720p', 'https://www.everyvid.net/?fid=5230907_003605']\n",
      "['Everyvid 450p', 'https://www.everyvid.net/?fid=c5230907_003605']\n",
      "['Supervid6 720p', 'https://www6.supervid.net/2023/09/e13230906_6.html']\n",
      "['Supervid6 450p', 'https://www6.supervid.net/2023/09/e13230906.html']\n",
      "['Filemoon 720p', 'https://filemoon.sx/e/qkpqq483bsdr']\n",
      "['Filemoon 450p', 'https://filemoon.sx/e/6cd11873jck7']\n",
      "['Cloudvideo 720p', 'https://cloudvideo.tv/embed-o6er00kvq7n4.html']\n",
      "['Cloudvideo 450p', 'https://cloudvideo.tv/embed-5694xyb4lpz1.html']\n",
      "['Lulu 720p', 'https://lulustream.com/e/2re3caa5jmga']\n",
      "['Lulu 450p', 'https://lulustream.com/e/htjki34krmoi']\n",
      "15473\n",
      "이 연애는 불가항력.5회.230906 1\n",
      "M 최고관리자\n",
      "00:00 2386\n",
      "['AllViewer 720p', 'https://www.broviewer.net/?id=5230907_003623']\n",
      "['Watchvid 720p', 'https://www.watchvid.net/?fid=5230907_003605']\n",
      "['Watchvid 450p', 'https://www.watchvid.net/?fid=c5230907_003605']\n",
      "['Everyvid 720p', 'https://www.everyvid.net/?fid=5230907_003605']\n",
      "['Everyvid 450p', 'https://www.everyvid.net/?fid=c5230907_003605']\n",
      "['Supervid6 720p', 'https://www6.supervid.net/2023/09/e13230906_6.html']\n",
      "['Supervid6 450p', 'https://www6.supervid.net/2023/09/e13230906.html']\n",
      "['Filemoon 720p', 'https://filemoon.sx/e/qkpqq483bsdr']\n",
      "['Filemoon 450p', 'https://filemoon.sx/e/6cd11873jck7']\n",
      "['Cloudvideo 720p', 'https://cloudvideo.tv/embed-o6er00kvq7n4.html']\n",
      "['Cloudvideo 450p', 'https://cloudvideo.tv/embed-5694xyb4lpz1.html']\n",
      "['Lulu 720p', 'https://lulustream.com/e/2re3caa5jmga']\n",
      "['Lulu 450p', 'https://lulustream.com/e/htjki34krmoi']\n",
      "15472\n",
      "금이야 옥이야.114회.230906\n",
      "M 최고관리자\n",
      "09.06 1439\n",
      "['AllViewer 720p', 'https://www.broviewer.net/?id=5230907_003623']\n",
      "['Watchvid 720p', 'https://www.watchvid.net/?fid=5230907_003605']\n",
      "['Watchvid 450p', 'https://www.watchvid.net/?fid=c5230907_003605']\n",
      "['Everyvid 720p', 'https://www.everyvid.net/?fid=5230907_003605']\n",
      "['Everyvid 450p', 'https://www.everyvid.net/?fid=c5230907_003605']\n",
      "['Supervid6 720p', 'https://www6.supervid.net/2023/09/e13230906_6.html']\n",
      "['Supervid6 450p', 'https://www6.supervid.net/2023/09/e13230906.html']\n",
      "['Filemoon 720p', 'https://filemoon.sx/e/qkpqq483bsdr']\n",
      "['Filemoon 450p', 'https://filemoon.sx/e/6cd11873jck7']\n",
      "['Cloudvideo 720p', 'https://cloudvideo.tv/embed-o6er00kvq7n4.html']\n",
      "['Cloudvideo 450p', 'https://cloudvideo.tv/embed-5694xyb4lpz1.html']\n",
      "['Lulu 720p', 'https://lulustream.com/e/2re3caa5jmga']\n",
      "['Lulu 450p', 'https://lulustream.com/e/htjki34krmoi']\n",
      "15471\n",
      "우아한 제국.22회.230906\n",
      "M 최고관리자\n",
      "09.06 997\n",
      "['AllViewer 720p', 'https://www.broviewer.net/?id=5230907_003623']\n",
      "['Watchvid 720p', 'https://www.watchvid.net/?fid=5230907_003605']\n",
      "['Watchvid 450p', 'https://www.watchvid.net/?fid=c5230907_003605']\n",
      "['Everyvid 720p', 'https://www.everyvid.net/?fid=5230907_003605']\n",
      "['Everyvid 450p', 'https://www.everyvid.net/?fid=c5230907_003605']\n",
      "['Supervid6 720p', 'https://www6.supervid.net/2023/09/e13230906_6.html']\n",
      "['Supervid6 450p', 'https://www6.supervid.net/2023/09/e13230906.html']\n",
      "['Filemoon 720p', 'https://filemoon.sx/e/qkpqq483bsdr']\n",
      "['Filemoon 450p', 'https://filemoon.sx/e/6cd11873jck7']\n",
      "['Cloudvideo 720p', 'https://cloudvideo.tv/embed-o6er00kvq7n4.html']\n",
      "['Cloudvideo 450p', 'https://cloudvideo.tv/embed-5694xyb4lpz1.html']\n",
      "['Lulu 720p', 'https://lulustream.com/e/2re3caa5jmga']\n",
      "['Lulu 450p', 'https://lulustream.com/e/htjki34krmoi']\n",
      "15470\n",
      "하늘의 인연.100회.230906\n",
      "M 최고관리자\n",
      "09.06 1536\n",
      "['AllViewer 720p', 'https://www.broviewer.net/?id=5230907_003623']\n",
      "['Watchvid 720p', 'https://www.watchvid.net/?fid=5230907_003605']\n",
      "['Watchvid 450p', 'https://www.watchvid.net/?fid=c5230907_003605']\n",
      "['Everyvid 720p', 'https://www.everyvid.net/?fid=5230907_003605']\n",
      "['Everyvid 450p', 'https://www.everyvid.net/?fid=c5230907_003605']\n",
      "['Supervid6 720p', 'https://www6.supervid.net/2023/09/e13230906_6.html']\n",
      "['Supervid6 450p', 'https://www6.supervid.net/2023/09/e13230906.html']\n",
      "['Filemoon 720p', 'https://filemoon.sx/e/qkpqq483bsdr']\n",
      "['Filemoon 450p', 'https://filemoon.sx/e/6cd11873jck7']\n",
      "['Cloudvideo 720p', 'https://cloudvideo.tv/embed-o6er00kvq7n4.html']\n",
      "['Cloudvideo 450p', 'https://cloudvideo.tv/embed-5694xyb4lpz1.html']\n",
      "['Lulu 720p', 'https://lulustream.com/e/2re3caa5jmga']\n",
      "['Lulu 450p', 'https://lulustream.com/e/htjki34krmoi']\n",
      "15469\n",
      "무빙.15회.230906 1\n",
      "M 최고관리자\n",
      "09.06 11804\n",
      "['AllViewer 720p', 'https://www.broviewer.net/?id=5230907_003623']\n",
      "['Watchvid 720p', 'https://www.watchvid.net/?fid=5230907_003605']\n",
      "['Watchvid 450p', 'https://www.watchvid.net/?fid=c5230907_003605']\n",
      "['Everyvid 720p', 'https://www.everyvid.net/?fid=5230907_003605']\n",
      "['Everyvid 450p', 'https://www.everyvid.net/?fid=c5230907_003605']\n",
      "['Supervid6 720p', 'https://www6.supervid.net/2023/09/e13230906_6.html']\n",
      "['Supervid6 450p', 'https://www6.supervid.net/2023/09/e13230906.html']\n",
      "['Filemoon 720p', 'https://filemoon.sx/e/qkpqq483bsdr']\n",
      "['Filemoon 450p', 'https://filemoon.sx/e/6cd11873jck7']\n",
      "['Cloudvideo 720p', 'https://cloudvideo.tv/embed-o6er00kvq7n4.html']\n",
      "['Cloudvideo 450p', 'https://cloudvideo.tv/embed-5694xyb4lpz1.html']\n",
      "['Lulu 720p', 'https://lulustream.com/e/2re3caa5jmga']\n",
      "['Lulu 450p', 'https://lulustream.com/e/htjki34krmoi']\n",
      "15468\n",
      "무빙.14회.230906 1\n",
      "M 최고관리자\n",
      "09.06 15831\n",
      "['AllViewer 720p', 'https://www.broviewer.net/?id=5230907_003623']\n",
      "['Watchvid 720p', 'https://www.watchvid.net/?fid=5230907_003605']\n",
      "['Watchvid 450p', 'https://www.watchvid.net/?fid=c5230907_003605']\n",
      "['Everyvid 720p', 'https://www.everyvid.net/?fid=5230907_003605']\n",
      "['Everyvid 450p', 'https://www.everyvid.net/?fid=c5230907_003605']\n",
      "['Supervid6 720p', 'https://www6.supervid.net/2023/09/e13230906_6.html']\n",
      "['Supervid6 450p', 'https://www6.supervid.net/2023/09/e13230906.html']\n",
      "['Filemoon 720p', 'https://filemoon.sx/e/qkpqq483bsdr']\n",
      "['Filemoon 450p', 'https://filemoon.sx/e/6cd11873jck7']\n",
      "['Cloudvideo 720p', 'https://cloudvideo.tv/embed-o6er00kvq7n4.html']\n",
      "['Cloudvideo 450p', 'https://cloudvideo.tv/embed-5694xyb4lpz1.html']\n",
      "['Lulu 720p', 'https://lulustream.com/e/2re3caa5jmga']\n",
      "['Lulu 450p', 'https://lulustream.com/e/htjki34krmoi']\n",
      "15467\n",
      "신병 시즌2.4회.230905\n",
      "M 최고관리자\n",
      "09.06 6401\n",
      "['AllViewer 720p', 'https://www.broviewer.net/?id=5230907_003623']\n",
      "['Watchvid 720p', 'https://www.watchvid.net/?fid=5230907_003605']\n",
      "['Watchvid 450p', 'https://www.watchvid.net/?fid=c5230907_003605']\n",
      "['Everyvid 720p', 'https://www.everyvid.net/?fid=5230907_003605']\n",
      "['Everyvid 450p', 'https://www.everyvid.net/?fid=c5230907_003605']\n",
      "['Supervid6 720p', 'https://www6.supervid.net/2023/09/e13230906_6.html']\n",
      "['Supervid6 450p', 'https://www6.supervid.net/2023/09/e13230906.html']\n",
      "['Filemoon 720p', 'https://filemoon.sx/e/qkpqq483bsdr']\n",
      "['Filemoon 450p', 'https://filemoon.sx/e/6cd11873jck7']\n",
      "['Cloudvideo 720p', 'https://cloudvideo.tv/embed-o6er00kvq7n4.html']\n",
      "['Cloudvideo 450p', 'https://cloudvideo.tv/embed-5694xyb4lpz1.html']\n",
      "['Lulu 720p', 'https://lulustream.com/e/2re3caa5jmga']\n",
      "['Lulu 450p', 'https://lulustream.com/e/htjki34krmoi']\n",
      "15466\n",
      "\"순정복서.6회.230905\n",
      "M 최고관리자\n",
      "09.06 1772\n",
      "['AllViewer 720p', 'https://www.broviewer.net/?id=5230907_003623']\n",
      "['Watchvid 720p', 'https://www.watchvid.net/?fid=5230907_003605']\n",
      "['Watchvid 450p', 'https://www.watchvid.net/?fid=c5230907_003605']\n",
      "['Everyvid 720p', 'https://www.everyvid.net/?fid=5230907_003605']\n",
      "['Everyvid 450p', 'https://www.everyvid.net/?fid=c5230907_003605']\n",
      "['Supervid6 720p', 'https://www6.supervid.net/2023/09/e13230906_6.html']\n",
      "['Supervid6 450p', 'https://www6.supervid.net/2023/09/e13230906.html']\n",
      "['Filemoon 720p', 'https://filemoon.sx/e/qkpqq483bsdr']\n",
      "['Filemoon 450p', 'https://filemoon.sx/e/6cd11873jck7']\n",
      "['Cloudvideo 720p', 'https://cloudvideo.tv/embed-o6er00kvq7n4.html']\n",
      "['Cloudvideo 450p', 'https://cloudvideo.tv/embed-5694xyb4lpz1.html']\n",
      "['Lulu 720p', 'https://lulustream.com/e/2re3caa5jmga']\n",
      "['Lulu 450p', 'https://lulustream.com/e/htjki34krmoi']\n",
      "15465\n",
      "\"소용없어 거짓말.12회.230905\n",
      "M 최고관리자\n",
      "09.06 2761\n",
      "['AllViewer 720p', 'https://www.broviewer.net/?id=5230907_003623']\n",
      "['Watchvid 720p', 'https://www.watchvid.net/?fid=5230907_003605']\n",
      "['Watchvid 450p', 'https://www.watchvid.net/?fid=c5230907_003605']\n",
      "['Everyvid 720p', 'https://www.everyvid.net/?fid=5230907_003605']\n",
      "['Everyvid 450p', 'https://www.everyvid.net/?fid=c5230907_003605']\n",
      "['Supervid6 720p', 'https://www6.supervid.net/2023/09/e13230906_6.html']\n",
      "['Supervid6 450p', 'https://www6.supervid.net/2023/09/e13230906.html']\n",
      "['Filemoon 720p', 'https://filemoon.sx/e/qkpqq483bsdr']\n",
      "['Filemoon 450p', 'https://filemoon.sx/e/6cd11873jck7']\n",
      "['Cloudvideo 720p', 'https://cloudvideo.tv/embed-o6er00kvq7n4.html']\n",
      "['Cloudvideo 450p', 'https://cloudvideo.tv/embed-5694xyb4lpz1.html']\n",
      "['Lulu 720p', 'https://lulustream.com/e/2re3caa5jmga']\n",
      "['Lulu 450p', 'https://lulustream.com/e/htjki34krmoi']\n",
      "15464\n",
      "\"금이야 옥이야.113회.230905\n",
      "M 최고관리자\n",
      "09.06 911\n",
      "['AllViewer 720p', 'https://www.broviewer.net/?id=5230907_003623']\n",
      "['Watchvid 720p', 'https://www.watchvid.net/?fid=5230907_003605']\n",
      "['Watchvid 450p', 'https://www.watchvid.net/?fid=c5230907_003605']\n",
      "['Everyvid 720p', 'https://www.everyvid.net/?fid=5230907_003605']\n",
      "['Everyvid 450p', 'https://www.everyvid.net/?fid=c5230907_003605']\n",
      "['Supervid6 720p', 'https://www6.supervid.net/2023/09/e13230906_6.html']\n",
      "['Supervid6 450p', 'https://www6.supervid.net/2023/09/e13230906.html']\n",
      "['Filemoon 720p', 'https://filemoon.sx/e/qkpqq483bsdr']\n",
      "['Filemoon 450p', 'https://filemoon.sx/e/6cd11873jck7']\n",
      "['Cloudvideo 720p', 'https://cloudvideo.tv/embed-o6er00kvq7n4.html']\n",
      "['Cloudvideo 450p', 'https://cloudvideo.tv/embed-5694xyb4lpz1.html']\n",
      "['Lulu 720p', 'https://lulustream.com/e/2re3caa5jmga']\n",
      "['Lulu 450p', 'https://lulustream.com/e/htjki34krmoi']\n",
      "15463\n",
      "순정복서.6회.230905\n",
      "M 최고관리자\n",
      "09.05 1271\n",
      "['AllViewer 720p', 'https://www.broviewer.net/?id=5230907_003623']\n",
      "['Watchvid 720p', 'https://www.watchvid.net/?fid=5230907_003605']\n",
      "['Watchvid 450p', 'https://www.watchvid.net/?fid=c5230907_003605']\n",
      "['Everyvid 720p', 'https://www.everyvid.net/?fid=5230907_003605']\n",
      "['Everyvid 450p', 'https://www.everyvid.net/?fid=c5230907_003605']\n",
      "['Supervid6 720p', 'https://www6.supervid.net/2023/09/e13230906_6.html']\n",
      "['Supervid6 450p', 'https://www6.supervid.net/2023/09/e13230906.html']\n",
      "['Filemoon 720p', 'https://filemoon.sx/e/qkpqq483bsdr']\n",
      "['Filemoon 450p', 'https://filemoon.sx/e/6cd11873jck7']\n",
      "['Cloudvideo 720p', 'https://cloudvideo.tv/embed-o6er00kvq7n4.html']\n",
      "['Cloudvideo 450p', 'https://cloudvideo.tv/embed-5694xyb4lpz1.html']\n",
      "['Lulu 720p', 'https://lulustream.com/e/2re3caa5jmga']\n",
      "['Lulu 450p', 'https://lulustream.com/e/htjki34krmoi']\n",
      "15462\n",
      "소용없어 거짓말.12회.230905\n",
      "M 최고관리자\n",
      "09.05 2117\n",
      "['AllViewer 720p', 'https://www.broviewer.net/?id=5230907_003623']\n",
      "['Watchvid 720p', 'https://www.watchvid.net/?fid=5230907_003605']\n",
      "['Watchvid 450p', 'https://www.watchvid.net/?fid=c5230907_003605']\n",
      "['Everyvid 720p', 'https://www.everyvid.net/?fid=5230907_003605']\n",
      "['Everyvid 450p', 'https://www.everyvid.net/?fid=c5230907_003605']\n",
      "['Supervid6 720p', 'https://www6.supervid.net/2023/09/e13230906_6.html']\n",
      "['Supervid6 450p', 'https://www6.supervid.net/2023/09/e13230906.html']\n",
      "['Filemoon 720p', 'https://filemoon.sx/e/qkpqq483bsdr']\n",
      "['Filemoon 450p', 'https://filemoon.sx/e/6cd11873jck7']\n",
      "['Cloudvideo 720p', 'https://cloudvideo.tv/embed-o6er00kvq7n4.html']\n",
      "['Cloudvideo 450p', 'https://cloudvideo.tv/embed-5694xyb4lpz1.html']\n",
      "['Lulu 720p', 'https://lulustream.com/e/2re3caa5jmga']\n",
      "['Lulu 450p', 'https://lulustream.com/e/htjki34krmoi']\n",
      "15461\n",
      "\"하늘의 인연.99회.230905\n",
      "M 최고관리자\n",
      "09.05 943\n",
      "['AllViewer 720p', 'https://www.broviewer.net/?id=5230907_003623']\n",
      "['Watchvid 720p', 'https://www.watchvid.net/?fid=5230907_003605']\n",
      "['Watchvid 450p', 'https://www.watchvid.net/?fid=c5230907_003605']\n",
      "['Everyvid 720p', 'https://www.everyvid.net/?fid=5230907_003605']\n",
      "['Everyvid 450p', 'https://www.everyvid.net/?fid=c5230907_003605']\n",
      "['Supervid6 720p', 'https://www6.supervid.net/2023/09/e13230906_6.html']\n",
      "['Supervid6 450p', 'https://www6.supervid.net/2023/09/e13230906.html']\n",
      "['Filemoon 720p', 'https://filemoon.sx/e/qkpqq483bsdr']\n",
      "['Filemoon 450p', 'https://filemoon.sx/e/6cd11873jck7']\n",
      "['Cloudvideo 720p', 'https://cloudvideo.tv/embed-o6er00kvq7n4.html']\n",
      "['Cloudvideo 450p', 'https://cloudvideo.tv/embed-5694xyb4lpz1.html']\n",
      "['Lulu 720p', 'https://lulustream.com/e/2re3caa5jmga']\n",
      "['Lulu 450p', 'https://lulustream.com/e/htjki34krmoi']\n",
      "15460\n",
      "금이야 옥이야.113회.230905\n",
      "M 최고관리자\n",
      "09.05 1148\n",
      "['AllViewer 720p', 'https://www.broviewer.net/?id=5230907_003623']\n",
      "['Watchvid 720p', 'https://www.watchvid.net/?fid=5230907_003605']\n",
      "['Watchvid 450p', 'https://www.watchvid.net/?fid=c5230907_003605']\n",
      "['Everyvid 720p', 'https://www.everyvid.net/?fid=5230907_003605']\n",
      "['Everyvid 450p', 'https://www.everyvid.net/?fid=c5230907_003605']\n",
      "['Supervid6 720p', 'https://www6.supervid.net/2023/09/e13230906_6.html']\n",
      "['Supervid6 450p', 'https://www6.supervid.net/2023/09/e13230906.html']\n",
      "['Filemoon 720p', 'https://filemoon.sx/e/qkpqq483bsdr']\n",
      "['Filemoon 450p', 'https://filemoon.sx/e/6cd11873jck7']\n",
      "['Cloudvideo 720p', 'https://cloudvideo.tv/embed-o6er00kvq7n4.html']\n",
      "['Cloudvideo 450p', 'https://cloudvideo.tv/embed-5694xyb4lpz1.html']\n",
      "['Lulu 720p', 'https://lulustream.com/e/2re3caa5jmga']\n",
      "['Lulu 450p', 'https://lulustream.com/e/htjki34krmoi']\n",
      "15459\n",
      "우아한 제국.21회.230905\n",
      "M 최고관리자\n",
      "09.05 1219\n",
      "['AllViewer 720p', 'https://www.broviewer.net/?id=5230907_003623']\n",
      "['Watchvid 720p', 'https://www.watchvid.net/?fid=5230907_003605']\n",
      "['Watchvid 450p', 'https://www.watchvid.net/?fid=c5230907_003605']\n",
      "['Everyvid 720p', 'https://www.everyvid.net/?fid=5230907_003605']\n",
      "['Everyvid 450p', 'https://www.everyvid.net/?fid=c5230907_003605']\n",
      "['Supervid6 720p', 'https://www6.supervid.net/2023/09/e13230906_6.html']\n",
      "['Supervid6 450p', 'https://www6.supervid.net/2023/09/e13230906.html']\n",
      "['Filemoon 720p', 'https://filemoon.sx/e/qkpqq483bsdr']\n",
      "['Filemoon 450p', 'https://filemoon.sx/e/6cd11873jck7']\n",
      "['Cloudvideo 720p', 'https://cloudvideo.tv/embed-o6er00kvq7n4.html']\n",
      "['Cloudvideo 450p', 'https://cloudvideo.tv/embed-5694xyb4lpz1.html']\n",
      "['Lulu 720p', 'https://lulustream.com/e/2re3caa5jmga']\n",
      "['Lulu 450p', 'https://lulustream.com/e/htjki34krmoi']\n",
      "15458\n",
      "하늘의 인연.99회.230905\n",
      "M 최고관리자\n",
      "09.05 1211\n",
      "['AllViewer 720p', 'https://www.broviewer.net/?id=5230907_003623']\n",
      "['Watchvid 720p', 'https://www.watchvid.net/?fid=5230907_003605']\n",
      "['Watchvid 450p', 'https://www.watchvid.net/?fid=c5230907_003605']\n",
      "['Everyvid 720p', 'https://www.everyvid.net/?fid=5230907_003605']\n",
      "['Everyvid 450p', 'https://www.everyvid.net/?fid=c5230907_003605']\n",
      "['Supervid6 720p', 'https://www6.supervid.net/2023/09/e13230906_6.html']\n",
      "['Supervid6 450p', 'https://www6.supervid.net/2023/09/e13230906.html']\n",
      "['Filemoon 720p', 'https://filemoon.sx/e/qkpqq483bsdr']\n",
      "['Filemoon 450p', 'https://filemoon.sx/e/6cd11873jck7']\n",
      "['Cloudvideo 720p', 'https://cloudvideo.tv/embed-o6er00kvq7n4.html']\n",
      "['Cloudvideo 450p', 'https://cloudvideo.tv/embed-5694xyb4lpz1.html']\n",
      "['Lulu 720p', 'https://lulustream.com/e/2re3caa5jmga']\n",
      "['Lulu 450p', 'https://lulustream.com/e/htjki34krmoi']\n",
      "15457\n",
      "신병 시즌2.3회.230905\n",
      "M 최고관리자\n",
      "09.05 6033\n",
      "실패 : .list-item\n"
     ]
    }
   ],
   "source": [
    "client = mg.MongoClient(host='mongodb://localhost:27017')\n",
    "database = client['study_data_analytics']\n",
    "collection = database['koreanz_xyz_quest']\n",
    "drama_columns_name = ['number', 'content', 'manager', 'date', 'count', 'link_name', 'link']\n",
    "for page_number in range(3, 13):  # 첫 페이지는 tag 달라짐\n",
    "    element_path = 'div.list-page.text-center > ul > li:nth-child({})'.format(page_number)\n",
    "    element_path = '.list-item'\n",
    "    try:\n",
    "        elements = browser.find_elements_by_css_selector(element_path)\n",
    "        for webelement in elements : \n",
    "            try :\n",
    "                print(webelement.text)\n",
    "                browser.find_element_by_css_selector('.list-item').click()\n",
    "                time.sleep(2)\n",
    "                element1_path = 'div.view-content > div > a'\n",
    "                elements = browser.find_elements_by_css_selector(element1_path)\n",
    "\n",
    "\n",
    "                element1_list = []\n",
    "                for element in elements:\n",
    "                    element_text = element.text\n",
    "                    element_href = element.get_attribute('href')\n",
    "                    element1_list.append([element_text, element_href])\n",
    "\n",
    "                # 결과 출력\n",
    "                for element1 in element1_list:\n",
    "                    print(element1)\n",
    "                browser.back()\n",
    "                \n",
    "                # 저장 위한 작업 \n",
    "                df_drama = pd.DataFrame(data=element1_list, columns=drama_columns_name)\n",
    "                data_dict = df_drama.to_dict(orient='records')\n",
    "                collection.insert_many(data_dict)   \n",
    "                \n",
    "            except :\n",
    "                pass\n",
    "                \n",
    "\n",
    "    except :\n",
    "        print('실패 : {}'.format(element_path))\n",
    "        pass\n"
   ]
  },
  {
   "cell_type": "code",
   "execution_count": 61,
   "id": "ab55b658-bb34-420b-9274-26493f2193a7",
   "metadata": {
    "tags": []
   },
   "outputs": [
    {
     "ename": "ValueError",
     "evalue": "7 columns passed, passed data had 2 columns",
     "output_type": "error",
     "traceback": [
      "\u001b[1;31m---------------------------------------------------------------------------\u001b[0m",
      "\u001b[1;31mAssertionError\u001b[0m                            Traceback (most recent call last)",
      "File \u001b[1;32m~\\anaconda3\\Lib\\site-packages\\pandas\\core\\internals\\construction.py:969\u001b[0m, in \u001b[0;36m_finalize_columns_and_data\u001b[1;34m(content, columns, dtype)\u001b[0m\n\u001b[0;32m    968\u001b[0m \u001b[38;5;28;01mtry\u001b[39;00m:\n\u001b[1;32m--> 969\u001b[0m     columns \u001b[38;5;241m=\u001b[39m _validate_or_indexify_columns(contents, columns)\n\u001b[0;32m    970\u001b[0m \u001b[38;5;28;01mexcept\u001b[39;00m \u001b[38;5;167;01mAssertionError\u001b[39;00m \u001b[38;5;28;01mas\u001b[39;00m err:\n\u001b[0;32m    971\u001b[0m     \u001b[38;5;66;03m# GH#26429 do not raise user-facing AssertionError\u001b[39;00m\n",
      "File \u001b[1;32m~\\anaconda3\\Lib\\site-packages\\pandas\\core\\internals\\construction.py:1017\u001b[0m, in \u001b[0;36m_validate_or_indexify_columns\u001b[1;34m(content, columns)\u001b[0m\n\u001b[0;32m   1015\u001b[0m \u001b[38;5;28;01mif\u001b[39;00m \u001b[38;5;129;01mnot\u001b[39;00m is_mi_list \u001b[38;5;129;01mand\u001b[39;00m \u001b[38;5;28mlen\u001b[39m(columns) \u001b[38;5;241m!=\u001b[39m \u001b[38;5;28mlen\u001b[39m(content):  \u001b[38;5;66;03m# pragma: no cover\u001b[39;00m\n\u001b[0;32m   1016\u001b[0m     \u001b[38;5;66;03m# caller's responsibility to check for this...\u001b[39;00m\n\u001b[1;32m-> 1017\u001b[0m     \u001b[38;5;28;01mraise\u001b[39;00m \u001b[38;5;167;01mAssertionError\u001b[39;00m(\n\u001b[0;32m   1018\u001b[0m         \u001b[38;5;124mf\u001b[39m\u001b[38;5;124m\"\u001b[39m\u001b[38;5;132;01m{\u001b[39;00m\u001b[38;5;28mlen\u001b[39m(columns)\u001b[38;5;132;01m}\u001b[39;00m\u001b[38;5;124m columns passed, passed data had \u001b[39m\u001b[38;5;124m\"\u001b[39m\n\u001b[0;32m   1019\u001b[0m         \u001b[38;5;124mf\u001b[39m\u001b[38;5;124m\"\u001b[39m\u001b[38;5;132;01m{\u001b[39;00m\u001b[38;5;28mlen\u001b[39m(content)\u001b[38;5;132;01m}\u001b[39;00m\u001b[38;5;124m columns\u001b[39m\u001b[38;5;124m\"\u001b[39m\n\u001b[0;32m   1020\u001b[0m     )\n\u001b[0;32m   1021\u001b[0m \u001b[38;5;28;01melif\u001b[39;00m is_mi_list:\n\u001b[0;32m   1022\u001b[0m \n\u001b[0;32m   1023\u001b[0m     \u001b[38;5;66;03m# check if nested list column, length of each sub-list should be equal\u001b[39;00m\n",
      "\u001b[1;31mAssertionError\u001b[0m: 7 columns passed, passed data had 2 columns",
      "\nThe above exception was the direct cause of the following exception:\n",
      "\u001b[1;31mValueError\u001b[0m                                Traceback (most recent call last)",
      "Cell \u001b[1;32mIn[61], line 1\u001b[0m\n\u001b[1;32m----> 1\u001b[0m df_drama \u001b[38;5;241m=\u001b[39m pd\u001b[38;5;241m.\u001b[39mDataFrame(data\u001b[38;5;241m=\u001b[39melement1_list, columns\u001b[38;5;241m=\u001b[39mdrama_columns_name)\n\u001b[0;32m      2\u001b[0m data_dict \u001b[38;5;241m=\u001b[39m df_drama\u001b[38;5;241m.\u001b[39mto_dict(orient\u001b[38;5;241m=\u001b[39m\u001b[38;5;124m'\u001b[39m\u001b[38;5;124mrecords\u001b[39m\u001b[38;5;124m'\u001b[39m)\n\u001b[0;32m      3\u001b[0m collection\u001b[38;5;241m.\u001b[39minsert_many(data_dict)\n",
      "File \u001b[1;32m~\\anaconda3\\Lib\\site-packages\\pandas\\core\\frame.py:746\u001b[0m, in \u001b[0;36mDataFrame.__init__\u001b[1;34m(self, data, index, columns, dtype, copy)\u001b[0m\n\u001b[0;32m    744\u001b[0m     \u001b[38;5;28;01mif\u001b[39;00m columns \u001b[38;5;129;01mis\u001b[39;00m \u001b[38;5;129;01mnot\u001b[39;00m \u001b[38;5;28;01mNone\u001b[39;00m:\n\u001b[0;32m    745\u001b[0m         columns \u001b[38;5;241m=\u001b[39m ensure_index(columns)\n\u001b[1;32m--> 746\u001b[0m     arrays, columns, index \u001b[38;5;241m=\u001b[39m nested_data_to_arrays(\n\u001b[0;32m    747\u001b[0m         \u001b[38;5;66;03m# error: Argument 3 to \"nested_data_to_arrays\" has incompatible\u001b[39;00m\n\u001b[0;32m    748\u001b[0m         \u001b[38;5;66;03m# type \"Optional[Collection[Any]]\"; expected \"Optional[Index]\"\u001b[39;00m\n\u001b[0;32m    749\u001b[0m         data,\n\u001b[0;32m    750\u001b[0m         columns,\n\u001b[0;32m    751\u001b[0m         index,  \u001b[38;5;66;03m# type: ignore[arg-type]\u001b[39;00m\n\u001b[0;32m    752\u001b[0m         dtype,\n\u001b[0;32m    753\u001b[0m     )\n\u001b[0;32m    754\u001b[0m     mgr \u001b[38;5;241m=\u001b[39m arrays_to_mgr(\n\u001b[0;32m    755\u001b[0m         arrays,\n\u001b[0;32m    756\u001b[0m         columns,\n\u001b[1;32m   (...)\u001b[0m\n\u001b[0;32m    759\u001b[0m         typ\u001b[38;5;241m=\u001b[39mmanager,\n\u001b[0;32m    760\u001b[0m     )\n\u001b[0;32m    761\u001b[0m \u001b[38;5;28;01melse\u001b[39;00m:\n",
      "File \u001b[1;32m~\\anaconda3\\Lib\\site-packages\\pandas\\core\\internals\\construction.py:510\u001b[0m, in \u001b[0;36mnested_data_to_arrays\u001b[1;34m(data, columns, index, dtype)\u001b[0m\n\u001b[0;32m    507\u001b[0m \u001b[38;5;28;01mif\u001b[39;00m is_named_tuple(data[\u001b[38;5;241m0\u001b[39m]) \u001b[38;5;129;01mand\u001b[39;00m columns \u001b[38;5;129;01mis\u001b[39;00m \u001b[38;5;28;01mNone\u001b[39;00m:\n\u001b[0;32m    508\u001b[0m     columns \u001b[38;5;241m=\u001b[39m ensure_index(data[\u001b[38;5;241m0\u001b[39m]\u001b[38;5;241m.\u001b[39m_fields)\n\u001b[1;32m--> 510\u001b[0m arrays, columns \u001b[38;5;241m=\u001b[39m to_arrays(data, columns, dtype\u001b[38;5;241m=\u001b[39mdtype)\n\u001b[0;32m    511\u001b[0m columns \u001b[38;5;241m=\u001b[39m ensure_index(columns)\n\u001b[0;32m    513\u001b[0m \u001b[38;5;28;01mif\u001b[39;00m index \u001b[38;5;129;01mis\u001b[39;00m \u001b[38;5;28;01mNone\u001b[39;00m:\n",
      "File \u001b[1;32m~\\anaconda3\\Lib\\site-packages\\pandas\\core\\internals\\construction.py:875\u001b[0m, in \u001b[0;36mto_arrays\u001b[1;34m(data, columns, dtype)\u001b[0m\n\u001b[0;32m    872\u001b[0m     data \u001b[38;5;241m=\u001b[39m [\u001b[38;5;28mtuple\u001b[39m(x) \u001b[38;5;28;01mfor\u001b[39;00m x \u001b[38;5;129;01min\u001b[39;00m data]\n\u001b[0;32m    873\u001b[0m     arr \u001b[38;5;241m=\u001b[39m _list_to_arrays(data)\n\u001b[1;32m--> 875\u001b[0m content, columns \u001b[38;5;241m=\u001b[39m _finalize_columns_and_data(arr, columns, dtype)\n\u001b[0;32m    876\u001b[0m \u001b[38;5;28;01mreturn\u001b[39;00m content, columns\n",
      "File \u001b[1;32m~\\anaconda3\\Lib\\site-packages\\pandas\\core\\internals\\construction.py:972\u001b[0m, in \u001b[0;36m_finalize_columns_and_data\u001b[1;34m(content, columns, dtype)\u001b[0m\n\u001b[0;32m    969\u001b[0m     columns \u001b[38;5;241m=\u001b[39m _validate_or_indexify_columns(contents, columns)\n\u001b[0;32m    970\u001b[0m \u001b[38;5;28;01mexcept\u001b[39;00m \u001b[38;5;167;01mAssertionError\u001b[39;00m \u001b[38;5;28;01mas\u001b[39;00m err:\n\u001b[0;32m    971\u001b[0m     \u001b[38;5;66;03m# GH#26429 do not raise user-facing AssertionError\u001b[39;00m\n\u001b[1;32m--> 972\u001b[0m     \u001b[38;5;28;01mraise\u001b[39;00m \u001b[38;5;167;01mValueError\u001b[39;00m(err) \u001b[38;5;28;01mfrom\u001b[39;00m \u001b[38;5;21;01merr\u001b[39;00m\n\u001b[0;32m    974\u001b[0m \u001b[38;5;28;01mif\u001b[39;00m \u001b[38;5;28mlen\u001b[39m(contents) \u001b[38;5;129;01mand\u001b[39;00m contents[\u001b[38;5;241m0\u001b[39m]\u001b[38;5;241m.\u001b[39mdtype \u001b[38;5;241m==\u001b[39m np\u001b[38;5;241m.\u001b[39mobject_:\n\u001b[0;32m    975\u001b[0m     contents \u001b[38;5;241m=\u001b[39m _convert_object_array(contents, dtype\u001b[38;5;241m=\u001b[39mdtype)\n",
      "\u001b[1;31mValueError\u001b[0m: 7 columns passed, passed data had 2 columns"
     ]
    }
   ],
   "source": [
    "df_drama = pd.DataFrame(data=element1_list, columns=drama_columns_name)\n",
    "data_dict = df_drama.to_dict(orient='records')\n",
    "collection.insert_many(data_dict) "
   ]
  },
  {
   "cell_type": "code",
   "execution_count": 8,
   "id": "772c67cc-a465-4360-b2ad-5df7cbdcecd0",
   "metadata": {
    "tags": []
   },
   "outputs": [],
   "source": [
    "# element_path = '.list-item'\n",
    "# elements = browser.find_elements_by_css_selector(element_path)\n",
    "# for webelement in elements : \n",
    "#     try :\n",
    "#         print(webelement.text)\n",
    "#         browser.find_element_by_css_selector('div.list-board > ul > li:nth-child(1) > div.wr-subject > a').click()\n",
    "#         element1_path = 'div.view-content > div > a'\n",
    "#         elements = browser.find_elements_by_css_selector(element1_path)\n",
    "\n",
    "        \n",
    "#         element1_list = []\n",
    "#         for element in elements:\n",
    "#             element_text = element.text\n",
    "#             element_href = element.get_attribute('href')\n",
    "#             element1_list.append([element_text, element_href])\n",
    "\n",
    "#         # 결과 출력\n",
    "#         for element1 in element1_list:\n",
    "#             print(element1)\n",
    "#         browser.back()\n",
    "       \n",
    "#     except :\n",
    "#         pass"
   ]
  },
  {
   "cell_type": "code",
   "execution_count": 9,
   "id": "2adddc92-dd4a-4e82-b7b2-55cca673700d",
   "metadata": {
    "tags": []
   },
   "outputs": [],
   "source": [
    "# element_path = '.list-item'\n",
    "# elements = browser.find_elements_by_css_selector(element_path)\n",
    "# for webelement in elements : \n",
    "#     try :\n",
    "#         print(webelement.text)\n",
    "#         browser.find_element_by_css_selector('div.list-board > ul > li:nth-child(1) > div.wr-subject > a').click()\n",
    "#         element1_path = 'div.view-content > div > a'\n",
    "#         elements = browser.find_elements_by_css_selector(element1_path)\n",
    "\n",
    "        \n",
    "#         element1_list = []\n",
    "#         for element in elements:\n",
    "#             element_text = element.text\n",
    "#             element_href = element.get_attribute('href')\n",
    "#             element1_list.append([element_text, element_href])\n",
    "\n",
    "#         # 결과 출력\n",
    "#         for element1 in element1_list:\n",
    "#             print(element1)\n",
    "#         browser.back()\n",
    "       \n",
    "#     except :\n",
    "#         pass\n",
    "\n",
    "# for page_number in range(3, 13):  # 첫 페이지는 tag 달라짐\n",
    "#     element_path = 'div.list-page.text-center > ul > li:nth-child({})'.format(page_number)\n",
    "#     try :\n",
    "#         pagination = browser.find_element_by_css_selector(element_path)\n",
    "#         pagination.click()    \n",
    "#         print('성공 : {}'.format(element_path))\n",
    "\n",
    "#         time.sleep(3)\n",
    "#         element_title_path = '.pagination en no-margin'\n",
    "#         webelements = browser.find_elements_by_css_selector(element_title_path)\n",
    "\n",
    "#         for webelement in webelements:\n",
    "#             try :\n",
    "#                 print(webelement.text)\n",
    "#             except :\n",
    "#                 pass\n",
    "\n",
    "#     except :\n",
    "#         print('실패 : {}'.format(element_path))\n",
    "#         pass"
   ]
  },
  {
   "cell_type": "code",
   "execution_count": 10,
   "id": "cdfe7ca6-16ff-497b-a0c5-5fdf3510e723",
   "metadata": {
    "tags": []
   },
   "outputs": [],
   "source": [
    "# element_path = '.list-item'\n",
    "# elements = browser.find_elements_by_css_selector(element_path)\n",
    "# type(elements), type(elements[0])"
   ]
  },
  {
   "cell_type": "code",
   "execution_count": 11,
   "id": "d86e2d68-cb65-4123-a20c-57d95d0e3519",
   "metadata": {
    "tags": []
   },
   "outputs": [],
   "source": [
    "# for webelement in elements : \n",
    "#     try :\n",
    "#         print(webelement.text)\n",
    "#     except :\n",
    "#         pass"
   ]
  },
  {
   "cell_type": "code",
   "execution_count": 12,
   "id": "5cefb3af-6c12-45fc-9779-7b86b661e9db",
   "metadata": {
    "tags": []
   },
   "outputs": [],
   "source": [
    "# browser.find_element_by_css_selector('div.list-board > ul > li:nth-child(1) > div.wr-subject > a').click()"
   ]
  },
  {
   "cell_type": "code",
   "execution_count": 13,
   "id": "3b655a22-9ddb-418c-bfdf-8d81d335815e",
   "metadata": {
    "tags": []
   },
   "outputs": [],
   "source": [
    "# element1_path = 'div.view-content > div > a'\n",
    "# elements = browser.find_elements_by_css_selector(element1_path)\n",
    "\n",
    "# # 엘리먼트를 순회하면서 text와 href 속성을 추출하여 리스트에 저장\n",
    "# element1_list = []\n",
    "# for element in elements:\n",
    "#     element_text = element.text\n",
    "#     element_href = element.get_attribute('href')\n",
    "#     element1_list.append([element_text, element_href])\n",
    "\n",
    "# # 결과 출력\n",
    "# for element1 in element1_list:\n",
    "#     print(element1)\n"
   ]
  },
  {
   "cell_type": "code",
   "execution_count": null,
   "id": "b4a8e1da-81db-49cc-a3d5-b8f8317e9d39",
   "metadata": {
    "tags": []
   },
   "outputs": [],
   "source": []
  },
  {
   "cell_type": "code",
   "execution_count": null,
   "id": "d8cd987e-d411-4cdb-910b-95c27ca7a88c",
   "metadata": {
    "tags": []
   },
   "outputs": [],
   "source": []
  },
  {
   "cell_type": "code",
   "execution_count": null,
   "id": "db0eba6a-27d9-4fe0-abbc-90c4a0762538",
   "metadata": {
    "tags": []
   },
   "outputs": [],
   "source": []
  },
  {
   "cell_type": "code",
   "execution_count": null,
   "id": "4f073bfc-5bb9-45cd-b951-41ae0007c7b1",
   "metadata": {},
   "outputs": [],
   "source": []
  }
 ],
 "metadata": {
  "kernelspec": {
   "display_name": "Python 3 (ipykernel)",
   "language": "python",
   "name": "python3"
  },
  "language_info": {
   "codemirror_mode": {
    "name": "ipython",
    "version": 3
   },
   "file_extension": ".py",
   "mimetype": "text/x-python",
   "name": "python",
   "nbconvert_exporter": "python",
   "pygments_lexer": "ipython3",
   "version": "3.11.3"
  }
 },
 "nbformat": 4,
 "nbformat_minor": 5
}
