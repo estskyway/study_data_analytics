{
 "cells": [
  {
   "cell_type": "code",
   "execution_count": 1,
   "id": "6a8a6912-0141-4e78-9079-1930f81d3fcd",
   "metadata": {
    "tags": []
   },
   "outputs": [],
   "source": [
    "from selenium import webdriver\n",
    "import time\n",
    "import pandas as pd\n",
    "import pymongo as mg"
   ]
  },
  {
   "cell_type": "code",
   "execution_count": 2,
   "id": "a40c2d36-1bd0-4010-870f-908b6e11e11e",
   "metadata": {
    "tags": []
   },
   "outputs": [],
   "source": [
    "browser = webdriver.Chrome(executable_path='../../../../chromedriver.exe')"
   ]
  },
  {
   "cell_type": "code",
   "execution_count": 3,
   "id": "0532836c-0fe6-4a63-9122-e554b300ae39",
   "metadata": {
    "tags": []
   },
   "outputs": [],
   "source": [
    "browser.get('https://a73.koreanz.xyz/bbs/board.php?bo_table=tvdrama')"
   ]
  },
  {
   "cell_type": "code",
   "execution_count": 4,
   "id": "e6e882f5-d974-404a-a0d2-76370f6fcfdc",
   "metadata": {
    "tags": []
   },
   "outputs": [
    {
     "data": {
      "text/plain": [
       "selenium.webdriver.remote.webelement.WebElement"
      ]
     },
     "execution_count": 4,
     "metadata": {},
     "output_type": "execute_result"
    }
   ],
   "source": [
    "element_path = 'div.list-board > ul > li:nth-child(1)'\n",
    "element = browser.find_element_by_css_selector(element_path)   # 단수 찾기\n",
    "type(element)"
   ]
  },
  {
   "cell_type": "code",
   "execution_count": 5,
   "id": "6bc3d02e-153e-4a97-82e6-61d76aa09760",
   "metadata": {
    "tags": []
   },
   "outputs": [
    {
     "data": {
      "text/plain": [
       "'15495\\n\"이 연애는 불가항력.6회.230907\\nM 최고관리자\\n10:00 8'"
      ]
     },
     "execution_count": 5,
     "metadata": {},
     "output_type": "execute_result"
    }
   ],
   "source": [
    "element.text"
   ]
  },
  {
   "cell_type": "code",
   "execution_count": 6,
   "id": "7686216d-e9bd-4bbf-a99b-ac99f879ed3b",
   "metadata": {
    "tags": []
   },
   "outputs": [
    {
     "data": {
      "text/plain": [
       "'list-item'"
      ]
     },
     "execution_count": 6,
     "metadata": {},
     "output_type": "execute_result"
    }
   ],
   "source": [
    "element.get_attribute('class')"
   ]
  },
  {
   "cell_type": "code",
   "execution_count": 7,
   "id": "ed402f54-b211-4c3f-94d4-f512f08bde28",
   "metadata": {
    "tags": []
   },
   "outputs": [],
   "source": [
    "client = mg.MongoClient(host='mongodb://localhost:27017')\n",
    "database = client['study_data_analytics']\n",
    "collection = database['koreanz_xyz_quest']"
   ]
  },
  {
   "cell_type": "code",
   "execution_count": 36,
   "id": "2f8185a6-779d-49e8-bf8b-38fa05cb778f",
   "metadata": {
    "tags": []
   },
   "outputs": [
    {
     "name": "stdout",
     "output_type": "stream",
     "text": [
      "15495\n",
      "\"이 연애는 불가항력.6회.230907\n",
      "M 최고관리자\n",
      "10:00 8\n",
      "['LINK-1', 'https://n02.newsdaum.com/bbs/board.php?bo_table=k05&wr_id=14193']\n",
      "15494\n",
      "\"오랫동안 당신을 기다렸습니다.14회.230907\n",
      "M 최고관리자\n",
      "10:00 17\n",
      "['LINK-1', 'https://n02.newsdaum.com/bbs/board.php?bo_table=k05&wr_id=14193']\n",
      "15493\n",
      "\"국민사형투표.5회.230907\n",
      "M 최고관리자\n",
      "10:00 18\n",
      "['LINK-1', 'https://n02.newsdaum.com/bbs/board.php?bo_table=k05&wr_id=14193']\n",
      "15492\n",
      "\"금이야 옥이야.115회.230907\n",
      "M 최고관리자\n",
      "10:00 3\n",
      "['LINK-1', 'https://n02.newsdaum.com/bbs/board.php?bo_table=k05&wr_id=14193']\n",
      "15491\n",
      "\"우아한 제국.23회.230907\n",
      "M 최고관리자\n",
      "10:00 5\n",
      "['LINK-1', 'https://n02.newsdaum.com/bbs/board.php?bo_table=k05&wr_id=14193']\n",
      "15490\n",
      "준과 준.8회.230907\n",
      "M 최고관리자\n",
      "00:00 299\n",
      "['LINK-1', 'https://n02.newsdaum.com/bbs/board.php?bo_table=k05&wr_id=14193']\n",
      "15489\n",
      "이 연애는 불가항력.6회.230907 1\n",
      "M 최고관리자\n",
      "00:00 1352\n"
     ]
    }
   ],
   "source": [
    "client = mg.MongoClient(host='mongodb://localhost:27017')\n",
    "database = client['study_data_analytics']\n",
    "collection = database['koreanz_xyz_quest']\n",
    "drama_columns_name = ['number', 'content', 'manager', 'date', 'count', 'link_name', 'link']\n",
    "for page_number in range(4, 13):  # 첫 페이지는 tag 달라짐\n",
    "    element_path = 'div.list-page.text-center > ul > li:nth-child({})'.format(page_number)\n",
    "    element_path = '.list-item'\n",
    "    try:\n",
    "        elements = browser.find_elements_by_css_selector(element_path)\n",
    "        for webelement in elements : \n",
    "            try :\n",
    "                print(webelement.text)\n",
    "                browser.find_element_by_css_selector('.list-item').click()\n",
    "                time.sleep(1)\n",
    "                element1_path = 'div.view-content > div > a'\n",
    "                elements = browser.find_elements_by_css_selector(element1_path)\n",
    "\n",
    "                # elements_total_list = []\n",
    "                element1_list = []\n",
    "                for element in elements:\n",
    "                    element_text = element.text\n",
    "                    element_href = element.get_attribute('href')\n",
    "                    element1_list.append([element_text, element_href])\n",
    "                    # elements_total_list.append([webelement.text, element_text, element_href])\n",
    "\n",
    "                # 결과 출력\n",
    "                for element1 in element1_list:\n",
    "                    print(element1)\n",
    "                browser.back()\n",
    "                time.sleep(2)\n",
    "                # 저장 위한 작업 \n",
    "                df_drama = pd.DataFrame(data=element1, columns=drama_columns_name)\n",
    "                data_dict = df_drama.to_dict(orient='records')\n",
    "                collection.insert_many(data_dict)   \n",
    "                \n",
    "            except :\n",
    "                pass\n",
    "                \n",
    "\n",
    "    except :\n",
    "        print('실패 : {}'.format(element_path))\n",
    "        pass\n"
   ]
  },
  {
   "cell_type": "code",
   "execution_count": 9,
   "id": "ab55b658-bb34-420b-9274-26493f2193a7",
   "metadata": {
    "tags": []
   },
   "outputs": [],
   "source": [
    "# df_drama = pd.DataFrame(data=element1_list, columns=drama_columns_name)\n",
    "# data_dict = df_drama.to_dict(orient='records')\n",
    "# collection.insert_many(data_dict) "
   ]
  },
  {
   "cell_type": "code",
   "execution_count": 32,
   "id": "5534e648-1c61-4d9c-b26f-2911d6e02ae9",
   "metadata": {
    "tags": []
   },
   "outputs": [
    {
     "data": {
      "text/plain": [
       "[]"
      ]
     },
     "execution_count": 32,
     "metadata": {},
     "output_type": "execute_result"
    }
   ],
   "source": [
    "elements_list"
   ]
  },
  {
   "cell_type": "code",
   "execution_count": 10,
   "id": "772c67cc-a465-4360-b2ad-5df7cbdcecd0",
   "metadata": {
    "tags": []
   },
   "outputs": [],
   "source": [
    "# element_path = '.list-item'\n",
    "# elements = browser.find_elements_by_css_selector(element_path)\n",
    "# for webelement in elements : \n",
    "#     try :\n",
    "#         print(webelement.text)\n",
    "#         browser.find_element_by_css_selector('div.list-board > ul > li:nth-child(1) > div.wr-subject > a').click()\n",
    "#         element1_path = 'div.view-content > div > a'\n",
    "#         elements = browser.find_elements_by_css_selector(element1_path)\n",
    "\n",
    "        \n",
    "#         element1_list = []\n",
    "#         for element in elements:\n",
    "#             element_text = element.text\n",
    "#             element_href = element.get_attribute('href')\n",
    "#             element1_list.append([element_text, element_href])\n",
    "\n",
    "#         # 결과 출력\n",
    "#         for element1 in element1_list:\n",
    "#             print(element1)\n",
    "#         browser.back()\n",
    "       \n",
    "#     except :\n",
    "#         pass"
   ]
  },
  {
   "cell_type": "code",
   "execution_count": 11,
   "id": "2adddc92-dd4a-4e82-b7b2-55cca673700d",
   "metadata": {
    "tags": []
   },
   "outputs": [],
   "source": [
    "# element_path = '.list-item'\n",
    "# elements = browser.find_elements_by_css_selector(element_path)\n",
    "# for webelement in elements : \n",
    "#     try :\n",
    "#         print(webelement.text)\n",
    "#         browser.find_element_by_css_selector('div.list-board > ul > li:nth-child(1) > div.wr-subject > a').click()\n",
    "#         element1_path = 'div.view-content > div > a'\n",
    "#         elements = browser.find_elements_by_css_selector(element1_path)\n",
    "\n",
    "        \n",
    "#         element1_list = []\n",
    "#         for element in elements:\n",
    "#             element_text = element.text\n",
    "#             element_href = element.get_attribute('href')\n",
    "#             element1_list.append([element_text, element_href])\n",
    "\n",
    "#         # 결과 출력\n",
    "#         for element1 in element1_list:\n",
    "#             print(element1)\n",
    "#         browser.back()\n",
    "       \n",
    "#     except :\n",
    "#         pass\n",
    "\n",
    "# for page_number in range(3, 13):  # 첫 페이지는 tag 달라짐\n",
    "#     element_path = 'div.list-page.text-center > ul > li:nth-child({})'.format(page_number)\n",
    "#     try :\n",
    "#         pagination = browser.find_element_by_css_selector(element_path)\n",
    "#         pagination.click()    \n",
    "#         print('성공 : {}'.format(element_path))\n",
    "\n",
    "#         time.sleep(3)\n",
    "#         element_title_path = '.pagination en no-margin'\n",
    "#         webelements = browser.find_elements_by_css_selector(element_title_path)\n",
    "\n",
    "#         for webelement in webelements:\n",
    "#             try :\n",
    "#                 print(webelement.text)\n",
    "#             except :\n",
    "#                 pass\n",
    "\n",
    "#     except :\n",
    "#         print('실패 : {}'.format(element_path))\n",
    "#         pass"
   ]
  },
  {
   "cell_type": "code",
   "execution_count": 12,
   "id": "cdfe7ca6-16ff-497b-a0c5-5fdf3510e723",
   "metadata": {
    "tags": []
   },
   "outputs": [],
   "source": [
    "# element_path = '.list-item'\n",
    "# elements = browser.find_elements_by_css_selector(element_path)\n",
    "# type(elements), type(elements[0])"
   ]
  },
  {
   "cell_type": "code",
   "execution_count": 13,
   "id": "d86e2d68-cb65-4123-a20c-57d95d0e3519",
   "metadata": {
    "tags": []
   },
   "outputs": [],
   "source": [
    "# for webelement in elements : \n",
    "#     try :\n",
    "#         print(webelement.text)\n",
    "#     except :\n",
    "#         pass"
   ]
  },
  {
   "cell_type": "code",
   "execution_count": 14,
   "id": "5cefb3af-6c12-45fc-9779-7b86b661e9db",
   "metadata": {
    "tags": []
   },
   "outputs": [],
   "source": [
    "# browser.find_element_by_css_selector('div.list-board > ul > li:nth-child(1) > div.wr-subject > a').click()"
   ]
  },
  {
   "cell_type": "code",
   "execution_count": 15,
   "id": "3b655a22-9ddb-418c-bfdf-8d81d335815e",
   "metadata": {
    "tags": []
   },
   "outputs": [],
   "source": [
    "# element1_path = 'div.view-content > div > a'\n",
    "# elements = browser.find_elements_by_css_selector(element1_path)\n",
    "\n",
    "# # 엘리먼트를 순회하면서 text와 href 속성을 추출하여 리스트에 저장\n",
    "# element1_list = []\n",
    "# for element in elements:\n",
    "#     element_text = element.text\n",
    "#     element_href = element.get_attribute('href')\n",
    "#     element1_list.append([element_text, element_href])\n",
    "\n",
    "# # 결과 출력\n",
    "# for element1 in element1_list:\n",
    "#     print(element1)\n"
   ]
  },
  {
   "cell_type": "code",
   "execution_count": null,
   "id": "b4a8e1da-81db-49cc-a3d5-b8f8317e9d39",
   "metadata": {
    "tags": []
   },
   "outputs": [],
   "source": []
  },
  {
   "cell_type": "code",
   "execution_count": null,
   "id": "d8cd987e-d411-4cdb-910b-95c27ca7a88c",
   "metadata": {
    "tags": []
   },
   "outputs": [],
   "source": []
  },
  {
   "cell_type": "code",
   "execution_count": null,
   "id": "db0eba6a-27d9-4fe0-abbc-90c4a0762538",
   "metadata": {
    "tags": []
   },
   "outputs": [],
   "source": []
  },
  {
   "cell_type": "code",
   "execution_count": null,
   "id": "4f073bfc-5bb9-45cd-b951-41ae0007c7b1",
   "metadata": {},
   "outputs": [],
   "source": []
  }
 ],
 "metadata": {
  "kernelspec": {
   "display_name": "Python 3 (ipykernel)",
   "language": "python",
   "name": "python3"
  },
  "language_info": {
   "codemirror_mode": {
    "name": "ipython",
    "version": 3
   },
   "file_extension": ".py",
   "mimetype": "text/x-python",
   "name": "python",
   "nbconvert_exporter": "python",
   "pygments_lexer": "ipython3",
   "version": "3.11.3"
  }
 },
 "nbformat": 4,
 "nbformat_minor": 5
}
