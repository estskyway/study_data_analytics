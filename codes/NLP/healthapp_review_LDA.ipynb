{
 "cells": [
  {
   "cell_type": "markdown",
   "metadata": {
    "colab_type": "text",
    "id": "view-in-github"
   },
   "source": [
    "<a href=\"https://colab.research.google.com/github/estskyway/study_data_analytics/blob/main/codes/NLP/healthapp_review_LDA.ipynb\" target=\"_parent\"><img src=\"https://colab.research.google.com/assets/colab-badge.svg\" alt=\"Open In Colab\"/></a>"
   ]
  },
  {
   "cell_type": "markdown",
   "metadata": {
    "id": "J99zDjFPjZcf"
   },
   "source": [
    "refer : https://heytech.tistory.com/401"
   ]
  },
  {
   "cell_type": "code",
   "execution_count": null,
   "metadata": {
    "id": "C29a-ReHiLVV"
   },
   "outputs": [],
   "source": [
    "# !pip install python-mecab-ko pyLDAvis"
   ]
  },
  {
   "cell_type": "code",
   "execution_count": null,
   "metadata": {
    "id": "eXKMFkzOjX0Z"
   },
   "outputs": [],
   "source": [
    "import numpy as np"
   ]
  },
  {
   "cell_type": "markdown",
   "metadata": {
    "id": "MGnoreh6o1Z8"
   },
   "source": [
    "## 전처리"
   ]
  },
  {
   "cell_type": "code",
   "execution_count": null,
   "metadata": {
    "colab": {
     "base_uri": "https://localhost:8080/",
     "height": 164
    },
    "id": "L3PA0KVcpFch",
    "outputId": "3c1af243-41d3-4bcb-a337-2dd1ba1d016e"
   },
   "outputs": [
    {
     "data": {
      "text/html": [
       "\n",
       "  <div id=\"df-4ec813ae-ffdf-4c14-81e7-78b965f13142\" class=\"colab-df-container\">\n",
       "    <div>\n",
       "<style scoped>\n",
       "    .dataframe tbody tr th:only-of-type {\n",
       "        vertical-align: middle;\n",
       "    }\n",
       "\n",
       "    .dataframe tbody tr th {\n",
       "        vertical-align: top;\n",
       "    }\n",
       "\n",
       "    .dataframe thead th {\n",
       "        text-align: right;\n",
       "    }\n",
       "</style>\n",
       "<table border=\"1\" class=\"dataframe\">\n",
       "  <thead>\n",
       "    <tr style=\"text-align: right;\">\n",
       "      <th></th>\n",
       "      <th>Unnamed: 0</th>\n",
       "      <th>app</th>\n",
       "      <th>review</th>\n",
       "      <th>rating</th>\n",
       "      <th>tokenized_review</th>\n",
       "      <th>replaced_review</th>\n",
       "    </tr>\n",
       "  </thead>\n",
       "  <tbody>\n",
       "    <tr>\n",
       "      <th>0</th>\n",
       "      <td>1072</td>\n",
       "      <td>매일 운동 - 운동 &amp; 피트니스 트레이너 - 빠르고 효율적인 운동</td>\n",
       "      <td>너무 힘들다</td>\n",
       "      <td>1</td>\n",
       "      <td>NaN</td>\n",
       "      <td>NaN</td>\n",
       "    </tr>\n",
       "    <tr>\n",
       "      <th>1</th>\n",
       "      <td>1167</td>\n",
       "      <td>매일 운동 - 운동 &amp; 피트니스 트레이너 - 빠르고 효율적인 운동</td>\n",
       "      <td>훌륭</td>\n",
       "      <td>1</td>\n",
       "      <td>NaN</td>\n",
       "      <td>NaN</td>\n",
       "    </tr>\n",
       "  </tbody>\n",
       "</table>\n",
       "</div>\n",
       "    <div class=\"colab-df-buttons\">\n",
       "\n",
       "  <div class=\"colab-df-container\">\n",
       "    <button class=\"colab-df-convert\" onclick=\"convertToInteractive('df-4ec813ae-ffdf-4c14-81e7-78b965f13142')\"\n",
       "            title=\"Convert this dataframe to an interactive table.\"\n",
       "            style=\"display:none;\">\n",
       "\n",
       "  <svg xmlns=\"http://www.w3.org/2000/svg\" height=\"24px\" viewBox=\"0 -960 960 960\">\n",
       "    <path d=\"M120-120v-720h720v720H120Zm60-500h600v-160H180v160Zm220 220h160v-160H400v160Zm0 220h160v-160H400v160ZM180-400h160v-160H180v160Zm440 0h160v-160H620v160ZM180-180h160v-160H180v160Zm440 0h160v-160H620v160Z\"/>\n",
       "  </svg>\n",
       "    </button>\n",
       "\n",
       "  <style>\n",
       "    .colab-df-container {\n",
       "      display:flex;\n",
       "      gap: 12px;\n",
       "    }\n",
       "\n",
       "    .colab-df-convert {\n",
       "      background-color: #E8F0FE;\n",
       "      border: none;\n",
       "      border-radius: 50%;\n",
       "      cursor: pointer;\n",
       "      display: none;\n",
       "      fill: #1967D2;\n",
       "      height: 32px;\n",
       "      padding: 0 0 0 0;\n",
       "      width: 32px;\n",
       "    }\n",
       "\n",
       "    .colab-df-convert:hover {\n",
       "      background-color: #E2EBFA;\n",
       "      box-shadow: 0px 1px 2px rgba(60, 64, 67, 0.3), 0px 1px 3px 1px rgba(60, 64, 67, 0.15);\n",
       "      fill: #174EA6;\n",
       "    }\n",
       "\n",
       "    .colab-df-buttons div {\n",
       "      margin-bottom: 4px;\n",
       "    }\n",
       "\n",
       "    [theme=dark] .colab-df-convert {\n",
       "      background-color: #3B4455;\n",
       "      fill: #D2E3FC;\n",
       "    }\n",
       "\n",
       "    [theme=dark] .colab-df-convert:hover {\n",
       "      background-color: #434B5C;\n",
       "      box-shadow: 0px 1px 3px 1px rgba(0, 0, 0, 0.15);\n",
       "      filter: drop-shadow(0px 1px 2px rgba(0, 0, 0, 0.3));\n",
       "      fill: #FFFFFF;\n",
       "    }\n",
       "  </style>\n",
       "\n",
       "    <script>\n",
       "      const buttonEl =\n",
       "        document.querySelector('#df-4ec813ae-ffdf-4c14-81e7-78b965f13142 button.colab-df-convert');\n",
       "      buttonEl.style.display =\n",
       "        google.colab.kernel.accessAllowed ? 'block' : 'none';\n",
       "\n",
       "      async function convertToInteractive(key) {\n",
       "        const element = document.querySelector('#df-4ec813ae-ffdf-4c14-81e7-78b965f13142');\n",
       "        const dataTable =\n",
       "          await google.colab.kernel.invokeFunction('convertToInteractive',\n",
       "                                                    [key], {});\n",
       "        if (!dataTable) return;\n",
       "\n",
       "        const docLinkHtml = 'Like what you see? Visit the ' +\n",
       "          '<a target=\"_blank\" href=https://colab.research.google.com/notebooks/data_table.ipynb>data table notebook</a>'\n",
       "          + ' to learn more about interactive tables.';\n",
       "        element.innerHTML = '';\n",
       "        dataTable['output_type'] = 'display_data';\n",
       "        await google.colab.output.renderOutput(dataTable, element);\n",
       "        const docLink = document.createElement('div');\n",
       "        docLink.innerHTML = docLinkHtml;\n",
       "        element.appendChild(docLink);\n",
       "      }\n",
       "    </script>\n",
       "  </div>\n",
       "\n",
       "\n",
       "<div id=\"df-2e21b36d-36c4-48e7-9436-04479bd217b2\">\n",
       "  <button class=\"colab-df-quickchart\" onclick=\"quickchart('df-2e21b36d-36c4-48e7-9436-04479bd217b2')\"\n",
       "            title=\"Suggest charts.\"\n",
       "            style=\"display:none;\">\n",
       "\n",
       "<svg xmlns=\"http://www.w3.org/2000/svg\" height=\"24px\"viewBox=\"0 0 24 24\"\n",
       "     width=\"24px\">\n",
       "    <g>\n",
       "        <path d=\"M19 3H5c-1.1 0-2 .9-2 2v14c0 1.1.9 2 2 2h14c1.1 0 2-.9 2-2V5c0-1.1-.9-2-2-2zM9 17H7v-7h2v7zm4 0h-2V7h2v10zm4 0h-2v-4h2v4z\"/>\n",
       "    </g>\n",
       "</svg>\n",
       "  </button>\n",
       "\n",
       "<style>\n",
       "  .colab-df-quickchart {\n",
       "      --bg-color: #E8F0FE;\n",
       "      --fill-color: #1967D2;\n",
       "      --hover-bg-color: #E2EBFA;\n",
       "      --hover-fill-color: #174EA6;\n",
       "      --disabled-fill-color: #AAA;\n",
       "      --disabled-bg-color: #DDD;\n",
       "  }\n",
       "\n",
       "  [theme=dark] .colab-df-quickchart {\n",
       "      --bg-color: #3B4455;\n",
       "      --fill-color: #D2E3FC;\n",
       "      --hover-bg-color: #434B5C;\n",
       "      --hover-fill-color: #FFFFFF;\n",
       "      --disabled-bg-color: #3B4455;\n",
       "      --disabled-fill-color: #666;\n",
       "  }\n",
       "\n",
       "  .colab-df-quickchart {\n",
       "    background-color: var(--bg-color);\n",
       "    border: none;\n",
       "    border-radius: 50%;\n",
       "    cursor: pointer;\n",
       "    display: none;\n",
       "    fill: var(--fill-color);\n",
       "    height: 32px;\n",
       "    padding: 0;\n",
       "    width: 32px;\n",
       "  }\n",
       "\n",
       "  .colab-df-quickchart:hover {\n",
       "    background-color: var(--hover-bg-color);\n",
       "    box-shadow: 0 1px 2px rgba(60, 64, 67, 0.3), 0 1px 3px 1px rgba(60, 64, 67, 0.15);\n",
       "    fill: var(--button-hover-fill-color);\n",
       "  }\n",
       "\n",
       "  .colab-df-quickchart-complete:disabled,\n",
       "  .colab-df-quickchart-complete:disabled:hover {\n",
       "    background-color: var(--disabled-bg-color);\n",
       "    fill: var(--disabled-fill-color);\n",
       "    box-shadow: none;\n",
       "  }\n",
       "\n",
       "  .colab-df-spinner {\n",
       "    border: 2px solid var(--fill-color);\n",
       "    border-color: transparent;\n",
       "    border-bottom-color: var(--fill-color);\n",
       "    animation:\n",
       "      spin 1s steps(1) infinite;\n",
       "  }\n",
       "\n",
       "  @keyframes spin {\n",
       "    0% {\n",
       "      border-color: transparent;\n",
       "      border-bottom-color: var(--fill-color);\n",
       "      border-left-color: var(--fill-color);\n",
       "    }\n",
       "    20% {\n",
       "      border-color: transparent;\n",
       "      border-left-color: var(--fill-color);\n",
       "      border-top-color: var(--fill-color);\n",
       "    }\n",
       "    30% {\n",
       "      border-color: transparent;\n",
       "      border-left-color: var(--fill-color);\n",
       "      border-top-color: var(--fill-color);\n",
       "      border-right-color: var(--fill-color);\n",
       "    }\n",
       "    40% {\n",
       "      border-color: transparent;\n",
       "      border-right-color: var(--fill-color);\n",
       "      border-top-color: var(--fill-color);\n",
       "    }\n",
       "    60% {\n",
       "      border-color: transparent;\n",
       "      border-right-color: var(--fill-color);\n",
       "    }\n",
       "    80% {\n",
       "      border-color: transparent;\n",
       "      border-right-color: var(--fill-color);\n",
       "      border-bottom-color: var(--fill-color);\n",
       "    }\n",
       "    90% {\n",
       "      border-color: transparent;\n",
       "      border-bottom-color: var(--fill-color);\n",
       "    }\n",
       "  }\n",
       "</style>\n",
       "\n",
       "  <script>\n",
       "    async function quickchart(key) {\n",
       "      const quickchartButtonEl =\n",
       "        document.querySelector('#' + key + ' button');\n",
       "      quickchartButtonEl.disabled = true;  // To prevent multiple clicks.\n",
       "      quickchartButtonEl.classList.add('colab-df-spinner');\n",
       "      try {\n",
       "        const charts = await google.colab.kernel.invokeFunction(\n",
       "            'suggestCharts', [key], {});\n",
       "      } catch (error) {\n",
       "        console.error('Error during call to suggestCharts:', error);\n",
       "      }\n",
       "      quickchartButtonEl.classList.remove('colab-df-spinner');\n",
       "      quickchartButtonEl.classList.add('colab-df-quickchart-complete');\n",
       "    }\n",
       "    (() => {\n",
       "      let quickchartButtonEl =\n",
       "        document.querySelector('#df-2e21b36d-36c4-48e7-9436-04479bd217b2 button');\n",
       "      quickchartButtonEl.style.display =\n",
       "        google.colab.kernel.accessAllowed ? 'block' : 'none';\n",
       "    })();\n",
       "  </script>\n",
       "</div>\n",
       "    </div>\n",
       "  </div>\n"
      ],
      "text/plain": [
       "   Unnamed: 0                                   app  review  rating  \\\n",
       "0        1072  매일 운동 - 운동 & 피트니스 트레이너 - 빠르고 효율적인 운동  너무 힘들다       1   \n",
       "1        1167  매일 운동 - 운동 & 피트니스 트레이너 - 빠르고 효율적인 운동      훌륭       1   \n",
       "\n",
       "  tokenized_review replaced_review  \n",
       "0              NaN             NaN  \n",
       "1              NaN             NaN  "
      ]
     },
     "execution_count": 3,
     "metadata": {},
     "output_type": "execute_result"
    }
   ],
   "source": [
    "import pandas as pd\n",
    "df_review_negative = pd.read_csv('./review_negative.csv')\n",
    "df_review_negative[:2]"
   ]
  },
  {
   "cell_type": "code",
   "execution_count": null,
   "metadata": {
    "colab": {
     "base_uri": "https://localhost:8080/",
     "height": 892
    },
    "id": "AQ7qeMCtzZxj",
    "outputId": "8200b5de-9a51-463a-fc42-1b8faa39ba8d"
   },
   "outputs": [
    {
     "data": {
      "text/html": [
       "\n",
       "  <div id=\"df-011192a6-9ea7-4d0b-a864-280c50d79391\" class=\"colab-df-container\">\n",
       "    <div>\n",
       "<style scoped>\n",
       "    .dataframe tbody tr th:only-of-type {\n",
       "        vertical-align: middle;\n",
       "    }\n",
       "\n",
       "    .dataframe tbody tr th {\n",
       "        vertical-align: top;\n",
       "    }\n",
       "\n",
       "    .dataframe thead th {\n",
       "        text-align: right;\n",
       "    }\n",
       "</style>\n",
       "<table border=\"1\" class=\"dataframe\">\n",
       "  <thead>\n",
       "    <tr style=\"text-align: right;\">\n",
       "      <th></th>\n",
       "      <th>Unnamed: 0</th>\n",
       "      <th>app</th>\n",
       "      <th>review</th>\n",
       "      <th>rating</th>\n",
       "      <th>tokenized_review</th>\n",
       "      <th>replaced_review</th>\n",
       "    </tr>\n",
       "  </thead>\n",
       "  <tbody>\n",
       "    <tr>\n",
       "      <th>0</th>\n",
       "      <td>1000</td>\n",
       "      <td>매일 운동 - 운동 &amp; 피트니스 트레이너 - 빠르고 효율적인 운동</td>\n",
       "      <td>👍</td>\n",
       "      <td>5</td>\n",
       "      <td>NaN</td>\n",
       "      <td>NaN</td>\n",
       "    </tr>\n",
       "    <tr>\n",
       "      <th>1</th>\n",
       "      <td>1001</td>\n",
       "      <td>매일 운동 - 운동 &amp; 피트니스 트레이너 - 빠르고 효율적인 운동</td>\n",
       "      <td>힘들지만  살이  빠지는것  같아요.    땀이 많이나요   진짜 말을 할수가 없어...</td>\n",
       "      <td>5</td>\n",
       "      <td>최고</td>\n",
       "      <td>최고</td>\n",
       "    </tr>\n",
       "    <tr>\n",
       "      <th>2</th>\n",
       "      <td>1002</td>\n",
       "      <td>매일 운동 - 운동 &amp; 피트니스 트레이너 - 빠르고 효율적인 운동</td>\n",
       "      <td>너무좋아요</td>\n",
       "      <td>5</td>\n",
       "      <td>NaN</td>\n",
       "      <td>NaN</td>\n",
       "    </tr>\n",
       "    <tr>\n",
       "      <th>3</th>\n",
       "      <td>1003</td>\n",
       "      <td>매일 운동 - 운동 &amp; 피트니스 트레이너 - 빠르고 효율적인 운동</td>\n",
       "      <td>짱</td>\n",
       "      <td>5</td>\n",
       "      <td>NaN</td>\n",
       "      <td>NaN</td>\n",
       "    </tr>\n",
       "    <tr>\n",
       "      <th>4</th>\n",
       "      <td>1004</td>\n",
       "      <td>매일 운동 - 운동 &amp; 피트니스 트레이너 - 빠르고 효율적인 운동</td>\n",
       "      <td>말이 필요없다. 운동 앱중에선 단연 이 어플이 최고!</td>\n",
       "      <td>5</td>\n",
       "      <td>필요 운동 최고</td>\n",
       "      <td>필요 운동 최고</td>\n",
       "    </tr>\n",
       "    <tr>\n",
       "      <th>...</th>\n",
       "      <td>...</td>\n",
       "      <td>...</td>\n",
       "      <td>...</td>\n",
       "      <td>...</td>\n",
       "      <td>...</td>\n",
       "      <td>...</td>\n",
       "    </tr>\n",
       "    <tr>\n",
       "      <th>7582</th>\n",
       "      <td>8995</td>\n",
       "      <td>30일만에 뱃살 빼기 - 평평한 배 만들기</td>\n",
       "      <td>따라하기도싶고 잼있게 할수있네요..추천입니다</td>\n",
       "      <td>5</td>\n",
       "      <td>추천</td>\n",
       "      <td>추천</td>\n",
       "    </tr>\n",
       "    <tr>\n",
       "      <th>7583</th>\n",
       "      <td>8996</td>\n",
       "      <td>30일만에 뱃살 빼기 - 평평한 배 만들기</td>\n",
       "      <td>운동하기 좋고 영상까지 나와 효과적입니다.</td>\n",
       "      <td>5</td>\n",
       "      <td>운동 영상</td>\n",
       "      <td>운동 영상</td>\n",
       "    </tr>\n",
       "    <tr>\n",
       "      <th>7584</th>\n",
       "      <td>8997</td>\n",
       "      <td>30일만에 뱃살 빼기 - 평평한 배 만들기</td>\n",
       "      <td>참 좋은앱!ㅎㅎㅎ</td>\n",
       "      <td>5</td>\n",
       "      <td>NaN</td>\n",
       "      <td>NaN</td>\n",
       "    </tr>\n",
       "    <tr>\n",
       "      <th>7585</th>\n",
       "      <td>8998</td>\n",
       "      <td>30일만에 뱃살 빼기 - 평평한 배 만들기</td>\n",
       "      <td>쉽고 재미있고 별로 힘들지 않아서 좋아요! 한번 깔아보세요! 추천합니다!! 살 빼고...</td>\n",
       "      <td>5</td>\n",
       "      <td>추천</td>\n",
       "      <td>추천</td>\n",
       "    </tr>\n",
       "    <tr>\n",
       "      <th>7586</th>\n",
       "      <td>8999</td>\n",
       "      <td>30일만에 뱃살 빼기 - 평평한 배 만들기</td>\n",
       "      <td>좋아요</td>\n",
       "      <td>5</td>\n",
       "      <td>NaN</td>\n",
       "      <td>NaN</td>\n",
       "    </tr>\n",
       "  </tbody>\n",
       "</table>\n",
       "<p>7587 rows × 6 columns</p>\n",
       "</div>\n",
       "    <div class=\"colab-df-buttons\">\n",
       "\n",
       "  <div class=\"colab-df-container\">\n",
       "    <button class=\"colab-df-convert\" onclick=\"convertToInteractive('df-011192a6-9ea7-4d0b-a864-280c50d79391')\"\n",
       "            title=\"Convert this dataframe to an interactive table.\"\n",
       "            style=\"display:none;\">\n",
       "\n",
       "  <svg xmlns=\"http://www.w3.org/2000/svg\" height=\"24px\" viewBox=\"0 -960 960 960\">\n",
       "    <path d=\"M120-120v-720h720v720H120Zm60-500h600v-160H180v160Zm220 220h160v-160H400v160Zm0 220h160v-160H400v160ZM180-400h160v-160H180v160Zm440 0h160v-160H620v160ZM180-180h160v-160H180v160Zm440 0h160v-160H620v160Z\"/>\n",
       "  </svg>\n",
       "    </button>\n",
       "\n",
       "  <style>\n",
       "    .colab-df-container {\n",
       "      display:flex;\n",
       "      gap: 12px;\n",
       "    }\n",
       "\n",
       "    .colab-df-convert {\n",
       "      background-color: #E8F0FE;\n",
       "      border: none;\n",
       "      border-radius: 50%;\n",
       "      cursor: pointer;\n",
       "      display: none;\n",
       "      fill: #1967D2;\n",
       "      height: 32px;\n",
       "      padding: 0 0 0 0;\n",
       "      width: 32px;\n",
       "    }\n",
       "\n",
       "    .colab-df-convert:hover {\n",
       "      background-color: #E2EBFA;\n",
       "      box-shadow: 0px 1px 2px rgba(60, 64, 67, 0.3), 0px 1px 3px 1px rgba(60, 64, 67, 0.15);\n",
       "      fill: #174EA6;\n",
       "    }\n",
       "\n",
       "    .colab-df-buttons div {\n",
       "      margin-bottom: 4px;\n",
       "    }\n",
       "\n",
       "    [theme=dark] .colab-df-convert {\n",
       "      background-color: #3B4455;\n",
       "      fill: #D2E3FC;\n",
       "    }\n",
       "\n",
       "    [theme=dark] .colab-df-convert:hover {\n",
       "      background-color: #434B5C;\n",
       "      box-shadow: 0px 1px 3px 1px rgba(0, 0, 0, 0.15);\n",
       "      filter: drop-shadow(0px 1px 2px rgba(0, 0, 0, 0.3));\n",
       "      fill: #FFFFFF;\n",
       "    }\n",
       "  </style>\n",
       "\n",
       "    <script>\n",
       "      const buttonEl =\n",
       "        document.querySelector('#df-011192a6-9ea7-4d0b-a864-280c50d79391 button.colab-df-convert');\n",
       "      buttonEl.style.display =\n",
       "        google.colab.kernel.accessAllowed ? 'block' : 'none';\n",
       "\n",
       "      async function convertToInteractive(key) {\n",
       "        const element = document.querySelector('#df-011192a6-9ea7-4d0b-a864-280c50d79391');\n",
       "        const dataTable =\n",
       "          await google.colab.kernel.invokeFunction('convertToInteractive',\n",
       "                                                    [key], {});\n",
       "        if (!dataTable) return;\n",
       "\n",
       "        const docLinkHtml = 'Like what you see? Visit the ' +\n",
       "          '<a target=\"_blank\" href=https://colab.research.google.com/notebooks/data_table.ipynb>data table notebook</a>'\n",
       "          + ' to learn more about interactive tables.';\n",
       "        element.innerHTML = '';\n",
       "        dataTable['output_type'] = 'display_data';\n",
       "        await google.colab.output.renderOutput(dataTable, element);\n",
       "        const docLink = document.createElement('div');\n",
       "        docLink.innerHTML = docLinkHtml;\n",
       "        element.appendChild(docLink);\n",
       "      }\n",
       "    </script>\n",
       "  </div>\n",
       "\n",
       "\n",
       "<div id=\"df-e8c2695a-0422-4660-9852-884f8bf3a045\">\n",
       "  <button class=\"colab-df-quickchart\" onclick=\"quickchart('df-e8c2695a-0422-4660-9852-884f8bf3a045')\"\n",
       "            title=\"Suggest charts.\"\n",
       "            style=\"display:none;\">\n",
       "\n",
       "<svg xmlns=\"http://www.w3.org/2000/svg\" height=\"24px\"viewBox=\"0 0 24 24\"\n",
       "     width=\"24px\">\n",
       "    <g>\n",
       "        <path d=\"M19 3H5c-1.1 0-2 .9-2 2v14c0 1.1.9 2 2 2h14c1.1 0 2-.9 2-2V5c0-1.1-.9-2-2-2zM9 17H7v-7h2v7zm4 0h-2V7h2v10zm4 0h-2v-4h2v4z\"/>\n",
       "    </g>\n",
       "</svg>\n",
       "  </button>\n",
       "\n",
       "<style>\n",
       "  .colab-df-quickchart {\n",
       "      --bg-color: #E8F0FE;\n",
       "      --fill-color: #1967D2;\n",
       "      --hover-bg-color: #E2EBFA;\n",
       "      --hover-fill-color: #174EA6;\n",
       "      --disabled-fill-color: #AAA;\n",
       "      --disabled-bg-color: #DDD;\n",
       "  }\n",
       "\n",
       "  [theme=dark] .colab-df-quickchart {\n",
       "      --bg-color: #3B4455;\n",
       "      --fill-color: #D2E3FC;\n",
       "      --hover-bg-color: #434B5C;\n",
       "      --hover-fill-color: #FFFFFF;\n",
       "      --disabled-bg-color: #3B4455;\n",
       "      --disabled-fill-color: #666;\n",
       "  }\n",
       "\n",
       "  .colab-df-quickchart {\n",
       "    background-color: var(--bg-color);\n",
       "    border: none;\n",
       "    border-radius: 50%;\n",
       "    cursor: pointer;\n",
       "    display: none;\n",
       "    fill: var(--fill-color);\n",
       "    height: 32px;\n",
       "    padding: 0;\n",
       "    width: 32px;\n",
       "  }\n",
       "\n",
       "  .colab-df-quickchart:hover {\n",
       "    background-color: var(--hover-bg-color);\n",
       "    box-shadow: 0 1px 2px rgba(60, 64, 67, 0.3), 0 1px 3px 1px rgba(60, 64, 67, 0.15);\n",
       "    fill: var(--button-hover-fill-color);\n",
       "  }\n",
       "\n",
       "  .colab-df-quickchart-complete:disabled,\n",
       "  .colab-df-quickchart-complete:disabled:hover {\n",
       "    background-color: var(--disabled-bg-color);\n",
       "    fill: var(--disabled-fill-color);\n",
       "    box-shadow: none;\n",
       "  }\n",
       "\n",
       "  .colab-df-spinner {\n",
       "    border: 2px solid var(--fill-color);\n",
       "    border-color: transparent;\n",
       "    border-bottom-color: var(--fill-color);\n",
       "    animation:\n",
       "      spin 1s steps(1) infinite;\n",
       "  }\n",
       "\n",
       "  @keyframes spin {\n",
       "    0% {\n",
       "      border-color: transparent;\n",
       "      border-bottom-color: var(--fill-color);\n",
       "      border-left-color: var(--fill-color);\n",
       "    }\n",
       "    20% {\n",
       "      border-color: transparent;\n",
       "      border-left-color: var(--fill-color);\n",
       "      border-top-color: var(--fill-color);\n",
       "    }\n",
       "    30% {\n",
       "      border-color: transparent;\n",
       "      border-left-color: var(--fill-color);\n",
       "      border-top-color: var(--fill-color);\n",
       "      border-right-color: var(--fill-color);\n",
       "    }\n",
       "    40% {\n",
       "      border-color: transparent;\n",
       "      border-right-color: var(--fill-color);\n",
       "      border-top-color: var(--fill-color);\n",
       "    }\n",
       "    60% {\n",
       "      border-color: transparent;\n",
       "      border-right-color: var(--fill-color);\n",
       "    }\n",
       "    80% {\n",
       "      border-color: transparent;\n",
       "      border-right-color: var(--fill-color);\n",
       "      border-bottom-color: var(--fill-color);\n",
       "    }\n",
       "    90% {\n",
       "      border-color: transparent;\n",
       "      border-bottom-color: var(--fill-color);\n",
       "    }\n",
       "  }\n",
       "</style>\n",
       "\n",
       "  <script>\n",
       "    async function quickchart(key) {\n",
       "      const quickchartButtonEl =\n",
       "        document.querySelector('#' + key + ' button');\n",
       "      quickchartButtonEl.disabled = true;  // To prevent multiple clicks.\n",
       "      quickchartButtonEl.classList.add('colab-df-spinner');\n",
       "      try {\n",
       "        const charts = await google.colab.kernel.invokeFunction(\n",
       "            'suggestCharts', [key], {});\n",
       "      } catch (error) {\n",
       "        console.error('Error during call to suggestCharts:', error);\n",
       "      }\n",
       "      quickchartButtonEl.classList.remove('colab-df-spinner');\n",
       "      quickchartButtonEl.classList.add('colab-df-quickchart-complete');\n",
       "    }\n",
       "    (() => {\n",
       "      let quickchartButtonEl =\n",
       "        document.querySelector('#df-e8c2695a-0422-4660-9852-884f8bf3a045 button');\n",
       "      quickchartButtonEl.style.display =\n",
       "        google.colab.kernel.accessAllowed ? 'block' : 'none';\n",
       "    })();\n",
       "  </script>\n",
       "</div>\n",
       "    </div>\n",
       "  </div>\n"
      ],
      "text/plain": [
       "      Unnamed: 0                                   app  \\\n",
       "0           1000  매일 운동 - 운동 & 피트니스 트레이너 - 빠르고 효율적인 운동   \n",
       "1           1001  매일 운동 - 운동 & 피트니스 트레이너 - 빠르고 효율적인 운동   \n",
       "2           1002  매일 운동 - 운동 & 피트니스 트레이너 - 빠르고 효율적인 운동   \n",
       "3           1003  매일 운동 - 운동 & 피트니스 트레이너 - 빠르고 효율적인 운동   \n",
       "4           1004  매일 운동 - 운동 & 피트니스 트레이너 - 빠르고 효율적인 운동   \n",
       "...          ...                                   ...   \n",
       "7582        8995               30일만에 뱃살 빼기 - 평평한 배 만들기   \n",
       "7583        8996               30일만에 뱃살 빼기 - 평평한 배 만들기   \n",
       "7584        8997               30일만에 뱃살 빼기 - 평평한 배 만들기   \n",
       "7585        8998               30일만에 뱃살 빼기 - 평평한 배 만들기   \n",
       "7586        8999               30일만에 뱃살 빼기 - 평평한 배 만들기   \n",
       "\n",
       "                                                 review  rating  \\\n",
       "0                                                     👍       5   \n",
       "1     힘들지만  살이  빠지는것  같아요.    땀이 많이나요   진짜 말을 할수가 없어...       5   \n",
       "2                                                 너무좋아요       5   \n",
       "3                                                     짱       5   \n",
       "4                         말이 필요없다. 운동 앱중에선 단연 이 어플이 최고!       5   \n",
       "...                                                 ...     ...   \n",
       "7582                           따라하기도싶고 잼있게 할수있네요..추천입니다       5   \n",
       "7583                            운동하기 좋고 영상까지 나와 효과적입니다.       5   \n",
       "7584                                          참 좋은앱!ㅎㅎㅎ       5   \n",
       "7585  쉽고 재미있고 별로 힘들지 않아서 좋아요! 한번 깔아보세요! 추천합니다!! 살 빼고...       5   \n",
       "7586                                                좋아요       5   \n",
       "\n",
       "     tokenized_review replaced_review  \n",
       "0                 NaN             NaN  \n",
       "1                  최고              최고  \n",
       "2                 NaN             NaN  \n",
       "3                 NaN             NaN  \n",
       "4            필요 운동 최고        필요 운동 최고  \n",
       "...               ...             ...  \n",
       "7582               추천              추천  \n",
       "7583            운동 영상           운동 영상  \n",
       "7584              NaN             NaN  \n",
       "7585               추천              추천  \n",
       "7586              NaN             NaN  \n",
       "\n",
       "[7587 rows x 6 columns]"
      ]
     },
     "execution_count": 4,
     "metadata": {},
     "output_type": "execute_result"
    }
   ],
   "source": [
    "df_review_positive = pd.read_csv('./review_positive.csv')\n",
    "df_review_positive"
   ]
  },
  {
   "cell_type": "code",
   "execution_count": null,
   "metadata": {
    "id": "Lv3L8C-kzj7k"
   },
   "outputs": [],
   "source": []
  },
  {
   "cell_type": "code",
   "execution_count": null,
   "metadata": {
    "id": "2THMUHVDsFsA"
   },
   "outputs": [],
   "source": [
    "df_review_negative = df_review_negative.dropna()\n",
    "df_review_positive = df_review_positive.dropna()"
   ]
  },
  {
   "cell_type": "code",
   "execution_count": null,
   "metadata": {
    "colab": {
     "base_uri": "https://localhost:8080/"
    },
    "id": "3eI_TA41zsgE",
    "outputId": "d74301a9-2f12-4315-a2c6-e9cb6e5ac80c"
   },
   "outputs": [
    {
     "name": "stdout",
     "output_type": "stream",
     "text": [
      "<class 'pandas.core.frame.DataFrame'>\n",
      "Index: 4351 entries, 1 to 7585\n",
      "Data columns (total 6 columns):\n",
      " #   Column            Non-Null Count  Dtype \n",
      "---  ------            --------------  ----- \n",
      " 0   Unnamed: 0        4351 non-null   int64 \n",
      " 1   app               4351 non-null   object\n",
      " 2   review            4351 non-null   object\n",
      " 3   rating            4351 non-null   int64 \n",
      " 4   tokenized_review  4351 non-null   object\n",
      " 5   replaced_review   4351 non-null   object\n",
      "dtypes: int64(2), object(4)\n",
      "memory usage: 237.9+ KB\n"
     ]
    }
   ],
   "source": [
    "df_review_positive.info()"
   ]
  },
  {
   "cell_type": "code",
   "execution_count": null,
   "metadata": {
    "colab": {
     "base_uri": "https://localhost:8080/"
    },
    "id": "SGHxHZjcpcTq",
    "outputId": "0a20267d-03f2-4857-d414-c0db46d78320"
   },
   "outputs": [
    {
     "name": "stdout",
     "output_type": "stream",
     "text": [
      "<class 'pandas.core.frame.DataFrame'>\n",
      "Index: 346 entries, 3 to 412\n",
      "Data columns (total 6 columns):\n",
      " #   Column            Non-Null Count  Dtype \n",
      "---  ------            --------------  ----- \n",
      " 0   Unnamed: 0        346 non-null    int64 \n",
      " 1   app               346 non-null    object\n",
      " 2   review            346 non-null    object\n",
      " 3   rating            346 non-null    int64 \n",
      " 4   tokenized_review  346 non-null    object\n",
      " 5   replaced_review   346 non-null    object\n",
      "dtypes: int64(2), object(4)\n",
      "memory usage: 18.9+ KB\n"
     ]
    }
   ],
   "source": [
    "df_review_negative.info()"
   ]
  },
  {
   "cell_type": "markdown",
   "metadata": {
    "id": "9JR8aERbo4nq"
   },
   "source": [
    "## LDA 분석"
   ]
  },
  {
   "cell_type": "markdown",
   "metadata": {
    "id": "TY_PJoXKzzyk"
   },
   "source": [
    "### negative"
   ]
  },
  {
   "cell_type": "code",
   "execution_count": null,
   "metadata": {
    "id": "_O2uozX0rasT"
   },
   "outputs": [],
   "source": [
    "from gensim.corpora import Dictionary"
   ]
  },
  {
   "cell_type": "code",
   "execution_count": null,
   "metadata": {
    "colab": {
     "base_uri": "https://localhost:8080/",
     "height": 424
    },
    "id": "G_58zU--tMIX",
    "outputId": "3e7f2c10-b6bf-40ee-fe41-023f6bf4817b"
   },
   "outputs": [
    {
     "data": {
      "text/html": [
       "\n",
       "  <div id=\"df-8f70928f-b8e3-4521-8402-99ee5820a6c1\" class=\"colab-df-container\">\n",
       "    <div>\n",
       "<style scoped>\n",
       "    .dataframe tbody tr th:only-of-type {\n",
       "        vertical-align: middle;\n",
       "    }\n",
       "\n",
       "    .dataframe tbody tr th {\n",
       "        vertical-align: top;\n",
       "    }\n",
       "\n",
       "    .dataframe thead th {\n",
       "        text-align: right;\n",
       "    }\n",
       "</style>\n",
       "<table border=\"1\" class=\"dataframe\">\n",
       "  <thead>\n",
       "    <tr style=\"text-align: right;\">\n",
       "      <th></th>\n",
       "      <th>replaced_review</th>\n",
       "    </tr>\n",
       "  </thead>\n",
       "  <tbody>\n",
       "    <tr>\n",
       "      <th>3</th>\n",
       "      <td>칼로리</td>\n",
       "    </tr>\n",
       "    <tr>\n",
       "      <th>5</th>\n",
       "      <td>마음</td>\n",
       "    </tr>\n",
       "    <tr>\n",
       "      <th>7</th>\n",
       "      <td>오류</td>\n",
       "    </tr>\n",
       "    <tr>\n",
       "      <th>8</th>\n",
       "      <td>모야</td>\n",
       "    </tr>\n",
       "    <tr>\n",
       "      <th>9</th>\n",
       "      <td>느림</td>\n",
       "    </tr>\n",
       "    <tr>\n",
       "      <th>...</th>\n",
       "      <td>...</td>\n",
       "    </tr>\n",
       "    <tr>\n",
       "      <th>406</th>\n",
       "      <td>운동 리뷰 출창</td>\n",
       "    </tr>\n",
       "    <tr>\n",
       "      <th>407</th>\n",
       "      <td>광고 짜증</td>\n",
       "    </tr>\n",
       "    <tr>\n",
       "      <th>408</th>\n",
       "      <td>운동 친절 운동 운동 체계 순서 운동 기분 시작 운동 구간 시작</td>\n",
       "    </tr>\n",
       "    <tr>\n",
       "      <th>409</th>\n",
       "      <td>광고 운동</td>\n",
       "    </tr>\n",
       "    <tr>\n",
       "      <th>412</th>\n",
       "      <td>광고 짜증</td>\n",
       "    </tr>\n",
       "  </tbody>\n",
       "</table>\n",
       "<p>346 rows × 1 columns</p>\n",
       "</div>\n",
       "    <div class=\"colab-df-buttons\">\n",
       "\n",
       "  <div class=\"colab-df-container\">\n",
       "    <button class=\"colab-df-convert\" onclick=\"convertToInteractive('df-8f70928f-b8e3-4521-8402-99ee5820a6c1')\"\n",
       "            title=\"Convert this dataframe to an interactive table.\"\n",
       "            style=\"display:none;\">\n",
       "\n",
       "  <svg xmlns=\"http://www.w3.org/2000/svg\" height=\"24px\" viewBox=\"0 -960 960 960\">\n",
       "    <path d=\"M120-120v-720h720v720H120Zm60-500h600v-160H180v160Zm220 220h160v-160H400v160Zm0 220h160v-160H400v160ZM180-400h160v-160H180v160Zm440 0h160v-160H620v160ZM180-180h160v-160H180v160Zm440 0h160v-160H620v160Z\"/>\n",
       "  </svg>\n",
       "    </button>\n",
       "\n",
       "  <style>\n",
       "    .colab-df-container {\n",
       "      display:flex;\n",
       "      gap: 12px;\n",
       "    }\n",
       "\n",
       "    .colab-df-convert {\n",
       "      background-color: #E8F0FE;\n",
       "      border: none;\n",
       "      border-radius: 50%;\n",
       "      cursor: pointer;\n",
       "      display: none;\n",
       "      fill: #1967D2;\n",
       "      height: 32px;\n",
       "      padding: 0 0 0 0;\n",
       "      width: 32px;\n",
       "    }\n",
       "\n",
       "    .colab-df-convert:hover {\n",
       "      background-color: #E2EBFA;\n",
       "      box-shadow: 0px 1px 2px rgba(60, 64, 67, 0.3), 0px 1px 3px 1px rgba(60, 64, 67, 0.15);\n",
       "      fill: #174EA6;\n",
       "    }\n",
       "\n",
       "    .colab-df-buttons div {\n",
       "      margin-bottom: 4px;\n",
       "    }\n",
       "\n",
       "    [theme=dark] .colab-df-convert {\n",
       "      background-color: #3B4455;\n",
       "      fill: #D2E3FC;\n",
       "    }\n",
       "\n",
       "    [theme=dark] .colab-df-convert:hover {\n",
       "      background-color: #434B5C;\n",
       "      box-shadow: 0px 1px 3px 1px rgba(0, 0, 0, 0.15);\n",
       "      filter: drop-shadow(0px 1px 2px rgba(0, 0, 0, 0.3));\n",
       "      fill: #FFFFFF;\n",
       "    }\n",
       "  </style>\n",
       "\n",
       "    <script>\n",
       "      const buttonEl =\n",
       "        document.querySelector('#df-8f70928f-b8e3-4521-8402-99ee5820a6c1 button.colab-df-convert');\n",
       "      buttonEl.style.display =\n",
       "        google.colab.kernel.accessAllowed ? 'block' : 'none';\n",
       "\n",
       "      async function convertToInteractive(key) {\n",
       "        const element = document.querySelector('#df-8f70928f-b8e3-4521-8402-99ee5820a6c1');\n",
       "        const dataTable =\n",
       "          await google.colab.kernel.invokeFunction('convertToInteractive',\n",
       "                                                    [key], {});\n",
       "        if (!dataTable) return;\n",
       "\n",
       "        const docLinkHtml = 'Like what you see? Visit the ' +\n",
       "          '<a target=\"_blank\" href=https://colab.research.google.com/notebooks/data_table.ipynb>data table notebook</a>'\n",
       "          + ' to learn more about interactive tables.';\n",
       "        element.innerHTML = '';\n",
       "        dataTable['output_type'] = 'display_data';\n",
       "        await google.colab.output.renderOutput(dataTable, element);\n",
       "        const docLink = document.createElement('div');\n",
       "        docLink.innerHTML = docLinkHtml;\n",
       "        element.appendChild(docLink);\n",
       "      }\n",
       "    </script>\n",
       "  </div>\n",
       "\n",
       "\n",
       "<div id=\"df-4a662c94-80a4-47df-8dd8-891389a52f2c\">\n",
       "  <button class=\"colab-df-quickchart\" onclick=\"quickchart('df-4a662c94-80a4-47df-8dd8-891389a52f2c')\"\n",
       "            title=\"Suggest charts.\"\n",
       "            style=\"display:none;\">\n",
       "\n",
       "<svg xmlns=\"http://www.w3.org/2000/svg\" height=\"24px\"viewBox=\"0 0 24 24\"\n",
       "     width=\"24px\">\n",
       "    <g>\n",
       "        <path d=\"M19 3H5c-1.1 0-2 .9-2 2v14c0 1.1.9 2 2 2h14c1.1 0 2-.9 2-2V5c0-1.1-.9-2-2-2zM9 17H7v-7h2v7zm4 0h-2V7h2v10zm4 0h-2v-4h2v4z\"/>\n",
       "    </g>\n",
       "</svg>\n",
       "  </button>\n",
       "\n",
       "<style>\n",
       "  .colab-df-quickchart {\n",
       "      --bg-color: #E8F0FE;\n",
       "      --fill-color: #1967D2;\n",
       "      --hover-bg-color: #E2EBFA;\n",
       "      --hover-fill-color: #174EA6;\n",
       "      --disabled-fill-color: #AAA;\n",
       "      --disabled-bg-color: #DDD;\n",
       "  }\n",
       "\n",
       "  [theme=dark] .colab-df-quickchart {\n",
       "      --bg-color: #3B4455;\n",
       "      --fill-color: #D2E3FC;\n",
       "      --hover-bg-color: #434B5C;\n",
       "      --hover-fill-color: #FFFFFF;\n",
       "      --disabled-bg-color: #3B4455;\n",
       "      --disabled-fill-color: #666;\n",
       "  }\n",
       "\n",
       "  .colab-df-quickchart {\n",
       "    background-color: var(--bg-color);\n",
       "    border: none;\n",
       "    border-radius: 50%;\n",
       "    cursor: pointer;\n",
       "    display: none;\n",
       "    fill: var(--fill-color);\n",
       "    height: 32px;\n",
       "    padding: 0;\n",
       "    width: 32px;\n",
       "  }\n",
       "\n",
       "  .colab-df-quickchart:hover {\n",
       "    background-color: var(--hover-bg-color);\n",
       "    box-shadow: 0 1px 2px rgba(60, 64, 67, 0.3), 0 1px 3px 1px rgba(60, 64, 67, 0.15);\n",
       "    fill: var(--button-hover-fill-color);\n",
       "  }\n",
       "\n",
       "  .colab-df-quickchart-complete:disabled,\n",
       "  .colab-df-quickchart-complete:disabled:hover {\n",
       "    background-color: var(--disabled-bg-color);\n",
       "    fill: var(--disabled-fill-color);\n",
       "    box-shadow: none;\n",
       "  }\n",
       "\n",
       "  .colab-df-spinner {\n",
       "    border: 2px solid var(--fill-color);\n",
       "    border-color: transparent;\n",
       "    border-bottom-color: var(--fill-color);\n",
       "    animation:\n",
       "      spin 1s steps(1) infinite;\n",
       "  }\n",
       "\n",
       "  @keyframes spin {\n",
       "    0% {\n",
       "      border-color: transparent;\n",
       "      border-bottom-color: var(--fill-color);\n",
       "      border-left-color: var(--fill-color);\n",
       "    }\n",
       "    20% {\n",
       "      border-color: transparent;\n",
       "      border-left-color: var(--fill-color);\n",
       "      border-top-color: var(--fill-color);\n",
       "    }\n",
       "    30% {\n",
       "      border-color: transparent;\n",
       "      border-left-color: var(--fill-color);\n",
       "      border-top-color: var(--fill-color);\n",
       "      border-right-color: var(--fill-color);\n",
       "    }\n",
       "    40% {\n",
       "      border-color: transparent;\n",
       "      border-right-color: var(--fill-color);\n",
       "      border-top-color: var(--fill-color);\n",
       "    }\n",
       "    60% {\n",
       "      border-color: transparent;\n",
       "      border-right-color: var(--fill-color);\n",
       "    }\n",
       "    80% {\n",
       "      border-color: transparent;\n",
       "      border-right-color: var(--fill-color);\n",
       "      border-bottom-color: var(--fill-color);\n",
       "    }\n",
       "    90% {\n",
       "      border-color: transparent;\n",
       "      border-bottom-color: var(--fill-color);\n",
       "    }\n",
       "  }\n",
       "</style>\n",
       "\n",
       "  <script>\n",
       "    async function quickchart(key) {\n",
       "      const quickchartButtonEl =\n",
       "        document.querySelector('#' + key + ' button');\n",
       "      quickchartButtonEl.disabled = true;  // To prevent multiple clicks.\n",
       "      quickchartButtonEl.classList.add('colab-df-spinner');\n",
       "      try {\n",
       "        const charts = await google.colab.kernel.invokeFunction(\n",
       "            'suggestCharts', [key], {});\n",
       "      } catch (error) {\n",
       "        console.error('Error during call to suggestCharts:', error);\n",
       "      }\n",
       "      quickchartButtonEl.classList.remove('colab-df-spinner');\n",
       "      quickchartButtonEl.classList.add('colab-df-quickchart-complete');\n",
       "    }\n",
       "    (() => {\n",
       "      let quickchartButtonEl =\n",
       "        document.querySelector('#df-4a662c94-80a4-47df-8dd8-891389a52f2c button');\n",
       "      quickchartButtonEl.style.display =\n",
       "        google.colab.kernel.accessAllowed ? 'block' : 'none';\n",
       "    })();\n",
       "  </script>\n",
       "</div>\n",
       "    </div>\n",
       "  </div>\n"
      ],
      "text/plain": [
       "                         replaced_review\n",
       "3                                    칼로리\n",
       "5                                     마음\n",
       "7                                     오류\n",
       "8                                     모야\n",
       "9                                     느림\n",
       "..                                   ...\n",
       "406                             운동 리뷰 출창\n",
       "407                                광고 짜증\n",
       "408  운동 친절 운동 운동 체계 순서 운동 기분 시작 운동 구간 시작\n",
       "409                                광고 운동\n",
       "412                                광고 짜증\n",
       "\n",
       "[346 rows x 1 columns]"
      ]
     },
     "execution_count": 9,
     "metadata": {},
     "output_type": "execute_result"
    }
   ],
   "source": [
    "df_review_negative[['replaced_review']]"
   ]
  },
  {
   "cell_type": "code",
   "execution_count": null,
   "metadata": {
    "id": "Yn79yBgTo91K"
   },
   "outputs": [],
   "source": [
    "dictionary = Dictionary(df_review_negative[['replaced_review']].values)"
   ]
  },
  {
   "cell_type": "code",
   "execution_count": null,
   "metadata": {
    "colab": {
     "base_uri": "https://localhost:8080/"
    },
    "id": "J79hXpREu33J",
    "outputId": "4a587639-b169-4d3c-df9c-c8f45e2bf296"
   },
   "outputs": [
    {
     "data": {
      "text/plain": [
       "[(3, 1)]"
      ]
     },
     "execution_count": 11,
     "metadata": {},
     "output_type": "execute_result"
    }
   ],
   "source": [
    "dictionary.doc2bow(df_review_negative[['replaced_review']].values[3])"
   ]
  },
  {
   "cell_type": "code",
   "execution_count": null,
   "metadata": {
    "id": "zbKZJK6DvdGL"
   },
   "outputs": [],
   "source": [
    "# dictionary에 의한 한글 문장을 백터화 변환\n",
    "corpus_list = list()\n",
    "for sentence in df_review_negative[['replaced_review']].values:\n",
    "  vectors = dictionary.doc2bow(sentence)\n",
    "  corpus_list.append(vectors)\n"
   ]
  },
  {
   "cell_type": "code",
   "execution_count": null,
   "metadata": {
    "id": "MCzr9delwYk6"
   },
   "outputs": [],
   "source": [
    "df_review_negative['문장백터화'] = corpus_list"
   ]
  },
  {
   "cell_type": "code",
   "execution_count": null,
   "metadata": {
    "colab": {
     "base_uri": "https://localhost:8080/"
    },
    "id": "Tj4yKvRNwuB4",
    "outputId": "83f44d37-4cee-4c7e-ef0e-353006b30af4"
   },
   "outputs": [
    {
     "data": {
      "text/plain": [
       "Index(['Unnamed: 0', 'app', 'review', 'rating', 'tokenized_review',\n",
       "       'replaced_review', '문장백터화'],\n",
       "      dtype='object')"
      ]
     },
     "execution_count": 14,
     "metadata": {},
     "output_type": "execute_result"
    }
   ],
   "source": [
    "df_review_negative.columns"
   ]
  },
  {
   "cell_type": "markdown",
   "metadata": {
    "id": "rmBLkE9uw5rr"
   },
   "source": [
    "#### 토픽 잡기"
   ]
  },
  {
   "cell_type": "code",
   "execution_count": null,
   "metadata": {
    "id": "O2jgb9svw_OI"
   },
   "outputs": [],
   "source": [
    "from gensim.models import LdaModel"
   ]
  },
  {
   "cell_type": "code",
   "execution_count": null,
   "metadata": {
    "colab": {
     "base_uri": "https://localhost:8080/"
    },
    "id": "4w--K7JHxUMM",
    "outputId": "27f444f4-b9cf-44ea-b261-1a5990b2de8a"
   },
   "outputs": [
    {
     "name": "stderr",
     "output_type": "stream",
     "text": [
      "WARNING:gensim.models.ldamodel:too few updates, training might not converge; consider increasing the number of passes or iterations to improve accuracy\n"
     ]
    }
   ],
   "source": [
    "lda_model = LdaModel(corpus=corpus_list, id2word=dictionary, num_topics=3)"
   ]
  },
  {
   "cell_type": "code",
   "execution_count": null,
   "metadata": {
    "colab": {
     "base_uri": "https://localhost:8080/"
    },
    "id": "xVFzPTddxyH1",
    "outputId": "760ef876-30d3-40df-815e-4e684b1997e3"
   },
   "outputs": [
    {
     "data": {
      "text/plain": [
       "[(0, '0.010*\"자동 결제 환불\" + 0.010*\"최악\" + 0.009*\"위젯\" + 0.009*\"걸음\"'),\n",
       " (1, '0.027*\"로그인\" + 0.027*\"환불\" + 0.024*\"운동\" + 0.014*\"불편\"'),\n",
       " (2, '0.014*\"결제 취소\" + 0.013*\"결제 환불\" + 0.009*\"운동 겁니다\" + 0.009*\"자전거 인식 걸음\"')]"
      ]
     },
     "execution_count": 17,
     "metadata": {},
     "output_type": "execute_result"
    }
   ],
   "source": [
    "lda_model.print_topics(num_words=4)"
   ]
  },
  {
   "cell_type": "code",
   "execution_count": null,
   "metadata": {
    "id": "FX3GzywUx9AP"
   },
   "outputs": [],
   "source": []
  },
  {
   "cell_type": "markdown",
   "metadata": {
    "id": "Th-ZXNSoz6Kc"
   },
   "source": [
    "### positive"
   ]
  },
  {
   "cell_type": "code",
   "execution_count": null,
   "metadata": {
    "id": "NbfdiP9cz9Rl"
   },
   "outputs": [],
   "source": [
    "from gensim.corpora import Dictionary"
   ]
  },
  {
   "cell_type": "code",
   "execution_count": null,
   "metadata": {
    "colab": {
     "base_uri": "https://localhost:8080/",
     "height": 424
    },
    "id": "JE-bsJlH0Cll",
    "outputId": "ccc871b5-28cf-44df-d1b0-46f3b170ab90"
   },
   "outputs": [
    {
     "data": {
      "text/html": [
       "\n",
       "  <div id=\"df-b990ee8f-5f29-484a-8470-e171cf6f175f\" class=\"colab-df-container\">\n",
       "    <div>\n",
       "<style scoped>\n",
       "    .dataframe tbody tr th:only-of-type {\n",
       "        vertical-align: middle;\n",
       "    }\n",
       "\n",
       "    .dataframe tbody tr th {\n",
       "        vertical-align: top;\n",
       "    }\n",
       "\n",
       "    .dataframe thead th {\n",
       "        text-align: right;\n",
       "    }\n",
       "</style>\n",
       "<table border=\"1\" class=\"dataframe\">\n",
       "  <thead>\n",
       "    <tr style=\"text-align: right;\">\n",
       "      <th></th>\n",
       "      <th>replaced_review</th>\n",
       "    </tr>\n",
       "  </thead>\n",
       "  <tbody>\n",
       "    <tr>\n",
       "      <th>1</th>\n",
       "      <td>최고</td>\n",
       "    </tr>\n",
       "    <tr>\n",
       "      <th>4</th>\n",
       "      <td>필요 운동 최고</td>\n",
       "    </tr>\n",
       "    <tr>\n",
       "      <th>5</th>\n",
       "      <td>운동 최고</td>\n",
       "    </tr>\n",
       "    <tr>\n",
       "      <th>7</th>\n",
       "      <td>집중 운동</td>\n",
       "    </tr>\n",
       "    <tr>\n",
       "      <th>12</th>\n",
       "      <td>운동 도움</td>\n",
       "    </tr>\n",
       "    <tr>\n",
       "      <th>...</th>\n",
       "      <td>...</td>\n",
       "    </tr>\n",
       "    <tr>\n",
       "      <th>7579</th>\n",
       "      <td>리뷰 설명 타임 운동 추천 건강</td>\n",
       "    </tr>\n",
       "    <tr>\n",
       "      <th>7580</th>\n",
       "      <td>운동 몸무게 점차 저녁 기대</td>\n",
       "    </tr>\n",
       "    <tr>\n",
       "      <th>7582</th>\n",
       "      <td>추천</td>\n",
       "    </tr>\n",
       "    <tr>\n",
       "      <th>7583</th>\n",
       "      <td>운동 영상</td>\n",
       "    </tr>\n",
       "    <tr>\n",
       "      <th>7585</th>\n",
       "      <td>추천</td>\n",
       "    </tr>\n",
       "  </tbody>\n",
       "</table>\n",
       "<p>4351 rows × 1 columns</p>\n",
       "</div>\n",
       "    <div class=\"colab-df-buttons\">\n",
       "\n",
       "  <div class=\"colab-df-container\">\n",
       "    <button class=\"colab-df-convert\" onclick=\"convertToInteractive('df-b990ee8f-5f29-484a-8470-e171cf6f175f')\"\n",
       "            title=\"Convert this dataframe to an interactive table.\"\n",
       "            style=\"display:none;\">\n",
       "\n",
       "  <svg xmlns=\"http://www.w3.org/2000/svg\" height=\"24px\" viewBox=\"0 -960 960 960\">\n",
       "    <path d=\"M120-120v-720h720v720H120Zm60-500h600v-160H180v160Zm220 220h160v-160H400v160Zm0 220h160v-160H400v160ZM180-400h160v-160H180v160Zm440 0h160v-160H620v160ZM180-180h160v-160H180v160Zm440 0h160v-160H620v160Z\"/>\n",
       "  </svg>\n",
       "    </button>\n",
       "\n",
       "  <style>\n",
       "    .colab-df-container {\n",
       "      display:flex;\n",
       "      gap: 12px;\n",
       "    }\n",
       "\n",
       "    .colab-df-convert {\n",
       "      background-color: #E8F0FE;\n",
       "      border: none;\n",
       "      border-radius: 50%;\n",
       "      cursor: pointer;\n",
       "      display: none;\n",
       "      fill: #1967D2;\n",
       "      height: 32px;\n",
       "      padding: 0 0 0 0;\n",
       "      width: 32px;\n",
       "    }\n",
       "\n",
       "    .colab-df-convert:hover {\n",
       "      background-color: #E2EBFA;\n",
       "      box-shadow: 0px 1px 2px rgba(60, 64, 67, 0.3), 0px 1px 3px 1px rgba(60, 64, 67, 0.15);\n",
       "      fill: #174EA6;\n",
       "    }\n",
       "\n",
       "    .colab-df-buttons div {\n",
       "      margin-bottom: 4px;\n",
       "    }\n",
       "\n",
       "    [theme=dark] .colab-df-convert {\n",
       "      background-color: #3B4455;\n",
       "      fill: #D2E3FC;\n",
       "    }\n",
       "\n",
       "    [theme=dark] .colab-df-convert:hover {\n",
       "      background-color: #434B5C;\n",
       "      box-shadow: 0px 1px 3px 1px rgba(0, 0, 0, 0.15);\n",
       "      filter: drop-shadow(0px 1px 2px rgba(0, 0, 0, 0.3));\n",
       "      fill: #FFFFFF;\n",
       "    }\n",
       "  </style>\n",
       "\n",
       "    <script>\n",
       "      const buttonEl =\n",
       "        document.querySelector('#df-b990ee8f-5f29-484a-8470-e171cf6f175f button.colab-df-convert');\n",
       "      buttonEl.style.display =\n",
       "        google.colab.kernel.accessAllowed ? 'block' : 'none';\n",
       "\n",
       "      async function convertToInteractive(key) {\n",
       "        const element = document.querySelector('#df-b990ee8f-5f29-484a-8470-e171cf6f175f');\n",
       "        const dataTable =\n",
       "          await google.colab.kernel.invokeFunction('convertToInteractive',\n",
       "                                                    [key], {});\n",
       "        if (!dataTable) return;\n",
       "\n",
       "        const docLinkHtml = 'Like what you see? Visit the ' +\n",
       "          '<a target=\"_blank\" href=https://colab.research.google.com/notebooks/data_table.ipynb>data table notebook</a>'\n",
       "          + ' to learn more about interactive tables.';\n",
       "        element.innerHTML = '';\n",
       "        dataTable['output_type'] = 'display_data';\n",
       "        await google.colab.output.renderOutput(dataTable, element);\n",
       "        const docLink = document.createElement('div');\n",
       "        docLink.innerHTML = docLinkHtml;\n",
       "        element.appendChild(docLink);\n",
       "      }\n",
       "    </script>\n",
       "  </div>\n",
       "\n",
       "\n",
       "<div id=\"df-daa547d1-cec8-4c5a-b5f4-bb5fbc1315d1\">\n",
       "  <button class=\"colab-df-quickchart\" onclick=\"quickchart('df-daa547d1-cec8-4c5a-b5f4-bb5fbc1315d1')\"\n",
       "            title=\"Suggest charts.\"\n",
       "            style=\"display:none;\">\n",
       "\n",
       "<svg xmlns=\"http://www.w3.org/2000/svg\" height=\"24px\"viewBox=\"0 0 24 24\"\n",
       "     width=\"24px\">\n",
       "    <g>\n",
       "        <path d=\"M19 3H5c-1.1 0-2 .9-2 2v14c0 1.1.9 2 2 2h14c1.1 0 2-.9 2-2V5c0-1.1-.9-2-2-2zM9 17H7v-7h2v7zm4 0h-2V7h2v10zm4 0h-2v-4h2v4z\"/>\n",
       "    </g>\n",
       "</svg>\n",
       "  </button>\n",
       "\n",
       "<style>\n",
       "  .colab-df-quickchart {\n",
       "      --bg-color: #E8F0FE;\n",
       "      --fill-color: #1967D2;\n",
       "      --hover-bg-color: #E2EBFA;\n",
       "      --hover-fill-color: #174EA6;\n",
       "      --disabled-fill-color: #AAA;\n",
       "      --disabled-bg-color: #DDD;\n",
       "  }\n",
       "\n",
       "  [theme=dark] .colab-df-quickchart {\n",
       "      --bg-color: #3B4455;\n",
       "      --fill-color: #D2E3FC;\n",
       "      --hover-bg-color: #434B5C;\n",
       "      --hover-fill-color: #FFFFFF;\n",
       "      --disabled-bg-color: #3B4455;\n",
       "      --disabled-fill-color: #666;\n",
       "  }\n",
       "\n",
       "  .colab-df-quickchart {\n",
       "    background-color: var(--bg-color);\n",
       "    border: none;\n",
       "    border-radius: 50%;\n",
       "    cursor: pointer;\n",
       "    display: none;\n",
       "    fill: var(--fill-color);\n",
       "    height: 32px;\n",
       "    padding: 0;\n",
       "    width: 32px;\n",
       "  }\n",
       "\n",
       "  .colab-df-quickchart:hover {\n",
       "    background-color: var(--hover-bg-color);\n",
       "    box-shadow: 0 1px 2px rgba(60, 64, 67, 0.3), 0 1px 3px 1px rgba(60, 64, 67, 0.15);\n",
       "    fill: var(--button-hover-fill-color);\n",
       "  }\n",
       "\n",
       "  .colab-df-quickchart-complete:disabled,\n",
       "  .colab-df-quickchart-complete:disabled:hover {\n",
       "    background-color: var(--disabled-bg-color);\n",
       "    fill: var(--disabled-fill-color);\n",
       "    box-shadow: none;\n",
       "  }\n",
       "\n",
       "  .colab-df-spinner {\n",
       "    border: 2px solid var(--fill-color);\n",
       "    border-color: transparent;\n",
       "    border-bottom-color: var(--fill-color);\n",
       "    animation:\n",
       "      spin 1s steps(1) infinite;\n",
       "  }\n",
       "\n",
       "  @keyframes spin {\n",
       "    0% {\n",
       "      border-color: transparent;\n",
       "      border-bottom-color: var(--fill-color);\n",
       "      border-left-color: var(--fill-color);\n",
       "    }\n",
       "    20% {\n",
       "      border-color: transparent;\n",
       "      border-left-color: var(--fill-color);\n",
       "      border-top-color: var(--fill-color);\n",
       "    }\n",
       "    30% {\n",
       "      border-color: transparent;\n",
       "      border-left-color: var(--fill-color);\n",
       "      border-top-color: var(--fill-color);\n",
       "      border-right-color: var(--fill-color);\n",
       "    }\n",
       "    40% {\n",
       "      border-color: transparent;\n",
       "      border-right-color: var(--fill-color);\n",
       "      border-top-color: var(--fill-color);\n",
       "    }\n",
       "    60% {\n",
       "      border-color: transparent;\n",
       "      border-right-color: var(--fill-color);\n",
       "    }\n",
       "    80% {\n",
       "      border-color: transparent;\n",
       "      border-right-color: var(--fill-color);\n",
       "      border-bottom-color: var(--fill-color);\n",
       "    }\n",
       "    90% {\n",
       "      border-color: transparent;\n",
       "      border-bottom-color: var(--fill-color);\n",
       "    }\n",
       "  }\n",
       "</style>\n",
       "\n",
       "  <script>\n",
       "    async function quickchart(key) {\n",
       "      const quickchartButtonEl =\n",
       "        document.querySelector('#' + key + ' button');\n",
       "      quickchartButtonEl.disabled = true;  // To prevent multiple clicks.\n",
       "      quickchartButtonEl.classList.add('colab-df-spinner');\n",
       "      try {\n",
       "        const charts = await google.colab.kernel.invokeFunction(\n",
       "            'suggestCharts', [key], {});\n",
       "      } catch (error) {\n",
       "        console.error('Error during call to suggestCharts:', error);\n",
       "      }\n",
       "      quickchartButtonEl.classList.remove('colab-df-spinner');\n",
       "      quickchartButtonEl.classList.add('colab-df-quickchart-complete');\n",
       "    }\n",
       "    (() => {\n",
       "      let quickchartButtonEl =\n",
       "        document.querySelector('#df-daa547d1-cec8-4c5a-b5f4-bb5fbc1315d1 button');\n",
       "      quickchartButtonEl.style.display =\n",
       "        google.colab.kernel.accessAllowed ? 'block' : 'none';\n",
       "    })();\n",
       "  </script>\n",
       "</div>\n",
       "    </div>\n",
       "  </div>\n"
      ],
      "text/plain": [
       "        replaced_review\n",
       "1                    최고\n",
       "4              필요 운동 최고\n",
       "5                 운동 최고\n",
       "7                 집중 운동\n",
       "12                운동 도움\n",
       "...                 ...\n",
       "7579  리뷰 설명 타임 운동 추천 건강\n",
       "7580    운동 몸무게 점차 저녁 기대\n",
       "7582                 추천\n",
       "7583              운동 영상\n",
       "7585                 추천\n",
       "\n",
       "[4351 rows x 1 columns]"
      ]
     },
     "execution_count": 19,
     "metadata": {},
     "output_type": "execute_result"
    }
   ],
   "source": [
    "df_review_positive[['replaced_review']]"
   ]
  },
  {
   "cell_type": "code",
   "execution_count": null,
   "metadata": {
    "id": "5KtE26uk0Gtk"
   },
   "outputs": [],
   "source": [
    "pos_dictionary = Dictionary(df_review_positive[['replaced_review']].values)"
   ]
  },
  {
   "cell_type": "code",
   "execution_count": null,
   "metadata": {
    "colab": {
     "base_uri": "https://localhost:8080/"
    },
    "id": "9tpztvaa0r2f",
    "outputId": "575b7df0-0090-4a4c-e00e-8d3127a84d1c"
   },
   "outputs": [
    {
     "data": {
      "text/plain": [
       "[(3, 1)]"
      ]
     },
     "execution_count": 21,
     "metadata": {},
     "output_type": "execute_result"
    }
   ],
   "source": [
    "pos_dictionary.doc2bow(df_review_positive[['replaced_review']].values[3])"
   ]
  },
  {
   "cell_type": "code",
   "execution_count": null,
   "metadata": {
    "id": "RF-EfMvy0zhW"
   },
   "outputs": [],
   "source": [
    "# dictionary에 의한 한글 문장을 백터화 변환\n",
    "corpus_list = list()\n",
    "for sentence_pos in df_review_positive[['replaced_review']].values:\n",
    "  vectors = dictionary.doc2bow(sentence_pos)\n",
    "  corpus_list.append(vectors)\n"
   ]
  },
  {
   "cell_type": "code",
   "execution_count": null,
   "metadata": {
    "colab": {
     "base_uri": "https://localhost:8080/"
    },
    "id": "Vi_IZzbp1BrI",
    "outputId": "2b2e99ff-e9a9-46b9-fbf9-f894484eb0a3"
   },
   "outputs": [
    {
     "name": "stderr",
     "output_type": "stream",
     "text": [
      "<ipython-input-23-159d16ef79fc>:1: SettingWithCopyWarning: \n",
      "A value is trying to be set on a copy of a slice from a DataFrame.\n",
      "Try using .loc[row_indexer,col_indexer] = value instead\n",
      "\n",
      "See the caveats in the documentation: https://pandas.pydata.org/pandas-docs/stable/user_guide/indexing.html#returning-a-view-versus-a-copy\n",
      "  df_review_positive['긍정문장백터화'] = corpus_list\n"
     ]
    }
   ],
   "source": [
    "df_review_positive['긍정문장백터화'] = corpus_list"
   ]
  },
  {
   "cell_type": "code",
   "execution_count": null,
   "metadata": {
    "colab": {
     "base_uri": "https://localhost:8080/"
    },
    "id": "j-4eO21c1H8P",
    "outputId": "d08e0313-20fe-4396-95fd-37674bfd9fd8"
   },
   "outputs": [
    {
     "data": {
      "text/plain": [
       "Index(['Unnamed: 0', 'app', 'review', 'rating', 'tokenized_review',\n",
       "       'replaced_review', '긍정문장백터화'],\n",
       "      dtype='object')"
      ]
     },
     "execution_count": 24,
     "metadata": {},
     "output_type": "execute_result"
    }
   ],
   "source": [
    "df_review_positive.columns"
   ]
  },
  {
   "cell_type": "markdown",
   "metadata": {
    "id": "oEFSCgtP2apN"
   },
   "source": [
    "#### 토픽 잡기"
   ]
  },
  {
   "cell_type": "code",
   "execution_count": null,
   "metadata": {
    "id": "HESxuNfJ1VkR"
   },
   "outputs": [],
   "source": [
    "from gensim.models import LdaModel"
   ]
  },
  {
   "cell_type": "code",
   "execution_count": null,
   "metadata": {
    "colab": {
     "base_uri": "https://localhost:8080/"
    },
    "id": "3Stz_3GI1dhp",
    "outputId": "c82828da-a635-47fe-c96f-5bb2c94bd945"
   },
   "outputs": [
    {
     "name": "stderr",
     "output_type": "stream",
     "text": [
      "WARNING:gensim.models.ldamodel:too few updates, training might not converge; consider increasing the number of passes or iterations to improve accuracy\n"
     ]
    }
   ],
   "source": [
    "lda_model = LdaModel(corpus=corpus_list, id2word=pos_dictionary, num_topics=3)"
   ]
  },
  {
   "cell_type": "code",
   "execution_count": null,
   "metadata": {
    "colab": {
     "base_uri": "https://localhost:8080/"
    },
    "id": "0nnOxZXM1nQz",
    "outputId": "7e4fb2ea-d3f2-4bb5-f815-b9f68cd1371c"
   },
   "outputs": [
    {
     "data": {
      "text/plain": [
       "[(0,\n",
       "  '0.370*\"동영상 동작 설정 구매\" + 0.031*\"설정 운동 화면 가로 모드\" + 0.010*\"새해 운동 감사\" + 0.006*\"운동 방법\"'),\n",
       " (1,\n",
       "  '0.188*\"동작 추가 기본 운동\" + 0.056*\"분배 티비\" + 0.005*\"동영상 동작 설정 구매\" + 0.002*\"근력 도움\"'),\n",
       " (2, '0.025*\"직접 운동\" + 0.017*\"성취\" + 0.013*\"동영상 동작 설정 구매\" + 0.013*\"무료 운동 체력\"')]"
      ]
     },
     "execution_count": 27,
     "metadata": {},
     "output_type": "execute_result"
    }
   ],
   "source": [
    "lda_model.print_topics(num_words=4)"
   ]
  },
  {
   "cell_type": "code",
   "execution_count": null,
   "metadata": {
    "id": "fUDckkZ-2pSk"
   },
   "outputs": [],
   "source": []
  },
  {
   "cell_type": "markdown",
   "metadata": {
    "id": "FZ6leeZh55G8"
   },
   "source": [
    "### LDA 시각화"
   ]
  },
  {
   "cell_type": "code",
   "execution_count": null,
   "metadata": {
    "colab": {
     "base_uri": "https://localhost:8080/"
    },
    "id": "nIVEGa7_51EJ",
    "outputId": "f747abde-b1e3-49ab-a36f-04e14b10438f"
   },
   "outputs": [
    {
     "name": "stdout",
     "output_type": "stream",
     "text": [
      "Requirement already satisfied: pyLDAvis in /usr/local/lib/python3.10/dist-packages (3.4.1)\n",
      "Requirement already satisfied: numpy>=1.24.2 in /usr/local/lib/python3.10/dist-packages (from pyLDAvis) (1.25.2)\n",
      "Requirement already satisfied: scipy in /usr/local/lib/python3.10/dist-packages (from pyLDAvis) (1.11.2)\n",
      "Requirement already satisfied: pandas>=2.0.0 in /usr/local/lib/python3.10/dist-packages (from pyLDAvis) (2.1.0)\n",
      "Requirement already satisfied: joblib>=1.2.0 in /usr/local/lib/python3.10/dist-packages (from pyLDAvis) (1.3.2)\n",
      "Requirement already satisfied: jinja2 in /usr/local/lib/python3.10/dist-packages (from pyLDAvis) (3.1.2)\n",
      "Requirement already satisfied: numexpr in /usr/local/lib/python3.10/dist-packages (from pyLDAvis) (2.8.5)\n",
      "Requirement already satisfied: funcy in /usr/local/lib/python3.10/dist-packages (from pyLDAvis) (2.0)\n",
      "Requirement already satisfied: scikit-learn>=1.0.0 in /usr/local/lib/python3.10/dist-packages (from pyLDAvis) (1.2.2)\n",
      "Requirement already satisfied: gensim in /usr/local/lib/python3.10/dist-packages (from pyLDAvis) (4.3.2)\n",
      "Requirement already satisfied: setuptools in /usr/local/lib/python3.10/dist-packages (from pyLDAvis) (67.7.2)\n",
      "Requirement already satisfied: python-dateutil>=2.8.2 in /usr/local/lib/python3.10/dist-packages (from pandas>=2.0.0->pyLDAvis) (2.8.2)\n",
      "Requirement already satisfied: pytz>=2020.1 in /usr/local/lib/python3.10/dist-packages (from pandas>=2.0.0->pyLDAvis) (2023.3.post1)\n",
      "Requirement already satisfied: tzdata>=2022.1 in /usr/local/lib/python3.10/dist-packages (from pandas>=2.0.0->pyLDAvis) (2023.3)\n",
      "Requirement already satisfied: threadpoolctl>=2.0.0 in /usr/local/lib/python3.10/dist-packages (from scikit-learn>=1.0.0->pyLDAvis) (3.2.0)\n",
      "Requirement already satisfied: smart-open>=1.8.1 in /usr/local/lib/python3.10/dist-packages (from gensim->pyLDAvis) (6.4.0)\n",
      "Requirement already satisfied: MarkupSafe>=2.0 in /usr/local/lib/python3.10/dist-packages (from jinja2->pyLDAvis) (2.1.3)\n",
      "Requirement already satisfied: six>=1.5 in /usr/local/lib/python3.10/dist-packages (from python-dateutil>=2.8.2->pandas>=2.0.0->pyLDAvis) (1.16.0)\n"
     ]
    }
   ],
   "source": [
    "# %pip install pyLDAvis"
   ]
  },
  {
   "cell_type": "code",
   "execution_count": null,
   "metadata": {
    "colab": {
     "base_uri": "https://localhost:8080/"
    },
    "id": "2Uqlampg51NF",
    "outputId": "d613becf-cce9-4626-a3a9-3205c0b23718"
   },
   "outputs": [
    {
     "name": "stderr",
     "output_type": "stream",
     "text": [
      "/usr/local/lib/python3.10/dist-packages/ipykernel/ipkernel.py:283: DeprecationWarning: `should_run_async` will not call `transform_cell` automatically in the future. Please pass the result to `transformed_cell` argument and any exception that happen during thetransform in `preprocessing_exc_tuple` in IPython 7.17 and above.\n",
      "  and should_run_async(code)\n"
     ]
    }
   ],
   "source": [
    "import pyLDAvis.gensim_models"
   ]
  },
  {
   "cell_type": "code",
   "execution_count": null,
   "metadata": {
    "colab": {
     "base_uri": "https://localhost:8080/"
    },
    "id": "QgfAou9Z51St",
    "outputId": "e6a25845-f204-4a35-b408-303e8f99e78c"
   },
   "outputs": [
    {
     "name": "stderr",
     "output_type": "stream",
     "text": [
      "/usr/local/lib/python3.10/dist-packages/ipykernel/ipkernel.py:283: DeprecationWarning: `should_run_async` will not call `transform_cell` automatically in the future. Please pass the result to `transformed_cell` argument and any exception that happen during thetransform in `preprocessing_exc_tuple` in IPython 7.17 and above.\n",
      "  and should_run_async(code)\n"
     ]
    }
   ],
   "source": [
    "pyLDAvis.enable_notebook() # 일반 python에선 불필요\n",
    "result_visualized = pyLDAvis.gensim_models.prepare(lda_model, corpus_list, pos_dictionary)"
   ]
  },
  {
   "cell_type": "code",
   "execution_count": null,
   "metadata": {
    "colab": {
     "base_uri": "https://localhost:8080/",
     "height": 917
    },
    "id": "4fHAKFzs51Wb",
    "outputId": "5b28f31a-d48b-496c-e882-6c1eda63e3c6"
   },
   "outputs": [
    {
     "name": "stderr",
     "output_type": "stream",
     "text": [
      "/usr/local/lib/python3.10/dist-packages/ipykernel/ipkernel.py:283: DeprecationWarning: `should_run_async` will not call `transform_cell` automatically in the future. Please pass the result to `transformed_cell` argument and any exception that happen during thetransform in `preprocessing_exc_tuple` in IPython 7.17 and above.\n",
      "  and should_run_async(code)\n"
     ]
    },
    {
     "data": {
      "text/html": [
       "\n",
       "<link rel=\"stylesheet\" type=\"text/css\" href=\"https://cdn.jsdelivr.net/gh/bmabey/pyLDAvis@3.4.0/pyLDAvis/js/ldavis.v1.0.0.css\">\n",
       "\n",
       "\n",
       "<div id=\"ldavis_el64571370655914836169245262106\" style=\"background-color:white;\"></div>\n",
       "<script type=\"text/javascript\">\n",
       "\n",
       "var ldavis_el64571370655914836169245262106_data = {\"mdsDat\": {\"x\": [-0.12010913474991539, 0.0937578400732329, 0.026351294676682527], \"y\": [-0.014080482510183848, -0.030593965361125956, 0.04467444787130974], \"topics\": [1, 2, 3], \"cluster\": [1, 1, 1], \"Freq\": [48.02909057942004, 28.79301353525703, 23.177895885322926]}, \"tinfo\": {\"Term\": [\"\\ub3d9\\uc601\\uc0c1 \\ub3d9\\uc791 \\uc124\\uc815 \\uad6c\\ub9e4\", \"\\ub3d9\\uc791 \\ucd94\\uac00 \\uae30\\ubcf8 \\uc6b4\\ub3d9\", \"\\ubd84\\ubc30 \\ud2f0\\ube44\", \"\\uc124\\uc815 \\uc6b4\\ub3d9 \\ud654\\uba74 \\uac00\\ub85c \\ubaa8\\ub4dc\", \"\\uc9c1\\uc811 \\uc6b4\\ub3d9\", \"\\uc131\\ucde8\", \"\\ubb34\\ub8cc \\uc6b4\\ub3d9 \\uccb4\\ub825\", \"\\uc6b4\\ub3d9 \\ubb34\\ub8cc \\uc6b4\\ub3d9 \\ucd5c\\uace0\", \"\\ud558\\uc218\", \"\\uc0c8\\ud574 \\uc6b4\\ub3d9 \\uac10\\uc0ac\", \"\\uc6b4\\ub3d9 \\ubc29\\ubc95\", \"\\ud544\\uc694 \\uc6b4\\ub3d9 \\ucd5c\\uace0\", \"\\ub3d9\\uc791 \\ub2e4\\uc591 \\ub3d9\\uc791 \\ub3d9\\uc791 \\uadfc\\uc721 \\uadfc\\uc721 \\ubcf5\\uadfc \\uc6b4\\ub3d9\", \"\\uc81c\\ud55c\", \"\\uadfc\\ub825 \\ub3c4\\uc6c0\", \"\\ud2b8\\ub808\\uc774\\ub2dd \\ucd94\\ucc9c \\ucd94\\uc804\", \"\\uac8c\\uc73c\\ub984\", \"\\ucd5c\\uace0\", \"\\ub3d9\\uc601\\uc0c1 \\uc6b4\\ub3d9 \\uc18c\\ubaa8 \\uce7c\\ub85c\\ub9ac \\ub9cc\\uc871\", \"\\uc18c\\ub9ac\", \"\\ub3d9\\uc791 \\uc900\\ube44 \\uc74c\\uc2dd \\uc870\\uc808 \\ub2e4\\uc774\\uc5b4\\ud2b8 \\uc131\\uacf5 \\uac10\\uc0ac\", \"\\ub2e4\\uc774\\uc5b4\\ud2b8 \\uc6b4\\ub3d9 \\uc885\\ub958 \\ubc14\\ub78c\", \"\\uc720\\uc6a9 \\ucd94\\ucc9c \\ucd5c\\uace0 \\uc720\\uc6a9\", \"\\uc6b4\\ub3d9\", \"\\uc6b4\\ub3d9 \\uc885\\ub958\", \"\\uc6b4\\ub3d9 \\ub3d9\\uc791\", \"\\ub9ac\\ubdf0 \\uc6b4\\ub3d9 \\uc6b4\\ub3d9 \\uae30\\ubd84 \\ubc43\\uc0b4\", \"\\ubb34\\ub8cc \\ucd5c\\uace0\", \"\\uc758\\uc9c0 \\ub2e4\\uc774\\uc5b4\\ud2b8\", \"\\uc9c0\\ub9ac\", \"\\uc124\\uc815 \\uc6b4\\ub3d9 \\ud654\\uba74 \\uac00\\ub85c \\ubaa8\\ub4dc\", \"\\ub3d9\\uc601\\uc0c1 \\ub3d9\\uc791 \\uc124\\uc815 \\uad6c\\ub9e4\", \"\\uc6b4\\ub3d9 \\ubc29\\ubc95\", \"\\uc0c8\\ud574 \\uc6b4\\ub3d9 \\uac10\\uc0ac\", \"\\ud2b8\\ub808\\uc774\\ub2dd \\ucd94\\ucc9c \\ucd94\\uc804\", \"\\ubb34\\ub8cc \\ucd5c\\uace0\", \"\\uc6b4\\ub3d9 \\uc544\\ubc14\\uc694 \\ubb34\\uac1c\", \"\\uc885\\ub958 \\ud544\\uc694 \\ubc18\\ubcf5\", \"\\ubc43\\uac00\\uc8fd \\ubcf4\\ub78c\", \"\\uc6b4\\ub3d9 \\ub3d9\\uc601\\uc0c1 \\uc124\\uba85 \\uc8fc\\uc758 \\uc6b4\\ub3d9\", \"\\uc6b4\\ub3d9 \\ucd5c\\uace0\", \"\\uc9d1\\uc911 \\uc6b4\\ub3d9\", \"\\uc6b4\\ub3d9 \\ub3c4\\uc6c0\", \"\\uc870\\uc544\", \"\\uc6b0\\uc640\", \"\\uc2dc\\uc791 \\uc790\\uc138 \\uc6b4\\ub3d9 \\ub9c8\\uc74c\", \"\\uad6c\\uac04\", \"\\uc124\\uba85 \\ucd5c\\uace0\", \"\\uc6b4\\ub3d9 \\uad00\\uac74\", \"\\uc2dc\\ub2e8 \\uc218\\uc900 \\uc6b4\\ub3d9 \\uac00\\ub2a5 \\ub3d9\\uc791 \\uc6b4\\ub3d9 \\uac00\\ub2a5\", \"\\uadfc\\uc721 \\uc0dd\\uae40 \\ub2f9\\ud669 \\uc5ec\\uc794\\ub370\", \"\\ud5ec\\uc2a4 \\uc9c0\\uc18d \\uc6b4\\ub3d9 \\ud65c\\uc6a9 \\ucd5c\\uace0\", \"\\uc720\\uc6a9\", \"\\uc885\\ud569 \\uac1c\\ubcc4 \\uc885\\ud569 \\uacf5\\uc9dc\", \"\\ubb34\\ub8cc \\uc6b4\\ub3d9 \\ucd5c\\uace0\", \"\\ud2f0\\ube44 \\ubc29\\ubc95 \\uac10\\uc0ac\", \"\\uc6b4\\ub3d9 \\uc601\\uc0c1 \\ud0c0\\uc774\\uba38 \\uc7ac\\uace0 \\uc2f8\\uc774\\ud074 \\uc6b4\\ub3d9 \\uc54c\\ub78c\", \"\\uc6b4\\ub3d9 \\ucd5c\\uace0 \\uc9c4\\ud589 \\ubc29\\uc2dd \\ucd08\\uc138 \\uc601\\uc0c1 \\uc6b4\\ub3d9\", \"\\ud22c\\uc790 \\uac74\\uac15\", \"\\ubbfc\\uc911\", \"\\ub3d9\\uc791 \\ub2e4\\uc591 \\ub3d9\\uc791 \\ub3d9\\uc791 \\uadfc\\uc721 \\uadfc\\uc721 \\ubcf5\\uadfc \\uc6b4\\ub3d9\", \"\\ub3d9\\uc791 \\ucd94\\uac00 \\uae30\\ubcf8 \\uc6b4\\ub3d9\", \"\\uc81c\\ud55c\", \"\\uc6b4\\ub3d9 \\uc885\\ub958\", \"\\ub3d9\\uc791 \\uc900\\ube44 \\uc74c\\uc2dd \\uc870\\uc808 \\ub2e4\\uc774\\uc5b4\\ud2b8 \\uc131\\uacf5 \\uac10\\uc0ac\", \"\\ub9ac\\ubdf0 \\uc6b4\\ub3d9 \\uc6b4\\ub3d9 \\uae30\\ubd84 \\ubc43\\uc0b4\", \"\\ub3d9\\uc601\\uc0c1 \\uc6b4\\ub3d9 \\uc18c\\ubaa8 \\uce7c\\ub85c\\ub9ac \\ub9cc\\uc871\", \"\\ucd5c\\uace0\", \"\\uac8c\\uc73c\\ub984\", \"\\uc6b4\\ub3d9\", \"\\uc720\\uc6a9 \\ucd94\\ucc9c \\ucd5c\\uace0 \\uc720\\uc6a9\", \"\\ub2e4\\uc774\\uc5b4\\ud2b8 \\uc6b4\\ub3d9 \\uc885\\ub958 \\ubc14\\ub78c\", \"\\uc9c1\\uc811 \\uc6b4\\ub3d9\", \"\\uc18c\\ub9ac\", \"\\uc6b4\\ub3d9 \\ub3d9\\uc791\", \"\\uc6b4\\ub3d9 \\ubb34\\ub8cc \\uc6b4\\ub3d9 \\ucd5c\\uace0\", \"\\ubd84\\ubc30 \\ud2f0\\ube44\", \"\\uadfc\\ub825 \\ub3c4\\uc6c0\", \"\\uc131\\ucde8\", \"\\ud558\\uc218\", \"\\ubb34\\ub8cc \\uc6b4\\ub3d9 \\uccb4\\ub825\", \"\\ud544\\uc694 \\uc6b4\\ub3d9 \\ucd5c\\uace0\", \"\\ubd84\\ubc30 \\ud2f0\\ube44\", \"\\ub3d9\\uc791 \\ucd94\\uac00 \\uae30\\ubcf8 \\uc6b4\\ub3d9\", \"\\uadfc\\ub825 \\ub3c4\\uc6c0\", \"\\uc18c\\ub9ac\", \"\\ub2e4\\uc774\\uc5b4\\ud2b8 \\uc6b4\\ub3d9 \\uc885\\ub958 \\ubc14\\ub78c\", \"\\uc720\\uc6a9 \\ucd94\\ucc9c \\ucd5c\\uace0 \\uc720\\uc6a9\", \"\\uc6b4\\ub3d9\", \"\\uc6b4\\ub3d9 \\ub3d9\\uc791\", \"\\uc81c\\ud55c\", \"\\ub9ac\\ubdf0 \\uc6b4\\ub3d9 \\uc6b4\\ub3d9 \\uae30\\ubd84 \\ubc43\\uc0b4\", \"\\uc6b4\\ub3d9 \\ucd5c\\uace0\", \"\\uc9d1\\uc911 \\uc6b4\\ub3d9\", \"\\uc6b4\\ub3d9 \\ub3c4\\uc6c0\", \"\\uc870\\uc544\", \"\\uc6b0\\uc640\", \"\\uc2dc\\uc791 \\uc790\\uc138 \\uc6b4\\ub3d9 \\ub9c8\\uc74c\", \"\\uad6c\\uac04\", \"\\uc124\\uba85 \\ucd5c\\uace0\", \"\\uc6b4\\ub3d9 \\uad00\\uac74\", \"\\uc2dc\\ub2e8 \\uc218\\uc900 \\uc6b4\\ub3d9 \\uac00\\ub2a5 \\ub3d9\\uc791 \\uc6b4\\ub3d9 \\uac00\\ub2a5\", \"\\uadfc\\uc721 \\uc0dd\\uae40 \\ub2f9\\ud669 \\uc5ec\\uc794\\ub370\", \"\\ud5ec\\uc2a4 \\uc9c0\\uc18d \\uc6b4\\ub3d9 \\ud65c\\uc6a9 \\ucd5c\\uace0\", \"\\uc720\\uc6a9\", \"\\uc885\\ud569 \\uac1c\\ubcc4 \\uc885\\ud569 \\uacf5\\uc9dc\", \"\\ubb34\\ub8cc \\uc6b4\\ub3d9 \\ucd5c\\uace0\", \"\\ud2f0\\ube44 \\ubc29\\ubc95 \\uac10\\uc0ac\", \"\\uc6b4\\ub3d9 \\uc601\\uc0c1 \\ud0c0\\uc774\\uba38 \\uc7ac\\uace0 \\uc2f8\\uc774\\ud074 \\uc6b4\\ub3d9 \\uc54c\\ub78c\", \"\\uc6b4\\ub3d9 \\ucd5c\\uace0 \\uc9c4\\ud589 \\ubc29\\uc2dd \\ucd08\\uc138 \\uc601\\uc0c1 \\uc6b4\\ub3d9\", \"\\ud22c\\uc790 \\uac74\\uac15\", \"\\ubbfc\\uc911\", \"\\ub3d9\\uc601\\uc0c1 \\uc6b4\\ub3d9 \\uc18c\\ubaa8 \\uce7c\\ub85c\\ub9ac \\ub9cc\\uc871\", \"\\ucd5c\\uace0\", \"\\uac8c\\uc73c\\ub984\", \"\\ub3d9\\uc601\\uc0c1 \\ub3d9\\uc791 \\uc124\\uc815 \\uad6c\\ub9e4\", \"\\uc6b4\\ub3d9 \\uc885\\ub958\", \"\\uc6b4\\ub3d9 \\ub3d9\\uc601\\uc0c1 \\uc124\\uba85 \\uc8fc\\uc758 \\uc6b4\\ub3d9\", \"\\uc6b4\\ub3d9 \\ubb34\\ub8cc \\uc6b4\\ub3d9 \\ucd5c\\uace0\", \"\\uc6b4\\ub3d9 \\uc544\\ubc14\\uc694 \\ubb34\\uac1c\", \"\\uc885\\ub958 \\ud544\\uc694 \\ubc18\\ubcf5\", \"\\ub3d9\\uc791 \\uc900\\ube44 \\uc74c\\uc2dd \\uc870\\uc808 \\ub2e4\\uc774\\uc5b4\\ud2b8 \\uc131\\uacf5 \\uac10\\uc0ac\", \"\\ub3d9\\uc791 \\ub2e4\\uc591 \\ub3d9\\uc791 \\ub3d9\\uc791 \\uadfc\\uc721 \\uadfc\\uc721 \\ubcf5\\uadfc \\uc6b4\\ub3d9\", \"\\ud2b8\\ub808\\uc774\\ub2dd \\ucd94\\ucc9c \\ucd94\\uc804\", \"\\uc9c1\\uc811 \\uc6b4\\ub3d9\", \"\\uc0c8\\ud574 \\uc6b4\\ub3d9 \\uac10\\uc0ac\", \"\\uc131\\ucde8\", \"\\ubc43\\uac00\\uc8fd \\ubcf4\\ub78c\", \"\\uc124\\uc815 \\uc6b4\\ub3d9 \\ud654\\uba74 \\uac00\\ub85c \\ubaa8\\ub4dc\", \"\\ud544\\uc694 \\uc6b4\\ub3d9 \\ucd5c\\uace0\", \"\\uc6b4\\ub3d9 \\ubc29\\ubc95\", \"\\ubb34\\ub8cc \\uc6b4\\ub3d9 \\uccb4\\ub825\", \"\\ud558\\uc218\", \"\\uc9c1\\uc811 \\uc6b4\\ub3d9\", \"\\ubb34\\ub8cc \\uc6b4\\ub3d9 \\uccb4\\ub825\", \"\\uc131\\ucde8\", \"\\uc6b4\\ub3d9 \\ubb34\\ub8cc \\uc6b4\\ub3d9 \\ucd5c\\uace0\", \"\\ud558\\uc218\", \"\\ud544\\uc694 \\uc6b4\\ub3d9 \\ucd5c\\uace0\", \"\\ub3d9\\uc791 \\ub2e4\\uc591 \\ub3d9\\uc791 \\ub3d9\\uc791 \\uadfc\\uc721 \\uadfc\\uc721 \\ubcf5\\uadfc \\uc6b4\\ub3d9\", \"\\ub3d9\\uc791 \\uc900\\ube44 \\uc74c\\uc2dd \\uc870\\uc808 \\ub2e4\\uc774\\uc5b4\\ud2b8 \\uc131\\uacf5 \\uac10\\uc0ac\", \"\\uac8c\\uc73c\\ub984\", \"\\ucd5c\\uace0\", \"\\ub3d9\\uc601\\uc0c1 \\uc6b4\\ub3d9 \\uc18c\\ubaa8 \\uce7c\\ub85c\\ub9ac \\ub9cc\\uc871\", \"\\uc81c\\ud55c\", \"\\uc6b4\\ub3d9 \\uc885\\ub958\", \"\\uc6b4\\ub3d9 \\ucd5c\\uace0\", \"\\uc9d1\\uc911 \\uc6b4\\ub3d9\", \"\\uc6b4\\ub3d9 \\ub3c4\\uc6c0\", \"\\uc870\\uc544\", \"\\uc6b0\\uc640\", \"\\uc2dc\\uc791 \\uc790\\uc138 \\uc6b4\\ub3d9 \\ub9c8\\uc74c\", \"\\uad6c\\uac04\", \"\\uc124\\uba85 \\ucd5c\\uace0\", \"\\uc6b4\\ub3d9 \\uad00\\uac74\", \"\\uc2dc\\ub2e8 \\uc218\\uc900 \\uc6b4\\ub3d9 \\uac00\\ub2a5 \\ub3d9\\uc791 \\uc6b4\\ub3d9 \\uac00\\ub2a5\", \"\\uadfc\\uc721 \\uc0dd\\uae40 \\ub2f9\\ud669 \\uc5ec\\uc794\\ub370\", \"\\ud5ec\\uc2a4 \\uc9c0\\uc18d \\uc6b4\\ub3d9 \\ud65c\\uc6a9 \\ucd5c\\uace0\", \"\\uc720\\uc6a9\", \"\\uc885\\ud569 \\uac1c\\ubcc4 \\uc885\\ud569 \\uacf5\\uc9dc\", \"\\ubb34\\ub8cc \\uc6b4\\ub3d9 \\ucd5c\\uace0\", \"\\ud2f0\\ube44 \\ubc29\\ubc95 \\uac10\\uc0ac\", \"\\uc6b4\\ub3d9 \\uc601\\uc0c1 \\ud0c0\\uc774\\uba38 \\uc7ac\\uace0 \\uc2f8\\uc774\\ud074 \\uc6b4\\ub3d9 \\uc54c\\ub78c\", \"\\uc6b4\\ub3d9\", \"\\uc720\\uc6a9 \\ucd94\\ucc9c \\ucd5c\\uace0 \\uc720\\uc6a9\", \"\\ub2e4\\uc774\\uc5b4\\ud2b8 \\uc6b4\\ub3d9 \\uc885\\ub958 \\ubc14\\ub78c\", \"\\ub3d9\\uc601\\uc0c1 \\ub3d9\\uc791 \\uc124\\uc815 \\uad6c\\ub9e4\", \"\\uc0c8\\ud574 \\uc6b4\\ub3d9 \\uac10\\uc0ac\", \"\\ub3d9\\uc791 \\ucd94\\uac00 \\uae30\\ubcf8 \\uc6b4\\ub3d9\", \"\\ubc43\\uac00\\uc8fd \\ubcf4\\ub78c\", \"\\uc885\\ub958 \\ud544\\uc694 \\ubc18\\ubcf5\", \"\\uc6b4\\ub3d9 \\ub3d9\\uc601\\uc0c1 \\uc124\\uba85 \\uc8fc\\uc758 \\uc6b4\\ub3d9\", \"\\ub9ac\\ubdf0 \\uc6b4\\ub3d9 \\uc6b4\\ub3d9 \\uae30\\ubd84 \\ubc43\\uc0b4\", \"\\uc6b4\\ub3d9 \\uc544\\ubc14\\uc694 \\ubb34\\uac1c\", \"\\ubd84\\ubc30 \\ud2f0\\ube44\", \"\\uc18c\\ub9ac\", \"\\uadfc\\ub825 \\ub3c4\\uc6c0\", \"\\uc6b4\\ub3d9 \\ub3d9\\uc791\", \"\\ubb34\\ub8cc \\ucd5c\\uace0\", \"\\uc124\\uc815 \\uc6b4\\ub3d9 \\ud654\\uba74 \\uac00\\ub85c \\ubaa8\\ub4dc\", \"\\ud2b8\\ub808\\uc774\\ub2dd \\ucd94\\ucc9c \\ucd94\\uc804\", \"\\uc6b4\\ub3d9 \\ubc29\\ubc95\"], \"Freq\": [184.0, 56.0, 16.0, 15.0, 6.0, 4.0, 3.0, 2.0, 1.0, 5.0, 2.0, 0.0, 0.0, 1.0, 0.0, 1.0, 0.0, 0.0, 0.0, 0.0, 0.0, 0.0, 0.0, 0.0, 0.0, 0.0, 0.0, 0.0, 0.0, 0.0, 15.142265641366599, 180.02655199674288, 2.7907792471176998, 4.981667415306824, 1.0340021578289946, 0.5890294349495833, 0.24843191341339577, 0.24663701720201175, 0.1797001240421881, 0.17423364711446132, 0.10911801612908198, 0.10911801612908198, 0.10911801612908198, 0.10911801612908198, 0.10911801612908198, 0.10911801612908198, 0.10911801612908198, 0.10911801612908198, 0.10911801612908198, 0.10911801612908198, 0.10911801612908198, 0.10911801612908198, 0.10911801612908198, 0.10911801612908198, 0.10911801612908198, 0.10911801612908198, 0.10911801612908198, 0.10911801612908198, 0.10911801612908198, 0.10911801612908198, 0.19647369095639913, 1.113108543023758, 0.22526822542298316, 0.11903838673080741, 0.12434615811933988, 0.11679163710146662, 0.12560266193143357, 0.12560084944847347, 0.12559494471882998, 0.12559750768301575, 0.12536617538520908, 0.1253557819282347, 0.2380133931981036, 0.12724788669837753, 0.11538566716526823, 0.1861546165835197, 0.2710934161836508, 0.13540716106392034, 0.17547076585489574, 0.1354734724522186, 0.13758796038555257, 0.11905683724094036, 16.40639266259663, 54.941800595462354, 0.6301744178592539, 0.2848636902012733, 0.20958371677423387, 0.2094765031267803, 0.2068842757694646, 0.1432572288986735, 0.5909714717815893, 0.13913143043117038, 0.08433377122491265, 0.08433377122491265, 0.08433377122491265, 0.08433377122491265, 0.08433377122491265, 0.08433377122491265, 0.08433377122491265, 0.08433377122491265, 0.08433377122491265, 0.08433377122491265, 0.08433377122491265, 0.08433377122491265, 0.08433377122491265, 0.08433377122491265, 0.08433377122491265, 0.08433377122491265, 0.08433377122491265, 0.08433377122491265, 0.08433377122491265, 0.08433377122491265, 0.11199483284627683, 0.11197551231883389, 0.11191191416786618, 1.5728024428396958, 0.09261045258812362, 0.09280038967139945, 0.1748818933294335, 0.09751647439408698, 0.09659190736114531, 0.09421683220616611, 0.11479883050153586, 0.11649434260558487, 0.1605550091706056, 0.1535792121962559, 0.13657678302771667, 0.08820279173344325, 0.1500925870303097, 0.09329205295301966, 0.10205999013505768, 0.10074784109772685, 0.09312481494284683, 5.841227697236042, 3.135029473263321, 4.057103885572397, 2.2996211699521596, 1.404416251546015, 0.6805748359334357, 0.6787447557172293, 0.19405586607306932, 0.2026505792072201, 0.20258395405372662, 0.2025637000070646, 0.6180297931731902, 0.13317954082394348, 0.08230699945523767, 0.08230699945523767, 0.08230699945523767, 0.08230699945523767, 0.08230699945523767, 0.08230699945523767, 0.08230699945523767, 0.08230699945523767, 0.08230699945523767, 0.08230699945523767, 0.08230699945523767, 0.08230699945523767, 0.08230699945523767, 0.08230699945523767, 0.08230699945523767, 0.08230699945523767, 0.08230699945523767, 0.10995951999546882, 0.10760884791323702, 0.10751227219074232, 3.143766976059769, 0.40383144169511925, 0.9033410318170896, 0.0917127901246455, 0.09945555546271417, 0.09135789330702111, 0.08947208712909788, 0.09724699654122125, 0.31429491608423227, 0.09987230092282776, 0.11660078362919053, 0.08652219183302018, 0.10310223369739947, 0.160558419900416, 0.100669417925922, 0.10259243168956544], \"Total\": [184.0, 56.0, 16.0, 15.0, 6.0, 4.0, 3.0, 2.0, 1.0, 5.0, 2.0, 0.0, 0.0, 1.0, 0.0, 1.0, 0.0, 0.0, 0.0, 0.0, 0.0, 0.0, 0.0, 0.0, 0.0, 0.0, 0.0, 0.0, 0.0, 0.0, 15.452916648297325, 184.74312141564235, 2.995431668942323, 5.539078069198199, 1.2511659183605015, 0.7812509970008189, 0.443195384348704, 0.44268448002587124, 0.35961570590027686, 0.3583919300928819, 0.27575878680923227, 0.27575878680923227, 0.27575878680923227, 0.27575878680923227, 0.27575878680923227, 0.27575878680923227, 0.27575878680923227, 0.27575878680923227, 0.27575878680923227, 0.27575878680923227, 0.27575878680923227, 0.27575878680923227, 0.27575878680923227, 0.27575878680923227, 0.27575878680923227, 0.27575878680923227, 0.27575878680923227, 0.27575878680923227, 0.27575878680923227, 0.27575878680923227, 0.9900172771751643, 56.9582501703032, 1.4342694903777626, 0.34482838014287454, 0.4126188563985753, 0.34539515466173487, 0.440161194784775, 0.440160315821034, 0.4401574380939163, 0.4424413034479492, 0.44245152642522634, 0.4424517708932109, 6.239796099604751, 0.5119838778224786, 0.34516508789696193, 2.6606576798651127, 16.991780994864513, 0.8821823625523648, 4.369151434455009, 1.6330145389410804, 3.3733652747466003, 0.8929237261273957, 16.991780994864513, 56.9582501703032, 0.8821823625523648, 0.5119838778224786, 0.4424517708932109, 0.44245152642522634, 0.4424413034479492, 0.34516508789696193, 1.4342694903777626, 0.34539515466173487, 0.27575878680923227, 0.27575878680923227, 0.27575878680923227, 0.27575878680923227, 0.27575878680923227, 0.27575878680923227, 0.27575878680923227, 0.27575878680923227, 0.27575878680923227, 0.27575878680923227, 0.27575878680923227, 0.27575878680923227, 0.27575878680923227, 0.27575878680923227, 0.27575878680923227, 0.27575878680923227, 0.27575878680923227, 0.27575878680923227, 0.27575878680923227, 0.27575878680923227, 0.440161194784775, 0.440160315821034, 0.4401574380939163, 184.74312141564235, 0.34482838014287454, 0.3583919300928819, 2.6606576798651127, 0.443195384348704, 0.44268448002587124, 0.4126188563985753, 0.9900172771751643, 1.2511659183605015, 6.239796099604751, 5.539078069198199, 4.369151434455009, 0.35961570590027686, 15.452916648297325, 0.8929237261273957, 2.995431668942323, 3.3733652747466003, 1.6330145389410804, 6.239796099604751, 3.3733652747466003, 4.369151434455009, 2.6606576798651127, 1.6330145389410804, 0.8929237261273957, 0.9900172771751643, 0.4126188563985753, 0.4401574380939163, 0.440160315821034, 0.440161194784775, 1.4342694903777626, 0.34482838014287454, 0.27575878680923227, 0.27575878680923227, 0.27575878680923227, 0.27575878680923227, 0.27575878680923227, 0.27575878680923227, 0.27575878680923227, 0.27575878680923227, 0.27575878680923227, 0.27575878680923227, 0.27575878680923227, 0.27575878680923227, 0.27575878680923227, 0.27575878680923227, 0.27575878680923227, 0.27575878680923227, 0.27575878680923227, 0.4424413034479492, 0.44245152642522634, 0.4424517708932109, 184.74312141564235, 5.539078069198199, 56.9582501703032, 0.35961570590027686, 0.44268448002587124, 0.3583919300928819, 0.34539515466173487, 0.443195384348704, 16.991780994864513, 0.5119838778224786, 0.8821823625523648, 0.34516508789696193, 0.7812509970008189, 15.452916648297325, 1.2511659183605015, 2.995431668942323], \"Category\": [\"Default\", \"Default\", \"Default\", \"Default\", \"Default\", \"Default\", \"Default\", \"Default\", \"Default\", \"Default\", \"Default\", \"Default\", \"Default\", \"Default\", \"Default\", \"Default\", \"Default\", \"Default\", \"Default\", \"Default\", \"Default\", \"Default\", \"Default\", \"Default\", \"Default\", \"Default\", \"Default\", \"Default\", \"Default\", \"Default\", \"Topic1\", \"Topic1\", \"Topic1\", \"Topic1\", \"Topic1\", \"Topic1\", \"Topic1\", \"Topic1\", \"Topic1\", \"Topic1\", \"Topic1\", \"Topic1\", \"Topic1\", \"Topic1\", \"Topic1\", \"Topic1\", \"Topic1\", \"Topic1\", \"Topic1\", \"Topic1\", \"Topic1\", \"Topic1\", \"Topic1\", \"Topic1\", \"Topic1\", \"Topic1\", \"Topic1\", \"Topic1\", \"Topic1\", \"Topic1\", \"Topic1\", \"Topic1\", \"Topic1\", \"Topic1\", \"Topic1\", \"Topic1\", \"Topic1\", \"Topic1\", \"Topic1\", \"Topic1\", \"Topic1\", \"Topic1\", \"Topic1\", \"Topic1\", \"Topic1\", \"Topic1\", \"Topic1\", \"Topic1\", \"Topic1\", \"Topic1\", \"Topic1\", \"Topic1\", \"Topic2\", \"Topic2\", \"Topic2\", \"Topic2\", \"Topic2\", \"Topic2\", \"Topic2\", \"Topic2\", \"Topic2\", \"Topic2\", \"Topic2\", \"Topic2\", \"Topic2\", \"Topic2\", \"Topic2\", \"Topic2\", \"Topic2\", \"Topic2\", \"Topic2\", \"Topic2\", \"Topic2\", \"Topic2\", \"Topic2\", \"Topic2\", \"Topic2\", \"Topic2\", \"Topic2\", \"Topic2\", \"Topic2\", \"Topic2\", \"Topic2\", \"Topic2\", \"Topic2\", \"Topic2\", \"Topic2\", \"Topic2\", \"Topic2\", \"Topic2\", \"Topic2\", \"Topic2\", \"Topic2\", \"Topic2\", \"Topic2\", \"Topic2\", \"Topic2\", \"Topic2\", \"Topic2\", \"Topic2\", \"Topic2\", \"Topic2\", \"Topic2\", \"Topic3\", \"Topic3\", \"Topic3\", \"Topic3\", \"Topic3\", \"Topic3\", \"Topic3\", \"Topic3\", \"Topic3\", \"Topic3\", \"Topic3\", \"Topic3\", \"Topic3\", \"Topic3\", \"Topic3\", \"Topic3\", \"Topic3\", \"Topic3\", \"Topic3\", \"Topic3\", \"Topic3\", \"Topic3\", \"Topic3\", \"Topic3\", \"Topic3\", \"Topic3\", \"Topic3\", \"Topic3\", \"Topic3\", \"Topic3\", \"Topic3\", \"Topic3\", \"Topic3\", \"Topic3\", \"Topic3\", \"Topic3\", \"Topic3\", \"Topic3\", \"Topic3\", \"Topic3\", \"Topic3\", \"Topic3\", \"Topic3\", \"Topic3\", \"Topic3\", \"Topic3\", \"Topic3\", \"Topic3\", \"Topic3\"], \"logprob\": [30.0, 29.0, 28.0, 27.0, 26.0, 25.0, 24.0, 23.0, 22.0, 21.0, 20.0, 19.0, 18.0, 17.0, 16.0, 15.0, 14.0, 13.0, 12.0, 11.0, 10.0, 9.0, 8.0, 7.0, 6.0, 5.0, 4.0, 3.0, 2.0, 1.0, -3.4698, -0.9942, -5.161, -4.5815, -6.1539, -6.7166, -7.5799, -7.5871, -7.9038, -7.9347, -8.4026, -8.4026, -8.4026, -8.4026, -8.4026, -8.4026, -8.4026, -8.4026, -8.4026, -8.4026, -8.4026, -8.4026, -8.4026, -8.4026, -8.4026, -8.4026, -8.4026, -8.4026, -8.4026, -8.4026, -7.8145, -6.0802, -7.6778, -8.3156, -8.272, -8.3347, -8.2619, -8.262, -8.262, -8.262, -8.2638, -8.2639, -7.6227, -8.2489, -8.3468, -7.8685, -7.4926, -8.1868, -7.9276, -8.1863, -8.1708, -8.3155, -2.878, -1.6694, -6.1374, -6.9314, -7.2383, -7.2388, -7.2512, -7.6187, -6.2016, -7.648, -8.1486, -8.1486, -8.1486, -8.1486, -8.1486, -8.1486, -8.1486, -8.1486, -8.1486, -8.1486, -8.1486, -8.1486, -8.1486, -8.1486, -8.1486, -8.1486, -8.1486, -8.1486, -8.1486, -8.1486, -7.8649, -7.8651, -7.8657, -5.2228, -8.055, -8.0529, -7.4193, -8.0034, -8.0129, -8.0378, -7.8402, -7.8255, -7.5048, -7.5492, -7.6665, -8.1038, -7.5721, -8.0477, -7.9578, -7.9708, -8.0494, -3.6938, -4.3161, -4.0582, -4.626, -5.1191, -5.8435, -5.8462, -7.0983, -7.055, -7.0553, -7.0554, -5.9399, -7.4748, -7.956, -7.956, -7.956, -7.956, -7.956, -7.956, -7.956, -7.956, -7.956, -7.956, -7.956, -7.956, -7.956, -7.956, -7.956, -7.956, -7.956, -7.6663, -7.688, -7.6889, -4.3133, -6.3655, -5.5604, -7.8478, -7.7667, -7.8517, -7.8725, -7.7892, -6.6161, -7.7626, -7.6077, -7.9061, -7.7307, -7.2878, -7.7546, -7.7357], \"loglift\": [30.0, 29.0, 28.0, 27.0, 26.0, 25.0, 24.0, 23.0, 22.0, 21.0, 20.0, 19.0, 18.0, 17.0, 16.0, 15.0, 14.0, 13.0, 12.0, 11.0, 10.0, 9.0, 8.0, 7.0, 6.0, 5.0, 4.0, 3.0, 2.0, 1.0, 0.7131, 0.7075, 0.6626, 0.6273, 0.5427, 0.4509, 0.1545, 0.1484, 0.0396, 0.0121, -0.1937, -0.1937, -0.1937, -0.1937, -0.1937, -0.1937, -0.1937, -0.1937, -0.1937, -0.1937, -0.1937, -0.1937, -0.1937, -0.1937, -0.1937, -0.1937, -0.1937, -0.1937, -0.1937, -0.1937, -0.8838, -3.2018, -1.1178, -0.3302, -0.4661, -0.3509, -0.5207, -0.5207, -0.5207, -0.5259, -0.5277, -0.5278, -2.533, -0.6588, -0.3624, -1.9264, -3.4047, -1.1407, -2.4815, -1.756, -2.466, -1.2815, 1.21, 1.209, 0.9086, 0.6588, 0.4978, 0.4973, 0.4849, 0.3657, 0.3584, 0.3358, 0.0603, 0.0603, 0.0603, 0.0603, 0.0603, 0.0603, 0.0603, 0.0603, 0.0603, 0.0603, 0.0603, 0.0603, 0.0603, 0.0603, 0.0603, 0.0603, 0.0603, 0.0603, 0.0603, 0.0603, -0.1237, -0.1238, -0.1244, -3.5211, -0.0696, -0.1061, -1.4772, -0.269, -0.2773, -0.2319, -0.9095, -1.129, -2.415, -2.3403, -2.2204, -0.1604, -3.3893, -1.0137, -2.1342, -2.266, -1.6192, 1.396, 1.3887, 1.3879, 1.3161, 1.3112, 1.1904, 1.0845, 0.7076, 0.6863, 0.686, 0.6859, 0.6201, 0.5106, 0.2529, 0.2529, 0.2529, 0.2529, 0.2529, 0.2529, 0.2529, 0.2529, 0.2529, 0.2529, 0.2529, 0.2529, 0.2529, 0.2529, 0.2529, 0.2529, 0.2529, 0.0698, 0.0481, 0.0472, -2.6116, -1.1566, -2.682, 0.0956, -0.0312, 0.0951, 0.1112, -0.0548, -2.5282, -0.1724, -0.5617, 0.0783, -0.5632, -3.1049, -1.058, -1.9121]}, \"token.table\": {\"Topic\": [2, 1, 2, 3, 3, 1, 2, 3, 3, 1, 2, 1, 1, 3, 3, 1, 2, 3, 3, 1, 3, 3], \"Freq\": [1.1335524744643053, 0.9743258564687175, 0.010825842849652417, 0.016238764274478627, 1.0100833824368396, 0.017556719123393617, 0.9656195517866489, 0.017556719123393617, 0.8893196424526998, 1.279998366515943, 0.9416317221152826, 0.9026772935019793, 0.9706905396175013, 0.9155095812097765, 0.7516938443961697, 1.0015250994055525, 0.6972190419644335, 0.6972190419644335, 0.961569882128049, 0.7992545075959043, 1.1199164841738425, 0.6123644193936232], \"Term\": [\"\\uadfc\\ub825 \\ub3c4\\uc6c0\", \"\\ub3d9\\uc601\\uc0c1 \\ub3d9\\uc791 \\uc124\\uc815 \\uad6c\\ub9e4\", \"\\ub3d9\\uc601\\uc0c1 \\ub3d9\\uc791 \\uc124\\uc815 \\uad6c\\ub9e4\", \"\\ub3d9\\uc601\\uc0c1 \\ub3d9\\uc791 \\uc124\\uc815 \\uad6c\\ub9e4\", \"\\ub3d9\\uc791 \\ub2e4\\uc591 \\ub3d9\\uc791 \\ub3d9\\uc791 \\uadfc\\uc721 \\uadfc\\uc721 \\ubcf5\\uadfc \\uc6b4\\ub3d9\", \"\\ub3d9\\uc791 \\ucd94\\uac00 \\uae30\\ubcf8 \\uc6b4\\ub3d9\", \"\\ub3d9\\uc791 \\ucd94\\uac00 \\uae30\\ubcf8 \\uc6b4\\ub3d9\", \"\\ub3d9\\uc791 \\ucd94\\uac00 \\uae30\\ubcf8 \\uc6b4\\ub3d9\", \"\\ubb34\\ub8cc \\uc6b4\\ub3d9 \\uccb4\\ub825\", \"\\ubb34\\ub8cc \\ucd5c\\uace0\", \"\\ubd84\\ubc30 \\ud2f0\\ube44\", \"\\uc0c8\\ud574 \\uc6b4\\ub3d9 \\uac10\\uc0ac\", \"\\uc124\\uc815 \\uc6b4\\ub3d9 \\ud654\\uba74 \\uac00\\ub85c \\ubaa8\\ub4dc\", \"\\uc131\\ucde8\", \"\\uc6b4\\ub3d9 \\ubb34\\ub8cc \\uc6b4\\ub3d9 \\ucd5c\\uace0\", \"\\uc6b4\\ub3d9 \\ubc29\\ubc95\", \"\\uc81c\\ud55c\", \"\\uc81c\\ud55c\", \"\\uc9c1\\uc811 \\uc6b4\\ub3d9\", \"\\ud2b8\\ub808\\uc774\\ub2dd \\ucd94\\ucc9c \\ucd94\\uc804\", \"\\ud544\\uc694 \\uc6b4\\ub3d9 \\ucd5c\\uace0\", \"\\ud558\\uc218\"]}, \"R\": 30, \"lambda.step\": 0.01, \"plot.opts\": {\"xlab\": \"PC1\", \"ylab\": \"PC2\"}, \"topic.order\": [1, 2, 3]};\n",
       "\n",
       "function LDAvis_load_lib(url, callback){\n",
       "  var s = document.createElement('script');\n",
       "  s.src = url;\n",
       "  s.async = true;\n",
       "  s.onreadystatechange = s.onload = callback;\n",
       "  s.onerror = function(){console.warn(\"failed to load library \" + url);};\n",
       "  document.getElementsByTagName(\"head\")[0].appendChild(s);\n",
       "}\n",
       "\n",
       "if(typeof(LDAvis) !== \"undefined\"){\n",
       "   // already loaded: just create the visualization\n",
       "   !function(LDAvis){\n",
       "       new LDAvis(\"#\" + \"ldavis_el64571370655914836169245262106\", ldavis_el64571370655914836169245262106_data);\n",
       "   }(LDAvis);\n",
       "}else if(typeof define === \"function\" && define.amd){\n",
       "   // require.js is available: use it to load d3/LDAvis\n",
       "   require.config({paths: {d3: \"https://d3js.org/d3.v5\"}});\n",
       "   require([\"d3\"], function(d3){\n",
       "      window.d3 = d3;\n",
       "      LDAvis_load_lib(\"https://cdn.jsdelivr.net/gh/bmabey/pyLDAvis@3.4.0/pyLDAvis/js/ldavis.v3.0.0.js\", function(){\n",
       "        new LDAvis(\"#\" + \"ldavis_el64571370655914836169245262106\", ldavis_el64571370655914836169245262106_data);\n",
       "      });\n",
       "    });\n",
       "}else{\n",
       "    // require.js not available: dynamically load d3 & LDAvis\n",
       "    LDAvis_load_lib(\"https://d3js.org/d3.v5.js\", function(){\n",
       "         LDAvis_load_lib(\"https://cdn.jsdelivr.net/gh/bmabey/pyLDAvis@3.4.0/pyLDAvis/js/ldavis.v3.0.0.js\", function(){\n",
       "                 new LDAvis(\"#\" + \"ldavis_el64571370655914836169245262106\", ldavis_el64571370655914836169245262106_data);\n",
       "            })\n",
       "         });\n",
       "}\n",
       "</script>"
      ],
      "text/plain": [
       "<IPython.core.display.HTML object>"
      ]
     },
     "execution_count": 34,
     "metadata": {},
     "output_type": "execute_result"
    }
   ],
   "source": [
    "pyLDAvis.display(result_visualized)"
   ]
  },
  {
   "cell_type": "code",
   "execution_count": null,
   "metadata": {
    "colab": {
     "base_uri": "https://localhost:8080/"
    },
    "id": "xULHcq5q-Cex",
    "outputId": "aff21cd2-5343-4bee-aca8-a954daa91ba6"
   },
   "outputs": [
    {
     "name": "stderr",
     "output_type": "stream",
     "text": [
      "/usr/local/lib/python3.10/dist-packages/ipykernel/ipkernel.py:283: DeprecationWarning: `should_run_async` will not call `transform_cell` automatically in the future. Please pass the result to `transformed_cell` argument and any exception that happen during thetransform in `preprocessing_exc_tuple` in IPython 7.17 and above.\n",
      "  and should_run_async(code)\n"
     ]
    }
   ],
   "source": [
    "pyLDAvis.save_html(result_visualized, './result_visualized.html')"
   ]
  },
  {
   "cell_type": "code",
   "execution_count": null,
   "metadata": {
    "id": "LpOHDd16-Spf"
   },
   "outputs": [],
   "source": []
  }
 ],
 "metadata": {
  "colab": {
   "authorship_tag": "ABX9TyM7urEJPY9t1JMtWgTA9PUc",
   "include_colab_link": true,
   "provenance": []
  },
  "kernelspec": {
   "display_name": "Python 3 (ipykernel)",
   "language": "python",
   "name": "python3"
  },
  "language_info": {
   "codemirror_mode": {
    "name": "ipython",
    "version": 3
   },
   "file_extension": ".py",
   "mimetype": "text/x-python",
   "name": "python",
   "nbconvert_exporter": "python",
   "pygments_lexer": "ipython3",
   "version": "3.11.3"
  }
 },
 "nbformat": 4,
 "nbformat_minor": 4
}
