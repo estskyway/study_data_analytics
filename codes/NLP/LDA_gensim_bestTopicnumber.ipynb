{
 "cells": [
  {
   "cell_type": "code",
   "execution_count": 1,
   "id": "84dafb27-cdd4-427d-a665-62037967ce7a",
   "metadata": {
    "tags": []
   },
   "outputs": [],
   "source": [
    "sentences = [\n",
    "    \"오늘 날씨가 좋아서 나들이 가고 싶다.\", # -> [오늘, 날씨가, 좋아서 ...]\n",
    "    \"이 영화는 정말 재미있었어요.\",\n",
    "    \"맛있는 음식을 먹으러 갈까요?\",\n",
    "    \"운동을 하면 건강에 좋아지는 것 같아요.\",\n",
    "    \"공부하기 싫어서 미루고 있어요.\",\n",
    "    \"여행 계획을 세우고 있는데 어디로 갈까요?\",\n",
    "    \"좋은 책을 읽으면 마음이 편안해져요.\",\n",
    "    \"오늘은 친구들과 만나서 재미있게 놀았어요.\",\n",
    "    \"새로운 언어를 배우는 것은 어려워도 흥미로워요.\",\n",
    "    \"주말에 가족들과 함께 시간을 보내기로 했습니다.\"\n",
    "]\n",
    "# [(0, '0.092*\"것\" + 0.090*\"건강\" + 0.090*\"오늘\" + 0.089*\"운동\" + 0.089*\"친구\"'),\n",
    "#  (1, '0.073*\"계획\" + 0.073*\"여행\" + 0.073*\"어디\" + 0.073*\"가족\" + 0.073*\"시간\"'),\n",
    "#  (2, '0.113*\"것\" + 0.113*\"흥미\" + 0.112*\"언어\" + 0.103*\"음식\" + 0.038*\"공부\"')]"
   ]
  },
  {
   "cell_type": "code",
   "execution_count": 2,
   "id": "6c8c201b-e037-4ece-8b4a-128e4fdb24f3",
   "metadata": {
    "tags": []
   },
   "outputs": [],
   "source": [
    "from gensim.corpora import Dictionary\n",
    "from gensim.models import LdaModel # 주제어 확인"
   ]
  },
  {
   "cell_type": "markdown",
   "id": "4ead171e-d898-48b0-8f60-9905f301918c",
   "metadata": {},
   "source": [
    "### 전처리(형태소 분석, 불용어 처리 등)"
   ]
  },
  {
   "cell_type": "code",
   "execution_count": 3,
   "id": "85d3b981-4e62-49bc-824f-27ee944f55ea",
   "metadata": {
    "tags": []
   },
   "outputs": [
    {
     "data": {
      "text/plain": [
       "[['날씨', '나'],\n",
       " ['영화'],\n",
       " ['음식'],\n",
       " ['운동', '건강', '것'],\n",
       " ['공부'],\n",
       " ['여행', '계획', '어디'],\n",
       " ['책', '마음', '편안'],\n",
       " ['오늘', '친구'],\n",
       " ['언어', '것', '흥미'],\n",
       " ['주말', '가족', '시간']]"
      ]
     },
     "execution_count": 3,
     "metadata": {},
     "output_type": "execute_result"
    }
   ],
   "source": [
    "from mecab import MeCab\n",
    "mecab = MeCab()\n",
    "# 형태분석기 사용해 명사만 추출\n",
    "morphs_list = list()\n",
    "for sentence in sentences :\n",
    "    morphs = mecab.nouns(sentence)\n",
    "    morphs_list.append(morphs)\n",
    "morphs_list"
   ]
  },
  {
   "cell_type": "code",
   "execution_count": 4,
   "id": "eb696958-cce4-4978-8f7a-40ec3ed1e455",
   "metadata": {
    "tags": []
   },
   "outputs": [],
   "source": [
    "preprocessed_sentences = morphs_list"
   ]
  },
  {
   "cell_type": "code",
   "execution_count": 5,
   "id": "d345593f-107c-40bf-a8d0-73086c2fb571",
   "metadata": {
    "tags": []
   },
   "outputs": [
    {
     "data": {
      "text/plain": [
       "<gensim.corpora.dictionary.Dictionary at 0x2274ed8a6d0>"
      ]
     },
     "execution_count": 5,
     "metadata": {},
     "output_type": "execute_result"
    }
   ],
   "source": [
    "dictionary = Dictionary(preprocessed_sentences) # fix in like sklean\n",
    "dictionary"
   ]
  },
  {
   "cell_type": "markdown",
   "id": "8eb38261-073e-4881-a521-65b10860d15f",
   "metadata": {},
   "source": [
    "### transform with dictionary"
   ]
  },
  {
   "cell_type": "code",
   "execution_count": 6,
   "id": "c64ae5da-0b64-4f74-b479-f92bb7fa9706",
   "metadata": {
    "tags": []
   },
   "outputs": [
    {
     "data": {
      "text/plain": [
       "[(0, 1), (1, 1)]"
      ]
     },
     "execution_count": 6,
     "metadata": {},
     "output_type": "execute_result"
    }
   ],
   "source": [
    "# dictionary.token2id\n",
    "dictionary.doc2bow(preprocessed_sentences[0])  # transform"
   ]
  },
  {
   "cell_type": "code",
   "execution_count": 7,
   "id": "af7757de-79ed-40e3-bed4-f07c473314b0",
   "metadata": {
    "tags": []
   },
   "outputs": [],
   "source": [
    "corpus_list = list()\n",
    "for sentence in preprocessed_sentences:\n",
    "    morphs_vector = dictionary.doc2bow(sentence)\n",
    "    corpus_list.append(morphs_vector)\n",
    "# corpus_list  "
   ]
  },
  {
   "cell_type": "code",
   "execution_count": 8,
   "id": "8a746401-df2e-4d78-8bc1-c2c565c03aac",
   "metadata": {
    "tags": []
   },
   "outputs": [],
   "source": [
    "lda_model = LdaModel(corpus=corpus_list, id2word=dictionary, num_topics=3) # fix"
   ]
  },
  {
   "cell_type": "code",
   "execution_count": 9,
   "id": "97a185a6-ebcf-4133-8ed5-02bb527966c7",
   "metadata": {
    "tags": []
   },
   "outputs": [
    {
     "data": {
      "text/plain": [
       "[(0, '0.083*\"것\" + 0.082*\"언어\" + 0.082*\"흥미\" + 0.081*\"시간\" + 0.081*\"주말\"'),\n",
       " (1, '0.081*\"편안\" + 0.081*\"계획\" + 0.080*\"마음\" + 0.080*\"책\" + 0.080*\"여행\"'),\n",
       " (2, '0.114*\"것\" + 0.111*\"운동\" + 0.111*\"건강\" + 0.101*\"음식\" + 0.041*\"영화\"')]"
      ]
     },
     "execution_count": 9,
     "metadata": {},
     "output_type": "execute_result"
    }
   ],
   "source": [
    "lda_model.print_topics(num_words=5)"
   ]
  },
  {
   "cell_type": "markdown",
   "id": "bcfba2f3-01c7-4a68-92a4-5191b5aa55d7",
   "metadata": {},
   "source": [
    "### 최적의 토픽 단어 수"
   ]
  },
  {
   "cell_type": "code",
   "execution_count": 12,
   "id": "43bbb524-bd4d-40ac-b86d-7f802f8081ee",
   "metadata": {},
   "outputs": [
    {
     "data": {
      "text/plain": [
       "0.722823803113504"
      ]
     },
     "execution_count": 12,
     "metadata": {},
     "output_type": "execute_result"
    }
   ],
   "source": [
    "# 일관성 점수\n",
    "from gensim.models.coherencemodel import CoherenceModel\n",
    "coherenceModel = CoherenceModel(model=lda_model, texts=morphs_list, dictionary=dictionary)\n",
    "coherenceModel.get_coherence()"
   ]
  },
  {
   "cell_type": "code",
   "execution_count": 13,
   "id": "647e3a8e-3228-495a-bc20-ba0378538c8d",
   "metadata": {
    "tags": []
   },
   "outputs": [
    {
     "data": {
      "text/plain": [
       "-4.128843373520857"
      ]
     },
     "execution_count": 13,
     "metadata": {},
     "output_type": "execute_result"
    }
   ],
   "source": [
    "# 혼잡도 점수\n",
    "lda_model.log_perplexity(corpus_list)"
   ]
  },
  {
   "cell_type": "code",
   "execution_count": 14,
   "id": "56c3f155-bff9-4d11-874f-1c40323a888a",
   "metadata": {
    "tags": []
   },
   "outputs": [],
   "source": [
    "start_topic = 2\n",
    "end_topic = 10\n",
    "coherence_scores = list()\n",
    "perplexity_scores = list()\n",
    "for topic_number in range(start_topic, end_topic+1):\n",
    "    lda_model = LdaModel(corpus=corpus_list, id2word=dictionary, num_topics=topic_number) # fix\n",
    "    coherenceModel = CoherenceModel(model=lda_model, texts=morphs_list, dictionary=dictionary)\n",
    "    coherence_scores.append(coherenceModel.get_coherence()) # 일관성 점수\n",
    "    perplexity_scores.append(lda_model.log_perplexity(corpus_list))\n"
   ]
  },
  {
   "cell_type": "code",
   "execution_count": 15,
   "id": "cb127405-3b35-47e2-8e1b-8184b450f485",
   "metadata": {
    "tags": []
   },
   "outputs": [
    {
     "data": {
      "text/html": [
       "<div>\n",
       "<style scoped>\n",
       "    .dataframe tbody tr th:only-of-type {\n",
       "        vertical-align: middle;\n",
       "    }\n",
       "\n",
       "    .dataframe tbody tr th {\n",
       "        vertical-align: top;\n",
       "    }\n",
       "\n",
       "    .dataframe thead th {\n",
       "        text-align: right;\n",
       "    }\n",
       "</style>\n",
       "<table border=\"1\" class=\"dataframe\">\n",
       "  <thead>\n",
       "    <tr style=\"text-align: right;\">\n",
       "      <th></th>\n",
       "      <th>0</th>\n",
       "      <th>1</th>\n",
       "      <th>2</th>\n",
       "      <th>3</th>\n",
       "      <th>4</th>\n",
       "      <th>5</th>\n",
       "      <th>6</th>\n",
       "      <th>7</th>\n",
       "      <th>8</th>\n",
       "    </tr>\n",
       "  </thead>\n",
       "  <tbody>\n",
       "    <tr>\n",
       "      <th>0</th>\n",
       "      <td>0.723955</td>\n",
       "      <td>0.722824</td>\n",
       "      <td>0.723955</td>\n",
       "      <td>0.723955</td>\n",
       "      <td>0.722824</td>\n",
       "      <td>0.723470</td>\n",
       "      <td>0.723107</td>\n",
       "      <td>0.722070</td>\n",
       "      <td>0.722598</td>\n",
       "    </tr>\n",
       "    <tr>\n",
       "      <th>1</th>\n",
       "      <td>-3.919637</td>\n",
       "      <td>-4.121161</td>\n",
       "      <td>-4.244158</td>\n",
       "      <td>-4.306229</td>\n",
       "      <td>-4.512102</td>\n",
       "      <td>-4.511148</td>\n",
       "      <td>-4.542977</td>\n",
       "      <td>-4.706229</td>\n",
       "      <td>-4.884408</td>\n",
       "    </tr>\n",
       "  </tbody>\n",
       "</table>\n",
       "</div>"
      ],
      "text/plain": [
       "          0         1         2         3         4         5         6  \\\n",
       "0  0.723955  0.722824  0.723955  0.723955  0.722824  0.723470  0.723107   \n",
       "1 -3.919637 -4.121161 -4.244158 -4.306229 -4.512102 -4.511148 -4.542977   \n",
       "\n",
       "          7         8  \n",
       "0  0.722070  0.722598  \n",
       "1 -4.706229 -4.884408  "
      ]
     },
     "execution_count": 15,
     "metadata": {},
     "output_type": "execute_result"
    }
   ],
   "source": [
    "import pandas as pd\n",
    "pd.DataFrame([coherence_scores, perplexity_scores])"
   ]
  },
  {
   "cell_type": "code",
   "execution_count": 16,
   "id": "cd753ca1-5e35-4c8c-966d-23fc50a1ee4a",
   "metadata": {
    "tags": []
   },
   "outputs": [],
   "source": [
    "import seaborn as sns\n",
    "import matplotlib.pyplot as plt"
   ]
  },
  {
   "cell_type": "code",
   "execution_count": 22,
   "id": "7811ecfa-29c2-486b-a7bb-96bf2fed5847",
   "metadata": {
    "tags": []
   },
   "outputs": [
    {
     "data": {
      "image/png": "[encoded data removed]",
      "text/plain": [
       "<Figure size 640x480 with 1 Axes>"
      ]
     },
     "metadata": {},
     "output_type": "display_data"
    },
    {
     "data": {
      "image/png": "[encoded data removed]",
      "text/plain": [
       "<Figure size 640x480 with 1 Axes>"
      ]
     },
     "metadata": {},
     "output_type": "display_data"
    }
   ],
   "source": [
    "sns.lineplot(coherence_scores)\n",
    "plt.show()\n",
    "sns.lineplot(perplexity_scores)\n",
    "plt.show()"
   ]
  },
  {
   "cell_type": "code",
   "execution_count": null,
   "id": "c6ad1495-9cee-4167-8467-2f1e952447e1",
   "metadata": {},
   "outputs": [],
   "source": []
  }
 ],
 "metadata": {
  "kernelspec": {
   "display_name": "Python 3 (ipykernel)",
   "language": "python",
   "name": "python3"
  },
  "language_info": {
   "codemirror_mode": {
    "name": "ipython",
    "version": 3
   },
   "file_extension": ".py",
   "mimetype": "text/x-python",
   "name": "python",
   "nbconvert_exporter": "python",
   "pygments_lexer": "ipython3",
   "version": "3.11.3"
  }
 },
 "nbformat": 4,
 "nbformat_minor": 5
}
