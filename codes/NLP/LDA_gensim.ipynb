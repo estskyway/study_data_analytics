{
 "cells": [
  {
   "cell_type": "code",
   "execution_count": 2,
   "id": "84dafb27-cdd4-427d-a665-62037967ce7a",
   "metadata": {
    "tags": []
   },
   "outputs": [],
   "source": [
    "sentences = [\n",
    "    \"오늘 날씨가 좋아서 나들이 가고 싶다.\", # -> [오늘, 날씨가, 좋아서 ...]\n",
    "    \"이 영화는 정말 재미있었어요.\",\n",
    "    \"맛있는 음식을 먹으러 갈까요?\",\n",
    "    \"운동을 하면 건강에 좋아지는 것 같아요.\",\n",
    "    \"공부하기 싫어서 미루고 있어요.\",\n",
    "    \"여행 계획을 세우고 있는데 어디로 갈까요?\",\n",
    "    \"좋은 책을 읽으면 마음이 편안해져요.\",\n",
    "    \"오늘은 친구들과 만나서 재미있게 놀았어요.\",\n",
    "    \"새로운 언어를 배우는 것은 어려워도 흥미로워요.\",\n",
    "    \"주말에 가족들과 함께 시간을 보내기로 했습니다.\"\n",
    "]\n",
    "# [(0, '0.092*\"것\" + 0.090*\"건강\" + 0.090*\"오늘\" + 0.089*\"운동\" + 0Invalid Notebook\n",
    "The Notebook Does Not Appear to Be Valid JSON\n",
    "Using nbformat v5.8.0 and nbconvert v7.3.1.089*\"친구\"'),\n",
    "#  (1, '0.073*\"계획\" + 0.073*\"여행\" + 0.073*\"어디\" + 0.073*\"가족\" + 0.073*\"시간\"'),\n",
    "#  (2, '0.113*\"것\" + 0.113*\"흥미\" + 0.112*\"언어\" + 0.103*\"음식\" + 0.038*\"공부\"')]"
   ]
  },
  {
   "cell_type": "code",
   "execution_count": 3,
   "id": "6c8c201b-e037-4ece-8b4a-128e4fdb24f3",
   "metadata": {
    "tags": []
   },
   "outputs": [],
   "source": [
    "from gensim.corpora import Dictionary\n",
    "from gensim.models import LdaModel # 주제어 확인"
   ]
  },
  {
   "cell_type": "markdown",
   "id": "4ead171e-d898-48b0-8f60-9905f301918c",
   "metadata": {},
   "source": [
    "### 전처리(형태소 분석, 불용어 처리 등)"
   ]
  },
  {
   "cell_type": "code",
   "execution_count": 4,
   "id": "85d3b981-4e62-49bc-824f-27ee944f55ea",
   "metadata": {
    "tags": []
   },
   "outputs": [
    {
     "data": {
      "text/plain": [
       "[['날씨', '나'],\n",
       " ['영화'],\n",
       " ['음식'],\n",
       " ['운동', '건강', '것'],\n",
       " ['공부'],\n",
       " ['여행', '계획', '어디'],\n",
       " ['책', '마음', '편안'],\n",
       " ['오늘', '친구'],\n",
       " ['언어', '것', '흥미'],\n",
       " ['주말', '가족', '시간']]"
      ]
     },
     "execution_count": 4,
     "metadata": {},
     "output_type": "execute_result"
    }
   ],
   "source": [
    "from mecab import MeCab\n",
    "mecab = MeCab()\n",
    "# 형태분석기 사용해 명사만 추출\n",
    "morphs_list = list()\n",
    "for sentence in sentences :\n",
    "    morphs = mecab.nouns(sentence)\n",
    "    morphs_list.append(morphs)\n",
    "morphs_list"
   ]
  },
  {
   "cell_type": "code",
   "execution_count": 10,
   "id": "eb696958-cce4-4978-8f7a-40ec3ed1e455",
   "metadata": {
    "tags": []
   },
   "outputs": [],
   "source": [
    "preprocessed_sentences = morphs_list"
   ]
  },
  {
   "cell_type": "code",
   "execution_count": 11,
   "id": "d345593f-107c-40bf-a8d0-73086c2fb571",
   "metadata": {
    "tags": []
   },
   "outputs": [
    {
     "data": {
      "text/plain": [
       "<gensim.corpora.dictionary.Dictionary at 0x1078f44d5d0>"
      ]
     },
     "execution_count": 11,
     "metadata": {},
     "output_type": "execute_result"
    }
   ],
   "source": [
    "dictionary = Dictionary(preprocessed_sentences) # fix in like sklean\n",
    "dictionary"
   ]
  },
  {
   "cell_type": "markdown",
   "id": "8eb38261-073e-4881-a521-65b10860d15f",
   "metadata": {},
   "source": [
    "### transform with dictionary"
   ]
  },
  {
   "cell_type": "code",
   "execution_count": 12,
   "id": "c64ae5da-0b64-4f74-b479-f92bb7fa9706",
   "metadata": {
    "tags": []
   },
   "outputs": [
    {
     "data": {
      "text/plain": [
       "[(0, 1), (1, 1)]"
      ]
     },
     "execution_count": 12,
     "metadata": {},
     "output_type": "execute_result"
    }
   ],
   "source": [
    "# dictionary.token2id\n",
    "dictionary.doc2bow(preprocessed_sentences[0])  # transform"
   ]
  },
  {
   "cell_type": "code",
   "execution_count": 13,
   "id": "af7757de-79ed-40e3-bed4-f07c473314b0",
   "metadata": {
    "tags": []
   },
   "outputs": [],
   "source": [
    "corpus_list = list()\n",
    "for sentence in preprocessed_sentences:\n",
    "    morphs_vector = dictionary.doc2bow(sentence)\n",
    "    corpus_list.append(morphs_vector)\n",
    "# corpus_list  "
   ]
  },
  {
   "cell_type": "code",
   "execution_count": 14,
   "id": "8a746401-df2e-4d78-8bc1-c2c565c03aac",
   "metadata": {
    "tags": []
   },
   "outputs": [],
   "source": [
    "lda_model = LdaModel(corpus=corpus_list, id2word=dictionary, num_topics=3) # fix"
   ]
  },
  {
   "cell_type": "code",
   "execution_count": 15,
   "id": "97a185a6-ebcf-4133-8ed5-02bb527966c7",
   "metadata": {
    "tags": []
   },
   "outputs": [
    {
     "data": {
      "text/plain": [
       "[(0, '0.082*\"가족\" + 0.081*\"책\" + 0.081*\"주말\" + 0.081*\"마음\" + 0.081*\"편안\"'),\n",
       " (1, '0.102*\"것\" + 0.096*\"건강\" + 0.095*\"친구\" + 0.095*\"운동\" + 0.094*\"오늘\"'),\n",
       " (2, '0.092*\"언어\" + 0.092*\"계획\" + 0.091*\"여행\" + 0.091*\"어디\" + 0.091*\"흥미\"')]"
      ]
     },
     "execution_count": 15,
     "metadata": {},
     "output_type": "execute_result"
    }
   ],
   "source": [
    "lda_model.print_topics(num_words=5)"
   ]
  },
  {
   "cell_type": "code",
   "execution_count": null,
   "id": "5fd8c0bd-2608-4583-91a6-b7b86e7854a9",
   "metadata": {},
   "outputs": [],
   "source": []
  },
  {
   "cell_type": "code",
   "execution_count": null,
   "id": "43bbb524-bd4d-40ac-b86d-7f802f8081ee",
   "metadata": {},
   "outputs": [],
   "source": []
  }
 ],
 "metadata": {
  "kernelspec": {
   "display_name": "Python 3 (ipykernel)",
   "language": "python",
   "name": "python3"
  },
  "language_info": {
   "codemirror_mode": {
    "name": "ipython",
    "version": 3
   },
   "file_extension": ".py",
   "mimetype": "text/x-python",
   "name": "python",
   "nbconvert_exporter": "python",
   "pygments_lexer": "ipython3",
   "version": "3.11.3"
  }
 },
 "nbformat": 4,
 "nbformat_minor": 5
}
