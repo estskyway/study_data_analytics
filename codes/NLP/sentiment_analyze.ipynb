{
 "cells": [
  {
   "cell_type": "markdown",
   "id": "64c2619f-651f-4019-a4a4-ab18dfbe2b42",
   "metadata": {},
   "source": [
    "## 감성 사전 의한 감성분석"
   ]
  },
  {
   "cell_type": "markdown",
   "id": "2b41b99a-59a5-4db1-a63e-e49c64b6835e",
   "metadata": {},
   "source": [
    "### 감성 사전 가져오기"
   ]
  },
  {
   "cell_type": "code",
   "execution_count": 1,
   "id": "24720baf-3b71-4b3f-824d-35332e1978ac",
   "metadata": {
    "tags": []
   },
   "outputs": [],
   "source": [
    "import pandas as pd"
   ]
  },
  {
   "cell_type": "code",
   "execution_count": 8,
   "id": "a395feb2-3f06-48b4-b1e9-3d2701c55328",
   "metadata": {
    "tags": []
   },
   "outputs": [
    {
     "data": {
      "text/html": [
       "<div>\n",
       "<style scoped>\n",
       "    .dataframe tbody tr th:only-of-type {\n",
       "        vertical-align: middle;\n",
       "    }\n",
       "\n",
       "    .dataframe tbody tr th {\n",
       "        vertical-align: top;\n",
       "    }\n",
       "\n",
       "    .dataframe thead th {\n",
       "        text-align: right;\n",
       "    }\n",
       "</style>\n",
       "<table border=\"1\" class=\"dataframe\">\n",
       "  <thead>\n",
       "    <tr style=\"text-align: right;\">\n",
       "      <th></th>\n",
       "      <th>출처</th>\n",
       "    </tr>\n",
       "  </thead>\n",
       "  <tbody>\n",
       "    <tr>\n",
       "      <th>15</th>\n",
       "      <td>(-;</td>\n",
       "    </tr>\n",
       "    <tr>\n",
       "      <th>16</th>\n",
       "      <td>(^^)</td>\n",
       "    </tr>\n",
       "    <tr>\n",
       "      <th>17</th>\n",
       "      <td>(^-^)</td>\n",
       "    </tr>\n",
       "  </tbody>\n",
       "</table>\n",
       "</div>"
      ],
      "text/plain": [
       "       출처\n",
       "15    (-;\n",
       "16   (^^)\n",
       "17  (^-^)"
      ]
     },
     "execution_count": 8,
     "metadata": {},
     "output_type": "execute_result"
    }
   ],
   "source": [
    "df_positives = pd.read_csv('../../datasets/pos_pol_word.txt', delimiter='\\t')\n",
    "df_positives = df_positives[15:] # 감성 사전에 필요없는 라인 삭제\n",
    "df_positives[:3]"
   ]
  },
  {
   "cell_type": "code",
   "execution_count": 10,
   "id": "2f654f99-d6b7-4b1c-baea-79909525bc9a",
   "metadata": {
    "tags": []
   },
   "outputs": [
    {
     "data": {
      "text/html": [
       "<div>\n",
       "<style scoped>\n",
       "    .dataframe tbody tr th:only-of-type {\n",
       "        vertical-align: middle;\n",
       "    }\n",
       "\n",
       "    .dataframe tbody tr th {\n",
       "        vertical-align: top;\n",
       "    }\n",
       "\n",
       "    .dataframe thead th {\n",
       "        text-align: right;\n",
       "    }\n",
       "</style>\n",
       "<table border=\"1\" class=\"dataframe\">\n",
       "  <thead>\n",
       "    <tr style=\"text-align: right;\">\n",
       "      <th></th>\n",
       "      <th>출처</th>\n",
       "    </tr>\n",
       "  </thead>\n",
       "  <tbody>\n",
       "    <tr>\n",
       "      <th>15</th>\n",
       "      <td>가난</td>\n",
       "    </tr>\n",
       "    <tr>\n",
       "      <th>16</th>\n",
       "      <td>가난뱅이</td>\n",
       "    </tr>\n",
       "    <tr>\n",
       "      <th>17</th>\n",
       "      <td>가난살이</td>\n",
       "    </tr>\n",
       "  </tbody>\n",
       "</table>\n",
       "</div>"
      ],
      "text/plain": [
       "      출처\n",
       "15    가난\n",
       "16  가난뱅이\n",
       "17  가난살이"
      ]
     },
     "execution_count": 10,
     "metadata": {},
     "output_type": "execute_result"
    }
   ],
   "source": [
    "df_negatives = pd.read_csv('../../datasets/neg_pol_word.txt', delimiter='\\t')\n",
    "df_negatives = df_negatives[15:] # 감성 사전에 필요없는 라인 삭제\n",
    "df_negatives[:3]"
   ]
  },
  {
   "cell_type": "markdown",
   "id": "f0bf130f-c1c4-40b3-81da-649c8259235b",
   "metadata": {},
   "source": [
    "### 문장에 점수 적용(긍/부정)"
   ]
  },
  {
   "cell_type": "code",
   "execution_count": 11,
   "id": "412e02e6-8a86-4e29-a20e-044aee5b7bbd",
   "metadata": {
    "tags": []
   },
   "outputs": [],
   "source": [
    "comment = '코로나19의 여파로 전 세계 교사들과 학생들 모두 혼란스러운 시기를 보내고 있습니다. 어려움 속에서도 학생들을 위해 안간힘을 쓰고 있는 모든 선생님들에게, 응원과 박수를 함께 보냅니다.'"
   ]
  },
  {
   "cell_type": "code",
   "execution_count": 13,
   "id": "3fdf804a-617c-4ada-b0f0-3deb5f78859f",
   "metadata": {
    "tags": []
   },
   "outputs": [
    {
     "name": "stdout",
     "output_type": "stream",
     "text": [
      "positive word in commnet : 운\n",
      "positive word in commnet : 함께\n",
      "negative word in commnet : 어려움\n",
      "negative word in commnet : 해\n",
      "negative word in commnet : 혼란스러운\n"
     ]
    }
   ],
   "source": [
    "# 긍정 단어 포함 확인\n",
    "for positive_word in df_positives['출처']:\n",
    "    if positive_word in comment:\n",
    "        print('positive word in commnet : {0}'.format(positive_word))\n",
    "\n",
    "# 부정 단어 포함 확인\n",
    "for negative_word in df_negatives['출처']:\n",
    "    if negative_word in comment:\n",
    "        print('negative word in commnet : {0}'.format(negative_word))\n"
   ]
  },
  {
   "cell_type": "code",
   "execution_count": null,
   "id": "c7804a7e-7495-4117-91e2-147cedec578b",
   "metadata": {},
   "outputs": [],
   "source": []
  },
  {
   "cell_type": "code",
   "execution_count": null,
   "id": "e1788367-6a16-4733-baea-7399605cd27b",
   "metadata": {},
   "outputs": [],
   "source": []
  }
 ],
 "metadata": {
  "kernelspec": {
   "display_name": "Python 3 (ipykernel)",
   "language": "python",
   "name": "python3"
  },
  "language_info": {
   "codemirror_mode": {
    "name": "ipython",
    "version": 3
   },
   "file_extension": ".py",
   "mimetype": "text/x-python",
   "name": "python",
   "nbconvert_exporter": "python",
   "pygments_lexer": "ipython3",
   "version": "3.11.3"
  }
 },
 "nbformat": 4,
 "nbformat_minor": 5
}
