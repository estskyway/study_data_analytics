{
 "cells": [
  {
   "cell_type": "code",
   "execution_count": 2,
   "id": "9630b216-9b50-4777-96ea-55a4f44f0456",
   "metadata": {
    "tags": []
   },
   "outputs": [],
   "source": [
    "import numpy as np\n",
    "import matplotlib.pyplot as plt\n",
    "import matplotlib as mpl\n",
    "mpl.rc('font',family='Malgun Gothic')\n",
    "mpl.rcParams['axes.unicode_minus'] = False\n",
    "import seaborn as sns"
   ]
  },
  {
   "cell_type": "code",
   "execution_count": 42,
   "id": "db355c05-c7bf-4c0b-a48b-b265aa32b3f9",
   "metadata": {
    "tags": []
   },
   "outputs": [
    {
     "data": {
      "text/html": [
       "<div>\n",
       "<style scoped>\n",
       "    .dataframe tbody tr th:only-of-type {\n",
       "        vertical-align: middle;\n",
       "    }\n",
       "\n",
       "    .dataframe tbody tr th {\n",
       "        vertical-align: top;\n",
       "    }\n",
       "\n",
       "    .dataframe thead th {\n",
       "        text-align: right;\n",
       "    }\n",
       "</style>\n",
       "<table border=\"1\" class=\"dataframe\">\n",
       "  <thead>\n",
       "    <tr style=\"text-align: right;\">\n",
       "      <th></th>\n",
       "      <th>id</th>\n",
       "      <th>type_of_contract</th>\n",
       "      <th>type_of_contract2</th>\n",
       "      <th>channel</th>\n",
       "      <th>datetime</th>\n",
       "      <th>Term</th>\n",
       "      <th>payment_type</th>\n",
       "      <th>product</th>\n",
       "      <th>amount</th>\n",
       "      <th>state</th>\n",
       "      <th>overdue_count</th>\n",
       "      <th>overdue</th>\n",
       "      <th>credit rating</th>\n",
       "      <th>bank</th>\n",
       "      <th>cancellation</th>\n",
       "      <th>age</th>\n",
       "      <th>Mileage</th>\n",
       "    </tr>\n",
       "  </thead>\n",
       "  <tbody>\n",
       "    <tr>\n",
       "      <th>0</th>\n",
       "      <td>66758234</td>\n",
       "      <td>렌탈</td>\n",
       "      <td>Normal</td>\n",
       "      <td>서비스 방문</td>\n",
       "      <td>2019-10-20</td>\n",
       "      <td>60</td>\n",
       "      <td>CMS</td>\n",
       "      <td>K1</td>\n",
       "      <td>96900</td>\n",
       "      <td>계약확정</td>\n",
       "      <td>0</td>\n",
       "      <td>없음</td>\n",
       "      <td>9.0</td>\n",
       "      <td>새마을금고</td>\n",
       "      <td>정상</td>\n",
       "      <td>43.0</td>\n",
       "      <td>1862.0</td>\n",
       "    </tr>\n",
       "    <tr>\n",
       "      <th>1</th>\n",
       "      <td>66755948</td>\n",
       "      <td>렌탈</td>\n",
       "      <td>Extension_Rental</td>\n",
       "      <td>서비스 방문</td>\n",
       "      <td>2019-10-20</td>\n",
       "      <td>60</td>\n",
       "      <td>카드이체</td>\n",
       "      <td>K1</td>\n",
       "      <td>102900</td>\n",
       "      <td>계약확정</td>\n",
       "      <td>0</td>\n",
       "      <td>없음</td>\n",
       "      <td>2.0</td>\n",
       "      <td>현대카드</td>\n",
       "      <td>정상</td>\n",
       "      <td>62.0</td>\n",
       "      <td>2532.0</td>\n",
       "    </tr>\n",
       "    <tr>\n",
       "      <th>2</th>\n",
       "      <td>66756657</td>\n",
       "      <td>렌탈</td>\n",
       "      <td>Normal</td>\n",
       "      <td>홈쇼핑/방송</td>\n",
       "      <td>2019-10-20</td>\n",
       "      <td>60</td>\n",
       "      <td>CMS</td>\n",
       "      <td>K1</td>\n",
       "      <td>96900</td>\n",
       "      <td>계약확정</td>\n",
       "      <td>0</td>\n",
       "      <td>없음</td>\n",
       "      <td>8.0</td>\n",
       "      <td>우리은행</td>\n",
       "      <td>정상</td>\n",
       "      <td>60.0</td>\n",
       "      <td>2363.0</td>\n",
       "    </tr>\n",
       "  </tbody>\n",
       "</table>\n",
       "</div>"
      ],
      "text/plain": [
       "         id type_of_contract type_of_contract2 channel    datetime  Term  \\\n",
       "0  66758234               렌탈            Normal  서비스 방문  2019-10-20    60   \n",
       "1  66755948               렌탈  Extension_Rental  서비스 방문  2019-10-20    60   \n",
       "2  66756657               렌탈            Normal  홈쇼핑/방송  2019-10-20    60   \n",
       "\n",
       "  payment_type product  amount state  overdue_count overdue  credit rating  \\\n",
       "0          CMS      K1   96900  계약확정              0      없음            9.0   \n",
       "1         카드이체      K1  102900  계약확정              0      없음            2.0   \n",
       "2          CMS      K1   96900  계약확정              0      없음            8.0   \n",
       "\n",
       "    bank cancellation   age  Mileage  \n",
       "0  새마을금고           정상  43.0   1862.0  \n",
       "1   현대카드           정상  62.0   2532.0  \n",
       "2   우리은행           정상  60.0   2363.0  "
      ]
     },
     "execution_count": 42,
     "metadata": {},
     "output_type": "execute_result"
    }
   ],
   "source": [
    "import pandas as pd\n",
    "df_TOCC=pd.read_csv(\"../../datasets/UsingChart_TypeOfContractChannel.csv\")\n",
    "df_TOCC[:3]"
   ]
  },
  {
   "cell_type": "code",
   "execution_count": 13,
   "id": "ccaa696d-ef5e-46a2-9319-3b0b4dcf4cfa",
   "metadata": {
    "tags": []
   },
   "outputs": [
    {
     "name": "stdout",
     "output_type": "stream",
     "text": [
      "<class 'pandas.core.frame.DataFrame'>\n",
      "RangeIndex: 51304 entries, 0 to 51303\n",
      "Data columns (total 17 columns):\n",
      " #   Column             Non-Null Count  Dtype  \n",
      "---  ------             --------------  -----  \n",
      " 0   id                 51304 non-null  int64  \n",
      " 1   type_of_contract   51300 non-null  object \n",
      " 2   type_of_contract2  51303 non-null  object \n",
      " 3   channel            51304 non-null  object \n",
      " 4   datetime           51304 non-null  object \n",
      " 5   Term               51304 non-null  int64  \n",
      " 6   payment_type       51304 non-null  object \n",
      " 7   product            51303 non-null  object \n",
      " 8   amount             51304 non-null  int64  \n",
      " 9   state              51304 non-null  object \n",
      " 10  overdue_count      51304 non-null  int64  \n",
      " 11  overdue            51302 non-null  object \n",
      " 12  credit rating      42521 non-null  float64\n",
      " 13  bank               48544 non-null  object \n",
      " 14  cancellation       51279 non-null  object \n",
      " 15  age                40509 non-null  float64\n",
      " 16  Mileage            40509 non-null  float64\n",
      "dtypes: float64(3), int64(4), object(10)\n",
      "memory usage: 6.7+ MB\n"
     ]
    }
   ],
   "source": [
    "df_TOCC.info()"
   ]
  },
  {
   "cell_type": "code",
   "execution_count": 14,
   "id": "820ea6b5-3e6b-4016-9878-d030ff29f59f",
   "metadata": {
    "tags": []
   },
   "outputs": [
    {
     "data": {
      "text/html": [
       "<div>\n",
       "<style scoped>\n",
       "    .dataframe tbody tr th:only-of-type {\n",
       "        vertical-align: middle;\n",
       "    }\n",
       "\n",
       "    .dataframe tbody tr th {\n",
       "        vertical-align: top;\n",
       "    }\n",
       "\n",
       "    .dataframe thead th {\n",
       "        text-align: right;\n",
       "    }\n",
       "</style>\n",
       "<table border=\"1\" class=\"dataframe\">\n",
       "  <thead>\n",
       "    <tr style=\"text-align: right;\">\n",
       "      <th></th>\n",
       "      <th>id</th>\n",
       "      <th>Term</th>\n",
       "      <th>amount</th>\n",
       "      <th>overdue_count</th>\n",
       "      <th>credit rating</th>\n",
       "      <th>age</th>\n",
       "      <th>Mileage</th>\n",
       "    </tr>\n",
       "  </thead>\n",
       "  <tbody>\n",
       "    <tr>\n",
       "      <th>count</th>\n",
       "      <td>5.130400e+04</td>\n",
       "      <td>51304.000000</td>\n",
       "      <td>51304.000000</td>\n",
       "      <td>51304.000000</td>\n",
       "      <td>42521.000000</td>\n",
       "      <td>40509.000000</td>\n",
       "      <td>40509.000000</td>\n",
       "    </tr>\n",
       "    <tr>\n",
       "      <th>mean</th>\n",
       "      <td>6.266457e+07</td>\n",
       "      <td>55.638527</td>\n",
       "      <td>93994.980021</td>\n",
       "      <td>0.161040</td>\n",
       "      <td>3.428894</td>\n",
       "      <td>46.608285</td>\n",
       "      <td>1967.922412</td>\n",
       "    </tr>\n",
       "    <tr>\n",
       "      <th>std</th>\n",
       "      <td>1.216115e+07</td>\n",
       "      <td>12.010117</td>\n",
       "      <td>15305.147334</td>\n",
       "      <td>1.122356</td>\n",
       "      <td>2.213590</td>\n",
       "      <td>13.465977</td>\n",
       "      <td>436.707329</td>\n",
       "    </tr>\n",
       "    <tr>\n",
       "      <th>min</th>\n",
       "      <td>2.568798e+07</td>\n",
       "      <td>12.000000</td>\n",
       "      <td>54603.000000</td>\n",
       "      <td>-1.000000</td>\n",
       "      <td>0.000000</td>\n",
       "      <td>20.000000</td>\n",
       "      <td>872.000000</td>\n",
       "    </tr>\n",
       "    <tr>\n",
       "      <th>25%</th>\n",
       "      <td>6.643149e+07</td>\n",
       "      <td>60.000000</td>\n",
       "      <td>81900.000000</td>\n",
       "      <td>0.000000</td>\n",
       "      <td>1.000000</td>\n",
       "      <td>37.000000</td>\n",
       "      <td>1646.000000</td>\n",
       "    </tr>\n",
       "    <tr>\n",
       "      <th>50%</th>\n",
       "      <td>6.676578e+07</td>\n",
       "      <td>60.000000</td>\n",
       "      <td>96900.000000</td>\n",
       "      <td>0.000000</td>\n",
       "      <td>3.000000</td>\n",
       "      <td>46.000000</td>\n",
       "      <td>1946.000000</td>\n",
       "    </tr>\n",
       "    <tr>\n",
       "      <th>75%</th>\n",
       "      <td>6.678161e+07</td>\n",
       "      <td>60.000000</td>\n",
       "      <td>98400.000000</td>\n",
       "      <td>0.000000</td>\n",
       "      <td>5.000000</td>\n",
       "      <td>56.000000</td>\n",
       "      <td>2263.000000</td>\n",
       "    </tr>\n",
       "    <tr>\n",
       "      <th>max</th>\n",
       "      <td>6.696986e+07</td>\n",
       "      <td>60.000000</td>\n",
       "      <td>215700.000000</td>\n",
       "      <td>15.000000</td>\n",
       "      <td>10.000000</td>\n",
       "      <td>107.000000</td>\n",
       "      <td>3803.000000</td>\n",
       "    </tr>\n",
       "  </tbody>\n",
       "</table>\n",
       "</div>"
      ],
      "text/plain": [
       "                 id          Term         amount  overdue_count  \\\n",
       "count  5.130400e+04  51304.000000   51304.000000   51304.000000   \n",
       "mean   6.266457e+07     55.638527   93994.980021       0.161040   \n",
       "std    1.216115e+07     12.010117   15305.147334       1.122356   \n",
       "min    2.568798e+07     12.000000   54603.000000      -1.000000   \n",
       "25%    6.643149e+07     60.000000   81900.000000       0.000000   \n",
       "50%    6.676578e+07     60.000000   96900.000000       0.000000   \n",
       "75%    6.678161e+07     60.000000   98400.000000       0.000000   \n",
       "max    6.696986e+07     60.000000  215700.000000      15.000000   \n",
       "\n",
       "       credit rating           age       Mileage  \n",
       "count   42521.000000  40509.000000  40509.000000  \n",
       "mean        3.428894     46.608285   1967.922412  \n",
       "std         2.213590     13.465977    436.707329  \n",
       "min         0.000000     20.000000    872.000000  \n",
       "25%         1.000000     37.000000   1646.000000  \n",
       "50%         3.000000     46.000000   1946.000000  \n",
       "75%         5.000000     56.000000   2263.000000  \n",
       "max        10.000000    107.000000   3803.000000  "
      ]
     },
     "execution_count": 14,
     "metadata": {},
     "output_type": "execute_result"
    }
   ],
   "source": [
    "df_TOCC.describe()"
   ]
  },
  {
   "cell_type": "code",
   "execution_count": 15,
   "id": "f2c281a0-7766-4c68-860c-fd8c94978df9",
   "metadata": {
    "tags": []
   },
   "outputs": [
    {
     "data": {
      "text/html": [
       "<div>\n",
       "<style scoped>\n",
       "    .dataframe tbody tr th:only-of-type {\n",
       "        vertical-align: middle;\n",
       "    }\n",
       "\n",
       "    .dataframe tbody tr th {\n",
       "        vertical-align: top;\n",
       "    }\n",
       "\n",
       "    .dataframe thead th {\n",
       "        text-align: right;\n",
       "    }\n",
       "</style>\n",
       "<table border=\"1\" class=\"dataframe\">\n",
       "  <thead>\n",
       "    <tr style=\"text-align: right;\">\n",
       "      <th></th>\n",
       "      <th>type_of_contract</th>\n",
       "      <th>type_of_contract2</th>\n",
       "      <th>channel</th>\n",
       "      <th>datetime</th>\n",
       "      <th>payment_type</th>\n",
       "      <th>product</th>\n",
       "      <th>state</th>\n",
       "      <th>overdue</th>\n",
       "      <th>bank</th>\n",
       "      <th>cancellation</th>\n",
       "    </tr>\n",
       "  </thead>\n",
       "  <tbody>\n",
       "    <tr>\n",
       "      <th>count</th>\n",
       "      <td>51300</td>\n",
       "      <td>51303</td>\n",
       "      <td>51304</td>\n",
       "      <td>51304</td>\n",
       "      <td>51304</td>\n",
       "      <td>51303</td>\n",
       "      <td>51304</td>\n",
       "      <td>51302</td>\n",
       "      <td>48544</td>\n",
       "      <td>51279</td>\n",
       "    </tr>\n",
       "    <tr>\n",
       "      <th>unique</th>\n",
       "      <td>2</td>\n",
       "      <td>9</td>\n",
       "      <td>20</td>\n",
       "      <td>101</td>\n",
       "      <td>5</td>\n",
       "      <td>6</td>\n",
       "      <td>4</td>\n",
       "      <td>2</td>\n",
       "      <td>46</td>\n",
       "      <td>2</td>\n",
       "    </tr>\n",
       "    <tr>\n",
       "      <th>top</th>\n",
       "      <td>렌탈</td>\n",
       "      <td>Promotion</td>\n",
       "      <td>서비스 방문</td>\n",
       "      <td>2019-10-29</td>\n",
       "      <td>CMS</td>\n",
       "      <td>K1</td>\n",
       "      <td>계약확정</td>\n",
       "      <td>없음</td>\n",
       "      <td>국민은행</td>\n",
       "      <td>정상</td>\n",
       "    </tr>\n",
       "    <tr>\n",
       "      <th>freq</th>\n",
       "      <td>46481</td>\n",
       "      <td>15811</td>\n",
       "      <td>15186</td>\n",
       "      <td>817</td>\n",
       "      <td>32825</td>\n",
       "      <td>39134</td>\n",
       "      <td>50350</td>\n",
       "      <td>49112</td>\n",
       "      <td>9901</td>\n",
       "      <td>50372</td>\n",
       "    </tr>\n",
       "  </tbody>\n",
       "</table>\n",
       "</div>"
      ],
      "text/plain": [
       "       type_of_contract type_of_contract2 channel    datetime payment_type  \\\n",
       "count             51300             51303   51304       51304        51304   \n",
       "unique                2                 9      20         101            5   \n",
       "top                  렌탈         Promotion  서비스 방문  2019-10-29          CMS   \n",
       "freq              46481             15811   15186         817        32825   \n",
       "\n",
       "       product  state overdue   bank cancellation  \n",
       "count    51303  51304   51302  48544        51279  \n",
       "unique       6      4       2     46            2  \n",
       "top         K1   계약확정      없음   국민은행           정상  \n",
       "freq     39134  50350   49112   9901        50372  "
      ]
     },
     "execution_count": 15,
     "metadata": {},
     "output_type": "execute_result"
    }
   ],
   "source": [
    "df_TOCC.describe(include=object) "
   ]
  },
  {
   "cell_type": "code",
   "execution_count": 16,
   "id": "49c902c7-6f42-4604-abaf-8df629af938d",
   "metadata": {
    "tags": []
   },
   "outputs": [
    {
     "data": {
      "text/plain": [
       "Index(['type_of_contract', 'type_of_contract2', 'channel', 'datetime',\n",
       "       'payment_type', 'product', 'state', 'overdue', 'bank', 'cancellation'],\n",
       "      dtype='object')"
      ]
     },
     "execution_count": 16,
     "metadata": {},
     "output_type": "execute_result"
    }
   ],
   "source": [
    "df_TOCC.describe(include=object).columns"
   ]
  },
  {
   "cell_type": "markdown",
   "id": "25fd0359-12f6-4451-b4b4-1ed0aca174ef",
   "metadata": {
    "tags": []
   },
   "source": [
    "#### 범주형: 주로 문자, 항목으로 구성"
   ]
  },
  {
   "cell_type": "code",
   "execution_count": 17,
   "id": "622428f4-7988-4647-a0c8-9cc71063bfd0",
   "metadata": {
    "tags": []
   },
   "outputs": [
    {
     "data": {
      "text/plain": [
       "렌탈     46481\n",
       "멤버십     4819\n",
       "Name: type_of_contract, dtype: int64"
      ]
     },
     "execution_count": 17,
     "metadata": {},
     "output_type": "execute_result"
    }
   ],
   "source": [
    "df_TOCC['type_of_contract'].value_counts()"
   ]
  },
  {
   "cell_type": "code",
   "execution_count": 20,
   "id": "144e2401-93d9-47d7-8795-8bee127bc651",
   "metadata": {
    "tags": []
   },
   "outputs": [
    {
     "data": {
      "image/png": "[encoded data removed]",
      "text/plain": [
       "<Figure size 640x480 with 1 Axes>"
      ]
     },
     "metadata": {},
     "output_type": "display_data"
    }
   ],
   "source": [
    "sns.countplot(data=df_TOCC, x='type_of_contract')\n",
    "plt.title(\"계약 종류\")\n",
    "plt.show()"
   ]
  },
  {
   "cell_type": "code",
   "execution_count": 21,
   "id": "63f34880-ab04-4563-a3a1-7fff45862acd",
   "metadata": {
    "tags": []
   },
   "outputs": [
    {
     "data": {
      "text/plain": [
       "국민은행         9901\n",
       "롯데카드         9518\n",
       "농협은행         6278\n",
       "신한은행         3522\n",
       "우리은행         3386\n",
       "기업은행         1963\n",
       "신한카드         1533\n",
       "하나은행         1446\n",
       "국민카드         1311\n",
       "BC카드         1264\n",
       "새마을금고         964\n",
       "부산은행          888\n",
       "삼성카드          884\n",
       "현대카드          876\n",
       "대구은행          746\n",
       "우체국           717\n",
       "외환은행          586\n",
       "외환카드          530\n",
       "경남은행          442\n",
       "SC제일은행        439\n",
       "광주은행          347\n",
       "신협중앙회         341\n",
       "전북은행          195\n",
       "씨티은행          162\n",
       "수협중앙회         160\n",
       "제주은행           40\n",
       "유안타증권          27\n",
       "산업은행           23\n",
       "현대증권           11\n",
       "삼성증권            7\n",
       "하나SK            6\n",
       "미래에셋증권          5\n",
       "NH농협카드          4\n",
       "한국투자증권          4\n",
       "신한금융투자          4\n",
       "우리카드            3\n",
       "대우증권            2\n",
       "하이투자증권          1\n",
       "메리츠종합금융증권       1\n",
       "수협카드            1\n",
       "상호저축은행          1\n",
       "SK증권            1\n",
       "하나대투증권          1\n",
       "산림조합중앙회         1\n",
       "대신증권            1\n",
       "씨티카드            1\n",
       "Name: bank, dtype: int64"
      ]
     },
     "execution_count": 21,
     "metadata": {},
     "output_type": "execute_result"
    }
   ],
   "source": [
    "df_TOCC['bank'].value_counts()"
   ]
  },
  {
   "cell_type": "code",
   "execution_count": 24,
   "id": "b91032a6-10a0-4c55-bcfc-b5cfe3587624",
   "metadata": {
    "collapsed": true,
    "jupyter": {
     "outputs_hidden": true
    },
    "tags": []
   },
   "outputs": [
    {
     "data": {
      "image/png": "[encoded data removed]",
      "text/plain": [
       "<Figure size 640x480 with 1 Axes>"
      ]
     },
     "metadata": {},
     "output_type": "display_data"
    }
   ],
   "source": [
    "sns.countplot(data=df_TOCC, y='bank')\n",
    "plt.show()"
   ]
  },
  {
   "cell_type": "code",
   "execution_count": 8,
   "id": "994f1baf-c575-4b07-8319-aa64b072c53b",
   "metadata": {
    "tags": []
   },
   "outputs": [
    {
     "data": {
      "text/plain": [
       "['국민은행', '롯데카드', '농협은행', '신한은행', '우리은행', '기업은행', '신한카드']"
      ]
     },
     "execution_count": 8,
     "metadata": {},
     "output_type": "execute_result"
    }
   ],
   "source": [
    "# 거래 은행 중 상위 7개 확인 (bank column -> 항목 serise -> index 축출 -> list 변환 -> slicing 7)\n",
    "order_list = df_TOCC['bank'].value_counts().index.to_list()[:7]\n",
    "order_list"
   ]
  },
  {
   "cell_type": "code",
   "execution_count": 26,
   "id": "ab419fd8-39fd-44a1-be9a-b3efac07fa23",
   "metadata": {
    "collapsed": true,
    "jupyter": {
     "outputs_hidden": true
    },
    "tags": []
   },
   "outputs": [
    {
     "data": {
      "image/png": "[encoded data removed]",
      "text/plain": [
       "<Figure size 640x480 with 1 Axes>"
      ]
     },
     "metadata": {},
     "output_type": "display_data"
    }
   ],
   "source": [
    "# sns.countplot(data=df_TOCC, y= 'back', order=['국민은행','롯데카드','BC카드'])\n",
    "sns.countplot(data=df_TOCC, y='bank', order=order_list)\n",
    "plt.show()"
   ]
  },
  {
   "cell_type": "markdown",
   "id": "bb612bf9-33b4-4d9e-a2b1-cd6355c640e0",
   "metadata": {
    "tags": []
   },
   "source": [
    "#### 연속형 : 범주형 아닌 것"
   ]
  },
  {
   "cell_type": "code",
   "execution_count": 31,
   "id": "08e8746c-25c8-430c-ae08-79be5a240549",
   "metadata": {
    "tags": []
   },
   "outputs": [],
   "source": [
    "%matplotlib tk"
   ]
  },
  {
   "cell_type": "code",
   "execution_count": 32,
   "id": "db622e3d-62d7-4cf8-b8ee-cf7bf1098cef",
   "metadata": {
    "tags": []
   },
   "outputs": [
    {
     "data": {
      "text/html": [
       "<div>\n",
       "<style scoped>\n",
       "    .dataframe tbody tr th:only-of-type {\n",
       "        vertical-align: middle;\n",
       "    }\n",
       "\n",
       "    .dataframe tbody tr th {\n",
       "        vertical-align: top;\n",
       "    }\n",
       "\n",
       "    .dataframe thead th {\n",
       "        text-align: right;\n",
       "    }\n",
       "</style>\n",
       "<table border=\"1\" class=\"dataframe\">\n",
       "  <thead>\n",
       "    <tr style=\"text-align: right;\">\n",
       "      <th></th>\n",
       "      <th>id</th>\n",
       "      <th>Term</th>\n",
       "      <th>amount</th>\n",
       "      <th>overdue_count</th>\n",
       "      <th>credit rating</th>\n",
       "      <th>age</th>\n",
       "      <th>Mileage</th>\n",
       "    </tr>\n",
       "  </thead>\n",
       "  <tbody>\n",
       "    <tr>\n",
       "      <th>count</th>\n",
       "      <td>5.130400e+04</td>\n",
       "      <td>51304.000000</td>\n",
       "      <td>51304.000000</td>\n",
       "      <td>51304.000000</td>\n",
       "      <td>42521.000000</td>\n",
       "      <td>40509.000000</td>\n",
       "      <td>40509.000000</td>\n",
       "    </tr>\n",
       "    <tr>\n",
       "      <th>mean</th>\n",
       "      <td>6.266457e+07</td>\n",
       "      <td>55.638527</td>\n",
       "      <td>93994.980021</td>\n",
       "      <td>0.161040</td>\n",
       "      <td>3.428894</td>\n",
       "      <td>46.608285</td>\n",
       "      <td>1967.922412</td>\n",
       "    </tr>\n",
       "    <tr>\n",
       "      <th>std</th>\n",
       "      <td>1.216115e+07</td>\n",
       "      <td>12.010117</td>\n",
       "      <td>15305.147334</td>\n",
       "      <td>1.122356</td>\n",
       "      <td>2.213590</td>\n",
       "      <td>13.465977</td>\n",
       "      <td>436.707329</td>\n",
       "    </tr>\n",
       "    <tr>\n",
       "      <th>min</th>\n",
       "      <td>2.568798e+07</td>\n",
       "      <td>12.000000</td>\n",
       "      <td>54603.000000</td>\n",
       "      <td>-1.000000</td>\n",
       "      <td>0.000000</td>\n",
       "      <td>20.000000</td>\n",
       "      <td>872.000000</td>\n",
       "    </tr>\n",
       "    <tr>\n",
       "      <th>25%</th>\n",
       "      <td>6.643149e+07</td>\n",
       "      <td>60.000000</td>\n",
       "      <td>81900.000000</td>\n",
       "      <td>0.000000</td>\n",
       "      <td>1.000000</td>\n",
       "      <td>37.000000</td>\n",
       "      <td>1646.000000</td>\n",
       "    </tr>\n",
       "    <tr>\n",
       "      <th>50%</th>\n",
       "      <td>6.676578e+07</td>\n",
       "      <td>60.000000</td>\n",
       "      <td>96900.000000</td>\n",
       "      <td>0.000000</td>\n",
       "      <td>3.000000</td>\n",
       "      <td>46.000000</td>\n",
       "      <td>1946.000000</td>\n",
       "    </tr>\n",
       "    <tr>\n",
       "      <th>75%</th>\n",
       "      <td>6.678161e+07</td>\n",
       "      <td>60.000000</td>\n",
       "      <td>98400.000000</td>\n",
       "      <td>0.000000</td>\n",
       "      <td>5.000000</td>\n",
       "      <td>56.000000</td>\n",
       "      <td>2263.000000</td>\n",
       "    </tr>\n",
       "    <tr>\n",
       "      <th>max</th>\n",
       "      <td>6.696986e+07</td>\n",
       "      <td>60.000000</td>\n",
       "      <td>215700.000000</td>\n",
       "      <td>15.000000</td>\n",
       "      <td>10.000000</td>\n",
       "      <td>107.000000</td>\n",
       "      <td>3803.000000</td>\n",
       "    </tr>\n",
       "  </tbody>\n",
       "</table>\n",
       "</div>"
      ],
      "text/plain": [
       "                 id          Term         amount  overdue_count  \\\n",
       "count  5.130400e+04  51304.000000   51304.000000   51304.000000   \n",
       "mean   6.266457e+07     55.638527   93994.980021       0.161040   \n",
       "std    1.216115e+07     12.010117   15305.147334       1.122356   \n",
       "min    2.568798e+07     12.000000   54603.000000      -1.000000   \n",
       "25%    6.643149e+07     60.000000   81900.000000       0.000000   \n",
       "50%    6.676578e+07     60.000000   96900.000000       0.000000   \n",
       "75%    6.678161e+07     60.000000   98400.000000       0.000000   \n",
       "max    6.696986e+07     60.000000  215700.000000      15.000000   \n",
       "\n",
       "       credit rating           age       Mileage  \n",
       "count   42521.000000  40509.000000  40509.000000  \n",
       "mean        3.428894     46.608285   1967.922412  \n",
       "std         2.213590     13.465977    436.707329  \n",
       "min         0.000000     20.000000    872.000000  \n",
       "25%         1.000000     37.000000   1646.000000  \n",
       "50%         3.000000     46.000000   1946.000000  \n",
       "75%         5.000000     56.000000   2263.000000  \n",
       "max        10.000000    107.000000   3803.000000  "
      ]
     },
     "execution_count": 32,
     "metadata": {},
     "output_type": "execute_result"
    }
   ],
   "source": [
    "df_TOCC.describe()"
   ]
  },
  {
   "cell_type": "code",
   "execution_count": 35,
   "id": "8c2519fa-55da-470d-ab8d-8c1d0a84cb20",
   "metadata": {
    "tags": []
   },
   "outputs": [],
   "source": [
    "%matplotlib inline"
   ]
  },
  {
   "cell_type": "code",
   "execution_count": 36,
   "id": "f9db4455-0968-4840-acbd-204f2ca62122",
   "metadata": {
    "tags": []
   },
   "outputs": [
    {
     "data": {
      "image/png": "[encoded data removed]",
      "text/plain": [
       "<Figure size 640x480 with 1 Axes>"
      ]
     },
     "metadata": {},
     "output_type": "display_data"
    }
   ],
   "source": [
    "# sns.histplot(data=df_TOCC, x='age', kde='age', hue='type_of_contract2')\n",
    "sns.histplot(data=df_TOCC, x='age', kde='age')\n",
    "plt.show()"
   ]
  },
  {
   "cell_type": "code",
   "execution_count": 30,
   "id": "ebd12307-5645-4eea-bbeb-89430728a8e4",
   "metadata": {
    "tags": []
   },
   "outputs": [
    {
     "data": {
      "text/plain": [
       "<Axes: xlabel='age'>"
      ]
     },
     "execution_count": 30,
     "metadata": {},
     "output_type": "execute_result"
    },
    {
     "data": {
      "image/png": "[encoded data removed]",
      "text/plain": [
       "<Figure size 640x480 with 1 Axes>"
      ]
     },
     "metadata": {},
     "output_type": "display_data"
    }
   ],
   "source": [
    "sns.boxplot(data=df_TOCC, x='age')"
   ]
  },
  {
   "cell_type": "code",
   "execution_count": 43,
   "id": "8de64144-c6bb-49b8-8902-96bc4a2f11e1",
   "metadata": {
    "tags": []
   },
   "outputs": [
    {
     "name": "stdout",
     "output_type": "stream",
     "text": [
      "<class 'pandas.core.frame.DataFrame'>\n",
      "RangeIndex: 51304 entries, 0 to 51303\n",
      "Data columns (total 17 columns):\n",
      " #   Column             Non-Null Count  Dtype  \n",
      "---  ------             --------------  -----  \n",
      " 0   id                 51304 non-null  int64  \n",
      " 1   type_of_contract   51300 non-null  object \n",
      " 2   type_of_contract2  51303 non-null  object \n",
      " 3   channel            51304 non-null  object \n",
      " 4   datetime           51304 non-null  object \n",
      " 5   Term               51304 non-null  int64  \n",
      " 6   payment_type       51304 non-null  object \n",
      " 7   product            51303 non-null  object \n",
      " 8   amount             51304 non-null  int64  \n",
      " 9   state              51304 non-null  object \n",
      " 10  overdue_count      51304 non-null  int64  \n",
      " 11  overdue            51302 non-null  object \n",
      " 12  credit rating      42521 non-null  float64\n",
      " 13  bank               48544 non-null  object \n",
      " 14  cancellation       51279 non-null  object \n",
      " 15  age                40509 non-null  float64\n",
      " 16  Mileage            40509 non-null  float64\n",
      "dtypes: float64(3), int64(4), object(10)\n",
      "memory usage: 6.7+ MB\n"
     ]
    }
   ],
   "source": [
    "df_TOCC.info()"
   ]
  },
  {
   "cell_type": "code",
   "execution_count": null,
   "id": "6239a699-e57a-4990-992e-0504670738a7",
   "metadata": {},
   "outputs": [],
   "source": []
  }
 ],
 "metadata": {
  "kernelspec": {
   "display_name": "Python 3 (ipykernel)",
   "language": "python",
   "name": "python3"
  },
  "language_info": {
   "codemirror_mode": {
    "name": "ipython",
    "version": 3
   },
   "file_extension": ".py",
   "mimetype": "text/x-python",
   "name": "python",
   "nbconvert_exporter": "python",
   "pygments_lexer": "ipython3",
   "version": "3.11.3"
  }
 },
 "nbformat": 4,
 "nbformat_minor": 5
}
