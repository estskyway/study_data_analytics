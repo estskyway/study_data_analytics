{
 "cells": [
  {
   "cell_type": "code",
   "execution_count": 4,
   "id": "71f0f0c8-1a92-4fe4-bf97-92cbe3892a16",
   "metadata": {},
   "outputs": [],
   "source": [
    "x_value = [0, 1, 2, 3, 4]"
   ]
  },
  {
   "cell_type": "code",
   "execution_count": 5,
   "id": "c26c09cd-e454-4770-bf64-b119d782f6d1",
   "metadata": {},
   "outputs": [
    {
     "data": {
      "text/plain": [
       "([0, 1, 2, 3, 4], 5)"
      ]
     },
     "execution_count": 5,
     "metadata": {},
     "output_type": "execute_result"
    }
   ],
   "source": [
    "x_value, len(x_value)"
   ]
  },
  {
   "cell_type": "code",
   "execution_count": 6,
   "id": "ac0117b8-2424-474c-a3f7-acbb6b6edecf",
   "metadata": {},
   "outputs": [
    {
     "data": {
      "text/plain": [
       "([1, 3, 5, 7, 9], 5)"
      ]
     },
     "execution_count": 6,
     "metadata": {},
     "output_type": "execute_result"
    }
   ],
   "source": [
    "y_value = [1, 3, 5, 7, 9]\n",
    "y_value, len(y_value)"
   ]
  },
  {
   "cell_type": "code",
   "execution_count": 7,
   "id": "481e4e7a-6a30-4598-8aa6-5ff1eb97539c",
   "metadata": {
    "tags": []
   },
   "outputs": [],
   "source": [
    "import matplotlib.pyplot as plt\n",
    "%matplotlib tk"
   ]
  },
  {
   "cell_type": "code",
   "execution_count": 8,
   "id": "2dacc348-a9fe-4088-a098-2a10fd806f51",
   "metadata": {
    "tags": []
   },
   "outputs": [
    {
     "data": {
      "text/plain": [
       "<matplotlib.collections.PathCollection at 0x248d19c9010>"
      ]
     },
     "execution_count": 8,
     "metadata": {},
     "output_type": "execute_result"
    }
   ],
   "source": [
    "plt.scatter(x=x_value, y=y_value)"
   ]
  },
  {
   "cell_type": "code",
   "execution_count": null,
   "id": "53b7663d-a7e1-477a-9135-5a79d1d9ffed",
   "metadata": {},
   "outputs": [],
   "source": []
  }
 ],
 "metadata": {
  "kernelspec": {
   "display_name": "Python 3 (ipykernel)",
   "language": "python",
   "name": "python3"
  },
  "language_info": {
   "codemirror_mode": {
    "name": "ipython",
    "version": 3
   },
   "file_extension": ".py",
   "mimetype": "text/x-python",
   "name": "python",
   "nbconvert_exporter": "python",
   "pygments_lexer": "ipython3",
   "version": "3.11.3"
  }
 },
 "nbformat": 4,
 "nbformat_minor": 5
}
