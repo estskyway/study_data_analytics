{
 "cells": [
  {
   "cell_type": "code",
   "execution_count": 1,
   "id": "e345bd1d-ae4a-4938-9de2-c9aa0369dc6c",
   "metadata": {
    "tags": []
   },
   "outputs": [],
   "source": [
    "# 참고 : https://github.com/yojulab/learn_data_analytics/wiki/10.3--CDA\n",
    "# 참고(scipy api) : https://docs.scipy.org/doc/scipy/reference/stats.html#module-scipy.stats"
   ]
  },
  {
   "cell_type": "code",
   "execution_count": 1,
   "id": "00967001-fec7-454b-a851-546a3d1edeea",
   "metadata": {
    "tags": []
   },
   "outputs": [],
   "source": [
    "import numpy as np\n",
    "import pandas as pd\n",
    "import matplotlib.pyplot as plt\n",
    "import matplotlib as mpl\n",
    "mpl.rc('font',family='Malgun Gothic')\n",
    "mpl.rcParams['axes.unicode_minus'] = False\n",
    "import seaborn as sns\n",
    "import scipy.stats as stats"
   ]
  },
  {
   "cell_type": "code",
   "execution_count": 2,
   "id": "466bba9b-9eab-4c8f-b345-da994fd3d0d1",
   "metadata": {
    "tags": []
   },
   "outputs": [
    {
     "data": {
      "text/html": [
       "<div>\n",
       "<style scoped>\n",
       "    .dataframe tbody tr th:only-of-type {\n",
       "        vertical-align: middle;\n",
       "    }\n",
       "\n",
       "    .dataframe tbody tr th {\n",
       "        vertical-align: top;\n",
       "    }\n",
       "\n",
       "    .dataframe thead th {\n",
       "        text-align: right;\n",
       "    }\n",
       "</style>\n",
       "<table border=\"1\" class=\"dataframe\">\n",
       "  <thead>\n",
       "    <tr style=\"text-align: right;\">\n",
       "      <th></th>\n",
       "      <th>id</th>\n",
       "      <th>type_of_contract</th>\n",
       "      <th>type_of_contract2</th>\n",
       "      <th>channel</th>\n",
       "      <th>datetime</th>\n",
       "      <th>Term</th>\n",
       "      <th>payment_type</th>\n",
       "      <th>product</th>\n",
       "      <th>amount</th>\n",
       "      <th>state</th>\n",
       "      <th>overdue_count</th>\n",
       "      <th>overdue</th>\n",
       "      <th>credit rating</th>\n",
       "      <th>bank</th>\n",
       "      <th>cancellation</th>\n",
       "      <th>age</th>\n",
       "      <th>Mileage</th>\n",
       "    </tr>\n",
       "  </thead>\n",
       "  <tbody>\n",
       "    <tr>\n",
       "      <th>0</th>\n",
       "      <td>66758234</td>\n",
       "      <td>렌탈</td>\n",
       "      <td>Normal</td>\n",
       "      <td>서비스 방문</td>\n",
       "      <td>2019-10-20</td>\n",
       "      <td>60</td>\n",
       "      <td>CMS</td>\n",
       "      <td>K1</td>\n",
       "      <td>96900</td>\n",
       "      <td>계약확정</td>\n",
       "      <td>0</td>\n",
       "      <td>없음</td>\n",
       "      <td>9.0</td>\n",
       "      <td>새마을금고</td>\n",
       "      <td>정상</td>\n",
       "      <td>43.0</td>\n",
       "      <td>1862.0</td>\n",
       "    </tr>\n",
       "    <tr>\n",
       "      <th>1</th>\n",
       "      <td>66755948</td>\n",
       "      <td>렌탈</td>\n",
       "      <td>Extension_Rental</td>\n",
       "      <td>서비스 방문</td>\n",
       "      <td>2019-10-20</td>\n",
       "      <td>60</td>\n",
       "      <td>카드이체</td>\n",
       "      <td>K1</td>\n",
       "      <td>102900</td>\n",
       "      <td>계약확정</td>\n",
       "      <td>0</td>\n",
       "      <td>없음</td>\n",
       "      <td>2.0</td>\n",
       "      <td>현대카드</td>\n",
       "      <td>정상</td>\n",
       "      <td>62.0</td>\n",
       "      <td>2532.0</td>\n",
       "    </tr>\n",
       "    <tr>\n",
       "      <th>2</th>\n",
       "      <td>66756657</td>\n",
       "      <td>렌탈</td>\n",
       "      <td>Normal</td>\n",
       "      <td>홈쇼핑/방송</td>\n",
       "      <td>2019-10-20</td>\n",
       "      <td>60</td>\n",
       "      <td>CMS</td>\n",
       "      <td>K1</td>\n",
       "      <td>96900</td>\n",
       "      <td>계약확정</td>\n",
       "      <td>0</td>\n",
       "      <td>없음</td>\n",
       "      <td>8.0</td>\n",
       "      <td>우리은행</td>\n",
       "      <td>정상</td>\n",
       "      <td>60.0</td>\n",
       "      <td>2363.0</td>\n",
       "    </tr>\n",
       "  </tbody>\n",
       "</table>\n",
       "</div>"
      ],
      "text/plain": [
       "         id type_of_contract type_of_contract2 channel    datetime  Term  \\\n",
       "0  66758234               렌탈            Normal  서비스 방문  2019-10-20    60   \n",
       "1  66755948               렌탈  Extension_Rental  서비스 방문  2019-10-20    60   \n",
       "2  66756657               렌탈            Normal  홈쇼핑/방송  2019-10-20    60   \n",
       "\n",
       "  payment_type product  amount state  overdue_count overdue  credit rating  \\\n",
       "0          CMS      K1   96900  계약확정              0      없음            9.0   \n",
       "1         카드이체      K1  102900  계약확정              0      없음            2.0   \n",
       "2          CMS      K1   96900  계약확정              0      없음            8.0   \n",
       "\n",
       "    bank cancellation   age  Mileage  \n",
       "0  새마을금고           정상  43.0   1862.0  \n",
       "1   현대카드           정상  62.0   2532.0  \n",
       "2   우리은행           정상  60.0   2363.0  "
      ]
     },
     "execution_count": 2,
     "metadata": {},
     "output_type": "execute_result"
    }
   ],
   "source": [
    "df_TOCC = pd.read_csv(\"../../datasets/UsingChart_TypeOfContractChannel.csv\")\n",
    "df_TOCC[:3]"
   ]
  },
  {
   "cell_type": "markdown",
   "id": "d5017d17-7726-4190-b3fa-b7997a9dd2f3",
   "metadata": {
    "tags": []
   },
   "source": [
    "### 범주형/ 연속형 : 범주형 따른 상관관계 확인"
   ]
  },
  {
   "cell_type": "markdown",
   "id": "dc52aa02-db6a-4aaf-909b-f2acf1147581",
   "metadata": {
    "tags": []
   },
   "source": [
    "#### 선정 변수 : channel(항목2), Mileage\\[:2000\\](정규분포)\n",
    "- 분석 내용 : channel중 서비스방문과 홈쇼핑에 따른 마일리지 평균에 차이가 있는가?\n",
    "    - 귀무가설 : 평균의 차이가 없다.\n",
    "    - 대립가설 : 평균의 차이가 있다.\n",
    "- 분석 결론 (기준 : p-value 0.05)\n",
    "    - 통계 결론 : pvalue=0.936, 귀무가설이 참.\n",
    "    - 사실 결론 : 평균에 차이가 없다."
   ]
  },
  {
   "cell_type": "code",
   "execution_count": 3,
   "id": "035f494f-5da6-458a-8e9a-c659abe9977c",
   "metadata": {
    "tags": []
   },
   "outputs": [
    {
     "data": {
      "text/html": [
       "<div>\n",
       "<style scoped>\n",
       "    .dataframe tbody tr th:only-of-type {\n",
       "        vertical-align: middle;\n",
       "    }\n",
       "\n",
       "    .dataframe tbody tr th {\n",
       "        vertical-align: top;\n",
       "    }\n",
       "\n",
       "    .dataframe thead th {\n",
       "        text-align: right;\n",
       "    }\n",
       "</style>\n",
       "<table border=\"1\" class=\"dataframe\">\n",
       "  <thead>\n",
       "    <tr style=\"text-align: right;\">\n",
       "      <th></th>\n",
       "      <th>channel</th>\n",
       "      <th>Mileage</th>\n",
       "    </tr>\n",
       "  </thead>\n",
       "  <tbody>\n",
       "    <tr>\n",
       "      <th>0</th>\n",
       "      <td>서비스 방문</td>\n",
       "      <td>1862.0</td>\n",
       "    </tr>\n",
       "    <tr>\n",
       "      <th>1</th>\n",
       "      <td>서비스 방문</td>\n",
       "      <td>2532.0</td>\n",
       "    </tr>\n",
       "    <tr>\n",
       "      <th>2</th>\n",
       "      <td>홈쇼핑/방송</td>\n",
       "      <td>2363.0</td>\n",
       "    </tr>\n",
       "  </tbody>\n",
       "</table>\n",
       "</div>"
      ],
      "text/plain": [
       "  channel  Mileage\n",
       "0  서비스 방문   1862.0\n",
       "1  서비스 방문   2532.0\n",
       "2  홈쇼핑/방송   2363.0"
      ]
     },
     "execution_count": 3,
     "metadata": {},
     "output_type": "execute_result"
    }
   ],
   "source": [
    "## 검증 대상 항목만 필터링 and 2000개만 추출(정규분포 자료 획득) \n",
    "condition = (df_TOCC['channel'] == '서비스 방문') | (df_TOCC['channel'] == '홈쇼핑/방송')\n",
    "df_channel_Mileage = df_TOCC[condition][['channel','Mileage']][:2000]\n",
    "df_channel_Mileage[:3]"
   ]
  },
  {
   "cell_type": "code",
   "execution_count": 19,
   "id": "a31a380b-d325-477b-ae5a-50835f4130c5",
   "metadata": {
    "tags": []
   },
   "outputs": [
    {
     "data": {
      "text/plain": [
       "channel    0\n",
       "Mileage    0\n",
       "dtype: int64"
      ]
     },
     "execution_count": 19,
     "metadata": {},
     "output_type": "execute_result"
    }
   ],
   "source": [
    "df_channel_Mileage.isnull().sum()"
   ]
  },
  {
   "cell_type": "code",
   "execution_count": 18,
   "id": "9c0f6a28-cce9-48e5-bfaa-5cbf12e7eb26",
   "metadata": {
    "tags": []
   },
   "outputs": [],
   "source": [
    "df_channel_Mileage = df_channel_Mileage.dropna().copy()"
   ]
  },
  {
   "cell_type": "code",
   "execution_count": 20,
   "id": "9ba88562-69d7-4c89-9e21-f5342d82c627",
   "metadata": {
    "tags": []
   },
   "outputs": [
    {
     "data": {
      "text/plain": [
       "서비스 방문    855\n",
       "홈쇼핑/방송    841\n",
       "Name: channel, dtype: int64"
      ]
     },
     "execution_count": 20,
     "metadata": {},
     "output_type": "execute_result"
    }
   ],
   "source": [
    "df_channel_Mileage['channel'].value_counts()"
   ]
  },
  {
   "cell_type": "markdown",
   "id": "af7ba016-08db-4ca2-85f0-9122065811b9",
   "metadata": {},
   "source": [
    "##### 정규성 검증\n",
    "- row 객수가 5천개를 기준으로 검증 방식 분리"
   ]
  },
  {
   "cell_type": "code",
   "execution_count": 21,
   "id": "13dd9443-a2d3-4646-83b6-792ae6dd33a5",
   "metadata": {
    "tags": []
   },
   "outputs": [
    {
     "data": {
      "text/plain": [
       "ShapiroResult(statistic=0.9926883578300476, pvalue=1.8700838211316295e-07)"
      ]
     },
     "execution_count": 21,
     "metadata": {},
     "output_type": "execute_result"
    }
   ],
   "source": [
    "stats.shapiro(df_channel_Mileage['Mileage'])"
   ]
  },
  {
   "cell_type": "code",
   "execution_count": 22,
   "id": "73a63173-5016-4134-819d-699061282ba5",
   "metadata": {
    "tags": []
   },
   "outputs": [
    {
     "data": {
      "text/plain": [
       "<Axes: xlabel='Mileage', ylabel='Count'>"
      ]
     },
     "execution_count": 22,
     "metadata": {},
     "output_type": "execute_result"
    },
    {
     "data": {
      "image/png": "[encoded data removed]",
      "text/plain": [
       "<Figure size 640x480 with 1 Axes>"
      ]
     },
     "metadata": {},
     "output_type": "display_data"
    }
   ],
   "source": [
    "sns.histplot(data=df_channel_Mileage, x='Mileage', kde=True)"
   ]
  },
  {
   "cell_type": "markdown",
   "id": "e8fbbdc8-15d7-49c7-82c7-a067d83ba7af",
   "metadata": {},
   "source": [
    "##### 등분산 검증\n",
    "- 분산이 같다.\n",
    "- 결과 : pvalue=0.74로 등분산이다."
   ]
  },
  {
   "cell_type": "code",
   "execution_count": 23,
   "id": "3ede3f82-1802-45f6-821d-509068a821e0",
   "metadata": {
    "tags": []
   },
   "outputs": [
    {
     "data": {
      "text/html": [
       "<div>\n",
       "<style scoped>\n",
       "    .dataframe tbody tr th:only-of-type {\n",
       "        vertical-align: middle;\n",
       "    }\n",
       "\n",
       "    .dataframe tbody tr th {\n",
       "        vertical-align: top;\n",
       "    }\n",
       "\n",
       "    .dataframe thead th {\n",
       "        text-align: right;\n",
       "    }\n",
       "</style>\n",
       "<table border=\"1\" class=\"dataframe\">\n",
       "  <thead>\n",
       "    <tr style=\"text-align: right;\">\n",
       "      <th></th>\n",
       "      <th>channel</th>\n",
       "      <th>Mileage</th>\n",
       "    </tr>\n",
       "  </thead>\n",
       "  <tbody>\n",
       "    <tr>\n",
       "      <th>0</th>\n",
       "      <td>서비스 방문</td>\n",
       "      <td>1862.0</td>\n",
       "    </tr>\n",
       "    <tr>\n",
       "      <th>1</th>\n",
       "      <td>서비스 방문</td>\n",
       "      <td>2532.0</td>\n",
       "    </tr>\n",
       "    <tr>\n",
       "      <th>5</th>\n",
       "      <td>서비스 방문</td>\n",
       "      <td>2001.0</td>\n",
       "    </tr>\n",
       "  </tbody>\n",
       "</table>\n",
       "</div>"
      ],
      "text/plain": [
       "  channel  Mileage\n",
       "0  서비스 방문   1862.0\n",
       "1  서비스 방문   2532.0\n",
       "5  서비스 방문   2001.0"
      ]
     },
     "execution_count": 23,
     "metadata": {},
     "output_type": "execute_result"
    }
   ],
   "source": [
    "df_service = df_channel_Mileage[df_channel_Mileage['channel'] == '서비스 방문']\n",
    "df_service[:3]"
   ]
  },
  {
   "cell_type": "code",
   "execution_count": 24,
   "id": "28ea6de4-cc46-4155-9fd0-bc5517e4a62d",
   "metadata": {
    "tags": []
   },
   "outputs": [
    {
     "data": {
      "text/html": [
       "<div>\n",
       "<style scoped>\n",
       "    .dataframe tbody tr th:only-of-type {\n",
       "        vertical-align: middle;\n",
       "    }\n",
       "\n",
       "    .dataframe tbody tr th {\n",
       "        vertical-align: top;\n",
       "    }\n",
       "\n",
       "    .dataframe thead th {\n",
       "        text-align: right;\n",
       "    }\n",
       "</style>\n",
       "<table border=\"1\" class=\"dataframe\">\n",
       "  <thead>\n",
       "    <tr style=\"text-align: right;\">\n",
       "      <th></th>\n",
       "      <th>channel</th>\n",
       "      <th>Mileage</th>\n",
       "    </tr>\n",
       "  </thead>\n",
       "  <tbody>\n",
       "    <tr>\n",
       "      <th>2</th>\n",
       "      <td>홈쇼핑/방송</td>\n",
       "      <td>2363.0</td>\n",
       "    </tr>\n",
       "    <tr>\n",
       "      <th>6</th>\n",
       "      <td>홈쇼핑/방송</td>\n",
       "      <td>2348.0</td>\n",
       "    </tr>\n",
       "    <tr>\n",
       "      <th>10</th>\n",
       "      <td>홈쇼핑/방송</td>\n",
       "      <td>1555.0</td>\n",
       "    </tr>\n",
       "  </tbody>\n",
       "</table>\n",
       "</div>"
      ],
      "text/plain": [
       "   channel  Mileage\n",
       "2   홈쇼핑/방송   2363.0\n",
       "6   홈쇼핑/방송   2348.0\n",
       "10  홈쇼핑/방송   1555.0"
      ]
     },
     "execution_count": 24,
     "metadata": {},
     "output_type": "execute_result"
    }
   ],
   "source": [
    "df_homeshopping = df_channel_Mileage[df_channel_Mileage['channel'] == '홈쇼핑/방송']\n",
    "df_homeshopping[:3]"
   ]
  },
  {
   "cell_type": "code",
   "execution_count": 25,
   "id": "18ac493c-5ee6-4d04-a691-2fcdc7341e50",
   "metadata": {
    "tags": []
   },
   "outputs": [
    {
     "data": {
      "text/plain": [
       "<Axes: xlabel='channel', ylabel='count'>"
      ]
     },
     "execution_count": 25,
     "metadata": {},
     "output_type": "execute_result"
    },
    {
     "data": {
      "image/png": "[encoded data removed]",
      "text/plain": [
       "<Figure size 640x480 with 1 Axes>"
      ]
     },
     "metadata": {},
     "output_type": "display_data"
    }
   ],
   "source": [
    "sns.countplot(data=df_channel_Mileage, x='channel')"
   ]
  },
  {
   "cell_type": "code",
   "execution_count": 26,
   "id": "bc109aac-b9b9-4356-a397-db1f60108615",
   "metadata": {},
   "outputs": [
    {
     "data": {
      "text/plain": [
       "LeveneResult(statistic=0.10621828323889944, pvalue=0.7445315946688518)"
      ]
     },
     "execution_count": 26,
     "metadata": {},
     "output_type": "execute_result"
    }
   ],
   "source": [
    "stats.levene(df_service['Mileage'], df_homeshopping['Mileage'])"
   ]
  },
  {
   "cell_type": "code",
   "execution_count": 27,
   "id": "038981e8-dd3e-4322-b04e-e5bf884d578e",
   "metadata": {
    "tags": []
   },
   "outputs": [
    {
     "data": {
      "text/plain": [
       "<Axes: xlabel='Mileage', ylabel='Count'>"
      ]
     },
     "execution_count": 27,
     "metadata": {},
     "output_type": "execute_result"
    },
    {
     "data": {
      "image/png": "[encoded data removed]",
      "text/plain": [
       "<Figure size 640x480 with 1 Axes>"
      ]
     },
     "metadata": {},
     "output_type": "display_data"
    }
   ],
   "source": [
    "sns.histplot(data=df_channel_Mileage, x='Mileage', kde=True, hue='channel')"
   ]
  },
  {
   "cell_type": "code",
   "execution_count": 28,
   "id": "15480584-1cb7-4795-877a-aea383d0424f",
   "metadata": {
    "tags": []
   },
   "outputs": [
    {
     "data": {
      "text/plain": [
       "Ttest_indResult(statistic=-0.08025301134894845, pvalue=0.9360455086241137)"
      ]
     },
     "execution_count": 28,
     "metadata": {},
     "output_type": "execute_result"
    }
   ],
   "source": [
    "stats.ttest_ind(df_service['Mileage'], df_homeshopping['Mileage'], equal_var=True) # 등분산 일때"
   ]
  },
  {
   "cell_type": "markdown",
   "id": "cda22169-7cc6-405a-827d-afa41bd3a23c",
   "metadata": {
    "tags": []
   },
   "source": [
    "#### 선정 변수 : channel(항목3), Mileage\\[:100\\](정규분포)\n",
    "- 분석 내용 : 3가지 채널항목이 Mileage대비 평균의 차이가 있는가?\n",
    "    - 귀무가설 : 차이가 없다.\n",
    "    - 대립가설 : 차이가 있다.\n",
    "- 분석 결론 (기준 : p-value 0.05)\n",
    "    - 통계 결론 : 귀무가설 참, pvalue=0.13474\n",
    "    - 사실 결론 : 차이가 없다."
   ]
  },
  {
   "cell_type": "code",
   "execution_count": 31,
   "id": "af2eae5c-a384-4293-95ec-63b83a2d9765",
   "metadata": {
    "tags": []
   },
   "outputs": [
    {
     "data": {
      "text/plain": [
       "<Axes: xlabel='Mileage', ylabel='Count'>"
      ]
     },
     "execution_count": 31,
     "metadata": {},
     "output_type": "execute_result"
    },
    {
     "data": {
      "image/png": "[encoded data removed]",
      "text/plain": [
       "<Figure size 640x480 with 1 Axes>"
      ]
     },
     "metadata": {},
     "output_type": "display_data"
    }
   ],
   "source": [
    "sns.histplot(data=df_TOCC, x='Mileage', kde=True, hue='channel', fill=False)"
   ]
  },
  {
   "cell_type": "code",
   "execution_count": 33,
   "id": "661c80cc-aaa2-43a6-82fe-f62e17f87a1f",
   "metadata": {
    "tags": []
   },
   "outputs": [
    {
     "data": {
      "text/plain": [
       "서비스 방문    15186\n",
       "홈쇼핑/방송    12977\n",
       "렌탈총판       5544\n",
       "R관리방판      4727\n",
       "하이마트       3227\n",
       "영업방판       3039\n",
       "렌탈재계약      2193\n",
       "일반         1232\n",
       "전자랜드       1205\n",
       "R빌리미        560\n",
       "Name: channel, dtype: int64"
      ]
     },
     "execution_count": 33,
     "metadata": {},
     "output_type": "execute_result"
    }
   ],
   "source": [
    "df_TOCC['channel'].value_counts()[:10]"
   ]
  },
  {
   "cell_type": "code",
   "execution_count": 56,
   "id": "c961ad2e-690a-4541-92d4-9b1c6dbcc1f1",
   "metadata": {
    "tags": []
   },
   "outputs": [],
   "source": [
    "conditions = ((df_TOCC['channel'] == '서비스 방문') | (df_TOCC['channel'] == '홈쇼핑/방송') | (df_TOCC['channel'] == '렌탈총판'))\n",
    "conditions\n",
    "df_channel3_Mileage =df_TOCC[conditions][['channel', 'Mileage']][:100]"
   ]
  },
  {
   "cell_type": "code",
   "execution_count": 59,
   "id": "3007748f-4422-43fe-9085-db22f6e96ea5",
   "metadata": {
    "tags": []
   },
   "outputs": [
    {
     "data": {
      "text/plain": [
       "channel    0\n",
       "Mileage    0\n",
       "dtype: int64"
      ]
     },
     "execution_count": 59,
     "metadata": {},
     "output_type": "execute_result"
    }
   ],
   "source": [
    "df_channel3_Mileage.isnull().sum()"
   ]
  },
  {
   "cell_type": "code",
   "execution_count": 58,
   "id": "710bdab7-a479-4ded-8396-6a4a23c3e152",
   "metadata": {
    "tags": []
   },
   "outputs": [],
   "source": [
    "df_channel3_Mileage = df_channel3_Mileage.dropna()"
   ]
  },
  {
   "cell_type": "markdown",
   "id": "9b641770-462e-4733-85a5-01eeefb78835",
   "metadata": {},
   "source": [
    "##### 정규성 검증\n",
    "- 5천개 이하일 때 Shapiro"
   ]
  },
  {
   "cell_type": "code",
   "execution_count": 60,
   "id": "f71bed88-501e-4ba1-bbb8-a29afdc57b0e",
   "metadata": {
    "tags": []
   },
   "outputs": [
    {
     "data": {
      "text/plain": [
       "86"
      ]
     },
     "execution_count": 60,
     "metadata": {},
     "output_type": "execute_result"
    }
   ],
   "source": [
    "len(df_channel3_Mileage)"
   ]
  },
  {
   "cell_type": "code",
   "execution_count": 61,
   "id": "d97d256f-aa3d-48c0-adef-30fdc9f991e6",
   "metadata": {
    "tags": []
   },
   "outputs": [
    {
     "data": {
      "text/plain": [
       "ShapiroResult(statistic=0.9740983247756958, pvalue=0.08122798055410385)"
      ]
     },
     "execution_count": 61,
     "metadata": {},
     "output_type": "execute_result"
    }
   ],
   "source": [
    "stats.shapiro(df_channel3_Mileage['Mileage'])  # 정규 분포"
   ]
  },
  {
   "cell_type": "markdown",
   "id": "2ecf88ea-92c5-48fa-ae31-e21fb8859597",
   "metadata": {},
   "source": [
    "##### 등분산 여부 검증"
   ]
  },
  {
   "cell_type": "code",
   "execution_count": 62,
   "id": "30633d64-4ff4-49b9-aec5-8df85e110e6e",
   "metadata": {
    "tags": []
   },
   "outputs": [
    {
     "data": {
      "text/plain": [
       "['서비스 방문', '홈쇼핑/방송', '렌탈총판']"
      ]
     },
     "execution_count": 62,
     "metadata": {},
     "output_type": "execute_result"
    }
   ],
   "source": [
    "# type(df_channel4_amount['channel'].value_counts())\n",
    "channel_list = df_channel3_Mileage['channel'].value_counts().index.to_list()\n",
    "channel_list"
   ]
  },
  {
   "cell_type": "code",
   "execution_count": 63,
   "id": "9f2c2e08-4caf-4b76-8752-37d225048bb9",
   "metadata": {
    "tags": []
   },
   "outputs": [],
   "source": [
    "df_result = [] # list()\n",
    "for item in channel_list :\n",
    "    condition = (df_channel3_Mileage['channel'] == item)\n",
    "    df_result.append(df_channel3_Mileage[condition])   # list index에 DataFrame"
   ]
  },
  {
   "cell_type": "code",
   "execution_count": 64,
   "id": "389c9fc1-73aa-4b58-90fd-dbbadf6ea0df",
   "metadata": {
    "collapsed": true,
    "jupyter": {
     "outputs_hidden": true
    },
    "tags": []
   },
   "outputs": [
    {
     "data": {
      "text/html": [
       "<div>\n",
       "<style scoped>\n",
       "    .dataframe tbody tr th:only-of-type {\n",
       "        vertical-align: middle;\n",
       "    }\n",
       "\n",
       "    .dataframe tbody tr th {\n",
       "        vertical-align: top;\n",
       "    }\n",
       "\n",
       "    .dataframe thead th {\n",
       "        text-align: right;\n",
       "    }\n",
       "</style>\n",
       "<table border=\"1\" class=\"dataframe\">\n",
       "  <thead>\n",
       "    <tr style=\"text-align: right;\">\n",
       "      <th></th>\n",
       "      <th>channel</th>\n",
       "      <th>Mileage</th>\n",
       "    </tr>\n",
       "  </thead>\n",
       "  <tbody>\n",
       "    <tr>\n",
       "      <th>2</th>\n",
       "      <td>홈쇼핑/방송</td>\n",
       "      <td>2363.0</td>\n",
       "    </tr>\n",
       "    <tr>\n",
       "      <th>6</th>\n",
       "      <td>홈쇼핑/방송</td>\n",
       "      <td>2348.0</td>\n",
       "    </tr>\n",
       "    <tr>\n",
       "      <th>10</th>\n",
       "      <td>홈쇼핑/방송</td>\n",
       "      <td>1555.0</td>\n",
       "    </tr>\n",
       "    <tr>\n",
       "      <th>11</th>\n",
       "      <td>홈쇼핑/방송</td>\n",
       "      <td>1503.0</td>\n",
       "    </tr>\n",
       "    <tr>\n",
       "      <th>24</th>\n",
       "      <td>홈쇼핑/방송</td>\n",
       "      <td>2947.0</td>\n",
       "    </tr>\n",
       "    <tr>\n",
       "      <th>31</th>\n",
       "      <td>홈쇼핑/방송</td>\n",
       "      <td>2409.0</td>\n",
       "    </tr>\n",
       "    <tr>\n",
       "      <th>35</th>\n",
       "      <td>홈쇼핑/방송</td>\n",
       "      <td>2375.0</td>\n",
       "    </tr>\n",
       "    <tr>\n",
       "      <th>43</th>\n",
       "      <td>홈쇼핑/방송</td>\n",
       "      <td>2131.0</td>\n",
       "    </tr>\n",
       "    <tr>\n",
       "      <th>45</th>\n",
       "      <td>홈쇼핑/방송</td>\n",
       "      <td>1543.0</td>\n",
       "    </tr>\n",
       "    <tr>\n",
       "      <th>46</th>\n",
       "      <td>홈쇼핑/방송</td>\n",
       "      <td>1606.0</td>\n",
       "    </tr>\n",
       "    <tr>\n",
       "      <th>48</th>\n",
       "      <td>홈쇼핑/방송</td>\n",
       "      <td>2291.0</td>\n",
       "    </tr>\n",
       "    <tr>\n",
       "      <th>49</th>\n",
       "      <td>홈쇼핑/방송</td>\n",
       "      <td>2068.0</td>\n",
       "    </tr>\n",
       "    <tr>\n",
       "      <th>63</th>\n",
       "      <td>홈쇼핑/방송</td>\n",
       "      <td>1976.0</td>\n",
       "    </tr>\n",
       "    <tr>\n",
       "      <th>67</th>\n",
       "      <td>홈쇼핑/방송</td>\n",
       "      <td>2323.0</td>\n",
       "    </tr>\n",
       "    <tr>\n",
       "      <th>68</th>\n",
       "      <td>홈쇼핑/방송</td>\n",
       "      <td>2548.0</td>\n",
       "    </tr>\n",
       "    <tr>\n",
       "      <th>69</th>\n",
       "      <td>홈쇼핑/방송</td>\n",
       "      <td>2106.0</td>\n",
       "    </tr>\n",
       "    <tr>\n",
       "      <th>73</th>\n",
       "      <td>홈쇼핑/방송</td>\n",
       "      <td>1669.0</td>\n",
       "    </tr>\n",
       "    <tr>\n",
       "      <th>74</th>\n",
       "      <td>홈쇼핑/방송</td>\n",
       "      <td>2397.0</td>\n",
       "    </tr>\n",
       "    <tr>\n",
       "      <th>79</th>\n",
       "      <td>홈쇼핑/방송</td>\n",
       "      <td>2092.0</td>\n",
       "    </tr>\n",
       "    <tr>\n",
       "      <th>86</th>\n",
       "      <td>홈쇼핑/방송</td>\n",
       "      <td>1911.0</td>\n",
       "    </tr>\n",
       "    <tr>\n",
       "      <th>91</th>\n",
       "      <td>홈쇼핑/방송</td>\n",
       "      <td>1551.0</td>\n",
       "    </tr>\n",
       "    <tr>\n",
       "      <th>97</th>\n",
       "      <td>홈쇼핑/방송</td>\n",
       "      <td>1695.0</td>\n",
       "    </tr>\n",
       "    <tr>\n",
       "      <th>98</th>\n",
       "      <td>홈쇼핑/방송</td>\n",
       "      <td>1879.0</td>\n",
       "    </tr>\n",
       "    <tr>\n",
       "      <th>104</th>\n",
       "      <td>홈쇼핑/방송</td>\n",
       "      <td>1879.0</td>\n",
       "    </tr>\n",
       "    <tr>\n",
       "      <th>105</th>\n",
       "      <td>홈쇼핑/방송</td>\n",
       "      <td>1410.0</td>\n",
       "    </tr>\n",
       "    <tr>\n",
       "      <th>107</th>\n",
       "      <td>홈쇼핑/방송</td>\n",
       "      <td>2925.0</td>\n",
       "    </tr>\n",
       "    <tr>\n",
       "      <th>115</th>\n",
       "      <td>홈쇼핑/방송</td>\n",
       "      <td>1716.0</td>\n",
       "    </tr>\n",
       "    <tr>\n",
       "      <th>116</th>\n",
       "      <td>홈쇼핑/방송</td>\n",
       "      <td>1831.0</td>\n",
       "    </tr>\n",
       "    <tr>\n",
       "      <th>133</th>\n",
       "      <td>홈쇼핑/방송</td>\n",
       "      <td>2296.0</td>\n",
       "    </tr>\n",
       "    <tr>\n",
       "      <th>134</th>\n",
       "      <td>홈쇼핑/방송</td>\n",
       "      <td>1137.0</td>\n",
       "    </tr>\n",
       "    <tr>\n",
       "      <th>135</th>\n",
       "      <td>홈쇼핑/방송</td>\n",
       "      <td>2697.0</td>\n",
       "    </tr>\n",
       "    <tr>\n",
       "      <th>136</th>\n",
       "      <td>홈쇼핑/방송</td>\n",
       "      <td>1542.0</td>\n",
       "    </tr>\n",
       "    <tr>\n",
       "      <th>140</th>\n",
       "      <td>홈쇼핑/방송</td>\n",
       "      <td>1461.0</td>\n",
       "    </tr>\n",
       "    <tr>\n",
       "      <th>144</th>\n",
       "      <td>홈쇼핑/방송</td>\n",
       "      <td>2467.0</td>\n",
       "    </tr>\n",
       "    <tr>\n",
       "      <th>145</th>\n",
       "      <td>홈쇼핑/방송</td>\n",
       "      <td>1276.0</td>\n",
       "    </tr>\n",
       "  </tbody>\n",
       "</table>\n",
       "</div>"
      ],
      "text/plain": [
       "    channel  Mileage\n",
       "2    홈쇼핑/방송   2363.0\n",
       "6    홈쇼핑/방송   2348.0\n",
       "10   홈쇼핑/방송   1555.0\n",
       "11   홈쇼핑/방송   1503.0\n",
       "24   홈쇼핑/방송   2947.0\n",
       "31   홈쇼핑/방송   2409.0\n",
       "35   홈쇼핑/방송   2375.0\n",
       "43   홈쇼핑/방송   2131.0\n",
       "45   홈쇼핑/방송   1543.0\n",
       "46   홈쇼핑/방송   1606.0\n",
       "48   홈쇼핑/방송   2291.0\n",
       "49   홈쇼핑/방송   2068.0\n",
       "63   홈쇼핑/방송   1976.0\n",
       "67   홈쇼핑/방송   2323.0\n",
       "68   홈쇼핑/방송   2548.0\n",
       "69   홈쇼핑/방송   2106.0\n",
       "73   홈쇼핑/방송   1669.0\n",
       "74   홈쇼핑/방송   2397.0\n",
       "79   홈쇼핑/방송   2092.0\n",
       "86   홈쇼핑/방송   1911.0\n",
       "91   홈쇼핑/방송   1551.0\n",
       "97   홈쇼핑/방송   1695.0\n",
       "98   홈쇼핑/방송   1879.0\n",
       "104  홈쇼핑/방송   1879.0\n",
       "105  홈쇼핑/방송   1410.0\n",
       "107  홈쇼핑/방송   2925.0\n",
       "115  홈쇼핑/방송   1716.0\n",
       "116  홈쇼핑/방송   1831.0\n",
       "133  홈쇼핑/방송   2296.0\n",
       "134  홈쇼핑/방송   1137.0\n",
       "135  홈쇼핑/방송   2697.0\n",
       "136  홈쇼핑/방송   1542.0\n",
       "140  홈쇼핑/방송   1461.0\n",
       "144  홈쇼핑/방송   2467.0\n",
       "145  홈쇼핑/방송   1276.0"
      ]
     },
     "execution_count": 64,
     "metadata": {},
     "output_type": "execute_result"
    }
   ],
   "source": [
    "df_result[1]"
   ]
  },
  {
   "cell_type": "code",
   "execution_count": 65,
   "id": "3383b54c-fa17-4209-9cba-1f08a37fe68d",
   "metadata": {
    "tags": []
   },
   "outputs": [
    {
     "data": {
      "text/plain": [
       "LeveneResult(statistic=0.4360115024917248, pvalue=0.6480826880899435)"
      ]
     },
     "execution_count": 65,
     "metadata": {},
     "output_type": "execute_result"
    }
   ],
   "source": [
    "stats.levene(df_result[0]['Mileage'], df_result[1]['Mileage'], df_result[2]['Mileage']) # 등분산"
   ]
  },
  {
   "cell_type": "markdown",
   "id": "ee32c27f-cc34-45bc-8e6c-e7577eb2dd88",
   "metadata": {},
   "source": [
    "##### ANOVA test"
   ]
  },
  {
   "cell_type": "code",
   "execution_count": 66,
   "id": "86e6255e-f297-464f-b23f-cd2be7067f0f",
   "metadata": {
    "tags": []
   },
   "outputs": [
    {
     "data": {
      "text/plain": [
       "F_onewayResult(statistic=2.0535287401178404, pvalue=0.13474947646424298)"
      ]
     },
     "execution_count": 66,
     "metadata": {},
     "output_type": "execute_result"
    }
   ],
   "source": [
    "stats.f_oneway(df_result[0]['Mileage'], df_result[1]['Mileage'], df_result[2]['Mileage'])"
   ]
  },
  {
   "cell_type": "code",
   "execution_count": null,
   "id": "4079766e-bba5-4e65-82ba-cea92ca0d83a",
   "metadata": {},
   "outputs": [],
   "source": []
  }
 ],
 "metadata": {
  "kernelspec": {
   "display_name": "Python 3 (ipykernel)",
   "language": "python",
   "name": "python3"
  },
  "language_info": {
   "codemirror_mode": {
    "name": "ipython",
    "version": 3
   },
   "file_extension": ".py",
   "mimetype": "text/x-python",
   "name": "python",
   "nbconvert_exporter": "python",
   "pygments_lexer": "ipython3",
   "version": "3.11.3"
  }
 },
 "nbformat": 4,
 "nbformat_minor": 5
}
